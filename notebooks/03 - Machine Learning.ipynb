{
 "cells": [
  {
   "cell_type": "markdown",
   "metadata": {},
   "source": [
    "![](https://d0.awsstatic.com/asset-repository/products/Amazon%20Machine%20Learning/MachineLearning_VideoThumbnail.png)"
   ]
  },
  {
   "cell_type": "markdown",
   "metadata": {},
   "source": [
    "# Machine Learning"
   ]
  },
  {
   "cell_type": "markdown",
   "metadata": {},
   "source": [
    "> The illiterate of the 21st century will not be those who cannot read and write, but those who cannot learn, unlearn, and relearn.\n",
    "\n",
    "<footer>~ Alvin Toffler</footer>"
   ]
  },
  {
   "cell_type": "markdown",
   "metadata": {},
   "source": [
    "![break](assets/agenda.png)"
   ]
  },
  {
   "cell_type": "markdown",
   "metadata": {},
   "source": [
    "1. [What Is Machine Learning?](#What-is-Machine-Learning?)\n",
    "1. [Machine Learning Problems](#Machine-Learning-Problems)\n",
    "1. [Python Libraries](#Python-Libraries)\n",
    "\n",
    "**Labs**:\n",
    "1. [Numpy, Scipy, And Pandas](#)"
   ]
  },
  {
   "cell_type": "markdown",
   "metadata": {},
   "source": [
    "![break](assets/theory.png)"
   ]
  },
  {
   "cell_type": "markdown",
   "metadata": {},
   "source": [
    "## What _is_ Machine Learning?"
   ]
  },
  {
   "cell_type": "markdown",
   "metadata": {},
   "source": [
    "> “Machine learning, a branch of artificial intelligence, is about the construction and study of\n",
    "systems that can learn from data.”\n",
    "\n",
    "<footer>~ Wikipedia</footer>"
   ]
  },
  {
   "cell_type": "markdown",
   "metadata": {},
   "source": [
    "With machine learning we use _input_ variables to predict _output_ variables. That's it. But that's easier said than done …\n",
    "\n",
    "Let's say we are data analysts working for Samsung and we are trying to figure out what's the best way to spend our stupedous marketing budget. How can we best predict _smartphone sales_ from the spend on our various channels? Samsung buys online advertising, runs billboard campaigns, and pays for product placement in TV shows. \n",
    "\n",
    "Let $Y$ be the output variable (e.g. sales), and $X$ the _vector_ of input variables $X1,X2,X3,\\ldots$, then\n",
    "\n",
    "$$ Y = f(X)+\\epsilon $$\n",
    "\n",
    "We want to work out what $f$ is. $\\epsilon$ is unavoidable noise that is independent of $X$.\n",
    "\n",
    "How do we estimate $f$ from the data, and how do we evaluate our estimate? That is a question machine learning can answer.\n",
    "\n",
    "### Prediction and its limits\n",
    "\n",
    "Once we have an estimate $\\hat{f}$ for $f$, we can predict unavailable values of $Y$ for known values of $X$:\n",
    "\n",
    "$$ \\hat{Y} = \\hat{f}(X) $$\n",
    "\n",
    "How good an estimate of $Y$ is $\\hat{Y}$? The difference between the two values can be partitioned into **reducible** and **irreducible** errors:\n",
    "\n",
    "$$E(Y−\\hat{Y})^{2}=[f(X)−\\hat{f}(X)]^{2}+\\sigma^{2}_{\\epsilon}$$\n",
    "\n",
    "where $[f(X)−f^(X)]^{2}$ is the reducible error.\n",
    "\n",
    "### How to estimate $f$\n",
    "\n",
    "Two main approaches:\n",
    "\n",
    "#### Parametric\n",
    "\n",
    "An assumption is made about the form of $f$. For example, the **linear model** states that\n",
    "\n",
    "$$f^(X)=β_{0}+β_{1}X_{1}+β_{2}X_{2}+ \\ldots +β_{p}X_{p}$$\n",
    "\n",
    "Then we use the training data to choose the values of $β_{0},β_{1}, \\ldots ,β^{p}$, the parameters.\n",
    "\n",
    "* **Advantage**: Much easier to estimate parameters than whole function.\n",
    "* **Disadvantage**: Our choice of the form of $f$ might be wrong, or even very wrong.\n",
    "\n",
    "We can try to make our parametric form more **flexible** in order to reduce the risk of choosing the wrong $f$, but this also makes $\\hat{f}$ more complex and potentially following the noise too closely, thereby **overfitting**.\n",
    "\n",
    "#### Non-parametric\n",
    "\n",
    "Just get $f$ as close as possible to the data points, subject to not being too wiggly or too unsmooth.\n",
    "\n",
    "* **Advantage**: More likely to get $f$ right, especially if $f$ is weird.\n",
    "* **Disadvantage**: Far more data is needed to obtain a good estimate for $f$.\n",
    "\n",
    "#### Supervised vs unsupervised learning\n",
    "\n",
    "What if we are only given input variables and no outputs? Then our learning will be **unsupervised**; we are blind.\n",
    "\n",
    "What can we do? We can try to understand the relationship between the input variables or between the observations. One example is to cluster observations or variables together into groups.\n",
    "\n",
    "> “The core of machine learning deals with representation and generalization...”\n",
    "\n",
    "* representation – extracting structure from data\n",
    "* generalization – making predictions from data\n",
    "\n",
    "#### Regression vs classification\n",
    "\n",
    "![](http://ipython-books.github.io/images/ml.png)\n",
    "\n",
    "Variables can be either _quantitative_ or _qualitative_. We care about this because different variable types affect the class of values we can make predictions from and therefore the possible nature of $f$, and also how to measure the size of an error from a wrong prediction.\n",
    "\n",
    "When the output variable is quantitative, prediction is called _regression_.\n",
    "When the output variable is qualitative, prediction is _classification_."
   ]
  },
  {
   "cell_type": "markdown",
   "metadata": {},
   "source": [
    "### Mapping is to our class outline"
   ]
  },
  {
   "cell_type": "markdown",
   "metadata": {},
   "source": [
    "    ------------ INTRODUCTION ------------\n",
    "    01 - Data Science Toolkit\n",
    "    02 - Linear Algebra\n",
    "    03 - Machine Learning\n",
    "    04 - Exploratory Data Analysis\n",
    "    ------------ ESTIMATION ------------\n",
    "    05 - Linear Regression\n",
    "    06 - Polynomial Regression\n",
    "    07 - Data Wrangling \n",
    "    08 - Intro to R\n",
    "    09 - Group Presentations\n",
    "    ------------ MACHINE LEARNING ------------\n",
    "    10 - Logistic Regression\n",
    "    11 - kNN \n",
    "    12 - Decision Trees\n",
    "    13 - Random Forests\n",
    "    14 - Network Analysis\n",
    "    15 - Feature Engineering I (PCA)\n",
    "    16 - Feature Engineering II (Clustering)\n",
    "    ------------ REAL WORLD APPLICATIONS ------------\n",
    "    17 - Kaggle I (EDA)\n",
    "    18 - Kaggle II (Feature Engineering)\n",
    "    19 - Big Data I (MapReduce)\n",
    "    20 - Big Data II (Spark)\n",
    "    21 - Project Labs\n",
    "    22 - Final Presentations"
   ]
  },
  {
   "cell_type": "markdown",
   "metadata": {},
   "source": [
    "#### Remember This? "
   ]
  },
  {
   "cell_type": "markdown",
   "metadata": {},
   "source": [
    "![](assets/DS_venn_diagram.png)\n",
    "\n",
    "### How do you get from 'Machine Learning' to 'Data Science'"
   ]
  },
  {
   "cell_type": "markdown",
   "metadata": {},
   "source": [
    "![reference](http://tonyfisherpuzzles.net/images/1200%20res%206th%20april%202009b.jpg)\n",
    "### Problem Solving!!!\n",
    "\n",
    "Implementing solutions to ML problems is the focus of this course."
   ]
  },
  {
   "cell_type": "markdown",
   "metadata": {},
   "source": [
    "### What is the goal of Machine Learning?"
   ]
  },
  {
   "cell_type": "markdown",
   "metadata": {},
   "source": [
    "The goal is determined by the type of problem."
   ]
  },
  {
   "cell_type": "markdown",
   "metadata": {},
   "source": [
    "|Type   \t|Use   \t|Method |\n",
    "|:-:\t|:-:\t|:-:\t|\n",
    "|Supervised   \t|Making Predictions   \t|Generalisation |\n",
    "|Unsupervised   \t|Extracting Structure   \t|Representation |\n"
   ]
  },
  {
   "cell_type": "markdown",
   "metadata": {},
   "source": [
    "### How do you determine the right approach?"
   ]
  },
  {
   "cell_type": "markdown",
   "metadata": {},
   "source": [
    "The right approach is determined by the desired solution."
   ]
  },
  {
   "cell_type": "markdown",
   "metadata": {},
   "source": [
    "![](assets/ml_algorithms.png)"
   ]
  },
  {
   "cell_type": "markdown",
   "metadata": {},
   "source": [
    "But what approaches are available to you will always be dependent on the type and quality of the data you have!"
   ]
  },
  {
   "cell_type": "markdown",
   "metadata": {},
   "source": [
    "### What do you do with your results?"
   ]
  },
  {
   "cell_type": "markdown",
   "metadata": {},
   "source": [
    "Interpret them and react accordingly."
   ]
  },
  {
   "cell_type": "markdown",
   "metadata": {},
   "source": [
    "![](assets/benfry-workflow-recursion.png)"
   ]
  },
  {
   "cell_type": "markdown",
   "metadata": {},
   "source": [
    "This also relies on your problem solving skills!"
   ]
  },
  {
   "cell_type": "markdown",
   "metadata": {},
   "source": [
    "![break](assets/code.png)"
   ]
  },
  {
   "cell_type": "markdown",
   "metadata": {},
   "source": [
    "## Python Libraries"
   ]
  },
  {
   "cell_type": "markdown",
   "metadata": {},
   "source": [
    "### import"
   ]
  },
  {
   "cell_type": "markdown",
   "metadata": {},
   "source": [
    "Python libraries are imported into scripts using the\n",
    "\n",
    "> **import** statement.\n",
    "\n",
    "The import statement can be used in three ways:"
   ]
  },
  {
   "cell_type": "code",
   "execution_count": 38,
   "metadata": {
    "collapsed": false,
    "scrolled": false
   },
   "outputs": [
    {
     "name": "stdout",
     "output_type": "stream",
     "text": [
      "airbnb     - A wrapper for airbnb.com API\n"
     ]
    },
    {
     "name": "stderr",
     "output_type": "stream",
     "text": [
      "You are using pip version 7.1.2, however version 8.0.2 is available.\n",
      "You should consider upgrading via the 'pip install --upgrade pip' command.\n"
     ]
    }
   ],
   "source": [
    "%%sh\n",
    "pip search airbnb"
   ]
  },
  {
   "cell_type": "code",
   "execution_count": 44,
   "metadata": {
    "collapsed": false
   },
   "outputs": [
    {
     "name": "stdout",
     "output_type": "stream",
     "text": [
      "Fetching package metadata: ....\n",
      "Solving package specifications: ..............\n",
      "Package plan for installation in environment /home/io/.tools/anaconda/envs/ds:\n",
      "\n",
      "The following packages will be downloaded:\n",
      "\n",
      "    package                    |            build\n",
      "    ---------------------------|-----------------\n",
      "    python-2.7.11              |                0        12.0 MB\n",
      "    setuptools-19.6.2          |           py27_0         365 KB\n",
      "    pip-8.0.2                  |           py27_0         1.5 MB\n",
      "    ------------------------------------------------------------\n",
      "                                           Total:        13.9 MB\n",
      "\n",
      "The following packages will be UPDATED:\n",
      "\n",
      "    openssl:    1.0.2d-0     --> 1.0.2f-0     \n",
      "    pip:        7.1.2-py27_0 --> 8.0.2-py27_0 \n",
      "    python:     2.7.10-2     --> 2.7.11-0     \n",
      "    setuptools: 18.4-py27_0  --> 19.6.2-py27_0\n",
      "    sqlite:     3.8.4.1-1    --> 3.9.2-0      \n",
      "\n",
      "Proceed ([y]/n)? \n",
      "Fetching packages ...\n",
      "python-2.7.11-   0% |                              | ETA:  --:--:--   0.00  B/s\r",
      "python-2.7.11-   0% |                               | ETA:  0:02:03 101.30 kB/s\r",
      "python-2.7.11-   1% |                               | ETA:  0:01:19 154.76 kB/s\r",
      "python-2.7.11-   2% |                               | ETA:  0:00:59 205.09 kB/s\r",
      "python-2.7.11-   4% |#                              | ETA:  0:00:49 242.06 kB/s\r",
      "python-2.7.11-   5% |#                              | ETA:  0:00:42 282.17 kB/s\r",
      "python-2.7.11-   6% |#                              | ETA:  0:00:36 323.50 kB/s\r",
      "python-2.7.11-   7% |##                             | ETA:  0:00:33 352.20 kB/s\r",
      "python-2.7.11-   8% |##                             | ETA:  0:00:29 391.61 kB/s\r",
      "python-2.7.11-   9% |##                             | ETA:  0:00:27 418.10 kB/s\r",
      "python-2.7.11-  10% |###                            | ETA:  0:00:25 451.05 kB/s\r",
      "python-2.7.11-  11% |###                            | ETA:  0:00:23 471.24 kB/s\r",
      "python-2.7.11-  12% |###                            | ETA:  0:00:21 507.77 kB/s\r",
      "python-2.7.11-  13% |####                           | ETA:  0:00:20 542.30 kB/s\r",
      "python-2.7.11-  14% |####                           | ETA:  0:00:19 558.15 kB/s\r",
      "python-2.7.11-  15% |####                           | ETA:  0:00:18 585.23 kB/s\r",
      "python-2.7.11-  16% |#####                          | ETA:  0:00:17 616.75 kB/s\r",
      "python-2.7.11-  17% |#####                          | ETA:  0:00:16 630.45 kB/s\r",
      "python-2.7.11-  18% |#####                          | ETA:  0:00:15 655.48 kB/s\r",
      "python-2.7.11-  19% |######                         | ETA:  0:00:14 682.89 kB/s\r",
      "python-2.7.11-  20% |######                         | ETA:  0:00:14 711.30 kB/s\r",
      "python-2.7.11-  21% |######                         | ETA:  0:00:13 719.36 kB/s\r",
      "python-2.7.11-  22% |#######                        | ETA:  0:00:13 739.07 kB/s\r",
      "python-2.7.11-  23% |#######                        | ETA:  0:00:12 766.16 kB/s\r",
      "python-2.7.11-  24% |#######                        | ETA:  0:00:12 774.34 kB/s\r",
      "python-2.7.11-  25% |########                       | ETA:  0:00:11 795.12 kB/s\r",
      "python-2.7.11-  26% |########                       | ETA:  0:00:12 748.06 kB/s\r",
      "python-2.7.11-  27% |########                       | ETA:  0:00:11 776.76 kB/s\r",
      "python-2.7.11-  28% |########                       | ETA:  0:00:11 805.45 kB/s\r",
      "python-2.7.11-  30% |#########                      | ETA:  0:00:10 801.76 kB/s\r",
      "python-2.7.11-  31% |#########                      | ETA:  0:00:10 829.20 kB/s\r",
      "python-2.7.11-  32% |#########                      | ETA:  0:00:09 856.72 kB/s\r",
      "python-2.7.11-  33% |##########                     | ETA:  0:00:10 804.43 kB/s\r",
      "python-2.7.11-  34% |##########                     | ETA:  0:00:11 732.54 kB/s\r",
      "python-2.7.11-  35% |##########                     | ETA:  0:00:11 722.79 kB/s\r",
      "python-2.7.11-  36% |###########                    | ETA:  0:00:11 715.60 kB/s\r",
      "python-2.7.11-  37% |###########                    | ETA:  0:00:11 714.45 kB/s\r",
      "python-2.7.11-  38% |###########                    | ETA:  0:00:10 727.44 kB/s\r",
      "python-2.7.11-  39% |############                   | ETA:  0:00:10 726.00 kB/s\r",
      "python-2.7.11-  40% |############                   | ETA:  0:00:10 739.87 kB/s\r",
      "python-2.7.11-  41% |############                   | ETA:  0:00:10 719.07 kB/s\r",
      "python-2.7.11-  42% |#############                  | ETA:  0:00:09 736.96 kB/s\r",
      "python-2.7.11-  43% |#############                  | ETA:  0:00:09 748.85 kB/s\r",
      "python-2.7.11-  44% |#############                  | ETA:  0:00:09 742.97 kB/s\r",
      "python-2.7.11-  45% |##############                 | ETA:  0:00:09 746.10 kB/s\r",
      "python-2.7.11-  46% |##############                 | ETA:  0:00:08 751.21 kB/s\r",
      "python-2.7.11-  47% |##############                 | ETA:  0:00:08 750.51 kB/s\r",
      "python-2.7.11-  48% |###############                | ETA:  0:00:08 758.23 kB/s\r",
      "python-2.7.11-  49% |###############                | ETA:  0:00:08 749.96 kB/s\r",
      "python-2.7.11-  50% |###############                | ETA:  0:00:08 737.63 kB/s\r",
      "python-2.7.11-  51% |################               | ETA:  0:00:08 752.61 kB/s\r",
      "python-2.7.11-  52% |################               | ETA:  0:00:07 751.35 kB/s\r",
      "python-2.7.11-  53% |################               | ETA:  0:00:07 751.97 kB/s\r",
      "python-2.7.11-  55% |#################              | ETA:  0:00:07 750.60 kB/s\r",
      "python-2.7.11-  56% |#################              | ETA:  0:00:07 751.65 kB/s\r",
      "python-2.7.11-  57% |#################              | ETA:  0:00:07 750.21 kB/s\r",
      "python-2.7.11-  58% |##################             | ETA:  0:00:07 752.58 kB/s\r",
      "python-2.7.11-  59% |##################             | ETA:  0:00:06 753.98 kB/s\r",
      "python-2.7.11-  60% |##################             | ETA:  0:00:06 751.62 kB/s\r",
      "python-2.7.11-  61% |##################             | ETA:  0:00:06 755.68 kB/s\r",
      "python-2.7.11-  62% |###################            | ETA:  0:00:06 754.14 kB/s\r",
      "python-2.7.11-  63% |###################            | ETA:  0:00:06 753.36 kB/s\r",
      "python-2.7.11-  64% |###################            | ETA:  0:00:05 759.77 kB/s\r",
      "python-2.7.11-  65% |####################           | ETA:  0:00:05 758.16 kB/s\r",
      "python-2.7.11-  66% |####################           | ETA:  0:00:05 755.21 kB/s\r",
      "python-2.7.11-  67% |####################           | ETA:  0:00:05 762.61 kB/s\r",
      "python-2.7.11-  68% |#####################          | ETA:  0:00:05 760.73 kB/s\r",
      "python-2.7.11-  69% |#####################          | ETA:  0:00:05 762.29 kB/s\r",
      "python-2.7.11-  70% |#####################          | ETA:  0:00:04 766.07 kB/s\r",
      "python-2.7.11-  71% |######################         | ETA:  0:00:04 761.06 kB/s\r",
      "python-2.7.11-  72% |######################         | ETA:  0:00:04 765.94 kB/s\r",
      "python-2.7.11-  73% |######################         | ETA:  0:00:04 765.58 kB/s\r",
      "python-2.7.11-  74% |#######################        | ETA:  0:00:04 762.78 kB/s\r",
      "python-2.7.11-  75% |#######################        | ETA:  0:00:03 769.82 kB/s\r",
      "python-2.7.11-  76% |#######################        | ETA:  0:00:03 764.74 kB/s\r",
      "python-2.7.11-  77% |########################       | ETA:  0:00:03 763.84 kB/s\r",
      "python-2.7.11-  78% |########################       | ETA:  0:00:03 768.61 kB/s\r",
      "python-2.7.11-  79% |########################       | ETA:  0:00:03 764.62 kB/s\r",
      "python-2.7.11-  81% |#########################      | ETA:  0:00:03 765.45 kB/s\r",
      "python-2.7.11-  82% |#########################      | ETA:  0:00:02 769.58 kB/s\r",
      "python-2.7.11-  83% |#########################      | ETA:  0:00:02 768.23 kB/s\r",
      "python-2.7.11-  84% |##########################     | ETA:  0:00:02 765.30 kB/s\r",
      "python-2.7.11-  85% |##########################     | ETA:  0:00:02 770.97 kB/s\r",
      "python-2.7.11-  86% |##########################     | ETA:  0:00:02 768.53 kB/s\r",
      "python-2.7.11-  87% |###########################    | ETA:  0:00:02 766.35 kB/s\r",
      "python-2.7.11-  88% |###########################    | ETA:  0:00:01 770.58 kB/s\r",
      "python-2.7.11-  89% |###########################    | ETA:  0:00:01 768.37 kB/s\r",
      "python-2.7.11-  90% |############################   | ETA:  0:00:01 771.18 kB/s\r",
      "python-2.7.11-  91% |############################   | ETA:  0:00:01 744.71 kB/s\r",
      "python-2.7.11-  92% |############################   | ETA:  0:00:01 744.07 kB/s\r",
      "python-2.7.11-  93% |############################   | ETA:  0:00:01 750.81 kB/s\r",
      "python-2.7.11-  94% |#############################  | ETA:  0:00:01 709.23 kB/s\r",
      "python-2.7.11-  95% |#############################  | ETA:  0:00:00 697.73 kB/s\r",
      "python-2.7.11-  96% |#############################  | ETA:  0:00:00 693.66 kB/s\r",
      "python-2.7.11-  97% |############################## | ETA:  0:00:00 692.00 kB/s\r",
      "python-2.7.11-  98% |############################## | ETA:  0:00:00 689.82 kB/s\r",
      "python-2.7.11-  99% |############################## | ETA:  0:00:00 687.70 kB/s\r",
      "python-2.7.11- 100% |###############################| Time: 0:00:18 682.12 kB/s\r\n",
      "setuptools-19.   0% |                              | ETA:  --:--:--   0.00  B/s\r",
      "setuptools-19.   4% |#                              | Time: 0:00:00  66.30 kB/s\r",
      "setuptools-19.   8% |##                             | Time: 0:00:00  68.74 kB/s\r",
      "setuptools-19.  13% |####                           | Time: 0:00:00  70.90 kB/s\r",
      "setuptools-19.  17% |#####                          | Time: 0:00:00  92.20 kB/s\r",
      "setuptools-19.  21% |######                         | Time: 0:00:00 110.72 kB/s\r",
      "setuptools-19.  26% |########                       | Time: 0:00:00 105.22 kB/s\r",
      "setuptools-19.  30% |#########                      | Time: 0:00:00 122.26 kB/s\r",
      "setuptools-19.  35% |##########                     | Time: 0:00:01 112.59 kB/s\r",
      "setuptools-19.  39% |############                   | Time: 0:00:01 126.30 kB/s\r",
      "setuptools-19.  43% |#############                  | Time: 0:00:01 136.42 kB/s\r",
      "setuptools-19.  48% |##############                 | Time: 0:00:01 149.86 kB/s\r",
      "setuptools-19.  52% |################               | Time: 0:00:01 139.04 kB/s\r",
      "setuptools-19.  57% |#################              | Time: 0:00:01 150.47 kB/s\r",
      "setuptools-19.  61% |###################            | Time: 0:00:01 159.12 kB/s\r",
      "setuptools-19.  65% |####################           | Time: 0:00:01 170.28 kB/s\r",
      "setuptools-19.  70% |#####################          | Time: 0:00:01 178.51 kB/s\r",
      "setuptools-19.  74% |#######################        | Time: 0:00:01 167.35 kB/s\r",
      "setuptools-19.  78% |########################       | Time: 0:00:01 176.57 kB/s\r",
      "setuptools-19.  83% |#########################      | Time: 0:00:01 185.42 kB/s\r",
      "setuptools-19.  87% |###########################    | Time: 0:00:01 195.10 kB/s\r",
      "setuptools-19.  92% |############################   | Time: 0:00:01 202.90 kB/s\r",
      "setuptools-19.  96% |#############################  | Time: 0:00:01 211.57 kB/s\r",
      "setuptools-19. 100% |###############################| Time: 0:00:01 197.61 kB/s\r",
      "setuptools-19. 100% |###############################| Time: 0:00:01 197.59 kB/s\r",
      "setuptools-19. 100% |###############################| Time: 0:00:01 197.57 kB/s\r\n",
      "pip-8.0.2-py27   0% |                              | ETA:  --:--:--   0.00  B/s\r",
      "pip-8.0.2-py27   1% |                               | Time: 0:00:00  75.49 kB/s\r",
      "pip-8.0.2-py27   2% |                               | Time: 0:00:00  77.19 kB/s\r",
      "pip-8.0.2-py27   3% |                               | Time: 0:00:00 108.07 kB/s\r",
      "pip-8.0.2-py27   4% |#                              | Time: 0:00:00  96.27 kB/s\r",
      "pip-8.0.2-py27   5% |#                              | Time: 0:00:00 118.63 kB/s\r",
      "pip-8.0.2-py27   6% |#                              | Time: 0:00:00 130.14 kB/s\r",
      "pip-8.0.2-py27   7% |##                             | Time: 0:00:00 126.13 kB/s\r",
      "pip-8.0.2-py27   8% |##                             | Time: 0:00:00 142.49 kB/s\r",
      "pip-8.0.2-py27   9% |##                             | Time: 0:00:00 159.32 kB/s\r",
      "pip-8.0.2-py27  10% |###                            | Time: 0:00:00 166.69 kB/s\r",
      "pip-8.0.2-py27  11% |###                            | Time: 0:00:01 160.62 kB/s\r",
      "pip-8.0.2-py27  12% |###                            | Time: 0:00:01 171.66 kB/s\r",
      "pip-8.0.2-py27  13% |####                           | Time: 0:00:01 184.36 kB/s\r",
      "pip-8.0.2-py27  14% |####                           | Time: 0:00:01 196.99 kB/s\r",
      "pip-8.0.2-py27  15% |####                           | Time: 0:00:01 206.06 kB/s\r",
      "pip-8.0.2-py27  16% |#####                          | Time: 0:00:01 193.92 kB/s\r",
      "pip-8.0.2-py27  17% |#####                          | Time: 0:00:01 204.49 kB/s\r",
      "pip-8.0.2-py27  18% |#####                          | Time: 0:00:01 215.04 kB/s\r",
      "pip-8.0.2-py27  19% |######                         | Time: 0:00:01 225.49 kB/s\r",
      "pip-8.0.2-py27  20% |######                         | Time: 0:00:01 236.02 kB/s\r",
      "pip-8.0.2-py27  21% |######                         | Time: 0:00:01 247.12 kB/s\r",
      "pip-8.0.2-py27  22% |#######                        | Time: 0:00:01 257.08 kB/s\r",
      "pip-8.0.2-py27  23% |#######                        | Time: 0:00:01 259.01 kB/s\r",
      "pip-8.0.2-py27  24% |#######                        | Time: 0:00:01 248.52 kB/s\r",
      "pip-8.0.2-py27  25% |########                       | Time: 0:00:01 257.33 kB/s\r",
      "pip-8.0.2-py27  26% |########                       | Time: 0:00:01 267.05 kB/s\r",
      "pip-8.0.2-py27  27% |########                       | Time: 0:00:01 276.32 kB/s\r",
      "pip-8.0.2-py27  28% |########                       | Time: 0:00:01 285.07 kB/s\r",
      "pip-8.0.2-py27  29% |#########                      | Time: 0:00:01 293.47 kB/s\r",
      "pip-8.0.2-py27  31% |#########                      | Time: 0:00:01 301.87 kB/s\r",
      "pip-8.0.2-py27  32% |#########                      | Time: 0:00:01 311.00 kB/s\r",
      "pip-8.0.2-py27  33% |##########                     | Time: 0:00:01 317.80 kB/s\r",
      "pip-8.0.2-py27  34% |##########                     | Time: 0:00:01 320.02 kB/s\r",
      "pip-8.0.2-py27  35% |##########                     | Time: 0:00:01 307.09 kB/s\r",
      "pip-8.0.2-py27  36% |###########                    | Time: 0:00:01 315.13 kB/s\r",
      "pip-8.0.2-py27  37% |###########                    | Time: 0:00:01 323.35 kB/s\r",
      "pip-8.0.2-py27  38% |###########                    | Time: 0:00:01 331.23 kB/s\r",
      "pip-8.0.2-py27  39% |############                   | Time: 0:00:01 337.95 kB/s\r",
      "pip-8.0.2-py27  40% |############                   | Time: 0:00:01 340.11 kB/s\r",
      "pip-8.0.2-py27  41% |############                   | Time: 0:00:01 347.85 kB/s\r",
      "pip-8.0.2-py27  42% |#############                  | Time: 0:00:01 350.24 kB/s\r",
      "pip-8.0.2-py27  43% |#############                  | Time: 0:00:02 335.37 kB/s\r",
      "pip-8.0.2-py27  44% |#############                  | Time: 0:00:02 343.00 kB/s\r",
      "pip-8.0.2-py27  45% |##############                 | Time: 0:00:02 350.39 kB/s\r",
      "pip-8.0.2-py27  46% |##############                 | Time: 0:00:02 357.01 kB/s\r",
      "pip-8.0.2-py27  47% |##############                 | Time: 0:00:02 364.88 kB/s\r",
      "pip-8.0.2-py27  48% |###############                | Time: 0:00:02 370.80 kB/s\r",
      "pip-8.0.2-py27  49% |###############                | Time: 0:00:02 376.98 kB/s\r",
      "pip-8.0.2-py27  50% |###############                | Time: 0:00:02 378.74 kB/s\r",
      "pip-8.0.2-py27  51% |################               | Time: 0:00:02 386.39 kB/s\r",
      "pip-8.0.2-py27  52% |################               | Time: 0:00:02 393.62 kB/s\r",
      "pip-8.0.2-py27  53% |################               | Time: 0:00:02 391.91 kB/s\r",
      "pip-8.0.2-py27  54% |################               | Time: 0:00:02 382.20 kB/s\r",
      "pip-8.0.2-py27  55% |#################              | Time: 0:00:02 381.98 kB/s\r",
      "pip-8.0.2-py27  56% |#################              | Time: 0:00:02 388.78 kB/s\r",
      "pip-8.0.2-py27  57% |#################              | Time: 0:00:02 395.39 kB/s\r",
      "pip-8.0.2-py27  58% |##################             | Time: 0:00:02 398.73 kB/s\r",
      "pip-8.0.2-py27  59% |##################             | Time: 0:00:02 405.66 kB/s\r",
      "pip-8.0.2-py27  60% |##################             | Time: 0:00:02 412.60 kB/s\r",
      "pip-8.0.2-py27  62% |###################            | Time: 0:00:02 416.18 kB/s\r",
      "pip-8.0.2-py27  63% |###################            | Time: 0:00:02 383.80 kB/s\r",
      "pip-8.0.2-py27  64% |###################            | Time: 0:00:02 390.01 kB/s\r",
      "pip-8.0.2-py27  65% |####################           | Time: 0:00:02 396.24 kB/s\r",
      "pip-8.0.2-py27  66% |####################           | Time: 0:00:02 402.46 kB/s\r",
      "pip-8.0.2-py27  67% |####################           | Time: 0:00:02 408.68 kB/s\r",
      "pip-8.0.2-py27  68% |#####################          | Time: 0:00:02 414.90 kB/s\r",
      "pip-8.0.2-py27  69% |#####################          | Time: 0:00:02 421.14 kB/s\r",
      "pip-8.0.2-py27  70% |#####################          | Time: 0:00:02 427.38 kB/s\r",
      "pip-8.0.2-py27  71% |######################         | Time: 0:00:02 433.62 kB/s\r",
      "pip-8.0.2-py27  72% |######################         | Time: 0:00:02 439.87 kB/s\r",
      "pip-8.0.2-py27  73% |######################         | Time: 0:00:02 446.11 kB/s\r",
      "pip-8.0.2-py27  74% |#######################        | Time: 0:00:02 452.36 kB/s\r",
      "pip-8.0.2-py27  75% |#######################        | Time: 0:00:02 458.60 kB/s\r",
      "pip-8.0.2-py27  76% |#######################        | Time: 0:00:02 464.84 kB/s\r",
      "pip-8.0.2-py27  77% |########################       | Time: 0:00:02 471.09 kB/s\r",
      "pip-8.0.2-py27  78% |########################       | Time: 0:00:02 477.33 kB/s\r",
      "pip-8.0.2-py27  79% |########################       | Time: 0:00:02 483.57 kB/s\r",
      "pip-8.0.2-py27  80% |########################       | Time: 0:00:02 489.81 kB/s\r",
      "pip-8.0.2-py27  81% |#########################      | Time: 0:00:02 494.72 kB/s\r",
      "pip-8.0.2-py27  82% |#########################      | Time: 0:00:02 476.70 kB/s\r",
      "pip-8.0.2-py27  83% |#########################      | Time: 0:00:02 468.41 kB/s\r",
      "pip-8.0.2-py27  84% |##########################     | Time: 0:00:02 473.14 kB/s\r",
      "pip-8.0.2-py27  85% |##########################     | Time: 0:00:02 478.02 kB/s\r",
      "pip-8.0.2-py27  86% |##########################     | Time: 0:00:02 468.54 kB/s\r",
      "pip-8.0.2-py27  87% |###########################    | Time: 0:00:02 464.51 kB/s\r",
      "pip-8.0.2-py27  88% |###########################    | Time: 0:00:03 460.08 kB/s\r",
      "pip-8.0.2-py27  89% |###########################    | Time: 0:00:03 462.58 kB/s\r",
      "pip-8.0.2-py27  90% |############################   | Time: 0:00:03 467.23 kB/s\r",
      "pip-8.0.2-py27  91% |############################   | Time: 0:00:03 471.26 kB/s\r",
      "pip-8.0.2-py27  93% |############################   | Time: 0:00:03 466.26 kB/s\r",
      "pip-8.0.2-py27  94% |#############################  | Time: 0:00:03 462.43 kB/s\r",
      "pip-8.0.2-py27  95% |#############################  | Time: 0:00:03 465.14 kB/s\r",
      "pip-8.0.2-py27  96% |#############################  | Time: 0:00:03 462.86 kB/s\r",
      "pip-8.0.2-py27  97% |############################## | Time: 0:00:03 464.98 kB/s\r",
      "pip-8.0.2-py27  98% |############################## | Time: 0:00:03 469.46 kB/s\r",
      "pip-8.0.2-py27  99% |############################## | Time: 0:00:03 471.69 kB/s\r",
      "pip-8.0.2-py27 100% |###############################| Time: 0:00:03 475.37 kB/s\r",
      "pip-8.0.2-py27 100% |###############################| Time: 0:00:03 475.35 kB/s\r",
      "pip-8.0.2-py27 100% |###############################| Time: 0:00:03 475.32 kB/s\r\n",
      "Extracting packages ...\n",
      "[                    ]|                                                  |   0%\r",
      "[openssl             ]|                                                  |   0%\r",
      "[sqlite              ]|##########                                        |  20%\r",
      "[python              ]|####################                              |  40%\r",
      "[setuptools          ]|##############################                    |  60%\r",
      "[pip                 ]|########################################          |  80%\r",
      "[      COMPLETE      ]|##################################################| 100%\r\n",
      "Unlinking packages ...\n",
      "[      COMPLETE      ]|                                                  |   0%\r",
      "[openssl             ]|                                                  |   0%\r",
      "[openssl             ]|                                                  |   0%\r",
      "[pip                 ]|##########                                        |  20%\r",
      "[python              ]|####################                              |  40%\r",
      "[setuptools          ]|##############################                    |  60%\r",
      "[sqlite              ]|########################################          |  80%\r",
      "[      COMPLETE      ]|##################################################| 100%\r\n",
      "Linking packages ...\n",
      "[      COMPLETE      ]|                                                  |   0%\r",
      "[openssl             ]|                                                  |   0%\r",
      "[openssl             ]|                                                  |   0%\r",
      "[sqlite              ]|##########                                        |  20%\r",
      "[python              ]|####################                              |  40%\r",
      "[setuptools          ]|##############################                    |  60%\r",
      "[pip                 ]|########################################          |  80%\r",
      "[      COMPLETE      ]|##################################################| 100%\r\n"
     ]
    }
   ],
   "source": [
    "%%sh\n",
    "conda install docopt"
   ]
  },
  {
   "cell_type": "code",
   "execution_count": 32,
   "metadata": {
    "collapsed": false
   },
   "outputs": [],
   "source": [
    "from sys import maxsize\n",
    "\n",
    "from os.path import curdir"
   ]
  },
  {
   "cell_type": "code",
   "execution_count": 35,
   "metadata": {
    "collapsed": false
   },
   "outputs": [
    {
     "data": {
      "text/plain": [
       "9223372036854775807"
      ]
     },
     "execution_count": 35,
     "metadata": {},
     "output_type": "execute_result"
    }
   ],
   "source": []
  },
  {
   "cell_type": "code",
   "execution_count": 45,
   "metadata": {
    "collapsed": false
   },
   "outputs": [],
   "source": [
    "import os\n",
    "\n",
    "from operator import itemgetter\n",
    "\n",
    "from os.path import expanduser\n",
    "\n",
    "from sys import *"
   ]
  },
  {
   "cell_type": "code",
   "execution_count": null,
   "metadata": {
    "collapsed": true
   },
   "outputs": [],
   "source": [
    "from sys import "
   ]
  },
  {
   "cell_type": "code",
   "execution_count": 46,
   "metadata": {
    "collapsed": false
   },
   "outputs": [
    {
     "data": {
      "text/plain": [
       "'/home/io/Documents'"
      ]
     },
     "execution_count": 46,
     "metadata": {},
     "output_type": "execute_result"
    }
   ],
   "source": [
    "expanduser('~/Documents')"
   ]
  },
  {
   "cell_type": "code",
   "execution_count": 47,
   "metadata": {
    "collapsed": false
   },
   "outputs": [
    {
     "data": {
      "text/plain": [
       "'linux2'"
      ]
     },
     "execution_count": 47,
     "metadata": {},
     "output_type": "execute_result"
    }
   ],
   "source": [
    "platform"
   ]
  },
  {
   "cell_type": "code",
   "execution_count": 50,
   "metadata": {
    "collapsed": false
   },
   "outputs": [
    {
     "data": {
      "text/plain": [
       "False"
      ]
     },
     "execution_count": 50,
     "metadata": {},
     "output_type": "execute_result"
    }
   ],
   "source": [
    "import os\n",
    " \n",
    "from os import path\n",
    "\n",
    "path.islink('')"
   ]
  },
  {
   "cell_type": "code",
   "execution_count": 49,
   "metadata": {
    "collapsed": false
   },
   "outputs": [
    {
     "data": {
      "text/plain": [
       "u'/home/io/ga/ds/DS_HK_8/notebooks'"
      ]
     },
     "execution_count": 49,
     "metadata": {},
     "output_type": "execute_result"
    }
   ],
   "source": [
    "pwd"
   ]
  },
  {
   "cell_type": "code",
   "execution_count": null,
   "metadata": {
    "collapsed": true
   },
   "outputs": [],
   "source": [
    "os"
   ]
  },
  {
   "cell_type": "markdown",
   "metadata": {},
   "source": [
    "The differences have to do with how each import statement interacts with the local namespace."
   ]
  },
  {
   "cell_type": "markdown",
   "metadata": {},
   "source": [
    "### Namespaces"
   ]
  },
  {
   "cell_type": "markdown",
   "metadata": {},
   "source": [
    "Python has three types of namespaces:\n",
    "    \n",
    "> **local**, **global**, and **built-in**"
   ]
  },
  {
   "cell_type": "markdown",
   "metadata": {},
   "source": [
    "For our purposes, namespaces are important because they control how imported code can be accessed:\n"
   ]
  },
  {
   "cell_type": "code",
   "execution_count": 65,
   "metadata": {
    "collapsed": false
   },
   "outputs": [
    {
     "data": {
      "text/plain": [
       "2"
      ]
     },
     "execution_count": 65,
     "metadata": {},
     "output_type": "execute_result"
    }
   ],
   "source": [
    "x = 1 \n",
    "\n",
    "def func():\n",
    "    global x\n",
    "    x = 2\n",
    "    return x\n",
    "\n",
    "func()"
   ]
  },
  {
   "cell_type": "code",
   "execution_count": 67,
   "metadata": {
    "collapsed": true
   },
   "outputs": [],
   "source": [
    "batman_victims = []"
   ]
  },
  {
   "cell_type": "code",
   "execution_count": 69,
   "metadata": {
    "collapsed": false
   },
   "outputs": [
    {
     "name": "stdout",
     "output_type": "stream",
     "text": [
      "[]\n"
     ]
    },
    {
     "data": {
      "text/plain": [
       "['joker']"
      ]
     },
     "execution_count": 69,
     "metadata": {},
     "output_type": "execute_result"
    }
   ],
   "source": [
    "def put_into_arhkam(prisoners, new=None):\n",
    "    if new:\n",
    "        prisoners.append(new)\n",
    "    return prisoners\n",
    "\n",
    "put_into_arhkam(batman_victims,'joker')"
   ]
  },
  {
   "cell_type": "code",
   "execution_count": 71,
   "metadata": {
    "collapsed": false
   },
   "outputs": [
    {
     "name": "stdout",
     "output_type": "stream",
     "text": [
      "['joker']\n"
     ]
    },
    {
     "data": {
      "text/plain": [
       "['joker', 'poison ivy']"
      ]
     },
     "execution_count": 71,
     "metadata": {},
     "output_type": "execute_result"
    }
   ],
   "source": [
    "put_into_arhkam(batman_victims,'poison ivy')"
   ]
  },
  {
   "cell_type": "code",
   "execution_count": 72,
   "metadata": {
    "collapsed": false
   },
   "outputs": [
    {
     "name": "stdout",
     "output_type": "stream",
     "text": [
      "['joker', 'poison ivy']\n"
     ]
    },
    {
     "data": {
      "text/plain": [
       "['joker', 'poison ivy', 'penguin']"
      ]
     },
     "execution_count": 72,
     "metadata": {},
     "output_type": "execute_result"
    }
   ],
   "source": [
    "put_into_arhkam(batman_victims,'penguin')"
   ]
  },
  {
   "cell_type": "code",
   "execution_count": 73,
   "metadata": {
    "collapsed": false
   },
   "outputs": [
    {
     "data": {
      "text/plain": [
       "['joker', 'poison ivy', 'penguin']"
      ]
     },
     "execution_count": 73,
     "metadata": {},
     "output_type": "execute_result"
    }
   ],
   "source": [
    "batman_victims"
   ]
  },
  {
   "cell_type": "code",
   "execution_count": 76,
   "metadata": {
    "collapsed": true
   },
   "outputs": [],
   "source": [
    "def put_into_arhkam(prisoners, new=None):\n",
    "    if new:\n",
    "        prisoners.append(new)\n",
    "    return prisoners, new\n",
    "\n",
    "batman_victims , new = put_into_arhkam([],'joker')"
   ]
  },
  {
   "cell_type": "code",
   "execution_count": 66,
   "metadata": {
    "collapsed": false
   },
   "outputs": [
    {
     "data": {
      "text/plain": [
       "'/home/io'"
      ]
     },
     "execution_count": 66,
     "metadata": {},
     "output_type": "execute_result"
    }
   ],
   "source": [
    "import os\n",
    "os.path.expanduser('~')"
   ]
  },
  {
   "cell_type": "code",
   "execution_count": 63,
   "metadata": {
    "collapsed": false
   },
   "outputs": [
    {
     "data": {
      "text/plain": [
       "'/home/io'"
      ]
     },
     "execution_count": 63,
     "metadata": {},
     "output_type": "execute_result"
    }
   ],
   "source": [
    "path.expanduser('~')"
   ]
  },
  {
   "cell_type": "code",
   "execution_count": 64,
   "metadata": {
    "collapsed": false
   },
   "outputs": [],
   "source": [
    "from os import *\n",
    "from os import path"
   ]
  },
  {
   "cell_type": "code",
   "execution_count": 65,
   "metadata": {
    "collapsed": false
   },
   "outputs": [
    {
     "data": {
      "text/plain": [
       "'/home/io'"
      ]
     },
     "execution_count": 65,
     "metadata": {},
     "output_type": "execute_result"
    }
   ],
   "source": [
    "path.expanduser('~')"
   ]
  },
  {
   "cell_type": "code",
   "execution_count": 80,
   "metadata": {
    "collapsed": false
   },
   "outputs": [],
   "source": [
    "import numpy as np"
   ]
  },
  {
   "cell_type": "markdown",
   "metadata": {},
   "source": [
    "### NumPy"
   ]
  },
  {
   "cell_type": "markdown",
   "metadata": {},
   "source": [
    "We’ll be using four external libraries that help us structure our data accordingly.\n",
    "> Numpy offers the ability to create arrays (matrices and vectors), as well as some linear algebra functions!"
   ]
  },
  {
   "cell_type": "code",
   "execution_count": null,
   "metadata": {
    "collapsed": true
   },
   "outputs": [],
   "source": [
    "from numpy import  "
   ]
  },
  {
   "cell_type": "code",
   "execution_count": 81,
   "metadata": {
    "collapsed": false,
    "scrolled": false
   },
   "outputs": [
    {
     "data": {
      "text/plain": [
       "['ALLOW_THREADS',\n",
       " 'BUFSIZE',\n",
       " 'CLIP',\n",
       " 'ComplexWarning',\n",
       " 'DataSource',\n",
       " 'ERR_CALL',\n",
       " 'ERR_DEFAULT',\n",
       " 'ERR_IGNORE',\n",
       " 'ERR_LOG',\n",
       " 'ERR_PRINT',\n",
       " 'ERR_RAISE',\n",
       " 'ERR_WARN',\n",
       " 'FLOATING_POINT_SUPPORT',\n",
       " 'FPE_DIVIDEBYZERO',\n",
       " 'FPE_INVALID',\n",
       " 'FPE_OVERFLOW',\n",
       " 'FPE_UNDERFLOW',\n",
       " 'False_',\n",
       " 'Inf',\n",
       " 'Infinity',\n",
       " 'MAXDIMS',\n",
       " 'MachAr',\n",
       " 'ModuleDeprecationWarning',\n",
       " 'NAN',\n",
       " 'NINF',\n",
       " 'NZERO',\n",
       " 'NaN',\n",
       " 'PINF',\n",
       " 'PZERO',\n",
       " 'PackageLoader',\n",
       " 'RAISE',\n",
       " 'RankWarning',\n",
       " 'SHIFT_DIVIDEBYZERO',\n",
       " 'SHIFT_INVALID',\n",
       " 'SHIFT_OVERFLOW',\n",
       " 'SHIFT_UNDERFLOW',\n",
       " 'ScalarType',\n",
       " 'Tester',\n",
       " 'True_',\n",
       " 'UFUNC_BUFSIZE_DEFAULT',\n",
       " 'UFUNC_PYVALS_NAME',\n",
       " 'VisibleDeprecationWarning',\n",
       " 'WRAP',\n",
       " '_NoValue',\n",
       " '__NUMPY_SETUP__',\n",
       " '__all__',\n",
       " '__builtins__',\n",
       " '__config__',\n",
       " '__doc__',\n",
       " '__file__',\n",
       " '__git_revision__',\n",
       " '__name__',\n",
       " '__package__',\n",
       " '__path__',\n",
       " '__version__',\n",
       " '_import_tools',\n",
       " '_mat',\n",
       " 'abs',\n",
       " 'absolute',\n",
       " 'absolute_import',\n",
       " 'add',\n",
       " 'add_docstring',\n",
       " 'add_newdoc',\n",
       " 'add_newdoc_ufunc',\n",
       " 'add_newdocs',\n",
       " 'alen',\n",
       " 'all',\n",
       " 'allclose',\n",
       " 'alltrue',\n",
       " 'alterdot',\n",
       " 'amax',\n",
       " 'amin',\n",
       " 'angle',\n",
       " 'any',\n",
       " 'append',\n",
       " 'apply_along_axis',\n",
       " 'apply_over_axes',\n",
       " 'arange',\n",
       " 'arccos',\n",
       " 'arccosh',\n",
       " 'arcsin',\n",
       " 'arcsinh',\n",
       " 'arctan',\n",
       " 'arctan2',\n",
       " 'arctanh',\n",
       " 'argmax',\n",
       " 'argmin',\n",
       " 'argpartition',\n",
       " 'argsort',\n",
       " 'argwhere',\n",
       " 'around',\n",
       " 'array',\n",
       " 'array2string',\n",
       " 'array_equal',\n",
       " 'array_equiv',\n",
       " 'array_repr',\n",
       " 'array_split',\n",
       " 'array_str',\n",
       " 'asanyarray',\n",
       " 'asarray',\n",
       " 'asarray_chkfinite',\n",
       " 'ascontiguousarray',\n",
       " 'asfarray',\n",
       " 'asfortranarray',\n",
       " 'asmatrix',\n",
       " 'asscalar',\n",
       " 'atleast_1d',\n",
       " 'atleast_2d',\n",
       " 'atleast_3d',\n",
       " 'average',\n",
       " 'bartlett',\n",
       " 'base_repr',\n",
       " 'bench',\n",
       " 'binary_repr',\n",
       " 'bincount',\n",
       " 'bitwise_and',\n",
       " 'bitwise_not',\n",
       " 'bitwise_or',\n",
       " 'bitwise_xor',\n",
       " 'blackman',\n",
       " 'bmat',\n",
       " 'bool',\n",
       " 'bool8',\n",
       " 'bool_',\n",
       " 'broadcast',\n",
       " 'broadcast_arrays',\n",
       " 'broadcast_to',\n",
       " 'busday_count',\n",
       " 'busday_offset',\n",
       " 'busdaycalendar',\n",
       " 'byte',\n",
       " 'byte_bounds',\n",
       " 'bytes_',\n",
       " 'c_',\n",
       " 'can_cast',\n",
       " 'cast',\n",
       " 'cbrt',\n",
       " 'cdouble',\n",
       " 'ceil',\n",
       " 'cfloat',\n",
       " 'char',\n",
       " 'character',\n",
       " 'chararray',\n",
       " 'choose',\n",
       " 'clip',\n",
       " 'clongdouble',\n",
       " 'clongfloat',\n",
       " 'column_stack',\n",
       " 'common_type',\n",
       " 'compare_chararrays',\n",
       " 'compat',\n",
       " 'complex',\n",
       " 'complex128',\n",
       " 'complex256',\n",
       " 'complex64',\n",
       " 'complex_',\n",
       " 'complexfloating',\n",
       " 'compress',\n",
       " 'concatenate',\n",
       " 'conj',\n",
       " 'conjugate',\n",
       " 'convolve',\n",
       " 'copy',\n",
       " 'copysign',\n",
       " 'copyto',\n",
       " 'core',\n",
       " 'corrcoef',\n",
       " 'correlate',\n",
       " 'cos',\n",
       " 'cosh',\n",
       " 'count_nonzero',\n",
       " 'cov',\n",
       " 'cross',\n",
       " 'csingle',\n",
       " 'ctypeslib',\n",
       " 'cumprod',\n",
       " 'cumproduct',\n",
       " 'cumsum',\n",
       " 'datetime64',\n",
       " 'datetime_as_string',\n",
       " 'datetime_data',\n",
       " 'deg2rad',\n",
       " 'degrees',\n",
       " 'delete',\n",
       " 'deprecate',\n",
       " 'deprecate_with_doc',\n",
       " 'diag',\n",
       " 'diag_indices',\n",
       " 'diag_indices_from',\n",
       " 'diagflat',\n",
       " 'diagonal',\n",
       " 'diff',\n",
       " 'digitize',\n",
       " 'disp',\n",
       " 'divide',\n",
       " 'division',\n",
       " 'dot',\n",
       " 'double',\n",
       " 'dsplit',\n",
       " 'dstack',\n",
       " 'dtype',\n",
       " 'e',\n",
       " 'ediff1d',\n",
       " 'einsum',\n",
       " 'emath',\n",
       " 'empty',\n",
       " 'empty_like',\n",
       " 'equal',\n",
       " 'errstate',\n",
       " 'euler_gamma',\n",
       " 'exp',\n",
       " 'exp2',\n",
       " 'expand_dims',\n",
       " 'expm1',\n",
       " 'extract',\n",
       " 'eye',\n",
       " 'fabs',\n",
       " 'fastCopyAndTranspose',\n",
       " 'fft',\n",
       " 'fill_diagonal',\n",
       " 'find_common_type',\n",
       " 'finfo',\n",
       " 'fix',\n",
       " 'flatiter',\n",
       " 'flatnonzero',\n",
       " 'flexible',\n",
       " 'fliplr',\n",
       " 'flipud',\n",
       " 'float',\n",
       " 'float128',\n",
       " 'float16',\n",
       " 'float32',\n",
       " 'float64',\n",
       " 'float_',\n",
       " 'floating',\n",
       " 'floor',\n",
       " 'floor_divide',\n",
       " 'fmax',\n",
       " 'fmin',\n",
       " 'fmod',\n",
       " 'format_parser',\n",
       " 'frexp',\n",
       " 'frombuffer',\n",
       " 'fromfile',\n",
       " 'fromfunction',\n",
       " 'fromiter',\n",
       " 'frompyfunc',\n",
       " 'fromregex',\n",
       " 'fromstring',\n",
       " 'full',\n",
       " 'full_like',\n",
       " 'fv',\n",
       " 'generic',\n",
       " 'genfromtxt',\n",
       " 'get_array_wrap',\n",
       " 'get_include',\n",
       " 'get_printoptions',\n",
       " 'getbuffer',\n",
       " 'getbufsize',\n",
       " 'geterr',\n",
       " 'geterrcall',\n",
       " 'geterrobj',\n",
       " 'gradient',\n",
       " 'greater',\n",
       " 'greater_equal',\n",
       " 'half',\n",
       " 'hamming',\n",
       " 'hanning',\n",
       " 'histogram',\n",
       " 'histogram2d',\n",
       " 'histogramdd',\n",
       " 'hsplit',\n",
       " 'hstack',\n",
       " 'hypot',\n",
       " 'i0',\n",
       " 'identity',\n",
       " 'iinfo',\n",
       " 'imag',\n",
       " 'in1d',\n",
       " 'index_exp',\n",
       " 'indices',\n",
       " 'inexact',\n",
       " 'inf',\n",
       " 'info',\n",
       " 'infty',\n",
       " 'inner',\n",
       " 'insert',\n",
       " 'int',\n",
       " 'int0',\n",
       " 'int16',\n",
       " 'int32',\n",
       " 'int64',\n",
       " 'int8',\n",
       " 'int_',\n",
       " 'int_asbuffer',\n",
       " 'intc',\n",
       " 'integer',\n",
       " 'interp',\n",
       " 'intersect1d',\n",
       " 'intp',\n",
       " 'invert',\n",
       " 'ipmt',\n",
       " 'irr',\n",
       " 'is_busday',\n",
       " 'isclose',\n",
       " 'iscomplex',\n",
       " 'iscomplexobj',\n",
       " 'isfinite',\n",
       " 'isfortran',\n",
       " 'isinf',\n",
       " 'isnan',\n",
       " 'isneginf',\n",
       " 'isposinf',\n",
       " 'isreal',\n",
       " 'isrealobj',\n",
       " 'isscalar',\n",
       " 'issctype',\n",
       " 'issubclass_',\n",
       " 'issubdtype',\n",
       " 'issubsctype',\n",
       " 'iterable',\n",
       " 'ix_',\n",
       " 'kaiser',\n",
       " 'kron',\n",
       " 'ldexp',\n",
       " 'left_shift',\n",
       " 'less',\n",
       " 'less_equal',\n",
       " 'lexsort',\n",
       " 'lib',\n",
       " 'linalg',\n",
       " 'linspace',\n",
       " 'little_endian',\n",
       " 'load',\n",
       " 'loads',\n",
       " 'loadtxt',\n",
       " 'log',\n",
       " 'log10',\n",
       " 'log1p',\n",
       " 'log2',\n",
       " 'logaddexp',\n",
       " 'logaddexp2',\n",
       " 'logical_and',\n",
       " 'logical_not',\n",
       " 'logical_or',\n",
       " 'logical_xor',\n",
       " 'logspace',\n",
       " 'long',\n",
       " 'longcomplex',\n",
       " 'longdouble',\n",
       " 'longfloat',\n",
       " 'longlong',\n",
       " 'lookfor',\n",
       " 'ma',\n",
       " 'mafromtxt',\n",
       " 'mask_indices',\n",
       " 'mat',\n",
       " 'math',\n",
       " 'matmul',\n",
       " 'matrix',\n",
       " 'matrixlib',\n",
       " 'max',\n",
       " 'maximum',\n",
       " 'maximum_sctype',\n",
       " 'may_share_memory',\n",
       " 'mean',\n",
       " 'median',\n",
       " 'memmap',\n",
       " 'meshgrid',\n",
       " 'mgrid',\n",
       " 'min',\n",
       " 'min_scalar_type',\n",
       " 'minimum',\n",
       " 'mintypecode',\n",
       " 'mirr',\n",
       " 'mod',\n",
       " 'modf',\n",
       " 'msort',\n",
       " 'multiply',\n",
       " 'nan',\n",
       " 'nan_to_num',\n",
       " 'nanargmax',\n",
       " 'nanargmin',\n",
       " 'nanmax',\n",
       " 'nanmean',\n",
       " 'nanmedian',\n",
       " 'nanmin',\n",
       " 'nanpercentile',\n",
       " 'nanprod',\n",
       " 'nanstd',\n",
       " 'nansum',\n",
       " 'nanvar',\n",
       " 'nbytes',\n",
       " 'ndarray',\n",
       " 'ndenumerate',\n",
       " 'ndfromtxt',\n",
       " 'ndim',\n",
       " 'ndindex',\n",
       " 'nditer',\n",
       " 'negative',\n",
       " 'nested_iters',\n",
       " 'newaxis',\n",
       " 'newbuffer',\n",
       " 'nextafter',\n",
       " 'nonzero',\n",
       " 'not_equal',\n",
       " 'nper',\n",
       " 'npv',\n",
       " 'numarray',\n",
       " 'number',\n",
       " 'obj2sctype',\n",
       " 'object',\n",
       " 'object0',\n",
       " 'object_',\n",
       " 'ogrid',\n",
       " 'oldnumeric',\n",
       " 'ones',\n",
       " 'ones_like',\n",
       " 'outer',\n",
       " 'packbits',\n",
       " 'pad',\n",
       " 'partition',\n",
       " 'percentile',\n",
       " 'pi',\n",
       " 'piecewise',\n",
       " 'pkgload',\n",
       " 'place',\n",
       " 'pmt',\n",
       " 'poly',\n",
       " 'poly1d',\n",
       " 'polyadd',\n",
       " 'polyder',\n",
       " 'polydiv',\n",
       " 'polyfit',\n",
       " 'polyint',\n",
       " 'polymul',\n",
       " 'polynomial',\n",
       " 'polysub',\n",
       " 'polyval',\n",
       " 'power',\n",
       " 'ppmt',\n",
       " 'print_function',\n",
       " 'prod',\n",
       " 'product',\n",
       " 'promote_types',\n",
       " 'ptp',\n",
       " 'put',\n",
       " 'putmask',\n",
       " 'pv',\n",
       " 'r_',\n",
       " 'rad2deg',\n",
       " 'radians',\n",
       " 'random',\n",
       " 'rank',\n",
       " 'rate',\n",
       " 'ravel',\n",
       " 'ravel_multi_index',\n",
       " 'real',\n",
       " 'real_if_close',\n",
       " 'rec',\n",
       " 'recarray',\n",
       " 'recfromcsv',\n",
       " 'recfromtxt',\n",
       " 'reciprocal',\n",
       " 'record',\n",
       " 'remainder',\n",
       " 'repeat',\n",
       " 'require',\n",
       " 'reshape',\n",
       " 'resize',\n",
       " 'restoredot',\n",
       " 'result_type',\n",
       " 'right_shift',\n",
       " 'rint',\n",
       " 'roll',\n",
       " 'rollaxis',\n",
       " 'roots',\n",
       " 'rot90',\n",
       " 'round',\n",
       " 'round_',\n",
       " 'row_stack',\n",
       " 's_',\n",
       " 'safe_eval',\n",
       " 'save',\n",
       " 'savetxt',\n",
       " 'savez',\n",
       " 'savez_compressed',\n",
       " 'sctype2char',\n",
       " 'sctypeDict',\n",
       " 'sctypeNA',\n",
       " 'sctypes',\n",
       " 'searchsorted',\n",
       " 'select',\n",
       " 'set_numeric_ops',\n",
       " 'set_printoptions',\n",
       " 'set_string_function',\n",
       " 'setbufsize',\n",
       " 'setdiff1d',\n",
       " 'seterr',\n",
       " 'seterrcall',\n",
       " 'seterrobj',\n",
       " 'setxor1d',\n",
       " 'shape',\n",
       " 'short',\n",
       " 'show_config',\n",
       " 'sign',\n",
       " 'signbit',\n",
       " 'signedinteger',\n",
       " 'sin',\n",
       " 'sinc',\n",
       " 'single',\n",
       " 'singlecomplex',\n",
       " 'sinh',\n",
       " 'size',\n",
       " 'sometrue',\n",
       " 'sort',\n",
       " 'sort_complex',\n",
       " 'source',\n",
       " 'spacing',\n",
       " 'split',\n",
       " 'sqrt',\n",
       " 'square',\n",
       " 'squeeze',\n",
       " 'stack',\n",
       " 'std',\n",
       " 'str',\n",
       " 'str_',\n",
       " 'string0',\n",
       " 'string_',\n",
       " 'subtract',\n",
       " 'sum',\n",
       " 'swapaxes',\n",
       " 'sys',\n",
       " 'take',\n",
       " 'tan',\n",
       " 'tanh',\n",
       " 'tensordot',\n",
       " 'test',\n",
       " 'testing',\n",
       " 'tile',\n",
       " 'timedelta64',\n",
       " 'trace',\n",
       " 'transpose',\n",
       " 'trapz',\n",
       " 'tri',\n",
       " 'tril',\n",
       " 'tril_indices',\n",
       " 'tril_indices_from',\n",
       " 'trim_zeros',\n",
       " 'triu',\n",
       " 'triu_indices',\n",
       " 'triu_indices_from',\n",
       " 'true_divide',\n",
       " 'trunc',\n",
       " 'typeDict',\n",
       " 'typeNA',\n",
       " 'typecodes',\n",
       " 'typename',\n",
       " 'ubyte',\n",
       " 'ufunc',\n",
       " 'uint',\n",
       " 'uint0',\n",
       " 'uint16',\n",
       " 'uint32',\n",
       " 'uint64',\n",
       " 'uint8',\n",
       " 'uintc',\n",
       " 'uintp',\n",
       " 'ulonglong',\n",
       " 'unicode',\n",
       " 'unicode0',\n",
       " 'unicode_',\n",
       " 'union1d',\n",
       " 'unique',\n",
       " 'unpackbits',\n",
       " 'unravel_index',\n",
       " 'unsignedinteger',\n",
       " 'unwrap',\n",
       " 'ushort',\n",
       " 'vander',\n",
       " 'var',\n",
       " 'vdot',\n",
       " 'vectorize',\n",
       " 'version',\n",
       " 'void',\n",
       " 'void0',\n",
       " 'vsplit',\n",
       " 'vstack',\n",
       " 'warnings',\n",
       " 'where',\n",
       " 'who',\n",
       " 'zeros',\n",
       " 'zeros_like']"
      ]
     },
     "execution_count": 81,
     "metadata": {},
     "output_type": "execute_result"
    }
   ],
   "source": [
    "dir(np)"
   ]
  },
  {
   "cell_type": "code",
   "execution_count": 83,
   "metadata": {
    "collapsed": false
   },
   "outputs": [
    {
     "data": {
      "text/plain": [
       "matrix([[1, 2],\n",
       "        [3, 4],\n",
       "        [5, 6]])"
      ]
     },
     "execution_count": 83,
     "metadata": {},
     "output_type": "execute_result"
    }
   ],
   "source": [
    "from numpy import *\n",
    "\n",
    "A = matrix('1 2; 3 4; 5 6')\n",
    "A"
   ]
  },
  {
   "cell_type": "code",
   "execution_count": 89,
   "metadata": {
    "collapsed": false
   },
   "outputs": [
    {
     "data": {
      "text/plain": [
       "numpy.matrixlib.defmatrix.matrix"
      ]
     },
     "execution_count": 89,
     "metadata": {},
     "output_type": "execute_result"
    }
   ],
   "source": [
    "type(A)"
   ]
  },
  {
   "cell_type": "code",
   "execution_count": 90,
   "metadata": {
    "collapsed": false
   },
   "outputs": [
    {
     "data": {
      "text/plain": [
       "list"
      ]
     },
     "execution_count": 90,
     "metadata": {},
     "output_type": "execute_result"
    }
   ],
   "source": [
    "type([[1,2],[3,4],[5,6]])"
   ]
  },
  {
   "cell_type": "markdown",
   "metadata": {},
   "source": [
    "### SciPy"
   ]
  },
  {
   "cell_type": "markdown",
   "metadata": {},
   "source": [
    "Scipy extends numpy by offering additional linear algebra functions, signal processing, Fourier transforms, and other statistics functions"
   ]
  },
  {
   "cell_type": "code",
   "execution_count": 91,
   "metadata": {
    "collapsed": false
   },
   "outputs": [
    {
     "data": {
      "text/plain": [
       "array([[1, 2],\n",
       "       [3, 4]])"
      ]
     },
     "execution_count": 91,
     "metadata": {},
     "output_type": "execute_result"
    }
   ],
   "source": [
    "from scipy import *\n",
    "A = array([[1,2],[3,4]])\n",
    "A"
   ]
  },
  {
   "cell_type": "markdown",
   "metadata": {},
   "source": [
    "Compute the inverse of a matrix."
   ]
  },
  {
   "cell_type": "code",
   "execution_count": 92,
   "metadata": {
    "collapsed": false
   },
   "outputs": [
    {
     "data": {
      "text/plain": [
       "array([[1, 2],\n",
       "       [3, 4]])"
      ]
     },
     "execution_count": 92,
     "metadata": {},
     "output_type": "execute_result"
    }
   ],
   "source": [
    "A"
   ]
  },
  {
   "cell_type": "code",
   "execution_count": 97,
   "metadata": {
    "collapsed": false
   },
   "outputs": [
    {
     "data": {
      "text/plain": [
       "array([[-2. ,  1. ],\n",
       "       [ 1.5, -0.5]])"
      ]
     },
     "execution_count": 97,
     "metadata": {},
     "output_type": "execute_result"
    }
   ],
   "source": [
    "linalg.inv(A)"
   ]
  },
  {
   "cell_type": "code",
   "execution_count": 93,
   "metadata": {
    "collapsed": true
   },
   "outputs": [],
   "source": [
    "linalg??"
   ]
  },
  {
   "cell_type": "markdown",
   "metadata": {},
   "source": [
    "A dot product of a matrix with its inverse results in a identity matrix."
   ]
  },
  {
   "cell_type": "code",
   "execution_count": null,
   "metadata": {
    "collapsed": false
   },
   "outputs": [],
   "source": [
    "dir(A)"
   ]
  },
  {
   "cell_type": "code",
   "execution_count": null,
   "metadata": {
    "collapsed": false
   },
   "outputs": [],
   "source": [
    "A.dot(linalg.inv(A))"
   ]
  },
  {
   "cell_type": "markdown",
   "metadata": {},
   "source": [
    "### Pandas"
   ]
  },
  {
   "cell_type": "markdown",
   "metadata": {},
   "source": [
    "PANDAS (python data analysis) provides more rigid data structures more attune to other stats languages, like R or matlab. It's a Python package providing fast, flexible, and expressive data structures designed to work with *relational* or *labeled* data both. It is a fundamental high-level building block for doing practical, real world data analysis in Python. \n",
    "\n",
    "pandas is well suited for:\n",
    "\n",
    "- Tabular data with heterogeneously-typed columns, as in an SQL table or Excel spreadsheet\n",
    "- Ordered and unordered (not necessarily fixed-frequency) time series data.\n",
    "- Arbitrary matrix data (homogeneously typed or heterogeneous) with row and column labels\n",
    "- Any other form of observational / statistical data sets. The data actually need not be labeled at all to be placed into a pandas data structure\n",
    "\n",
    "\n",
    "Key features:\n",
    "    \n",
    "- Easy handling of **missing data**\n",
    "- **Size mutability**: columns can be inserted and deleted from DataFrame and higher dimensional objects\n",
    "- Automatic and explicit **data alignment**: objects can be explicitly aligned to a set of labels, or the data can be aligned automatically\n",
    "- Powerful, flexible **group by functionality** to perform split-apply-combine operations on data sets\n",
    "- Intelligent label-based **slicing, fancy indexing, and subsetting** of large data sets\n",
    "- Intuitive **merging and joining** data sets\n",
    "- Flexible **reshaping and pivoting** of data sets\n",
    "- **Hierarchical labeling** of axes\n",
    "- Robust **IO tools** for loading data from flat files, Excel files, databases, and HDF5\n",
    "- **Time series functionality**: date range generation and frequency conversion, moving window statistics, moving window linear regressions, date shifting and lagging, etc."
   ]
  },
  {
   "cell_type": "markdown",
   "metadata": {},
   "source": [
    "The author provides a [10 minutes to Pandas](http://pandas.pydata.org/pandas-docs/stable/10min.html) with an overview of some of the key features"
   ]
  },
  {
   "cell_type": "markdown",
   "metadata": {},
   "source": [
    "### SciKit-Learn"
   ]
  },
  {
   "cell_type": "markdown",
   "metadata": {},
   "source": [
    "Scikit-learn is a library which contains the majority of our machine learning algorithms. We will be primarily using scikit learn in class to experiment and learn various ML functionality.\n",
    "\n",
    "There are a lot of other libraries out there that enable you to do some incredibly great things. We definitely won’t explore all of them here, but don’t be afraid to use our best friend (Google) to help you find libraries that do things you want to get done.\n",
    "\n"
   ]
  },
  {
   "cell_type": "markdown",
   "metadata": {},
   "source": [
    "![](assets/scikit_learn_cheat_sheet.png)"
   ]
  },
  {
   "cell_type": "markdown",
   "metadata": {},
   "source": [
    "![break](assets/code.png)"
   ]
  },
  {
   "cell_type": "markdown",
   "metadata": {},
   "source": [
    "## Lab: Numpy, Scipy, And Pandas"
   ]
  },
  {
   "cell_type": "markdown",
   "metadata": {},
   "source": [
    "* Build our numpy and PANDAS repertoire: array, matrix, dataframes\n",
    "* Compare the work from last week with these libraries"
   ]
  },
  {
   "cell_type": "markdown",
   "metadata": {},
   "source": [
    "### Confirm our theory!"
   ]
  },
  {
   "cell_type": "markdown",
   "metadata": {},
   "source": [
    "We have our inputs features, and we're trying to predict the response vector"
   ]
  },
  {
   "cell_type": "code",
   "execution_count": 94,
   "metadata": {
    "collapsed": false
   },
   "outputs": [
    {
     "name": "stdout",
     "output_type": "stream",
     "text": [
      "[[1 1]\n",
      " [1 2]\n",
      " [1 3]\n",
      " [1 4]]\n",
      "[[1]\n",
      " [2]\n",
      " [3]\n",
      " [4]]\n"
     ]
    }
   ],
   "source": [
    "from numpy import array, dot\n",
    "from numpy.linalg import inv\n",
    "\n",
    "X = array([[1, 1], [1, 2], [1, 3], [1, 4]])\n",
    "y = array([[1], [2], [3], [4]])\n",
    "print X\n",
    "print y"
   ]
  },
  {
   "cell_type": "markdown",
   "metadata": {},
   "source": [
    "A linear regression in its simplest form:"
   ]
  },
  {
   "cell_type": "markdown",
   "metadata": {},
   "source": [
    "$$y = α + βx + ε$$"
   ]
  },
  {
   "cell_type": "markdown",
   "metadata": {},
   "source": [
    "but we can assume that our α is either 0 or 1, and ε is zero! So really we're trying to capture this relaitonship, and determine $\\beta$"
   ]
  },
  {
   "cell_type": "markdown",
   "metadata": {},
   "source": [
    "$$y = βx$$"
   ]
  },
  {
   "cell_type": "markdown",
   "metadata": {},
   "source": [
    "but we want to solve for β, which means our new equation looks more like this:"
   ]
  },
  {
   "cell_type": "markdown",
   "metadata": {},
   "source": [
    "$$β = ( X^TX)^{-1} X^Ty$$"
   ]
  },
  {
   "cell_type": "markdown",
   "metadata": {},
   "source": [
    "How did we get there?"
   ]
  },
  {
   "cell_type": "markdown",
   "metadata": {},
   "source": [
    "$$β = \\frac{y}x$$"
   ]
  },
  {
   "cell_type": "markdown",
   "metadata": {},
   "source": [
    "That's problematic, as we cannot divide by a matrix! So we first square the matrix."
   ]
  },
  {
   "cell_type": "markdown",
   "metadata": {},
   "source": [
    "$$\\frac{xy}{x^2}$$"
   ]
  },
  {
   "cell_type": "code",
   "execution_count": 95,
   "metadata": {
    "collapsed": false
   },
   "outputs": [
    {
     "data": {
      "text/plain": [
       "array([[1, 1],\n",
       "       [1, 2],\n",
       "       [1, 3],\n",
       "       [1, 4]])"
      ]
     },
     "execution_count": 95,
     "metadata": {},
     "output_type": "execute_result"
    }
   ],
   "source": [
    "X"
   ]
  },
  {
   "cell_type": "code",
   "execution_count": 96,
   "metadata": {
    "collapsed": false
   },
   "outputs": [
    {
     "name": "stdout",
     "output_type": "stream",
     "text": [
      "[[ 4 10]\n",
      " [10 30]]\n"
     ]
    }
   ],
   "source": [
    "print dot(X.T, X)"
   ]
  },
  {
   "cell_type": "markdown",
   "metadata": {},
   "source": [
    "That's how we avoid division by a matrix"
   ]
  },
  {
   "cell_type": "markdown",
   "metadata": {},
   "source": [
    "$$\\frac{1}{x{^2}} * \\frac{xy}1$$"
   ]
  },
  {
   "cell_type": "markdown",
   "metadata": {},
   "source": [
    "By using inversion; since raising $x$ to the power of negative 1 is equal to $1$ over $x$"
   ]
  },
  {
   "cell_type": "markdown",
   "metadata": {},
   "source": [
    "$$(XX)^{-1}XY$$"
   ]
  },
  {
   "cell_type": "code",
   "execution_count": 97,
   "metadata": {
    "collapsed": false
   },
   "outputs": [
    {
     "name": "stdout",
     "output_type": "stream",
     "text": [
      "[[ 1.5 -0.5]\n",
      " [-0.5  0.2]]\n"
     ]
    }
   ],
   "source": [
    "n = inv(dot(X.T, X))\n",
    "print n"
   ]
  },
  {
   "cell_type": "markdown",
   "metadata": {},
   "source": [
    "and"
   ]
  },
  {
   "cell_type": "code",
   "execution_count": 98,
   "metadata": {
    "collapsed": false
   },
   "outputs": [
    {
     "data": {
      "text/plain": [
       "array([[10],\n",
       "       [30]])"
      ]
     },
     "execution_count": 98,
     "metadata": {},
     "output_type": "execute_result"
    }
   ],
   "source": [
    "k = dot(X.T, y)\n",
    "k"
   ]
  },
  {
   "cell_type": "markdown",
   "metadata": {},
   "source": [
    "And finally to make it programmer friendly"
   ]
  },
  {
   "cell_type": "markdown",
   "metadata": {},
   "source": [
    "$$β = ( X^TX)^{-1} X^TY$$"
   ]
  },
  {
   "cell_type": "code",
   "execution_count": 101,
   "metadata": {
    "collapsed": false
   },
   "outputs": [
    {
     "data": {
      "text/plain": [
       "array([[1],\n",
       "       [2],\n",
       "       [3],\n",
       "       [4]])"
      ]
     },
     "execution_count": 101,
     "metadata": {},
     "output_type": "execute_result"
    }
   ],
   "source": [
    "y"
   ]
  },
  {
   "cell_type": "code",
   "execution_count": 99,
   "metadata": {
    "collapsed": false
   },
   "outputs": [
    {
     "data": {
      "text/plain": [
       "array([[ 0.],\n",
       "       [ 1.]])"
      ]
     },
     "execution_count": 99,
     "metadata": {},
     "output_type": "execute_result"
    }
   ],
   "source": [
    "coef_ = dot(n, k)\n",
    "coef_"
   ]
  },
  {
   "cell_type": "code",
   "execution_count": 100,
   "metadata": {
    "collapsed": false
   },
   "outputs": [
    {
     "data": {
      "text/plain": [
       "array([[1, 1],\n",
       "       [1, 2],\n",
       "       [1, 3],\n",
       "       [1, 4]])"
      ]
     },
     "execution_count": 100,
     "metadata": {},
     "output_type": "execute_result"
    }
   ],
   "source": [
    "X"
   ]
  },
  {
   "cell_type": "markdown",
   "metadata": {},
   "source": [
    "And thus we've created a nice short and sweet regression function with no accounting for error:"
   ]
  },
  {
   "cell_type": "code",
   "execution_count": 110,
   "metadata": {
    "collapsed": false
   },
   "outputs": [],
   "source": [
    "def regression(input, response):\n",
    "    return dot(inv(dot(input.T, input)), dot(input.T, response))"
   ]
  },
  {
   "cell_type": "code",
   "execution_count": 111,
   "metadata": {
    "collapsed": false
   },
   "outputs": [
    {
     "data": {
      "text/plain": [
       "array([[ 0.],\n",
       "       [ 1.]])"
      ]
     },
     "execution_count": 111,
     "metadata": {},
     "output_type": "execute_result"
    }
   ],
   "source": [
    "regression(X,y)"
   ]
  },
  {
   "cell_type": "markdown",
   "metadata": {},
   "source": [
    "### Practice: NumPy"
   ]
  },
  {
   "cell_type": "markdown",
   "metadata": {},
   "source": [
    "Last class we spent a huge portion of our lab time working on some basic linear algebra functions. Thankfully, NumPy and SciPy offer a lot of this already for us and more."
   ]
  },
  {
   "cell_type": "code",
   "execution_count": 113,
   "metadata": {
    "collapsed": false
   },
   "outputs": [
    {
     "data": {
      "text/plain": [
       "array([ 0,  1,  2,  3,  4,  5,  6,  7,  8,  9, 10, 11, 12, 13, 14])"
      ]
     },
     "execution_count": 113,
     "metadata": {},
     "output_type": "execute_result"
    }
   ],
   "source": [
    "arange(15)"
   ]
  },
  {
   "cell_type": "code",
   "execution_count": 119,
   "metadata": {
    "collapsed": false
   },
   "outputs": [
    {
     "data": {
      "text/plain": [
       "array([[ 0,  1,  2,  3,  4],\n",
       "       [ 5,  6,  7,  8,  9],\n",
       "       [10, 11, 12, 13, 14]])"
      ]
     },
     "execution_count": 119,
     "metadata": {},
     "output_type": "execute_result"
    }
   ],
   "source": [
    "from numpy import *\n",
    "\n",
    "arrayOne = arange(15).reshape(3, 5)\n",
    "arrayOne"
   ]
  },
  {
   "cell_type": "code",
   "execution_count": 118,
   "metadata": {
    "collapsed": false
   },
   "outputs": [
    {
     "data": {
      "text/plain": [
       "array([[ 0,  1,  2],\n",
       "       [ 3,  4,  5],\n",
       "       [ 6,  7,  8],\n",
       "       [ 9, 10, 11],\n",
       "       [12, 13, 14]])"
      ]
     },
     "execution_count": 118,
     "metadata": {},
     "output_type": "execute_result"
    }
   ],
   "source": [
    "arrayTwo = arange(15).reshape(5, 3)\n",
    "arrayTwo"
   ]
  },
  {
   "cell_type": "code",
   "execution_count": 111,
   "metadata": {
    "collapsed": false
   },
   "outputs": [
    {
     "data": {
      "text/plain": [
       "array([10, 15, 20])"
      ]
     },
     "execution_count": 111,
     "metadata": {},
     "output_type": "execute_result"
    }
   ],
   "source": [
    "vector = array([10, 15, 20])\n",
    "vector"
   ]
  },
  {
   "cell_type": "markdown",
   "metadata": {},
   "source": [
    "numpy as a standard uses arrays, which can be of any n-dimensions, though numpy has a specific subclass of arrays called matrices."
   ]
  },
  {
   "cell_type": "code",
   "execution_count": 112,
   "metadata": {
    "collapsed": false
   },
   "outputs": [
    {
     "data": {
      "text/plain": [
       "matrix([[1, 2, 3],\n",
       "        [4, 5, 6]])"
      ]
     },
     "execution_count": 112,
     "metadata": {},
     "output_type": "execute_result"
    }
   ],
   "source": [
    "matrixOne = matrix('1 2 3; 4 5 6')\n",
    "matrixOne"
   ]
  },
  {
   "cell_type": "code",
   "execution_count": 113,
   "metadata": {
    "collapsed": false
   },
   "outputs": [
    {
     "data": {
      "text/plain": [
       "matrix([[1, 2],\n",
       "        [3, 4],\n",
       "        [5, 6]])"
      ]
     },
     "execution_count": 113,
     "metadata": {},
     "output_type": "execute_result"
    }
   ],
   "source": [
    "matrixTwo = matrix('1 2; 3 4; 5 6')\n",
    "matrixTwo"
   ]
  },
  {
   "cell_type": "markdown",
   "metadata": {},
   "source": [
    "Bare in mind that these are still two different structures, and therefore interact differently in Python. For example: which of these produces the answer we'd expect from last class? What does the other one actually do?"
   ]
  },
  {
   "cell_type": "code",
   "execution_count": 114,
   "metadata": {
    "collapsed": false
   },
   "outputs": [],
   "source": [
    "a1 = array([ [1, 2], [3, 4] ])\n",
    "a2 = array([ [1, 3], [2, 4] ])\n",
    "m1 = matrix('1 2; 3 4')\n",
    "m2 = matrix('1 3; 2 4')"
   ]
  },
  {
   "cell_type": "code",
   "execution_count": 115,
   "metadata": {
    "collapsed": false
   },
   "outputs": [
    {
     "data": {
      "text/plain": [
       "2"
      ]
     },
     "execution_count": 115,
     "metadata": {},
     "output_type": "execute_result"
    }
   ],
   "source": [
    "len(a1)"
   ]
  },
  {
   "cell_type": "code",
   "execution_count": 121,
   "metadata": {
    "collapsed": false
   },
   "outputs": [
    {
     "data": {
      "text/plain": [
       "matrix([[1, 3],\n",
       "        [2, 4]])"
      ]
     },
     "execution_count": 121,
     "metadata": {},
     "output_type": "execute_result"
    }
   ],
   "source": [
    "m2"
   ]
  },
  {
   "cell_type": "code",
   "execution_count": 124,
   "metadata": {
    "collapsed": false
   },
   "outputs": [
    {
     "data": {
      "text/plain": [
       "numpy.ndarray"
      ]
     },
     "execution_count": 124,
     "metadata": {},
     "output_type": "execute_result"
    }
   ],
   "source": [
    "type(a1)"
   ]
  },
  {
   "cell_type": "code",
   "execution_count": 122,
   "metadata": {
    "collapsed": false
   },
   "outputs": [
    {
     "name": "stdout",
     "output_type": "stream",
     "text": [
      "[[1 2]\n",
      " [3 4]]\n",
      "[[1 3]\n",
      " [2 4]]\n"
     ]
    },
    {
     "data": {
      "text/plain": [
       "array([[ 1,  6],\n",
       "       [ 6, 16]])"
      ]
     },
     "execution_count": 122,
     "metadata": {},
     "output_type": "execute_result"
    }
   ],
   "source": [
    "print a1\n",
    "print a2\n",
    "a1 * a2"
   ]
  },
  {
   "cell_type": "code",
   "execution_count": 123,
   "metadata": {
    "collapsed": false
   },
   "outputs": [
    {
     "data": {
      "text/plain": [
       "matrix([[ 5, 11],\n",
       "        [11, 25]])"
      ]
     },
     "execution_count": 123,
     "metadata": {},
     "output_type": "execute_result"
    }
   ],
   "source": [
    "m1 * m2"
   ]
  },
  {
   "cell_type": "markdown",
   "metadata": {},
   "source": [
    "Note that we can easily get around this issue using the _dot_ function:"
   ]
  },
  {
   "cell_type": "code",
   "execution_count": 128,
   "metadata": {
    "collapsed": false
   },
   "outputs": [
    {
     "data": {
      "text/plain": [
       "array([[ 5, 11],\n",
       "       [11, 25]])"
      ]
     },
     "execution_count": 128,
     "metadata": {},
     "output_type": "execute_result"
    }
   ],
   "source": [
    "dot(a1, a2)"
   ]
  },
  {
   "cell_type": "code",
   "execution_count": 129,
   "metadata": {
    "collapsed": false
   },
   "outputs": [
    {
     "data": {
      "text/plain": [
       "matrix([[ 5, 11],\n",
       "        [11, 25]])"
      ]
     },
     "execution_count": 129,
     "metadata": {},
     "output_type": "execute_result"
    }
   ],
   "source": [
    "dot(m1, m2)"
   ]
  },
  {
   "cell_type": "markdown",
   "metadata": {},
   "source": [
    "That said, here's some other common functions that we built last week that are likely much more efficient as their numpy functions:"
   ]
  },
  {
   "cell_type": "code",
   "execution_count": 124,
   "metadata": {
    "collapsed": false
   },
   "outputs": [
    {
     "data": {
      "text/plain": [
       "array([[1, 3],\n",
       "       [2, 4]])"
      ]
     },
     "execution_count": 124,
     "metadata": {},
     "output_type": "execute_result"
    }
   ],
   "source": [
    "# .T Transposes the array or matrix:\n",
    "a1.T"
   ]
  },
  {
   "cell_type": "code",
   "execution_count": 127,
   "metadata": {
    "collapsed": false
   },
   "outputs": [
    {
     "data": {
      "text/plain": [
       "matrix([[-2. ,  1. ],\n",
       "        [ 1.5, -0.5]])"
      ]
     },
     "execution_count": 127,
     "metadata": {},
     "output_type": "execute_result"
    }
   ],
   "source": [
    "# .I returns the matrix inverse:\n",
    "m1.I"
   ]
  },
  {
   "cell_type": "code",
   "execution_count": 129,
   "metadata": {
    "collapsed": false
   },
   "outputs": [
    {
     "data": {
      "text/plain": [
       "array([[ 1.,  0.,  0.,  0.,  0.],\n",
       "       [ 0.,  1.,  0.,  0.,  0.],\n",
       "       [ 0.,  0.,  1.,  0.,  0.],\n",
       "       [ 0.,  0.,  0.,  1.,  0.],\n",
       "       [ 0.,  0.,  0.,  0.,  1.]])"
      ]
     },
     "execution_count": 129,
     "metadata": {},
     "output_type": "execute_result"
    }
   ],
   "source": [
    "# eye(value) creates an identity matrix:\n",
    "iFive = eye(5)\n",
    "iFive"
   ]
  },
  {
   "cell_type": "code",
   "execution_count": 135,
   "metadata": {
    "collapsed": true
   },
   "outputs": [],
   "source": [
    "iFive = eye"
   ]
  },
  {
   "cell_type": "markdown",
   "metadata": {},
   "source": [
    "Keep track of when you are using n-dimensional arrays and when you are using matrices in numpy: this can cause a lot of headaches!"
   ]
  },
  {
   "cell_type": "markdown",
   "metadata": {},
   "source": [
    "### On your own"
   ]
  },
  {
   "cell_type": "markdown",
   "metadata": {},
   "source": [
    "Verify the work from last week by building the matrices you tested last week and comparing your functions to numpys. Those of you more experience with Python, feel free to check speed with `timeit`"
   ]
  },
  {
   "cell_type": "code",
   "execution_count": 131,
   "metadata": {
    "collapsed": false
   },
   "outputs": [
    {
     "name": "stdout",
     "output_type": "stream",
     "text": [
      "The slowest run took 153.78 times longer than the fastest. This could mean that an intermediate result is being cached \n",
      "1000000 loops, best of 3: 847 ns per loop\n"
     ]
    }
   ],
   "source": [
    "%%timeit\n",
    "dot(a1, a2)"
   ]
  },
  {
   "cell_type": "markdown",
   "metadata": {},
   "source": [
    "Numpy also has a lot of basic math functions built in which do not exist in python (but are common in stats languages). Feel free to go through these on your own:"
   ]
  },
  {
   "cell_type": "code",
   "execution_count": null,
   "metadata": {
    "collapsed": false
   },
   "outputs": [],
   "source": [
    "exp(10) # e ^ value"
   ]
  },
  {
   "cell_type": "code",
   "execution_count": null,
   "metadata": {
    "collapsed": false
   },
   "outputs": [],
   "source": [
    "log(10)"
   ]
  },
  {
   "cell_type": "code",
   "execution_count": null,
   "metadata": {
    "collapsed": false
   },
   "outputs": [],
   "source": [
    "sqrt(4)"
   ]
  },
  {
   "cell_type": "markdown",
   "metadata": {},
   "source": [
    "### Practice: PANDAS"
   ]
  },
  {
   "cell_type": "code",
   "execution_count": 132,
   "metadata": {
    "collapsed": false
   },
   "outputs": [],
   "source": [
    "import pandas as pd"
   ]
  },
  {
   "cell_type": "code",
   "execution_count": 134,
   "metadata": {
    "collapsed": false
   },
   "outputs": [
    {
     "name": "stdout",
     "output_type": "stream",
     "text": [
      "Process is interrupted.\n"
     ]
    }
   ],
   "source": [
    "%%sh\n",
    "# Run the curl command if you don't have the data already \n",
    "\n",
    "curl http://stat.columbia.edu/~rachel/datasets/nyt1.csv > ../data/nytimes.csv"
   ]
  },
  {
   "cell_type": "code",
   "execution_count": 135,
   "metadata": {
    "collapsed": false
   },
   "outputs": [],
   "source": [
    "df = pd.read_csv('../data/nytimes.csv')"
   ]
  },
  {
   "cell_type": "code",
   "execution_count": 140,
   "metadata": {
    "collapsed": false,
    "scrolled": true
   },
   "outputs": [
    {
     "data": {
      "text/html": [
       "<div>\n",
       "<table border=\"1\" class=\"dataframe\">\n",
       "  <thead>\n",
       "    <tr style=\"text-align: right;\">\n",
       "      <th></th>\n",
       "      <th>Age</th>\n",
       "      <th>Gender</th>\n",
       "      <th>Impressions</th>\n",
       "      <th>Clicks</th>\n",
       "      <th>Signed_In</th>\n",
       "    </tr>\n",
       "  </thead>\n",
       "  <tbody>\n",
       "    <tr>\n",
       "      <th>count</th>\n",
       "      <td>412926.000000</td>\n",
       "      <td>412926.000000</td>\n",
       "      <td>412926.000000</td>\n",
       "      <td>412926.000000</td>\n",
       "      <td>412926.000000</td>\n",
       "    </tr>\n",
       "    <tr>\n",
       "      <th>mean</th>\n",
       "      <td>29.476451</td>\n",
       "      <td>0.367085</td>\n",
       "      <td>5.006781</td>\n",
       "      <td>0.092598</td>\n",
       "      <td>0.700966</td>\n",
       "    </tr>\n",
       "    <tr>\n",
       "      <th>std</th>\n",
       "      <td>23.602239</td>\n",
       "      <td>0.482011</td>\n",
       "      <td>2.238730</td>\n",
       "      <td>0.309974</td>\n",
       "      <td>0.457835</td>\n",
       "    </tr>\n",
       "    <tr>\n",
       "      <th>min</th>\n",
       "      <td>0.000000</td>\n",
       "      <td>0.000000</td>\n",
       "      <td>0.000000</td>\n",
       "      <td>0.000000</td>\n",
       "      <td>0.000000</td>\n",
       "    </tr>\n",
       "    <tr>\n",
       "      <th>25%</th>\n",
       "      <td>0.000000</td>\n",
       "      <td>0.000000</td>\n",
       "      <td>3.000000</td>\n",
       "      <td>0.000000</td>\n",
       "      <td>0.000000</td>\n",
       "    </tr>\n",
       "    <tr>\n",
       "      <th>50%</th>\n",
       "      <td>31.000000</td>\n",
       "      <td>0.000000</td>\n",
       "      <td>5.000000</td>\n",
       "      <td>0.000000</td>\n",
       "      <td>1.000000</td>\n",
       "    </tr>\n",
       "    <tr>\n",
       "      <th>75%</th>\n",
       "      <td>48.000000</td>\n",
       "      <td>1.000000</td>\n",
       "      <td>6.000000</td>\n",
       "      <td>0.000000</td>\n",
       "      <td>1.000000</td>\n",
       "    </tr>\n",
       "    <tr>\n",
       "      <th>max</th>\n",
       "      <td>108.000000</td>\n",
       "      <td>1.000000</td>\n",
       "      <td>20.000000</td>\n",
       "      <td>4.000000</td>\n",
       "      <td>1.000000</td>\n",
       "    </tr>\n",
       "  </tbody>\n",
       "</table>\n",
       "</div>"
      ],
      "text/plain": [
       "                 Age         Gender    Impressions         Clicks  \\\n",
       "count  412926.000000  412926.000000  412926.000000  412926.000000   \n",
       "mean       29.476451       0.367085       5.006781       0.092598   \n",
       "std        23.602239       0.482011       2.238730       0.309974   \n",
       "min         0.000000       0.000000       0.000000       0.000000   \n",
       "25%         0.000000       0.000000       3.000000       0.000000   \n",
       "50%        31.000000       0.000000       5.000000       0.000000   \n",
       "75%        48.000000       1.000000       6.000000       0.000000   \n",
       "max       108.000000       1.000000      20.000000       4.000000   \n",
       "\n",
       "           Signed_In  \n",
       "count  412926.000000  \n",
       "mean        0.700966  \n",
       "std         0.457835  \n",
       "min         0.000000  \n",
       "25%         0.000000  \n",
       "50%         1.000000  \n",
       "75%         1.000000  \n",
       "max         1.000000  "
      ]
     },
     "execution_count": 140,
     "metadata": {},
     "output_type": "execute_result"
    }
   ],
   "source": [
    "df.describe()"
   ]
  },
  {
   "cell_type": "code",
   "execution_count": 150,
   "metadata": {
    "collapsed": false
   },
   "outputs": [
    {
     "data": {
      "text/plain": [
       "(412926, 1)"
      ]
     },
     "execution_count": 150,
     "metadata": {},
     "output_type": "execute_result"
    }
   ],
   "source": [
    "df[['Gender']].shape"
   ]
  },
  {
   "cell_type": "code",
   "execution_count": 151,
   "metadata": {
    "collapsed": false
   },
   "outputs": [
    {
     "data": {
      "text/plain": [
       "(412926,)"
      ]
     },
     "execution_count": 151,
     "metadata": {},
     "output_type": "execute_result"
    }
   ],
   "source": [
    "df['Gender'].shape"
   ]
  },
  {
   "cell_type": "code",
   "execution_count": 152,
   "metadata": {
    "collapsed": false
   },
   "outputs": [
    {
     "data": {
      "text/plain": [
       "pandas.core.frame.DataFrame"
      ]
     },
     "execution_count": 152,
     "metadata": {},
     "output_type": "execute_result"
    }
   ],
   "source": [
    "type(df[['Gender']])"
   ]
  },
  {
   "cell_type": "code",
   "execution_count": 153,
   "metadata": {
    "collapsed": false
   },
   "outputs": [
    {
     "data": {
      "text/plain": [
       "pandas.core.series.Series"
      ]
     },
     "execution_count": 153,
     "metadata": {},
     "output_type": "execute_result"
    }
   ],
   "source": [
    "type(df['Gender'])"
   ]
  },
  {
   "cell_type": "code",
   "execution_count": 178,
   "metadata": {
    "collapsed": false
   },
   "outputs": [],
   "source": [
    "# Create the average impressions and clicks for each age.\n",
    "cols  = ['Age', 'Impressions', 'Clicks']\n",
    "\n",
    "dfg = df[df['Signed_In'] == 1].groupby(['Age']).agg([np.mean])"
   ]
  },
  {
   "cell_type": "code",
   "execution_count": 180,
   "metadata": {
    "collapsed": false
   },
   "outputs": [
    {
     "data": {
      "text/html": [
       "<div>\n",
       "<table border=\"1\" class=\"dataframe\">\n",
       "  <thead>\n",
       "    <tr>\n",
       "      <th></th>\n",
       "      <th>Gender</th>\n",
       "      <th>Impressions</th>\n",
       "      <th>Clicks</th>\n",
       "      <th>Signed_In</th>\n",
       "    </tr>\n",
       "    <tr>\n",
       "      <th></th>\n",
       "      <th>mean</th>\n",
       "      <th>mean</th>\n",
       "      <th>mean</th>\n",
       "      <th>mean</th>\n",
       "    </tr>\n",
       "    <tr>\n",
       "      <th>Age</th>\n",
       "      <th></th>\n",
       "      <th></th>\n",
       "      <th></th>\n",
       "      <th></th>\n",
       "    </tr>\n",
       "  </thead>\n",
       "  <tbody>\n",
       "    <tr>\n",
       "      <th>7</th>\n",
       "      <td>0.000000</td>\n",
       "      <td>4.333333</td>\n",
       "      <td>0.666667</td>\n",
       "      <td>1</td>\n",
       "    </tr>\n",
       "    <tr>\n",
       "      <th>8</th>\n",
       "      <td>0.727273</td>\n",
       "      <td>5.818182</td>\n",
       "      <td>0.272727</td>\n",
       "      <td>1</td>\n",
       "    </tr>\n",
       "    <tr>\n",
       "      <th>9</th>\n",
       "      <td>0.650000</td>\n",
       "      <td>5.475000</td>\n",
       "      <td>0.100000</td>\n",
       "      <td>1</td>\n",
       "    </tr>\n",
       "    <tr>\n",
       "      <th>10</th>\n",
       "      <td>0.704762</td>\n",
       "      <td>4.876190</td>\n",
       "      <td>0.171429</td>\n",
       "      <td>1</td>\n",
       "    </tr>\n",
       "    <tr>\n",
       "      <th>11</th>\n",
       "      <td>0.656000</td>\n",
       "      <td>5.024000</td>\n",
       "      <td>0.128000</td>\n",
       "      <td>1</td>\n",
       "    </tr>\n",
       "    <tr>\n",
       "      <th>12</th>\n",
       "      <td>0.649907</td>\n",
       "      <td>4.884544</td>\n",
       "      <td>0.162011</td>\n",
       "      <td>1</td>\n",
       "    </tr>\n",
       "    <tr>\n",
       "      <th>13</th>\n",
       "      <td>0.688474</td>\n",
       "      <td>4.996885</td>\n",
       "      <td>0.147456</td>\n",
       "      <td>1</td>\n",
       "    </tr>\n",
       "    <tr>\n",
       "      <th>14</th>\n",
       "      <td>0.689545</td>\n",
       "      <td>5.012829</td>\n",
       "      <td>0.136626</td>\n",
       "      <td>1</td>\n",
       "    </tr>\n",
       "    <tr>\n",
       "      <th>15</th>\n",
       "      <td>0.676231</td>\n",
       "      <td>4.902784</td>\n",
       "      <td>0.150321</td>\n",
       "      <td>1</td>\n",
       "    </tr>\n",
       "    <tr>\n",
       "      <th>16</th>\n",
       "      <td>0.695400</td>\n",
       "      <td>5.001930</td>\n",
       "      <td>0.154390</td>\n",
       "      <td>1</td>\n",
       "    </tr>\n",
       "  </tbody>\n",
       "</table>\n",
       "</div>"
      ],
      "text/plain": [
       "       Gender Impressions    Clicks Signed_In\n",
       "         mean        mean      mean      mean\n",
       "Age                                          \n",
       "7    0.000000    4.333333  0.666667         1\n",
       "8    0.727273    5.818182  0.272727         1\n",
       "9    0.650000    5.475000  0.100000         1\n",
       "10   0.704762    4.876190  0.171429         1\n",
       "11   0.656000    5.024000  0.128000         1\n",
       "12   0.649907    4.884544  0.162011         1\n",
       "13   0.688474    4.996885  0.147456         1\n",
       "14   0.689545    5.012829  0.136626         1\n",
       "15   0.676231    4.902784  0.150321         1\n",
       "16   0.695400    5.001930  0.154390         1"
      ]
     },
     "execution_count": 180,
     "metadata": {},
     "output_type": "execute_result"
    }
   ],
   "source": [
    "dfg[:10]"
   ]
  },
  {
   "cell_type": "code",
   "execution_count": 182,
   "metadata": {
    "collapsed": true
   },
   "outputs": [],
   "source": [
    "%matplotlib inline"
   ]
  },
  {
   "cell_type": "code",
   "execution_count": 183,
   "metadata": {
    "collapsed": false
   },
   "outputs": [
    {
     "data": {
      "text/plain": [
       "0         1.098612\n",
       "1         1.098612\n",
       "2         1.098612\n",
       "3         1.098612\n",
       "4         2.397895\n",
       "5         2.397895\n",
       "6         1.945910\n",
       "7         1.609438\n",
       "8         1.098612\n",
       "9         1.386294\n",
       "10        2.079442\n",
       "11        1.098612\n",
       "12        1.386294\n",
       "13        1.791759\n",
       "14        1.609438\n",
       "15        1.791759\n",
       "16        1.098612\n",
       "17        1.609438\n",
       "18        1.386294\n",
       "19        1.609438\n",
       "20        1.386294\n",
       "21        1.791759\n",
       "22        1.945910\n",
       "23        0.693147\n",
       "24        1.386294\n",
       "25        1.386294\n",
       "26        1.098612\n",
       "27        2.197225\n",
       "28        1.386294\n",
       "29        1.609438\n",
       "            ...   \n",
       "412896    2.079442\n",
       "412897    1.098612\n",
       "412898    2.302585\n",
       "412899    1.098612\n",
       "412900    1.386294\n",
       "412901    1.098612\n",
       "412902    1.609438\n",
       "412903    2.079442\n",
       "412904    1.386294\n",
       "412905    0.693147\n",
       "412906    1.609438\n",
       "412907    1.791759\n",
       "412908    1.386294\n",
       "412909    0.000000\n",
       "412910    2.197225\n",
       "412911    1.609438\n",
       "412912    2.302585\n",
       "412913    1.609438\n",
       "412914    1.791759\n",
       "412915    1.791759\n",
       "412916    1.791759\n",
       "412917    0.693147\n",
       "412918    1.791759\n",
       "412919    2.197225\n",
       "412920    2.079442\n",
       "412921    2.397895\n",
       "412922    1.386294\n",
       "412923    2.079442\n",
       "412924    1.609438\n",
       "412925    1.791759\n",
       "Name: log_impressions, dtype: float64"
      ]
     },
     "execution_count": 183,
     "metadata": {},
     "output_type": "execute_result"
    }
   ],
   "source": [
    "# Likewise, we can create new variables:\n",
    "df['log_impressions'] = df['Impressions'].apply(log)\n"
   ]
  },
  {
   "cell_type": "code",
   "execution_count": 188,
   "metadata": {
    "collapsed": false
   },
   "outputs": [
    {
     "data": {
      "image/png": "[encoded data removed]",
      "text/plain": [
       "<matplotlib.figure.Figure at 0x7f2cbf9e2a90>"
      ]
     },
     "metadata": {},
     "output_type": "display_data"
    }
   ],
   "source": [
    "df['Age'].hist(bins=40);"
   ]
  },
  {
   "cell_type": "code",
   "execution_count": 190,
   "metadata": {
    "collapsed": false
   },
   "outputs": [],
   "source": [
    "# Or even recluster our values into more specific age groups:\n",
    "\n",
    "def map_age_category(x):\n",
    "    \"\"\"\n",
    "    Function that groups users by age.\n",
    "    \"\"\"\n",
    "    if x == 0:\n",
    "        return 0\n",
    "    elif x < 18:\n",
    "        return 1\n",
    "    elif x < 25:\n",
    "        return 2\n",
    "    elif x < 32:\n",
    "        return 3\n",
    "    elif x < 45:\n",
    "        return 4\n",
    "    else:\n",
    "        return 5"
   ]
  },
  {
   "cell_type": "code",
   "execution_count": 191,
   "metadata": {
    "collapsed": false
   },
   "outputs": [
    {
     "data": {
      "text/html": [
       "<div>\n",
       "<table border=\"1\" class=\"dataframe\">\n",
       "  <thead>\n",
       "    <tr style=\"text-align: right;\">\n",
       "      <th></th>\n",
       "      <th>age_categories</th>\n",
       "    </tr>\n",
       "  </thead>\n",
       "  <tbody>\n",
       "    <tr>\n",
       "      <th>count</th>\n",
       "      <td>412926.000000</td>\n",
       "    </tr>\n",
       "    <tr>\n",
       "      <th>mean</th>\n",
       "      <td>2.744194</td>\n",
       "    </tr>\n",
       "    <tr>\n",
       "      <th>std</th>\n",
       "      <td>2.055925</td>\n",
       "    </tr>\n",
       "    <tr>\n",
       "      <th>min</th>\n",
       "      <td>0.000000</td>\n",
       "    </tr>\n",
       "    <tr>\n",
       "      <th>25%</th>\n",
       "      <td>0.000000</td>\n",
       "    </tr>\n",
       "    <tr>\n",
       "      <th>50%</th>\n",
       "      <td>3.000000</td>\n",
       "    </tr>\n",
       "    <tr>\n",
       "      <th>75%</th>\n",
       "      <td>5.000000</td>\n",
       "    </tr>\n",
       "    <tr>\n",
       "      <th>max</th>\n",
       "      <td>5.000000</td>\n",
       "    </tr>\n",
       "  </tbody>\n",
       "</table>\n",
       "</div>"
      ],
      "text/plain": [
       "       age_categories\n",
       "count   412926.000000\n",
       "mean         2.744194\n",
       "std          2.055925\n",
       "min          0.000000\n",
       "25%          0.000000\n",
       "50%          3.000000\n",
       "75%          5.000000\n",
       "max          5.000000"
      ]
     },
     "execution_count": 191,
     "metadata": {},
     "output_type": "execute_result"
    }
   ],
   "source": [
    "df['age_categories'] = df['Age'].apply(map_age_category)\n",
    "\n",
    "df[['age_categories']].describe()"
   ]
  },
  {
   "cell_type": "code",
   "execution_count": 193,
   "metadata": {
    "collapsed": false
   },
   "outputs": [
    {
     "data": {
      "text/plain": [
       "0    4\n",
       "1    5\n",
       "2    3\n",
       "3    5\n",
       "4    5\n",
       "Name: age_categories, dtype: int64"
      ]
     },
     "execution_count": 193,
     "metadata": {},
     "output_type": "execute_result"
    }
   ],
   "source": [
    "df['age_categories'].head()"
   ]
  },
  {
   "cell_type": "code",
   "execution_count": null,
   "metadata": {
    "collapsed": true
   },
   "outputs": [],
   "source": []
  },
  {
   "cell_type": "markdown",
   "metadata": {},
   "source": [
    "### Classwork"
   ]
  },
  {
   "cell_type": "markdown",
   "metadata": {},
   "source": [
    "The NYTimes data is hosted across 30 csv files:"
   ]
  },
  {
   "cell_type": "markdown",
   "metadata": {},
   "source": [
    "```bash\n",
    "# Replace # with anything between 1 and 30\n",
    "http://stat.columbia.edu/~rachel/datasets/nyt1.csv\n",
    "```"
   ]
  },
  {
   "cell_type": "markdown",
   "metadata": {},
   "source": [
    "We'd like to use Pandas and numpy to have a simple script that aggregates all of this data into one dataframe. This time, let's just get the **click through rate** per **age**, **gender**, and **signed_in** (remember that CTR is calculated as clicks/impressions).\n",
    "\n",
    "You can export the final dataframe using pandas to_csv:"
   ]
  },
  {
   "cell_type": "code",
   "execution_count": null,
   "metadata": {
    "collapsed": false
   },
   "outputs": [],
   "source": [
    "df.to_csv('nytimes_aggregation.csv')"
   ]
  },
  {
   "cell_type": "code",
   "execution_count": null,
   "metadata": {
    "collapsed": false
   },
   "outputs": [],
   "source": [
    "for n in range(1,31):\n",
    "    !curl http://{n}"
   ]
  },
  {
   "cell_type": "markdown",
   "metadata": {},
   "source": [
    "Explore plotting your new aggregated data in various forms to understand the feature space, and try using sklearn’s linear model function with your aggregate data to predict CTR per age."
   ]
  },
  {
   "cell_type": "markdown",
   "metadata": {},
   "source": [
    "You may have to use the `astype` function to help convert between ints and floats. Refer the to [numpy documentation](http://docs.scipy.org/doc/numpy/reference/generated/numpy.ndarray.astype.html) for more."
   ]
  },
  {
   "cell_type": "code",
   "execution_count": null,
   "metadata": {
    "collapsed": false
   },
   "outputs": [],
   "source": [
    "# inspect the dtypes\n",
    "df.dtypes"
   ]
  },
  {
   "cell_type": "markdown",
   "metadata": {},
   "source": [
    "Pandas dataframes has some built-in plotting methods that are wrappers for matplotlib. To see a histogram of your distribution, see the [hist()](http://pandas.pydata.org/pandas-docs/version/0.13.1/generated/pandas.DataFrame.hist.html) documentation."
   ]
  },
  {
   "cell_type": "code",
   "execution_count": null,
   "metadata": {
    "collapsed": false
   },
   "outputs": [],
   "source": [
    "import matplotlib.pyplot as plt\n",
    "\n",
    "df.hist(figsize=(18,12))\n",
    "plt.show()"
   ]
  },
  {
   "cell_type": "markdown",
   "metadata": {},
   "source": [
    "More generally, we'll be using matplotlib to plot our graphics. Play around with the following code to understand what it does, or consult the [matplotlib.plot() documentation](http://matplotlib.org/api/pyplot_api.html#matplotlib.pyplot.plot) for further details."
   ]
  },
  {
   "cell_type": "code",
   "execution_count": null,
   "metadata": {
    "collapsed": false
   },
   "outputs": [],
   "source": [
    "x = linspace(-15,15,100) # 100 linearly spaced numbers\n",
    "y = sin(x)/x # computing the values of sin(x)/x\n",
    "\n",
    "# compose plot\n",
    "fig = plt.figure(figsize=(18, 8), dpi=300)\n",
    "plt.plot(x,y) # sin(x)/x\n",
    "plt.plot(x,y,'co') # same function with cyan dots\n",
    "plt.plot(x,2*y,x,3*y) # 2*sin(x)/x and 3*sin(x)/x\n",
    "plt.show() # show the plot"
   ]
  },
  {
   "cell_type": "markdown",
   "metadata": {},
   "source": [
    "Once you've figured out how to use the plot method from matplotlib, try plotting the various relationships from your NYTimes DataFrame."
   ]
  },
  {
   "cell_type": "markdown",
   "metadata": {},
   "source": [
    "Once you're ready to submit yout work, keep the csv file on your computer, but send your code over to GitHub. This should be much simpler than anything else we've done so far!\n",
    "\n",
    "**Send your scripts to Gist and send Dickson and myself the link!**"
   ]
  },
  {
   "cell_type": "markdown",
   "metadata": {},
   "source": [
    "## Discussion : Final Project Ideas"
   ]
  },
  {
   "cell_type": "markdown",
   "metadata": {},
   "source": [
    "1. Curate a list of potential final project ideas, as our goal is to answer a question using machine learning. for each question: which “problem” does it fall under?\n",
    "2. We’ll discuss these in smaller groups first, and share some ideas together as a class."
   ]
  },
  {
   "cell_type": "markdown",
   "metadata": {},
   "source": [
    "![break](assets/resources.png)"
   ]
  },
  {
   "cell_type": "markdown",
   "metadata": {},
   "source": [
    "## Resources"
   ]
  },
  {
   "cell_type": "markdown",
   "metadata": {},
   "source": [
    "## Colofon"
   ]
  },
  {
   "cell_type": "code",
   "execution_count": 28,
   "metadata": {
    "collapsed": false
   },
   "outputs": [
    {
     "name": "stdout",
     "output_type": "stream",
     "text": [
      "Python    2.7.10\n",
      "IPython   4.0.0\n",
      "numpy     1.10.1\n",
      "pandas    0.17.0\n",
      "sklearn   0.16.1\n",
      "seaborn   0.6.0\n"
     ]
    }
   ],
   "source": [
    "from utils import *\n",
    "print_versions()"
   ]
  },
  {
   "cell_type": "code",
   "execution_count": 29,
   "metadata": {
    "collapsed": false
   },
   "outputs": [
    {
     "data": {
      "text/html": [
       "\n",
       "<link rel=\"stylesheet\" href=\"theme/custom.css\">"
      ],
      "text/plain": [
       "<IPython.core.display.HTML object>"
      ]
     },
     "metadata": {},
     "output_type": "display_data"
    }
   ],
   "source": [
    "%%html\n",
    "\n",
    "<link rel=\"stylesheet\" href=\"theme/custom.css\">"
   ]
  }
 ],
 "metadata": {
  "kernelspec": {
   "display_name": "Python 2",
   "language": "python",
   "name": "python2"
  },
  "language_info": {
   "codemirror_mode": {
    "name": "ipython",
    "version": 2
   },
   "file_extension": ".py",
   "mimetype": "text/x-python",
   "name": "python",
   "nbconvert_exporter": "python",
   "pygments_lexer": "ipython2",
   "version": "2.7.11"
  }
 },
 "nbformat": 4,
 "nbformat_minor": 0
}

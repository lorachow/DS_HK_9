{
 "cells": [
  {
   "cell_type": "code",
   "execution_count": null,
   "metadata": {
    "collapsed": false
   },
   "outputs": [],
   "source": [
    "import numpy as np\n",
    "import pandas as pd\n",
    "\n",
    "import plotly\n",
    "from plotly import *\n",
    "from plotly.offline import init_notebook_mode, iplot\n",
    "import cufflinks as cf\n",
    "\n",
    "init_notebook_mode()\n",
    "cf.go_offline()\n",
    "\n",
    "# %matplotlib inline"
   ]
  },
  {
   "cell_type": "code",
   "execution_count": null,
   "metadata": {
    "collapsed": false
   },
   "outputs": [],
   "source": [
    "df = pd.read_csv('../../data/character-deaths.csv')"
   ]
  },
  {
   "cell_type": "code",
   "execution_count": null,
   "metadata": {
    "collapsed": false
   },
   "outputs": [],
   "source": [
    "df.head(3)"
   ]
  },
  {
   "cell_type": "code",
   "execution_count": null,
   "metadata": {
    "collapsed": false
   },
   "outputs": [],
   "source": [
    "df.Allegiances.value_counts()"
   ]
  },
  {
   "cell_type": "code",
   "execution_count": null,
   "metadata": {
    "collapsed": false
   },
   "outputs": [],
   "source": [
    "df['Allegiances'] = df.Allegiances.str.replace('House ','')"
   ]
  },
  {
   "cell_type": "code",
   "execution_count": 8,
   "metadata": {
    "collapsed": false
   },
   "outputs": [
    {
     "data": {
      "text/plain": [
       "None             253\n",
       "Night's Watch    116\n",
       "Stark            108\n",
       "Lannister        102\n",
       "Greyjoy           75\n",
       "Baratheon         64\n",
       "Wildling          40\n",
       "Martell           37\n",
       "Targaryen         36\n",
       "Tully             30\n",
       "Arryn             30\n",
       "Tyrell            26\n",
       "Name: Allegiances, dtype: int64"
      ]
     },
     "execution_count": 8,
     "metadata": {},
     "output_type": "execute_result"
    }
   ],
   "source": [
    "df.Allegiances.value_counts()"
   ]
  },
  {
   "cell_type": "code",
   "execution_count": 46,
   "metadata": {
    "collapsed": false
   },
   "outputs": [],
   "source": [
    "deaths = df.groupby(['Allegiances','Death Year'])"
   ]
  },
  {
   "cell_type": "code",
   "execution_count": 47,
   "metadata": {
    "collapsed": false
   },
   "outputs": [
    {
     "data": {
      "text/plain": [
       "<pandas.core.groupby.DataFrameGroupBy object at 0x7eff683245d0>"
      ]
     },
     "execution_count": 47,
     "metadata": {},
     "output_type": "execute_result"
    }
   ],
   "source": [
    "deaths"
   ]
  },
  {
   "cell_type": "code",
   "execution_count": 48,
   "metadata": {
    "collapsed": false
   },
   "outputs": [
    {
     "name": "stdout",
     "output_type": "stream",
     "text": [
      "<class 'pandas.core.frame.DataFrame'>\n",
      "RangeIndex: 917 entries, 0 to 916\n",
      "Data columns (total 13 columns):\n",
      "Name                  917 non-null object\n",
      "Allegiances           917 non-null object\n",
      "Death Year            305 non-null float64\n",
      "Book of Death         307 non-null float64\n",
      "Death Chapter         299 non-null float64\n",
      "Book Intro Chapter    905 non-null float64\n",
      "Gender                917 non-null int64\n",
      "Nobility              917 non-null int64\n",
      "GoT                   917 non-null int64\n",
      "CoK                   917 non-null int64\n",
      "SoS                   917 non-null int64\n",
      "FfC                   917 non-null int64\n",
      "DwD                   917 non-null int64\n",
      "dtypes: float64(4), int64(7), object(2)\n",
      "memory usage: 93.2+ KB\n"
     ]
    }
   ],
   "source": [
    "df.info()"
   ]
  },
  {
   "cell_type": "code",
   "execution_count": 49,
   "metadata": {
    "collapsed": false
   },
   "outputs": [
    {
     "data": {
      "text/html": [
       "<div>\n",
       "<table border=\"1\" class=\"dataframe\">\n",
       "  <thead>\n",
       "    <tr style=\"text-align: right;\">\n",
       "      <th></th>\n",
       "      <th></th>\n",
       "      <th>Name</th>\n",
       "      <th>Book of Death</th>\n",
       "      <th>Death Chapter</th>\n",
       "      <th>Book Intro Chapter</th>\n",
       "      <th>Gender</th>\n",
       "      <th>Nobility</th>\n",
       "      <th>GoT</th>\n",
       "      <th>CoK</th>\n",
       "      <th>SoS</th>\n",
       "      <th>FfC</th>\n",
       "      <th>DwD</th>\n",
       "    </tr>\n",
       "    <tr>\n",
       "      <th>Allegiances</th>\n",
       "      <th>Death Year</th>\n",
       "      <th></th>\n",
       "      <th></th>\n",
       "      <th></th>\n",
       "      <th></th>\n",
       "      <th></th>\n",
       "      <th></th>\n",
       "      <th></th>\n",
       "      <th></th>\n",
       "      <th></th>\n",
       "      <th></th>\n",
       "      <th></th>\n",
       "    </tr>\n",
       "  </thead>\n",
       "  <tbody>\n",
       "    <tr>\n",
       "      <th rowspan=\"2\" valign=\"top\">Arryn</th>\n",
       "      <th>298.0</th>\n",
       "      <td>2</td>\n",
       "      <td>2</td>\n",
       "      <td>2</td>\n",
       "      <td>2</td>\n",
       "      <td>2</td>\n",
       "      <td>2</td>\n",
       "      <td>2</td>\n",
       "      <td>2</td>\n",
       "      <td>2</td>\n",
       "      <td>2</td>\n",
       "      <td>2</td>\n",
       "    </tr>\n",
       "    <tr>\n",
       "      <th>300.0</th>\n",
       "      <td>3</td>\n",
       "      <td>3</td>\n",
       "      <td>2</td>\n",
       "      <td>3</td>\n",
       "      <td>3</td>\n",
       "      <td>3</td>\n",
       "      <td>3</td>\n",
       "      <td>3</td>\n",
       "      <td>3</td>\n",
       "      <td>3</td>\n",
       "      <td>3</td>\n",
       "    </tr>\n",
       "    <tr>\n",
       "      <th>Baratheon</th>\n",
       "      <th>298.0</th>\n",
       "      <td>1</td>\n",
       "      <td>1</td>\n",
       "      <td>1</td>\n",
       "      <td>1</td>\n",
       "      <td>1</td>\n",
       "      <td>1</td>\n",
       "      <td>1</td>\n",
       "      <td>1</td>\n",
       "      <td>1</td>\n",
       "      <td>1</td>\n",
       "      <td>1</td>\n",
       "    </tr>\n",
       "  </tbody>\n",
       "</table>\n",
       "</div>"
      ],
      "text/plain": [
       "                        Name  Book of Death  Death Chapter  \\\n",
       "Allegiances Death Year                                       \n",
       "Arryn       298.0          2              2              2   \n",
       "            300.0          3              3              2   \n",
       "Baratheon   298.0          1              1              1   \n",
       "\n",
       "                        Book Intro Chapter  Gender  Nobility  GoT  CoK  SoS  \\\n",
       "Allegiances Death Year                                                        \n",
       "Arryn       298.0                        2       2         2    2    2    2   \n",
       "            300.0                        3       3         3    3    3    3   \n",
       "Baratheon   298.0                        1       1         1    1    1    1   \n",
       "\n",
       "                        FfC  DwD  \n",
       "Allegiances Death Year            \n",
       "Arryn       298.0         2    2  \n",
       "            300.0         3    3  \n",
       "Baratheon   298.0         1    1  "
      ]
     },
     "execution_count": 49,
     "metadata": {},
     "output_type": "execute_result"
    }
   ],
   "source": [
    "deaths.count().head(3)"
   ]
  },
  {
   "cell_type": "code",
   "execution_count": 50,
   "metadata": {
    "collapsed": false
   },
   "outputs": [
    {
     "data": {
      "text/html": [
       "<div>\n",
       "<table border=\"1\" class=\"dataframe\">\n",
       "  <thead>\n",
       "    <tr style=\"text-align: right;\">\n",
       "      <th></th>\n",
       "      <th></th>\n",
       "      <th>Book of Death</th>\n",
       "      <th>Death Chapter</th>\n",
       "      <th>Book Intro Chapter</th>\n",
       "      <th>Gender</th>\n",
       "      <th>Nobility</th>\n",
       "      <th>GoT</th>\n",
       "      <th>CoK</th>\n",
       "      <th>SoS</th>\n",
       "      <th>FfC</th>\n",
       "      <th>DwD</th>\n",
       "    </tr>\n",
       "    <tr>\n",
       "      <th>Allegiances</th>\n",
       "      <th>Death Year</th>\n",
       "      <th></th>\n",
       "      <th></th>\n",
       "      <th></th>\n",
       "      <th></th>\n",
       "      <th></th>\n",
       "      <th></th>\n",
       "      <th></th>\n",
       "      <th></th>\n",
       "      <th></th>\n",
       "      <th></th>\n",
       "    </tr>\n",
       "  </thead>\n",
       "  <tbody>\n",
       "    <tr>\n",
       "      <th rowspan=\"2\" valign=\"top\">Arryn</th>\n",
       "      <th>298.0</th>\n",
       "      <td>2.0</td>\n",
       "      <td>69.0</td>\n",
       "      <td>59.0</td>\n",
       "      <td>2</td>\n",
       "      <td>0</td>\n",
       "      <td>2</td>\n",
       "      <td>0</td>\n",
       "      <td>0</td>\n",
       "      <td>0</td>\n",
       "      <td>0</td>\n",
       "    </tr>\n",
       "    <tr>\n",
       "      <th>300.0</th>\n",
       "      <td>10.0</td>\n",
       "      <td>103.0</td>\n",
       "      <td>100.0</td>\n",
       "      <td>2</td>\n",
       "      <td>2</td>\n",
       "      <td>3</td>\n",
       "      <td>0</td>\n",
       "      <td>3</td>\n",
       "      <td>1</td>\n",
       "      <td>0</td>\n",
       "    </tr>\n",
       "    <tr>\n",
       "      <th>Baratheon</th>\n",
       "      <th>298.0</th>\n",
       "      <td>1.0</td>\n",
       "      <td>47.0</td>\n",
       "      <td>4.0</td>\n",
       "      <td>1</td>\n",
       "      <td>1</td>\n",
       "      <td>1</td>\n",
       "      <td>0</td>\n",
       "      <td>0</td>\n",
       "      <td>0</td>\n",
       "      <td>0</td>\n",
       "    </tr>\n",
       "  </tbody>\n",
       "</table>\n",
       "</div>"
      ],
      "text/plain": [
       "                        Book of Death  Death Chapter  Book Intro Chapter  \\\n",
       "Allegiances Death Year                                                     \n",
       "Arryn       298.0                 2.0           69.0                59.0   \n",
       "            300.0                10.0          103.0               100.0   \n",
       "Baratheon   298.0                 1.0           47.0                 4.0   \n",
       "\n",
       "                        Gender  Nobility  GoT  CoK  SoS  FfC  DwD  \n",
       "Allegiances Death Year                                             \n",
       "Arryn       298.0            2         0    2    0    0    0    0  \n",
       "            300.0            2         2    3    0    3    1    0  \n",
       "Baratheon   298.0            1         1    1    0    0    0    0  "
      ]
     },
     "execution_count": 50,
     "metadata": {},
     "output_type": "execute_result"
    }
   ],
   "source": [
    "deaths.sum().head(3)"
   ]
  },
  {
   "cell_type": "code",
   "execution_count": 51,
   "metadata": {
    "collapsed": false
   },
   "outputs": [
    {
     "data": {
      "text/plain": [
       "Allegiances    Death Year\n",
       "Arryn          298.0          2\n",
       "               300.0          3\n",
       "Baratheon      298.0          1\n",
       "               299.0         18\n",
       "               300.0          5\n",
       "Greyjoy        299.0         17\n",
       "               300.0          5\n",
       "Lannister      298.0          6\n",
       "               299.0         12\n",
       "               300.0         12\n",
       "Martell        300.0          3\n",
       "Night's Watch  297.0          3\n",
       "               298.0          2\n",
       "               299.0         33\n",
       "               300.0         18\n",
       "None           298.0          7\n",
       "               299.0         35\n",
       "               300.0         34\n",
       "Stark          298.0         19\n",
       "               299.0         26\n",
       "               300.0          1\n",
       "Targaryen      298.0          5\n",
       "               299.0          1\n",
       "               300.0          3\n",
       "Tully          298.0          1\n",
       "               299.0          8\n",
       "Tyrell         300.0          2\n",
       "Wildling       298.0          3\n",
       "               299.0          6\n",
       "               300.0         14\n",
       "dtype: int64"
      ]
     },
     "execution_count": 51,
     "metadata": {},
     "output_type": "execute_result"
    }
   ],
   "source": [
    "deaths.count().max(axis=1)"
   ]
  },
  {
   "cell_type": "code",
   "execution_count": 62,
   "metadata": {
    "collapsed": false
   },
   "outputs": [],
   "source": [
    "pdf = deaths.count().max(1).unstack().fillna(0)"
   ]
  },
  {
   "cell_type": "code",
   "execution_count": 58,
   "metadata": {
    "collapsed": false
   },
   "outputs": [],
   "source": [
    "pdf = deaths.count()[['Name']].unstack().fillna(0)"
   ]
  },
  {
   "cell_type": "code",
   "execution_count": 61,
   "metadata": {
    "collapsed": false
   },
   "outputs": [
    {
     "data": {
      "text/plain": [
       "Float64Index([297.0, 298.0, 299.0, 300.0], dtype='float64', name=u'Death Year')"
      ]
     },
     "execution_count": 61,
     "metadata": {},
     "output_type": "execute_result"
    }
   ],
   "source": [
    "pdf.columns.droplevel()"
   ]
  },
  {
   "cell_type": "code",
   "execution_count": 55,
   "metadata": {
    "collapsed": false
   },
   "outputs": [],
   "source": [
    "pdf.columns = pdf.columns.droplevel()"
   ]
  },
  {
   "cell_type": "code",
   "execution_count": 64,
   "metadata": {
    "collapsed": false
   },
   "outputs": [
    {
     "data": {
      "text/html": [
       "<div>\n",
       "<table border=\"1\" class=\"dataframe\">\n",
       "  <thead>\n",
       "    <tr style=\"text-align: right;\">\n",
       "      <th>Death Year</th>\n",
       "      <th>297.0</th>\n",
       "      <th>298.0</th>\n",
       "      <th>299.0</th>\n",
       "      <th>300.0</th>\n",
       "    </tr>\n",
       "    <tr>\n",
       "      <th>Allegiances</th>\n",
       "      <th></th>\n",
       "      <th></th>\n",
       "      <th></th>\n",
       "      <th></th>\n",
       "    </tr>\n",
       "  </thead>\n",
       "  <tbody>\n",
       "    <tr>\n",
       "      <th>Arryn</th>\n",
       "      <td>0.0</td>\n",
       "      <td>2.0</td>\n",
       "      <td>0.0</td>\n",
       "      <td>3.0</td>\n",
       "    </tr>\n",
       "    <tr>\n",
       "      <th>Baratheon</th>\n",
       "      <td>0.0</td>\n",
       "      <td>1.0</td>\n",
       "      <td>18.0</td>\n",
       "      <td>5.0</td>\n",
       "    </tr>\n",
       "    <tr>\n",
       "      <th>Greyjoy</th>\n",
       "      <td>0.0</td>\n",
       "      <td>0.0</td>\n",
       "      <td>17.0</td>\n",
       "      <td>5.0</td>\n",
       "    </tr>\n",
       "    <tr>\n",
       "      <th>Lannister</th>\n",
       "      <td>0.0</td>\n",
       "      <td>6.0</td>\n",
       "      <td>12.0</td>\n",
       "      <td>12.0</td>\n",
       "    </tr>\n",
       "    <tr>\n",
       "      <th>Martell</th>\n",
       "      <td>0.0</td>\n",
       "      <td>0.0</td>\n",
       "      <td>0.0</td>\n",
       "      <td>3.0</td>\n",
       "    </tr>\n",
       "    <tr>\n",
       "      <th>Night's Watch</th>\n",
       "      <td>3.0</td>\n",
       "      <td>2.0</td>\n",
       "      <td>33.0</td>\n",
       "      <td>18.0</td>\n",
       "    </tr>\n",
       "    <tr>\n",
       "      <th>None</th>\n",
       "      <td>0.0</td>\n",
       "      <td>7.0</td>\n",
       "      <td>35.0</td>\n",
       "      <td>34.0</td>\n",
       "    </tr>\n",
       "    <tr>\n",
       "      <th>Stark</th>\n",
       "      <td>0.0</td>\n",
       "      <td>19.0</td>\n",
       "      <td>26.0</td>\n",
       "      <td>1.0</td>\n",
       "    </tr>\n",
       "    <tr>\n",
       "      <th>Targaryen</th>\n",
       "      <td>0.0</td>\n",
       "      <td>5.0</td>\n",
       "      <td>1.0</td>\n",
       "      <td>3.0</td>\n",
       "    </tr>\n",
       "    <tr>\n",
       "      <th>Tully</th>\n",
       "      <td>0.0</td>\n",
       "      <td>1.0</td>\n",
       "      <td>8.0</td>\n",
       "      <td>0.0</td>\n",
       "    </tr>\n",
       "    <tr>\n",
       "      <th>Tyrell</th>\n",
       "      <td>0.0</td>\n",
       "      <td>0.0</td>\n",
       "      <td>0.0</td>\n",
       "      <td>2.0</td>\n",
       "    </tr>\n",
       "    <tr>\n",
       "      <th>Wildling</th>\n",
       "      <td>0.0</td>\n",
       "      <td>3.0</td>\n",
       "      <td>6.0</td>\n",
       "      <td>14.0</td>\n",
       "    </tr>\n",
       "  </tbody>\n",
       "</table>\n",
       "</div>"
      ],
      "text/plain": [
       "Death Year     297.0  298.0  299.0  300.0\n",
       "Allegiances                              \n",
       "Arryn            0.0    2.0    0.0    3.0\n",
       "Baratheon        0.0    1.0   18.0    5.0\n",
       "Greyjoy          0.0    0.0   17.0    5.0\n",
       "Lannister        0.0    6.0   12.0   12.0\n",
       "Martell          0.0    0.0    0.0    3.0\n",
       "Night's Watch    3.0    2.0   33.0   18.0\n",
       "None             0.0    7.0   35.0   34.0\n",
       "Stark            0.0   19.0   26.0    1.0\n",
       "Targaryen        0.0    5.0    1.0    3.0\n",
       "Tully            0.0    1.0    8.0    0.0\n",
       "Tyrell           0.0    0.0    0.0    2.0\n",
       "Wildling         0.0    3.0    6.0   14.0"
      ]
     },
     "execution_count": 64,
     "metadata": {},
     "output_type": "execute_result"
    }
   ],
   "source": [
    "pdf"
   ]
  },
  {
   "cell_type": "code",
   "execution_count": 69,
   "metadata": {
    "collapsed": false
   },
   "outputs": [
    {
     "data": {
      "text/html": [
       "<div>\n",
       "<table border=\"1\" class=\"dataframe\">\n",
       "  <thead>\n",
       "    <tr style=\"text-align: right;\">\n",
       "      <th>Death Year</th>\n",
       "      <th>297.0</th>\n",
       "      <th>298.0</th>\n",
       "      <th>299.0</th>\n",
       "      <th>300.0</th>\n",
       "    </tr>\n",
       "    <tr>\n",
       "      <th>Allegiances</th>\n",
       "      <th></th>\n",
       "      <th></th>\n",
       "      <th></th>\n",
       "      <th></th>\n",
       "    </tr>\n",
       "  </thead>\n",
       "  <tbody>\n",
       "    <tr>\n",
       "      <th>Arryn</th>\n",
       "      <td>0.0</td>\n",
       "      <td>2.0</td>\n",
       "      <td>0.0</td>\n",
       "      <td>3.0</td>\n",
       "    </tr>\n",
       "    <tr>\n",
       "      <th>Baratheon</th>\n",
       "      <td>0.0</td>\n",
       "      <td>1.0</td>\n",
       "      <td>18.0</td>\n",
       "      <td>5.0</td>\n",
       "    </tr>\n",
       "    <tr>\n",
       "      <th>Greyjoy</th>\n",
       "      <td>0.0</td>\n",
       "      <td>0.0</td>\n",
       "      <td>17.0</td>\n",
       "      <td>5.0</td>\n",
       "    </tr>\n",
       "    <tr>\n",
       "      <th>Lannister</th>\n",
       "      <td>0.0</td>\n",
       "      <td>6.0</td>\n",
       "      <td>12.0</td>\n",
       "      <td>12.0</td>\n",
       "    </tr>\n",
       "    <tr>\n",
       "      <th>Martell</th>\n",
       "      <td>0.0</td>\n",
       "      <td>0.0</td>\n",
       "      <td>0.0</td>\n",
       "      <td>3.0</td>\n",
       "    </tr>\n",
       "    <tr>\n",
       "      <th>Night's Watch</th>\n",
       "      <td>3.0</td>\n",
       "      <td>2.0</td>\n",
       "      <td>33.0</td>\n",
       "      <td>18.0</td>\n",
       "    </tr>\n",
       "    <tr>\n",
       "      <th>None</th>\n",
       "      <td>0.0</td>\n",
       "      <td>7.0</td>\n",
       "      <td>35.0</td>\n",
       "      <td>34.0</td>\n",
       "    </tr>\n",
       "    <tr>\n",
       "      <th>Stark</th>\n",
       "      <td>0.0</td>\n",
       "      <td>19.0</td>\n",
       "      <td>26.0</td>\n",
       "      <td>1.0</td>\n",
       "    </tr>\n",
       "    <tr>\n",
       "      <th>Targaryen</th>\n",
       "      <td>0.0</td>\n",
       "      <td>5.0</td>\n",
       "      <td>1.0</td>\n",
       "      <td>3.0</td>\n",
       "    </tr>\n",
       "    <tr>\n",
       "      <th>Tully</th>\n",
       "      <td>0.0</td>\n",
       "      <td>1.0</td>\n",
       "      <td>8.0</td>\n",
       "      <td>0.0</td>\n",
       "    </tr>\n",
       "    <tr>\n",
       "      <th>Tyrell</th>\n",
       "      <td>0.0</td>\n",
       "      <td>0.0</td>\n",
       "      <td>0.0</td>\n",
       "      <td>2.0</td>\n",
       "    </tr>\n",
       "    <tr>\n",
       "      <th>Wildling</th>\n",
       "      <td>0.0</td>\n",
       "      <td>3.0</td>\n",
       "      <td>6.0</td>\n",
       "      <td>14.0</td>\n",
       "    </tr>\n",
       "  </tbody>\n",
       "</table>\n",
       "</div>"
      ],
      "text/plain": [
       "Death Year     297.0  298.0  299.0  300.0\n",
       "Allegiances                              \n",
       "Arryn            0.0    2.0    0.0    3.0\n",
       "Baratheon        0.0    1.0   18.0    5.0\n",
       "Greyjoy          0.0    0.0   17.0    5.0\n",
       "Lannister        0.0    6.0   12.0   12.0\n",
       "Martell          0.0    0.0    0.0    3.0\n",
       "Night's Watch    3.0    2.0   33.0   18.0\n",
       "None             0.0    7.0   35.0   34.0\n",
       "Stark            0.0   19.0   26.0    1.0\n",
       "Targaryen        0.0    5.0    1.0    3.0\n",
       "Tully            0.0    1.0    8.0    0.0\n",
       "Tyrell           0.0    0.0    0.0    2.0\n",
       "Wildling         0.0    3.0    6.0   14.0"
      ]
     },
     "execution_count": 69,
     "metadata": {},
     "output_type": "execute_result"
    }
   ],
   "source": [
    "pdf"
   ]
  },
  {
   "cell_type": "code",
   "execution_count": 70,
   "metadata": {
    "collapsed": false
   },
   "outputs": [
    {
     "data": {
      "text/html": [
       "<div>\n",
       "<table border=\"1\" class=\"dataframe\">\n",
       "  <thead>\n",
       "    <tr style=\"text-align: right;\">\n",
       "      <th>Allegiances</th>\n",
       "      <th>Arryn</th>\n",
       "      <th>Baratheon</th>\n",
       "      <th>Greyjoy</th>\n",
       "      <th>Lannister</th>\n",
       "      <th>Martell</th>\n",
       "      <th>Night's Watch</th>\n",
       "      <th>None</th>\n",
       "      <th>Stark</th>\n",
       "      <th>Targaryen</th>\n",
       "      <th>Tully</th>\n",
       "      <th>Tyrell</th>\n",
       "      <th>Wildling</th>\n",
       "    </tr>\n",
       "    <tr>\n",
       "      <th>Death Year</th>\n",
       "      <th></th>\n",
       "      <th></th>\n",
       "      <th></th>\n",
       "      <th></th>\n",
       "      <th></th>\n",
       "      <th></th>\n",
       "      <th></th>\n",
       "      <th></th>\n",
       "      <th></th>\n",
       "      <th></th>\n",
       "      <th></th>\n",
       "      <th></th>\n",
       "    </tr>\n",
       "  </thead>\n",
       "  <tbody>\n",
       "    <tr>\n",
       "      <th>297.0</th>\n",
       "      <td>0.0</td>\n",
       "      <td>0.0</td>\n",
       "      <td>0.0</td>\n",
       "      <td>0.0</td>\n",
       "      <td>0.0</td>\n",
       "      <td>3.0</td>\n",
       "      <td>0.0</td>\n",
       "      <td>0.0</td>\n",
       "      <td>0.0</td>\n",
       "      <td>0.0</td>\n",
       "      <td>0.0</td>\n",
       "      <td>0.0</td>\n",
       "    </tr>\n",
       "    <tr>\n",
       "      <th>298.0</th>\n",
       "      <td>2.0</td>\n",
       "      <td>1.0</td>\n",
       "      <td>0.0</td>\n",
       "      <td>6.0</td>\n",
       "      <td>0.0</td>\n",
       "      <td>2.0</td>\n",
       "      <td>7.0</td>\n",
       "      <td>19.0</td>\n",
       "      <td>5.0</td>\n",
       "      <td>1.0</td>\n",
       "      <td>0.0</td>\n",
       "      <td>3.0</td>\n",
       "    </tr>\n",
       "    <tr>\n",
       "      <th>299.0</th>\n",
       "      <td>0.0</td>\n",
       "      <td>18.0</td>\n",
       "      <td>17.0</td>\n",
       "      <td>12.0</td>\n",
       "      <td>0.0</td>\n",
       "      <td>33.0</td>\n",
       "      <td>35.0</td>\n",
       "      <td>26.0</td>\n",
       "      <td>1.0</td>\n",
       "      <td>8.0</td>\n",
       "      <td>0.0</td>\n",
       "      <td>6.0</td>\n",
       "    </tr>\n",
       "    <tr>\n",
       "      <th>300.0</th>\n",
       "      <td>3.0</td>\n",
       "      <td>5.0</td>\n",
       "      <td>5.0</td>\n",
       "      <td>12.0</td>\n",
       "      <td>3.0</td>\n",
       "      <td>18.0</td>\n",
       "      <td>34.0</td>\n",
       "      <td>1.0</td>\n",
       "      <td>3.0</td>\n",
       "      <td>0.0</td>\n",
       "      <td>2.0</td>\n",
       "      <td>14.0</td>\n",
       "    </tr>\n",
       "  </tbody>\n",
       "</table>\n",
       "</div>"
      ],
      "text/plain": [
       "Allegiances  Arryn  Baratheon  Greyjoy  Lannister  Martell  Night's Watch  \\\n",
       "Death Year                                                                  \n",
       "297.0          0.0        0.0      0.0        0.0      0.0            3.0   \n",
       "298.0          2.0        1.0      0.0        6.0      0.0            2.0   \n",
       "299.0          0.0       18.0     17.0       12.0      0.0           33.0   \n",
       "300.0          3.0        5.0      5.0       12.0      3.0           18.0   \n",
       "\n",
       "Allegiances  None  Stark  Targaryen  Tully  Tyrell  Wildling  \n",
       "Death Year                                                    \n",
       "297.0         0.0    0.0        0.0    0.0     0.0       0.0  \n",
       "298.0         7.0   19.0        5.0    1.0     0.0       3.0  \n",
       "299.0        35.0   26.0        1.0    8.0     0.0       6.0  \n",
       "300.0        34.0    1.0        3.0    0.0     2.0      14.0  "
      ]
     },
     "execution_count": 70,
     "metadata": {},
     "output_type": "execute_result"
    }
   ],
   "source": [
    "pdf.T"
   ]
  },
  {
   "cell_type": "code",
   "execution_count": 73,
   "metadata": {
    "collapsed": false
   },
   "outputs": [
    {
     "data": {
      "text/html": [
       "<div id=\"1cfbaf0d-b2f8-407e-ab0d-36b678459788\" style=\"height: 600; width: 720px;\" class=\"plotly-graph-div\"></div><script type=\"text/javascript\">require([\"plotly\"], function(Plotly) { window.PLOTLYENV=window.PLOTLYENV || {};window.PLOTLYENV.BASE_URL=\"https://plot.ly\";Plotly.newPlot(\"1cfbaf0d-b2f8-407e-ab0d-36b678459788\", [{\"name\": 297.0, \"text\": \"\", \"y\": [0.0, 0.0, 0.0, 0.0, 0.0, 3.0, 0.0, 0.0, 0.0, 0.0, 0.0, 0.0], \"marker\": {\"color\": \"rgba(255, 153, 51, 0.6)\", \"line\": {\"color\": \"rgba(255, 153, 51, 1.0)\", \"width\": 1}}, \"x\": [\"Arryn\", \"Baratheon\", \"Greyjoy\", \"Lannister\", \"Martell\", \"Night's Watch\", \"None\", \"Stark\", \"Targaryen\", \"Tully\", \"Tyrell\", \"Wildling\"], \"type\": \"bar\", \"orientation\": \"v\"}, {\"name\": 298.0, \"text\": \"\", \"y\": [2.0, 1.0, 0.0, 6.0, 0.0, 2.0, 7.0, 19.0, 5.0, 1.0, 0.0, 3.0], \"marker\": {\"color\": \"rgba(55, 128, 191, 0.6)\", \"line\": {\"color\": \"rgba(55, 128, 191, 1.0)\", \"width\": 1}}, \"x\": [\"Arryn\", \"Baratheon\", \"Greyjoy\", \"Lannister\", \"Martell\", \"Night's Watch\", \"None\", \"Stark\", \"Targaryen\", \"Tully\", \"Tyrell\", \"Wildling\"], \"type\": \"bar\", \"orientation\": \"v\"}, {\"name\": 299.0, \"text\": \"\", \"y\": [0.0, 18.0, 17.0, 12.0, 0.0, 33.0, 35.0, 26.0, 1.0, 8.0, 0.0, 6.0], \"marker\": {\"color\": \"rgba(50, 171, 96, 0.6)\", \"line\": {\"color\": \"rgba(50, 171, 96, 1.0)\", \"width\": 1}}, \"x\": [\"Arryn\", \"Baratheon\", \"Greyjoy\", \"Lannister\", \"Martell\", \"Night's Watch\", \"None\", \"Stark\", \"Targaryen\", \"Tully\", \"Tyrell\", \"Wildling\"], \"type\": \"bar\", \"orientation\": \"v\"}, {\"name\": 300.0, \"text\": \"\", \"y\": [3.0, 5.0, 5.0, 12.0, 3.0, 18.0, 34.0, 1.0, 3.0, 0.0, 2.0, 14.0], \"marker\": {\"color\": \"rgba(128, 0, 128, 0.6)\", \"line\": {\"color\": \"rgba(128, 0, 128, 1.0)\", \"width\": 1}}, \"x\": [\"Arryn\", \"Baratheon\", \"Greyjoy\", \"Lannister\", \"Martell\", \"Night's Watch\", \"None\", \"Stark\", \"Targaryen\", \"Tully\", \"Tyrell\", \"Wildling\"], \"type\": \"bar\", \"orientation\": \"v\"}], {\"width\": 720, \"paper_bgcolor\": \"#FFFFFF\", \"plot_bgcolor\": \"#FFFFFF\", \"xaxis1\": {\"tickfont\": {\"color\": \"#4D5663\"}, \"title\": \"\", \"showgrid\": true, \"zerolinecolor\": \"#E1E5ED\", \"gridcolor\": \"#E1E5ED\", \"titlefont\": {\"color\": \"#4D5663\"}}, \"height\": 600, \"yaxis1\": {\"tickfont\": {\"color\": \"#4D5663\"}, \"title\": \"\", \"showgrid\": true, \"zerolinecolor\": \"#E1E5ED\", \"gridcolor\": \"#E1E5ED\", \"titlefont\": {\"color\": \"#4D5663\"}}, \"titlefont\": {\"color\": \"#4D5663\"}, \"legend\": {\"bgcolor\": \"#FFFFFF\", \"font\": {\"color\": \"#4D5663\"}}}, {\"linkText\": \"Export to plot.ly\", \"showLink\": true})});</script>"
      ],
      "text/plain": [
       "<IPython.core.display.HTML object>"
      ]
     },
     "metadata": {},
     "output_type": "display_data"
    }
   ],
   "source": [
    "pdf.iplot(kind='bar', dimensions=(720,600))"
   ]
  },
  {
   "cell_type": "code",
   "execution_count": 71,
   "metadata": {
    "collapsed": false
   },
   "outputs": [
    {
     "data": {
      "text/html": [
       "<div id=\"3b04513c-6d7d-43df-8f0a-ade7f505a565\" style=\"height: 600; width: 720px;\" class=\"plotly-graph-div\"></div><script type=\"text/javascript\">require([\"plotly\"], function(Plotly) { window.PLOTLYENV=window.PLOTLYENV || {};window.PLOTLYENV.BASE_URL=\"https://plot.ly\";Plotly.newPlot(\"3b04513c-6d7d-43df-8f0a-ade7f505a565\", [{\"name\": \"Arryn\", \"text\": \"\", \"y\": [0.0, 2.0, 0.0, 3.0], \"marker\": {\"color\": \"rgba(255, 153, 51, 0.6)\", \"line\": {\"color\": \"rgba(255, 153, 51, 1.0)\", \"width\": 1}}, \"x\": [297.0, 298.0, 299.0, 300.0], \"type\": \"bar\", \"orientation\": \"v\"}, {\"name\": \"Baratheon\", \"text\": \"\", \"y\": [0.0, 1.0, 18.0, 5.0], \"marker\": {\"color\": \"rgba(55, 128, 191, 0.6)\", \"line\": {\"color\": \"rgba(55, 128, 191, 1.0)\", \"width\": 1}}, \"x\": [297.0, 298.0, 299.0, 300.0], \"type\": \"bar\", \"orientation\": \"v\"}, {\"name\": \"Greyjoy\", \"text\": \"\", \"y\": [0.0, 0.0, 17.0, 5.0], \"marker\": {\"color\": \"rgba(50, 171, 96, 0.6)\", \"line\": {\"color\": \"rgba(50, 171, 96, 1.0)\", \"width\": 1}}, \"x\": [297.0, 298.0, 299.0, 300.0], \"type\": \"bar\", \"orientation\": \"v\"}, {\"name\": \"Lannister\", \"text\": \"\", \"y\": [0.0, 6.0, 12.0, 12.0], \"marker\": {\"color\": \"rgba(128, 0, 128, 0.6)\", \"line\": {\"color\": \"rgba(128, 0, 128, 1.0)\", \"width\": 1}}, \"x\": [297.0, 298.0, 299.0, 300.0], \"type\": \"bar\", \"orientation\": \"v\"}, {\"name\": \"Martell\", \"text\": \"\", \"y\": [0.0, 0.0, 0.0, 3.0], \"marker\": {\"color\": \"rgba(219, 64, 82, 0.6)\", \"line\": {\"color\": \"rgba(219, 64, 82, 1.0)\", \"width\": 1}}, \"x\": [297.0, 298.0, 299.0, 300.0], \"type\": \"bar\", \"orientation\": \"v\"}, {\"name\": \"Night's Watch\", \"text\": \"\", \"y\": [3.0, 2.0, 33.0, 18.0], \"marker\": {\"color\": \"rgba(0, 128, 128, 0.6)\", \"line\": {\"color\": \"rgba(0, 128, 128, 1.0)\", \"width\": 1}}, \"x\": [297.0, 298.0, 299.0, 300.0], \"type\": \"bar\", \"orientation\": \"v\"}, {\"name\": \"None\", \"text\": \"\", \"y\": [0.0, 7.0, 35.0, 34.0], \"marker\": {\"color\": \"rgba(255, 255, 51, 0.6)\", \"line\": {\"color\": \"rgba(255, 255, 51, 1.0)\", \"width\": 1}}, \"x\": [297.0, 298.0, 299.0, 300.0], \"type\": \"bar\", \"orientation\": \"v\"}, {\"name\": \"Stark\", \"text\": \"\", \"y\": [0.0, 19.0, 26.0, 1.0], \"marker\": {\"color\": \"rgba(128, 128, 0, 0.6)\", \"line\": {\"color\": \"rgba(128, 128, 0, 1.0)\", \"width\": 1}}, \"x\": [297.0, 298.0, 299.0, 300.0], \"type\": \"bar\", \"orientation\": \"v\"}, {\"name\": \"Targaryen\", \"text\": \"\", \"y\": [0.0, 5.0, 1.0, 3.0], \"marker\": {\"color\": \"rgba(251, 128, 114, 0.6)\", \"line\": {\"color\": \"rgba(251, 128, 114, 1.0)\", \"width\": 1}}, \"x\": [297.0, 298.0, 299.0, 300.0], \"type\": \"bar\", \"orientation\": \"v\"}, {\"name\": \"Tully\", \"text\": \"\", \"y\": [0.0, 1.0, 8.0, 0.0], \"marker\": {\"color\": \"rgba(128, 177, 211, 0.6)\", \"line\": {\"color\": \"rgba(128, 177, 211, 1.0)\", \"width\": 1}}, \"x\": [297.0, 298.0, 299.0, 300.0], \"type\": \"bar\", \"orientation\": \"v\"}, {\"name\": \"Tyrell\", \"text\": \"\", \"y\": [0.0, 0.0, 0.0, 2.0], \"marker\": {\"color\": \"rgba(128, 177, 211, 0.6)\", \"line\": {\"color\": \"rgba(128, 177, 211, 0.89999999999999991)\", \"width\": 1}}, \"x\": [297.0, 298.0, 299.0, 300.0], \"type\": \"bar\", \"orientation\": \"v\"}, {\"name\": \"Wildling\", \"text\": \"\", \"y\": [0.0, 3.0, 6.0, 14.0], \"marker\": {\"color\": \"rgba(255, 153, 51, 0.6)\", \"line\": {\"color\": \"rgba(255, 153, 51, 0.89999999999999991)\", \"width\": 1}}, \"x\": [297.0, 298.0, 299.0, 300.0], \"type\": \"bar\", \"orientation\": \"v\"}], {\"width\": 720, \"paper_bgcolor\": \"#FFFFFF\", \"plot_bgcolor\": \"#FFFFFF\", \"xaxis1\": {\"tickfont\": {\"color\": \"#4D5663\"}, \"title\": \"\", \"showgrid\": true, \"zerolinecolor\": \"#E1E5ED\", \"gridcolor\": \"#E1E5ED\", \"titlefont\": {\"color\": \"#4D5663\"}}, \"height\": 600, \"yaxis1\": {\"tickfont\": {\"color\": \"#4D5663\"}, \"title\": \"\", \"showgrid\": true, \"zerolinecolor\": \"#E1E5ED\", \"gridcolor\": \"#E1E5ED\", \"titlefont\": {\"color\": \"#4D5663\"}}, \"titlefont\": {\"color\": \"#4D5663\"}, \"legend\": {\"bgcolor\": \"#FFFFFF\", \"font\": {\"color\": \"#4D5663\"}}}, {\"linkText\": \"Export to plot.ly\", \"showLink\": true})});</script>"
      ],
      "text/plain": [
       "<IPython.core.display.HTML object>"
      ]
     },
     "metadata": {},
     "output_type": "display_data"
    }
   ],
   "source": [
    "pdf.T.iplot(kind='bar', dimensions=(720,600))"
   ]
  },
  {
   "cell_type": "code",
   "execution_count": null,
   "metadata": {
    "collapsed": true
   },
   "outputs": [],
   "source": []
  }
 ],
 "metadata": {
  "kernelspec": {
   "display_name": "Python 2",
   "language": "python",
   "name": "python2"
  },
  "language_info": {
   "codemirror_mode": {
    "name": "ipython",
    "version": 2
   },
   "file_extension": ".py",
   "mimetype": "text/x-python",
   "name": "python",
   "nbconvert_exporter": "python",
   "pygments_lexer": "ipython2",
   "version": "2.7.11"
  }
 },
 "nbformat": 4,
 "nbformat_minor": 0
}

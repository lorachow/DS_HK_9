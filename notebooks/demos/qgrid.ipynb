{
 "cells": [
  {
   "cell_type": "markdown",
   "metadata": {},
   "source": [
    "# QGrid"
   ]
  },
  {
   "cell_type": "code",
   "execution_count": 1,
   "metadata": {
    "collapsed": false
   },
   "outputs": [
    {
     "name": "stdout",
     "output_type": "stream",
     "text": [
      "Process is terminated.\n"
     ]
    }
   ],
   "source": [
    "%%sh\n",
    "pip install qgrid"
   ]
  },
  {
   "cell_type": "code",
   "execution_count": 7,
   "metadata": {
    "collapsed": false
   },
   "outputs": [],
   "source": [
    "import qgrid"
   ]
  },
  {
   "cell_type": "code",
   "execution_count": 8,
   "metadata": {
    "collapsed": true
   },
   "outputs": [],
   "source": [
    "qgrid.nbinstall(overwrite=True)  # copies javascript dependencies to your /nbextensions folder"
   ]
  },
  {
   "cell_type": "code",
   "execution_count": 35,
   "metadata": {
    "collapsed": false
   },
   "outputs": [],
   "source": [
    "from pandas_datareader.data import YahooDailyReader"
   ]
  },
  {
   "cell_type": "code",
   "execution_count": 41,
   "metadata": {
    "collapsed": false
   },
   "outputs": [],
   "source": [
    "import pandas as pd\n",
    "import numpy as np\n",
    "randn = np.random.randn\n",
    "\n",
    "# Set this pandas option to prevent the grid from being too big\n",
    "pd.set_option('display.max_rows', 8)\n",
    "\n",
    "# Get a pandas DataFrame containing the daily prices for the S&P 500 from 1/1/2011 - 1/1/2014\n",
    "\n",
    "spy = YahooDailyReader(\n",
    "    symbols='SPY',  \n",
    "    start=pd.Timestamp('2011-01-01'),  \n",
    "    end=pd.Timestamp('2014-01-01')\n",
    ").read()"
   ]
  },
  {
   "cell_type": "markdown",
   "metadata": {},
   "source": [
    "### Without QGrid"
   ]
  },
  {
   "cell_type": "code",
   "execution_count": 42,
   "metadata": {
    "collapsed": false
   },
   "outputs": [
    {
     "data": {
      "text/html": [
       "<div>\n",
       "<table border=\"1\" class=\"dataframe\">\n",
       "  <thead>\n",
       "    <tr style=\"text-align: right;\">\n",
       "      <th></th>\n",
       "      <th>Open</th>\n",
       "      <th>High</th>\n",
       "      <th>Low</th>\n",
       "      <th>Close</th>\n",
       "      <th>Volume</th>\n",
       "      <th>Adj Close</th>\n",
       "    </tr>\n",
       "    <tr>\n",
       "      <th>Date</th>\n",
       "      <th></th>\n",
       "      <th></th>\n",
       "      <th></th>\n",
       "      <th></th>\n",
       "      <th></th>\n",
       "      <th></th>\n",
       "    </tr>\n",
       "  </thead>\n",
       "  <tbody>\n",
       "    <tr>\n",
       "      <th>2011-01-03</th>\n",
       "      <td>126.709999</td>\n",
       "      <td>127.599998</td>\n",
       "      <td>125.699997</td>\n",
       "      <td>127.050003</td>\n",
       "      <td>138725200</td>\n",
       "      <td>114.088253</td>\n",
       "    </tr>\n",
       "    <tr>\n",
       "      <th>2011-01-04</th>\n",
       "      <td>127.330002</td>\n",
       "      <td>127.370003</td>\n",
       "      <td>126.190002</td>\n",
       "      <td>126.980003</td>\n",
       "      <td>137409700</td>\n",
       "      <td>114.025394</td>\n",
       "    </tr>\n",
       "    <tr>\n",
       "      <th>2011-01-05</th>\n",
       "      <td>126.580002</td>\n",
       "      <td>127.720001</td>\n",
       "      <td>126.459999</td>\n",
       "      <td>127.639999</td>\n",
       "      <td>133975300</td>\n",
       "      <td>114.618057</td>\n",
       "    </tr>\n",
       "    <tr>\n",
       "      <th>2011-01-06</th>\n",
       "      <td>127.690002</td>\n",
       "      <td>127.830002</td>\n",
       "      <td>127.010002</td>\n",
       "      <td>127.389999</td>\n",
       "      <td>122519000</td>\n",
       "      <td>114.393562</td>\n",
       "    </tr>\n",
       "    <tr>\n",
       "      <th>...</th>\n",
       "      <td>...</td>\n",
       "      <td>...</td>\n",
       "      <td>...</td>\n",
       "      <td>...</td>\n",
       "      <td>...</td>\n",
       "      <td>...</td>\n",
       "    </tr>\n",
       "    <tr>\n",
       "      <th>2013-12-26</th>\n",
       "      <td>183.339996</td>\n",
       "      <td>183.960007</td>\n",
       "      <td>183.320007</td>\n",
       "      <td>183.860001</td>\n",
       "      <td>63365000</td>\n",
       "      <td>175.783481</td>\n",
       "    </tr>\n",
       "    <tr>\n",
       "      <th>2013-12-27</th>\n",
       "      <td>184.100006</td>\n",
       "      <td>184.179993</td>\n",
       "      <td>183.660004</td>\n",
       "      <td>183.850006</td>\n",
       "      <td>61814000</td>\n",
       "      <td>175.773926</td>\n",
       "    </tr>\n",
       "    <tr>\n",
       "      <th>2013-12-30</th>\n",
       "      <td>183.869995</td>\n",
       "      <td>184.020004</td>\n",
       "      <td>183.580002</td>\n",
       "      <td>183.820007</td>\n",
       "      <td>56857000</td>\n",
       "      <td>175.745245</td>\n",
       "    </tr>\n",
       "    <tr>\n",
       "      <th>2013-12-31</th>\n",
       "      <td>184.070007</td>\n",
       "      <td>184.690002</td>\n",
       "      <td>183.929993</td>\n",
       "      <td>184.690002</td>\n",
       "      <td>86119900</td>\n",
       "      <td>176.577023</td>\n",
       "    </tr>\n",
       "  </tbody>\n",
       "</table>\n",
       "<p>754 rows × 6 columns</p>\n",
       "</div>"
      ],
      "text/plain": [
       "                  Open        High         Low       Close     Volume  \\\n",
       "Date                                                                    \n",
       "2011-01-03  126.709999  127.599998  125.699997  127.050003  138725200   \n",
       "2011-01-04  127.330002  127.370003  126.190002  126.980003  137409700   \n",
       "2011-01-05  126.580002  127.720001  126.459999  127.639999  133975300   \n",
       "2011-01-06  127.690002  127.830002  127.010002  127.389999  122519000   \n",
       "...                ...         ...         ...         ...        ...   \n",
       "2013-12-26  183.339996  183.960007  183.320007  183.860001   63365000   \n",
       "2013-12-27  184.100006  184.179993  183.660004  183.850006   61814000   \n",
       "2013-12-30  183.869995  184.020004  183.580002  183.820007   56857000   \n",
       "2013-12-31  184.070007  184.690002  183.929993  184.690002   86119900   \n",
       "\n",
       "             Adj Close  \n",
       "Date                    \n",
       "2011-01-03  114.088253  \n",
       "2011-01-04  114.025394  \n",
       "2011-01-05  114.618057  \n",
       "2011-01-06  114.393562  \n",
       "...                ...  \n",
       "2013-12-26  175.783481  \n",
       "2013-12-27  175.773926  \n",
       "2013-12-30  175.745245  \n",
       "2013-12-31  176.577023  \n",
       "\n",
       "[754 rows x 6 columns]"
      ]
     },
     "execution_count": 42,
     "metadata": {},
     "output_type": "execute_result"
    }
   ],
   "source": [
    "spy"
   ]
  },
  {
   "cell_type": "markdown",
   "metadata": {},
   "source": [
    "### With Qgrid"
   ]
  },
  {
   "cell_type": "code",
   "execution_count": 43,
   "metadata": {
    "collapsed": false
   },
   "outputs": [],
   "source": [
    "qgrid.show_grid(spy)"
   ]
  },
  {
   "cell_type": "markdown",
   "metadata": {},
   "source": [
    "### Convenience Method"
   ]
  },
  {
   "cell_type": "code",
   "execution_count": 44,
   "metadata": {
    "collapsed": true
   },
   "outputs": [],
   "source": [
    "tbl = lambda d : qgrid.show_grid(d, remote_js=True)"
   ]
  },
  {
   "cell_type": "code",
   "execution_count": 45,
   "metadata": {
    "collapsed": true
   },
   "outputs": [],
   "source": [
    "tbl(spy)"
   ]
  },
  {
   "cell_type": "code",
   "execution_count": null,
   "metadata": {
    "collapsed": true
   },
   "outputs": [],
   "source": []
  }
 ],
 "metadata": {
  "kernelspec": {
   "display_name": "Python 2",
   "language": "python",
   "name": "python2"
  },
  "language_info": {
   "codemirror_mode": {
    "name": "ipython",
    "version": 2
   },
   "file_extension": ".py",
   "mimetype": "text/x-python",
   "name": "python",
   "nbconvert_exporter": "python",
   "pygments_lexer": "ipython2",
   "version": "2.7.11"
  }
 },
 "nbformat": 4,
 "nbformat_minor": 0
}

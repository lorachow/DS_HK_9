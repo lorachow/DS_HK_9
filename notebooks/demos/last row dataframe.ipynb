{
 "cells": [
  {
   "cell_type": "code",
   "execution_count": 1,
   "metadata": {
    "collapsed": true
   },
   "outputs": [],
   "source": [
    "import pandas as pd"
   ]
  },
  {
   "cell_type": "code",
   "execution_count": 2,
   "metadata": {
    "collapsed": true
   },
   "outputs": [],
   "source": [
    "import cufflinks as cf"
   ]
  },
  {
   "cell_type": "code",
   "execution_count": 3,
   "metadata": {
    "collapsed": true
   },
   "outputs": [],
   "source": [
    "df = cf.datagen.lines(10)"
   ]
  },
  {
   "cell_type": "code",
   "execution_count": 6,
   "metadata": {
    "collapsed": false
   },
   "outputs": [
    {
     "data": {
      "text/plain": [
       "(100, 10)"
      ]
     },
     "execution_count": 6,
     "metadata": {},
     "output_type": "execute_result"
    }
   ],
   "source": [
    "df.shape"
   ]
  },
  {
   "cell_type": "code",
   "execution_count": 5,
   "metadata": {
    "collapsed": false
   },
   "outputs": [
    {
     "data": {
      "text/html": [
       "<div>\n",
       "<table border=\"1\" class=\"dataframe\">\n",
       "  <thead>\n",
       "    <tr style=\"text-align: right;\">\n",
       "      <th></th>\n",
       "      <th>PSQ.TF</th>\n",
       "      <th>ZBU.JD</th>\n",
       "      <th>JZO.NF</th>\n",
       "      <th>WUW.YB</th>\n",
       "      <th>UCY.FI</th>\n",
       "      <th>IGB.OL</th>\n",
       "      <th>PTJ.ZY</th>\n",
       "      <th>WDK.JI</th>\n",
       "      <th>OBE.FU</th>\n",
       "      <th>KIQ.HX</th>\n",
       "    </tr>\n",
       "  </thead>\n",
       "  <tbody>\n",
       "    <tr>\n",
       "      <th>2015-04-06</th>\n",
       "      <td>-5.022459</td>\n",
       "      <td>-9.693646</td>\n",
       "      <td>3.296176</td>\n",
       "      <td>2.969842</td>\n",
       "      <td>4.380181</td>\n",
       "      <td>10.936428</td>\n",
       "      <td>-3.328013</td>\n",
       "      <td>-8.175345</td>\n",
       "      <td>-5.900732</td>\n",
       "      <td>13.874170</td>\n",
       "    </tr>\n",
       "    <tr>\n",
       "      <th>2015-04-07</th>\n",
       "      <td>-5.193709</td>\n",
       "      <td>-10.611698</td>\n",
       "      <td>2.809407</td>\n",
       "      <td>3.261274</td>\n",
       "      <td>3.544820</td>\n",
       "      <td>10.539516</td>\n",
       "      <td>-2.941174</td>\n",
       "      <td>-8.579110</td>\n",
       "      <td>-6.823062</td>\n",
       "      <td>13.091655</td>\n",
       "    </tr>\n",
       "    <tr>\n",
       "      <th>2015-04-08</th>\n",
       "      <td>-6.099923</td>\n",
       "      <td>-10.188663</td>\n",
       "      <td>4.111102</td>\n",
       "      <td>3.132431</td>\n",
       "      <td>4.073267</td>\n",
       "      <td>9.631841</td>\n",
       "      <td>-2.632298</td>\n",
       "      <td>-9.261531</td>\n",
       "      <td>-7.815430</td>\n",
       "      <td>11.886790</td>\n",
       "    </tr>\n",
       "    <tr>\n",
       "      <th>2015-04-09</th>\n",
       "      <td>-6.450139</td>\n",
       "      <td>-10.424082</td>\n",
       "      <td>3.843470</td>\n",
       "      <td>4.083028</td>\n",
       "      <td>4.745664</td>\n",
       "      <td>8.318174</td>\n",
       "      <td>-2.670475</td>\n",
       "      <td>-9.016204</td>\n",
       "      <td>-6.652902</td>\n",
       "      <td>10.954486</td>\n",
       "    </tr>\n",
       "    <tr>\n",
       "      <th>2015-04-10</th>\n",
       "      <td>-6.300003</td>\n",
       "      <td>-10.402215</td>\n",
       "      <td>3.644897</td>\n",
       "      <td>2.932677</td>\n",
       "      <td>4.049154</td>\n",
       "      <td>7.951986</td>\n",
       "      <td>-1.926761</td>\n",
       "      <td>-9.301206</td>\n",
       "      <td>-3.716248</td>\n",
       "      <td>12.764602</td>\n",
       "    </tr>\n",
       "  </tbody>\n",
       "</table>\n",
       "</div>"
      ],
      "text/plain": [
       "              PSQ.TF     ZBU.JD    JZO.NF    WUW.YB    UCY.FI     IGB.OL  \\\n",
       "2015-04-06 -5.022459  -9.693646  3.296176  2.969842  4.380181  10.936428   \n",
       "2015-04-07 -5.193709 -10.611698  2.809407  3.261274  3.544820  10.539516   \n",
       "2015-04-08 -6.099923 -10.188663  4.111102  3.132431  4.073267   9.631841   \n",
       "2015-04-09 -6.450139 -10.424082  3.843470  4.083028  4.745664   8.318174   \n",
       "2015-04-10 -6.300003 -10.402215  3.644897  2.932677  4.049154   7.951986   \n",
       "\n",
       "              PTJ.ZY    WDK.JI    OBE.FU     KIQ.HX  \n",
       "2015-04-06 -3.328013 -8.175345 -5.900732  13.874170  \n",
       "2015-04-07 -2.941174 -8.579110 -6.823062  13.091655  \n",
       "2015-04-08 -2.632298 -9.261531 -7.815430  11.886790  \n",
       "2015-04-09 -2.670475 -9.016204 -6.652902  10.954486  \n",
       "2015-04-10 -1.926761 -9.301206 -3.716248  12.764602  "
      ]
     },
     "execution_count": 5,
     "metadata": {},
     "output_type": "execute_result"
    }
   ],
   "source": [
    "df.tail()"
   ]
  },
  {
   "cell_type": "code",
   "execution_count": 8,
   "metadata": {
    "collapsed": false
   },
   "outputs": [
    {
     "data": {
      "text/plain": [
       "12.764601852438959"
      ]
     },
     "execution_count": 8,
     "metadata": {},
     "output_type": "execute_result"
    }
   ],
   "source": [
    "df.ix[-1,'KIQ.HX']"
   ]
  }
 ],
 "metadata": {
  "kernelspec": {
   "display_name": "Python 2",
   "language": "python",
   "name": "python2"
  },
  "language_info": {
   "codemirror_mode": {
    "name": "ipython",
    "version": 2
   },
   "file_extension": ".py",
   "mimetype": "text/x-python",
   "name": "python",
   "nbconvert_exporter": "python",
   "pygments_lexer": "ipython2",
   "version": "2.7.11"
  }
 },
 "nbformat": 4,
 "nbformat_minor": 0
}

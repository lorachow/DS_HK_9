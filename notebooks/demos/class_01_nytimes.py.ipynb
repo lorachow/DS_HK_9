{
 "cells": [
  {
   "cell_type": "markdown",
   "metadata": {},
   "source": [
    "## New York Times Clicks"
   ]
  },
  {
   "cell_type": "code",
   "execution_count": 10,
   "metadata": {
    "collapsed": true
   },
   "outputs": [],
   "source": [
    "DATA_DIR = '../../data/'"
   ]
  },
  {
   "cell_type": "code",
   "execution_count": 8,
   "metadata": {
    "collapsed": false
   },
   "outputs": [
    {
     "name": "stdout",
     "output_type": "stream",
     "text": [
      "\"Age\",\"Gender\",\"Impressions\",\"Clicks\",\"Signed_In\"\r\n",
      "36,0,3,0,1\r\n",
      "73,1,3,0,1\r\n",
      "30,0,3,0,1\r\n",
      "49,1,3,0,1\r\n",
      "47,1,11,0,1\r\n",
      "47,0,11,1,1\r\n",
      "0,0,7,1,0\r\n",
      "46,0,5,0,1\r\n",
      "16,0,3,0,1\r\n"
     ]
    }
   ],
   "source": [
    "!head {DATA_DIR}nytimes.csv"
   ]
  },
  {
   "cell_type": "code",
   "execution_count": 11,
   "metadata": {
    "collapsed": false
   },
   "outputs": [
    {
     "name": "stdout",
     "output_type": "stream",
     "text": [
      "2295559\n"
     ]
    }
   ],
   "source": [
    "#!/usr/bin/python\n",
    "\n",
    "# Start a counter\n",
    "count = 0\n",
    "\n",
    "# Open up reference to the data file\n",
    "with open(DATA_DIR + 'nytimes.csv') as fn:\n",
    "    # Store the textfile in memory\n",
    "    lines = fn.readlines()\n",
    "    \n",
    "# Pop off the header file\n",
    "lines.pop(0)\n",
    "\n",
    "# For each line, find the sum of index 2 in the list.\n",
    "for line in lines:\n",
    "  count = count + int(line.strip().split(',')[2])\n",
    "\n",
    "print count"
   ]
  },
  {
   "cell_type": "markdown",
   "metadata": {},
   "source": [
    "1. Right now the python script finds a sum of the impressions column. Update it to also return:\n",
    "\t1. The average age in the file\n",
    "\t1. Click through rate (avg clicks per impression)\n",
    "\t1. The oldest person in the file\n",
    "1. This should all be write out to the standard out using a few lines with \"print\"\n",
    "\n",
    "**EXTRA CREDIT**: \n",
    "\n",
    "How can you change the Python script a bit to:\n",
    "\n",
    "* Check out the distirbution of ages in the dataset. What do you notice?\n",
    "* Ignore the users whom are ... too young to be browsing the NYT ;)\n",
    "* Output the results into a new text file? Read a guide on [file manipulation](http://www.pythonforbeginners.com/systems-programming/reading-and-writing-files-in-python/) to get you started."
   ]
  },
  {
   "cell_type": "markdown",
   "metadata": {},
   "source": [
    "## Example Solution I"
   ]
  },
  {
   "cell_type": "code",
   "execution_count": 36,
   "metadata": {
    "collapsed": false
   },
   "outputs": [
    {
     "name": "stdout",
     "output_type": "stream",
     "text": [
      "No. Impressions: 2295559\n",
      "Mean Age: 29.4825506445\n",
      "Click-Through-Rate: 0.0184917921953\n",
      "Oldest Age: 108\n"
     ]
    }
   ],
   "source": [
    "#!/usr/bin/python\n",
    "from __future__ import division\n",
    "\n",
    "# initialization of variables\n",
    "impressions = 0\n",
    "age = 0\n",
    "clicks = 0\n",
    "max_age = 0\n",
    "\n",
    "def readCSV(filename, header=True):\n",
    "    # Open up reference to the data file\n",
    "    with open(DATA_DIR + filename) as fn:\n",
    "        # Store the textfile in memory\n",
    "        lines = fn.readlines()\n",
    "    if header:\n",
    "        # Pop off the header file\n",
    "        lines.pop(0)\n",
    "    lines = [[int(item) for item in line.strip().split(',')] for line in lines]\n",
    "    return lines\n",
    "        \n",
    "\n",
    "# def getColumn(line,idx):\n",
    "# \treturn intb(line[idx])\n",
    "\n",
    "lines = readCSV('nytimes.csv')\n",
    "    \n",
    "# For each line, find the sum of index 0,2 & 3 in the list.\n",
    "for line in lines:\n",
    "\tage = age + line[0]\n",
    "\timpressions = impressions + line[2]\n",
    "\tclicks = clicks + line[3]\n",
    "\t\n",
    "\tmax_age = max(max_age, line[0])\n",
    "\n",
    "print 'No. Impressions:', impressions\n",
    "print 'Mean Age:', age / len(lines)\n",
    "print 'Click-Through-Rate:', clicks / impressions\n",
    "print 'Oldest Age:', max_age"
   ]
  },
  {
   "cell_type": "markdown",
   "metadata": {},
   "source": [
    "## Extra Credit Example Solution I"
   ]
  },
  {
   "cell_type": "code",
   "execution_count": 30,
   "metadata": {
    "collapsed": false
   },
   "outputs": [
    {
     "data": {
      "text/plain": [
       "[(0, 137106),\n",
       " (37, 7983),\n",
       " (36, 7933),\n",
       " (42, 7919),\n",
       " (41, 7906),\n",
       " (38, 7891),\n",
       " (39, 7804),\n",
       " (43, 7784),\n",
       " (40, 7702),\n",
       " (48, 7277)]"
      ]
     },
     "execution_count": 30,
     "metadata": {},
     "output_type": "execute_result"
    }
   ],
   "source": [
    "from collections import Counter\n",
    "\n",
    "lines = readCSV('nytimes.csv')\n",
    "\n",
    "ages = Counter()\n",
    "for line in lines:\n",
    "    ages.update({getColumn(line, 0):1})\n",
    "    \n",
    "ages.most_common(10)"
   ]
  },
  {
   "cell_type": "code",
   "execution_count": 39,
   "metadata": {
    "collapsed": false
   },
   "outputs": [],
   "source": [
    "old_enough = [line for line in lines if line[0] > 10]"
   ]
  }
 ],
 "metadata": {
  "kernelspec": {
   "display_name": "Python 2",
   "language": "python",
   "name": "python2"
  },
  "language_info": {
   "codemirror_mode": {
    "name": "ipython",
    "version": 2
   },
   "file_extension": ".py",
   "mimetype": "text/x-python",
   "name": "python",
   "nbconvert_exporter": "python",
   "pygments_lexer": "ipython2",
   "version": "2.7.11"
  }
 },
 "nbformat": 4,
 "nbformat_minor": 0
}

{
 "cells": [
  {
   "cell_type": "markdown",
   "metadata": {},
   "source": [
    "## New York Times Clicks"
   ]
  },
  {
   "cell_type": "code",
   "execution_count": 54,
   "metadata": {
    "collapsed": false
   },
   "outputs": [
    {
     "name": "stdout",
     "output_type": "stream",
     "text": [
      "The slowest run took 9.46 times longer than the fastest. This could mean that an intermediate result is being cached.\n",
      "1000000 loops, best of 3: 756 ns per loop\n"
     ]
    }
   ],
   "source": [
    "%%timeit\n",
    "range(100)"
   ]
  },
  {
   "cell_type": "code",
   "execution_count": 62,
   "metadata": {
    "collapsed": false
   },
   "outputs": [
    {
     "name": "stdout",
     "output_type": "stream",
     "text": [
      "/home/io/ga/ds/DS_HK_9/notebooks/demos\r\n"
     ]
    }
   ],
   "source": [
    "!pwd"
   ]
  },
  {
   "cell_type": "code",
   "execution_count": 10,
   "metadata": {
    "collapsed": true
   },
   "outputs": [],
   "source": [
    "DATA_DIR = '../../data/'"
   ]
  },
  {
   "cell_type": "code",
   "execution_count": 8,
   "metadata": {
    "collapsed": false
   },
   "outputs": [
    {
     "name": "stdout",
     "output_type": "stream",
     "text": [
      "\"Age\",\"Gender\",\"Impressions\",\"Clicks\",\"Signed_In\"\r\n",
      "36,0,3,0,1\r\n",
      "73,1,3,0,1\r\n",
      "30,0,3,0,1\r\n",
      "49,1,3,0,1\r\n",
      "47,1,11,0,1\r\n",
      "47,0,11,1,1\r\n",
      "0,0,7,1,0\r\n",
      "46,0,5,0,1\r\n",
      "16,0,3,0,1\r\n"
     ]
    }
   ],
   "source": [
    "!head {DATA_DIR}nytimes.csv"
   ]
  },
  {
   "cell_type": "code",
   "execution_count": 11,
   "metadata": {
    "collapsed": false
   },
   "outputs": [
    {
     "name": "stdout",
     "output_type": "stream",
     "text": [
      "2295559\n"
     ]
    }
   ],
   "source": [
    "#!/usr/bin/python\n",
    "\n",
    "# Start a counter\n",
    "count = 0\n",
    "\n",
    "# Open up reference to the data file\n",
    "with open(DATA_DIR + 'nytimes.csv') as fn:\n",
    "    # Store the textfile in memory\n",
    "    lines = fn.readlines()\n",
    "    \n",
    "# Pop off the header file\n",
    "lines.pop(0)\n",
    "\n",
    "# For each line, find the sum of index 2 in the list.\n",
    "for line in lines:\n",
    "  count = count + int(line.strip().split(',')[2])\n",
    "\n",
    "print count"
   ]
  },
  {
   "cell_type": "markdown",
   "metadata": {},
   "source": [
    "1. Right now the python script finds a sum of the impressions column. Update it to also return:\n",
    "\t1. The average age in the file\n",
    "\t1. Click through rate (avg clicks per impression)\n",
    "\t1. The oldest person in the file\n",
    "1. This should all be write out to the standard out using a few lines with \"print\"\n",
    "\n",
    "**EXTRA CREDIT**: \n",
    "\n",
    "How can you change the Python script a bit to:\n",
    "\n",
    "* Check out the distirbution of ages in the dataset. What do you notice?\n",
    "* Ignore the users whom are ... too young to be browsing the NYT ;)\n",
    "* Output the results into a new text file? Read a guide on [file manipulation](http://www.pythonforbeginners.com/systems-programming/reading-and-writing-files-in-python/) to get you started."
   ]
  },
  {
   "cell_type": "markdown",
   "metadata": {},
   "source": [
    "## Example Solution I"
   ]
  },
  {
   "cell_type": "code",
   "execution_count": 36,
   "metadata": {
    "collapsed": false
   },
   "outputs": [
    {
     "name": "stdout",
     "output_type": "stream",
     "text": [
      "No. Impressions: 2295559\n",
      "Mean Age: 29.4825506445\n",
      "Click-Through-Rate: 0.0184917921953\n",
      "Oldest Age: 108\n"
     ]
    }
   ],
   "source": [
    "#!/usr/bin/python\n",
    "from __future__ import division\n",
    "\n",
    "# initialization of variables\n",
    "impressions = 0\n",
    "age = 0\n",
    "clicks = 0\n",
    "max_age = 0\n",
    "\n",
    "def readCSV(filename, header=True):\n",
    "    # Open up reference to the data file\n",
    "    with open(DATA_DIR + filename) as fn:\n",
    "        # Store the textfile in memory\n",
    "        lines = fn.readlines()\n",
    "    if header:\n",
    "        # Pop off the header file\n",
    "        lines.pop(0)\n",
    "    lines = [[int(item) for item in line.strip().split(',')] for line in lines]\n",
    "    return lines\n",
    "        \n",
    "\n",
    "# def getColumn(line,idx):\n",
    "# \treturn int(line[idx])\n",
    "\n",
    "lines = readCSV('nytimes.csv')\n",
    "    \n",
    "# For each line, find the sum of index 0,2 & 3 in the list.\n",
    "for line in lines:\n",
    "    age = age + line[0]\n",
    "    impressions = impressions + line[2]\n",
    "    clicks = clicks + line[3]\n",
    "    \n",
    "    max_age = max(max_age, line[0])\n",
    "\n",
    "print 'No. Impressions:', impressions\n",
    "print 'Mean Age:', age / len(lines)\n",
    "print 'Click-Through-Rate:', clicks / impressions\n",
    "print 'Oldest Age:', max_age"
   ]
  },
  {
   "cell_type": "markdown",
   "metadata": {},
   "source": [
    "## Extra Credit Example Solution I"
   ]
  },
  {
   "cell_type": "code",
   "execution_count": 68,
   "metadata": {
    "collapsed": false
   },
   "outputs": [
    {
     "data": {
      "text/plain": [
       "[(0, 137106),\n",
       " (37, 7983),\n",
       " (36, 7933),\n",
       " (42, 7919),\n",
       " (41, 7906),\n",
       " (38, 7891),\n",
       " (39, 7804),\n",
       " (43, 7784),\n",
       " (40, 7702),\n",
       " (48, 7277)]"
      ]
     },
     "execution_count": 68,
     "metadata": {},
     "output_type": "execute_result"
    }
   ],
   "source": [
    "from collections import Counter\n",
    "\n",
    "lines = readCSV('nytimes.csv')\n",
    "\n",
    "ages = Counter()\n",
    "for line in lines:\n",
    "    ages.update({line[0]:1})\n",
    "    \n",
    "ages.most_common(10)"
   ]
  },
  {
   "cell_type": "code",
   "execution_count": 39,
   "metadata": {
    "collapsed": false
   },
   "outputs": [],
   "source": [
    "old_enough = [line for line in lines if line[0] > 10]"
   ]
  },
  {
   "cell_type": "markdown",
   "metadata": {},
   "source": [
    "## Example Solution II"
   ]
  },
  {
   "cell_type": "code",
   "execution_count": 87,
   "metadata": {
    "collapsed": false
   },
   "outputs": [
    {
     "data": {
      "text/plain": [
       "137106"
      ]
     },
     "execution_count": 87,
     "metadata": {},
     "output_type": "execute_result"
    }
   ],
   "source": []
  },
  {
   "cell_type": "code",
   "execution_count": 88,
   "metadata": {
    "collapsed": false
   },
   "outputs": [
    {
     "name": "stdout",
     "output_type": "stream",
     "text": [
      "No. Impressions: 2295559\n",
      "Mean Age: 42.0620536201\n",
      "Click-Through-Rate: 0.0184917921953\n",
      "Oldest Age: 108\n"
     ]
    }
   ],
   "source": [
    "# initialization of variables\n",
    "max_age = 0\n",
    "        \n",
    "lines = readCSV('nytimes.csv')\n",
    "c = Counter()\n",
    "\n",
    "# For each line, find the sum of index 0,2 & 3 in the list.\n",
    "for line in lines:\n",
    "    c.update({\n",
    "        'age': line[0],\n",
    "        'impressions': line[2],\n",
    "        'clicks': line[3]\n",
    "        })    \n",
    "    \n",
    "    max_age = max(max_age, line[0])\n",
    "\n",
    "print 'No. Impressions:', c['impressions']\n",
    "print 'Mean Age:', c['age'] / (len(lines) - ages[0])\n",
    "print 'Click-Through-Rate:', c['clicks'] / c['impressions']\n",
    "print 'Oldest Age:', max_age"
   ]
  },
  {
   "cell_type": "code",
   "execution_count": 94,
   "metadata": {
    "collapsed": false
   },
   "outputs": [
    {
     "data": {
      "text/plain": [
       "Counter({0: 137106,\n",
       "         7: 5,\n",
       "         8: 15,\n",
       "         9: 48,\n",
       "         10: 113,\n",
       "         11: 283,\n",
       "         12: 586,\n",
       "         13: 1059,\n",
       "         14: 1718,\n",
       "         15: 2605,\n",
       "         16: 3443,\n",
       "         17: 3953,\n",
       "         18: 5424,\n",
       "         19: 6509,\n",
       "         20: 6337,\n",
       "         21: 6384,\n",
       "         22: 6394,\n",
       "         23: 6488,\n",
       "         24: 3158,\n",
       "         25: 3260,\n",
       "         26: 6405,\n",
       "         27: 6551,\n",
       "         28: 6359,\n",
       "         29: 6379,\n",
       "         30: 6617,\n",
       "         31: 6439,\n",
       "         32: 6443,\n",
       "         33: 6431,\n",
       "         34: 3290,\n",
       "         35: 3932,\n",
       "         36: 7933,\n",
       "         37: 7983,\n",
       "         38: 7891,\n",
       "         39: 7804,\n",
       "         40: 7702,\n",
       "         41: 7906,\n",
       "         42: 7919,\n",
       "         43: 7784,\n",
       "         44: 4006,\n",
       "         45: 3645,\n",
       "         46: 7202,\n",
       "         47: 7070,\n",
       "         48: 7277,\n",
       "         49: 7054,\n",
       "         50: 6982,\n",
       "         51: 7147,\n",
       "         52: 7165,\n",
       "         53: 7231,\n",
       "         54: 3515,\n",
       "         55: 2502,\n",
       "         56: 5034,\n",
       "         57: 5014,\n",
       "         58: 4916,\n",
       "         59: 4900,\n",
       "         60: 4880,\n",
       "         61: 5012,\n",
       "         62: 5006,\n",
       "         63: 4950,\n",
       "         64: 2524,\n",
       "         65: 1067,\n",
       "         66: 2355,\n",
       "         67: 2250,\n",
       "         68: 2299,\n",
       "         69: 2015,\n",
       "         70: 2033,\n",
       "         71: 1860,\n",
       "         72: 1820,\n",
       "         73: 1681,\n",
       "         74: 1481,\n",
       "         75: 1473,\n",
       "         76: 1257,\n",
       "         77: 1161,\n",
       "         78: 936,\n",
       "         79: 825,\n",
       "         80: 751,\n",
       "         81: 618,\n",
       "         82: 548,\n",
       "         83: 483,\n",
       "         84: 369,\n",
       "         85: 298,\n",
       "         86: 228,\n",
       "         87: 211,\n",
       "         88: 155,\n",
       "         89: 128,\n",
       "         90: 106,\n",
       "         91: 72,\n",
       "         92: 66,\n",
       "         93: 42,\n",
       "         94: 49,\n",
       "         95: 35,\n",
       "         96: 27,\n",
       "         97: 14,\n",
       "         98: 15,\n",
       "         99: 9,\n",
       "         100: 4,\n",
       "         101: 4,\n",
       "         102: 2,\n",
       "         103: 2,\n",
       "         104: 1,\n",
       "         107: 2,\n",
       "         108: 1})"
      ]
     },
     "execution_count": 94,
     "metadata": {},
     "output_type": "execute_result"
    }
   ],
   "source": [
    "ages"
   ]
  },
  {
   "cell_type": "code",
   "execution_count": 71,
   "metadata": {
    "collapsed": false
   },
   "outputs": [
    {
     "data": {
      "text/plain": [
       "Counter({'age': 13516010, 'clicks': 42449, 'impressions': 2295559})"
      ]
     },
     "execution_count": 71,
     "metadata": {},
     "output_type": "execute_result"
    }
   ],
   "source": [
    "counter"
   ]
  },
  {
   "cell_type": "code",
   "execution_count": 74,
   "metadata": {
    "collapsed": true
   },
   "outputs": [],
   "source": [
    "pattern = Counter()\n",
    "\n",
    "for line in lines:\n",
    "    if line[4]:\n",
    "        pattern.update({'signed_in': line[0]})\n",
    "    else:\n",
    "        pattern.update({'not_signed_in': line[0]})"
   ]
  },
  {
   "cell_type": "code",
   "execution_count": 77,
   "metadata": {
    "collapsed": false
   },
   "outputs": [
    {
     "data": {
      "text/plain": [
       "Counter({0: 137106})"
      ]
     },
     "execution_count": 77,
     "metadata": {},
     "output_type": "execute_result"
    }
   ],
   "source": [
    "pattern"
   ]
  },
  {
   "cell_type": "markdown",
   "metadata": {},
   "source": [
    "### Which is faster?"
   ]
  },
  {
   "cell_type": "code",
   "execution_count": 83,
   "metadata": {
    "collapsed": false
   },
   "outputs": [
    {
     "name": "stdout",
     "output_type": "stream",
     "text": [
      "1 loop, best of 3: 1.04 s per loop\n"
     ]
    }
   ],
   "source": [
    "%%timeit\n",
    "pattern = Counter()\n",
    "\n",
    "def is_signed_on(line):\n",
    "    return line[4] == 1\n",
    "\n",
    "for line in lines:\n",
    "    if is_signed_on(line):\n",
    "        pattern.update({line[0]: 1})"
   ]
  },
  {
   "cell_type": "code",
   "execution_count": 84,
   "metadata": {
    "collapsed": false
   },
   "outputs": [
    {
     "name": "stdout",
     "output_type": "stream",
     "text": [
      "1 loop, best of 3: 890 ms per loop\n"
     ]
    }
   ],
   "source": [
    "%%timeit\n",
    "pattern = Counter()\n",
    "\n",
    "for line in lines:\n",
    "    if line[4] == 1:\n",
    "        pattern.update({line[0]: 1})"
   ]
  },
  {
   "cell_type": "code",
   "execution_count": 113,
   "metadata": {
    "collapsed": false
   },
   "outputs": [],
   "source": []
  },
  {
   "cell_type": "code",
   "execution_count": 114,
   "metadata": {
    "collapsed": false
   },
   "outputs": [
    {
     "data": {
      "text/plain": [
       "['36,0,3,0,1',\n",
       " '73,1,3,0,1',\n",
       " '30,0,3,0,1',\n",
       " '49,1,3,0,1',\n",
       " '47,1,11,0,1',\n",
       " '47,0,11,1,1',\n",
       " '0,0,7,1,0',\n",
       " '46,0,5,0,1',\n",
       " '16,0,3,0,1',\n",
       " '52,0,4,0,1',\n",
       " '0,0,8,1,0',\n",
       " '21,0,3,0,1',\n",
       " '0,0,4,0,0',\n",
       " '57,0,6,0,1',\n",
       " '31,0,5,0,1',\n",
       " '0,0,6,0,0',\n",
       " '40,1,3,0,1',\n",
       " '31,1,5,0,1',\n",
       " '38,0,4,0,1',\n",
       " '0,0,5,0,0']"
      ]
     },
     "execution_count": 114,
     "metadata": {},
     "output_type": "execute_result"
    }
   ],
   "source": []
  },
  {
   "cell_type": "code",
   "execution_count": 124,
   "metadata": {
    "collapsed": false
   },
   "outputs": [
    {
     "data": {
      "text/plain": [
       "[['36', '0', '3', '0', '1'],\n",
       " ['73', '1', '3', '0', '1'],\n",
       " ['30', '0', '3', '0', '1'],\n",
       " ['49', '1', '3', '0', '1'],\n",
       " ['47', '1', '11', '0', '1'],\n",
       " ['47', '0', '11', '1', '1'],\n",
       " ['0', '0', '7', '1', '0'],\n",
       " ['46', '0', '5', '0', '1'],\n",
       " ['16', '0', '3', '0', '1'],\n",
       " ['52', '0', '4', '0', '1'],\n",
       " ['0', '0', '8', '1', '0'],\n",
       " ['21', '0', '3', '0', '1'],\n",
       " ['0', '0', '4', '0', '0'],\n",
       " ['57', '0', '6', '0', '1'],\n",
       " ['31', '0', '5', '0', '1'],\n",
       " ['0', '0', '6', '0', '0'],\n",
       " ['40', '1', '3', '0', '1'],\n",
       " ['31', '1', '5', '0', '1'],\n",
       " ['38', '0', '4', '0', '1'],\n",
       " ['0', '0', '5', '0', '0']]"
      ]
     },
     "execution_count": 124,
     "metadata": {},
     "output_type": "execute_result"
    }
   ],
   "source": [
    "[[str(item) for item in line] for line in lines[:20]]"
   ]
  },
  {
   "cell_type": "code",
   "execution_count": 125,
   "metadata": {
    "collapsed": false
   },
   "outputs": [],
   "source": [
    "with open(DATA_DIR + 'nytimes_output.csv','w') as fn:\n",
    "    # Store the textfile on desk\n",
    "    for line in [[str(item) for item in line] for line in lines]:\n",
    "        fn.write(\",\".join(line)+'\\n')"
   ]
  }
 ],
 "metadata": {
  "kernelspec": {
   "display_name": "Python 2",
   "language": "python",
   "name": "python2"
  },
  "language_info": {
   "codemirror_mode": {
    "name": "ipython",
    "version": 2
   },
   "file_extension": ".py",
   "mimetype": "text/x-python",
   "name": "python",
   "nbconvert_exporter": "python",
   "pygments_lexer": "ipython2",
   "version": "2.7.11"
  }
 },
 "nbformat": 4,
 "nbformat_minor": 0
}

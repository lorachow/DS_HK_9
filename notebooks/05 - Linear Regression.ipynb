{
 "cells": [
  {
   "cell_type": "markdown",
   "metadata": {},
   "source": [
    "![](http://www.datanomers.com/img/slide/temp/banner-3_1389858824_1400_515.jpg)"
   ]
  },
  {
   "cell_type": "markdown",
   "metadata": {},
   "source": [
    "# The Linear Regression"
   ]
  },
  {
   "cell_type": "markdown",
   "metadata": {},
   "source": [
    "> Statistics show that of those who contract the habit of eating, very few survive.\n",
    "\n",
    "<footer>~ George Bernard Shaw</footer>"
   ]
  },
  {
   "cell_type": "markdown",
   "metadata": {},
   "source": [
    "![break](assets/agenda.png)"
   ]
  },
  {
   "cell_type": "markdown",
   "metadata": {},
   "source": [
    "1. [Introduction To Regression Data Problems](#Intro-to-Regression-Data-Problems)\n",
    "1. [How Regressions Work](#How-Regressions-Work)\n",
    "1. [Determining Cost](#Cost-Of-Linear-Regressions)\n",
    "\n",
    "**Labs:**\n",
    "1. [Implementing The Linear Model](#Implementing-the-Linear-Regression)\n"
   ]
  },
  {
   "cell_type": "markdown",
   "metadata": {},
   "source": [
    "![break](assets/theory.png)"
   ]
  },
  {
   "cell_type": "markdown",
   "metadata": {},
   "source": [
    "## Intro to Regression Data Problems"
   ]
  },
  {
   "cell_type": "markdown",
   "metadata": {},
   "source": [
    "|   \t|continuous\t|categorical   \t|\n",
    "|:-:\t|:-:\t|:-:\t|\n",
    "|**supervised**   \t|**regression**   \t|classification   \t|\n",
    "|**unsupervised**   \t|dimension reduction   \t|clustering   \t|"
   ]
  },
  {
   "cell_type": "markdown",
   "metadata": {},
   "source": [
    "A regression model is a functional relationship between input & response variables.\n",
    "\n",
    "The **simple linear regression** model captures a linear relationship between a single input variable x and a response variable y:"
   ]
  },
  {
   "cell_type": "markdown",
   "metadata": {},
   "source": [
    "$$y = α+βx+ε$$"
   ]
  },
  {
   "cell_type": "markdown",
   "metadata": {},
   "source": [
    "* $y$ = response variable (the one we want to predict)\n",
    "* $x$ = input variable (the one we use to train the model)\n",
    "* $α$ = intercept (where the line crosses the y-axis)\n",
    "* $β$ = regression coefficient (the model “parameter”)\n",
    "* $ε$ = residual (the prediction error)"
   ]
  },
  {
   "cell_type": "markdown",
   "metadata": {},
   "source": [
    "We can extend this model to several input variables, giving us the multiple linear regression model:"
   ]
  },
  {
   "cell_type": "markdown",
   "metadata": {},
   "source": [
    "$$y = α + β_1x_1 + ... + β_nx_n + ε$$"
   ]
  },
  {
   "cell_type": "markdown",
   "metadata": {},
   "source": [
    "![resource](assets/regression_analysis_by_example.png) [Regression Analysis By Example](http://type.hk:2551/calibre/browse/book/294)"
   ]
  },
  {
   "cell_type": "markdown",
   "metadata": {},
   "source": [
    "Linear regression involves several technical assumptions and is often presented with lots of mathematical formality.\n",
    "\n",
    "In order for us to gain a deeper understanding of the “magic” behind a regression (and to see why we want a machine to do this!), let’s review the math behind this algorithm!"
   ]
  },
  {
   "cell_type": "markdown",
   "metadata": {},
   "source": [
    "![break](assets/theory.png)"
   ]
  },
  {
   "cell_type": "markdown",
   "metadata": {},
   "source": [
    "## How Regression Works"
   ]
  },
  {
   "cell_type": "markdown",
   "metadata": {},
   "source": [
    "Linear regression is, for the most part, just matrix algebra (the stuff we did already!)\n",
    "\n",
    "Let’s go over the math by hand so we can understand how we determine the regression coefficient."
   ]
  },
  {
   "cell_type": "markdown",
   "metadata": {},
   "source": [
    "A linear regression in its simplest form:"
   ]
  },
  {
   "cell_type": "markdown",
   "metadata": {},
   "source": [
    "$$y = α + βx + ε$$"
   ]
  },
  {
   "cell_type": "markdown",
   "metadata": {},
   "source": [
    "but we can assume that our α is either 0 or 1, and ε is zero!"
   ]
  },
  {
   "cell_type": "markdown",
   "metadata": {},
   "source": [
    "$$y = βx$$"
   ]
  },
  {
   "cell_type": "markdown",
   "metadata": {},
   "source": [
    "but we want to solve for β, which means our new equation looks more like this:"
   ]
  },
  {
   "cell_type": "markdown",
   "metadata": {},
   "source": [
    "$$β = ( X^TX)^{-1} X^Ty$$"
   ]
  },
  {
   "cell_type": "markdown",
   "metadata": {},
   "source": [
    "How did we get there?"
   ]
  },
  {
   "cell_type": "markdown",
   "metadata": {},
   "source": [
    "$$β = \\frac{y}x$$"
   ]
  },
  {
   "cell_type": "markdown",
   "metadata": {},
   "source": [
    "That's problematic, as we cannot divide by a matrix! So we first square the matrix."
   ]
  },
  {
   "cell_type": "markdown",
   "metadata": {},
   "source": [
    "$$\\frac{xy}{x^2}$$"
   ]
  },
  {
   "cell_type": "markdown",
   "metadata": {},
   "source": [
    "That's how we avoid division by a matrix"
   ]
  },
  {
   "cell_type": "markdown",
   "metadata": {},
   "source": [
    "$$\\frac{1}{x{^2}} * \\frac{xy}1$$"
   ]
  },
  {
   "cell_type": "markdown",
   "metadata": {},
   "source": [
    "By using inversion; since raising $x$ to the power of negative 1 is equal to $1$ over $x$"
   ]
  },
  {
   "cell_type": "markdown",
   "metadata": {},
   "source": [
    "$$(XX)^{-1}XY$$"
   ]
  },
  {
   "cell_type": "markdown",
   "metadata": {},
   "source": [
    "And finally to make it programmer friendly"
   ]
  },
  {
   "cell_type": "markdown",
   "metadata": {},
   "source": [
    "$$β = ( X^TX)^{-1} X^TY$$"
   ]
  },
  {
   "cell_type": "markdown",
   "metadata": {},
   "source": [
    "So if we had data:\n",
    "\n",
    "    Input  Output\n",
    "    3.385  44.5\n",
    "    0.48   15.5\n",
    "    1.35   8.1\n",
    "    465    423\n",
    "    36.33  119.5"
   ]
  },
  {
   "cell_type": "markdown",
   "metadata": {},
   "source": [
    "These would be the steps we moved through"
   ]
  },
  {
   "cell_type": "markdown",
   "metadata": {},
   "source": [
    "$$β=\\left(\n",
    "    \\begin{array}{r}\n",
    "         \\begin{matrix}             \n",
    "             3.385 & 0.48 & 1.35 & 465 & 36.33 & \\\\\n",
    "             1 & 1 & 1 & 1 & 1\n",
    "         \\end{matrix}\n",
    "         \\begin{matrix}\n",
    "            3.385 & 1 & \\\\\n",
    "            0.48 & 1 & \\\\\n",
    "            1.35 & 1 & \\\\\n",
    "            465 & 1 & \\\\\n",
    "            36.33 & 1\n",
    "         \\end{matrix}\n",
    "    \\end{array}\n",
    "  \\right)^{-1}\n",
    "  \\cdots$$"
   ]
  },
  {
   "cell_type": "markdown",
   "metadata": {},
   "source": [
    "$$β = ( X^TX)^{-1} \\cdots$$"
   ]
  },
  {
   "cell_type": "markdown",
   "metadata": {},
   "source": [
    "$$\\cdots\n",
    "    \\left(\n",
    "    \\begin{array}{r}\n",
    "         \\begin{matrix}\n",
    "             3.385 & 0.48 & 1.35 & 465 & 36.33 & \\\\\n",
    "             1 & 1 & 1 & 1 & 1\n",
    "         \\end{matrix}\n",
    "         \\begin{matrix}\n",
    "            44.5 & \\\\\n",
    "            15.5 & \\\\\n",
    "            8.1 & \\\\\n",
    "            423 & \\\\\n",
    "            119.5\n",
    "         \\end{matrix}\n",
    "    \\end{array}\n",
    "  \\right)\n",
    "  $$"
   ]
  },
  {
   "cell_type": "markdown",
   "metadata": {},
   "source": [
    "$$ \\cdots X^TY$$"
   ]
  },
  {
   "cell_type": "markdown",
   "metadata": {},
   "source": [
    "$$β=\\begin{array}{r}\n",
    "         \\begin{bmatrix}\n",
    "            0.2617 & -0.0006 & \\\\\n",
    "            -0.0006 & 0.000006\n",
    "         \\end{bmatrix}\n",
    "         \\begin{bmatrix}\n",
    "            610.6 & \\\\\n",
    "            201205.4425\n",
    "         \\end{bmatrix}\n",
    "    \\end{array}\n",
    "$$"
   ]
  },
  {
   "cell_type": "markdown",
   "metadata": {},
   "source": [
    "$$β = ( X^TX)^{-1} X^TY$$"
   ]
  },
  {
   "cell_type": "markdown",
   "metadata": {},
   "source": [
    "$$ \\begin{bmatrix}\n",
    "            37.2 & \\\\\n",
    "            0.838\n",
    "         \\end{bmatrix}\n",
    "    = \\begin{array}{r}\n",
    "         \\begin{bmatrix}\n",
    "            0.2617 & -0.0006 & \\\\\n",
    "            -0.0006 & 0.000006\n",
    "         \\end{bmatrix}\n",
    "         \\begin{bmatrix}\n",
    "            610.6 & \\\\\n",
    "            201205.4425\n",
    "         \\end{bmatrix}\n",
    "    \\end{array}\n",
    "$$"
   ]
  },
  {
   "cell_type": "markdown",
   "metadata": {},
   "source": [
    "$$β = ( X^TX)^{-1} X^TY$$"
   ]
  },
  {
   "cell_type": "markdown",
   "metadata": {},
   "source": [
    "$$ \\begin{array}{c}\n",
    "            Intercept : 37.2 & \\\\\n",
    "            β : 0.838\n",
    "         \\end{array}\n",
    "$$"
   ]
  },
  {
   "cell_type": "markdown",
   "metadata": {},
   "source": [
    "**Q: How did we do compared to a computer?**"
   ]
  },
  {
   "cell_type": "code",
   "execution_count": 47,
   "metadata": {
    "collapsed": false
   },
   "outputs": [],
   "source": [
    "X = [[1,3.385], [1,0.48], [1,1.35], [1,465], [1,36.33]]\n",
    "y = [44.5, 15.5, 8.1, 423.0, 119.5]"
   ]
  },
  {
   "cell_type": "code",
   "execution_count": 48,
   "metadata": {
    "collapsed": false
   },
   "outputs": [
    {
     "name": "stdout",
     "output_type": "stream",
     "text": [
      "[ 37.20089608   0.83821876]\n"
     ]
    }
   ],
   "source": [
    "from numpy import linalg\n",
    "\n",
    "w = linalg.lstsq(X,y)[0]\n",
    "\n",
    "print w"
   ]
  },
  {
   "cell_type": "markdown",
   "metadata": {},
   "source": [
    "A: Not bad!"
   ]
  },
  {
   "cell_type": "markdown",
   "metadata": {},
   "source": [
    "**Q: Cool! That means we can do all of our regressions by\n",
    "hand now, right?**"
   ]
  },
  {
   "cell_type": "markdown",
   "metadata": {},
   "source": [
    "![](assets/angry_cat.jpeg)"
   ]
  },
  {
   "cell_type": "markdown",
   "metadata": {},
   "source": [
    "If you are interested in the mathematical derivations of the formulas we use in class, I'd suggest picking up"
   ]
  },
  {
   "cell_type": "markdown",
   "metadata": {},
   "source": [
    "![resource](assets/matrix_algebra.jpg)[Matrix Algebra as a Tool](http://book.type.hk/calibre/browse/book/464)"
   ]
  },
  {
   "cell_type": "markdown",
   "metadata": {},
   "source": [
    "### Steps in Regression Analysis"
   ]
  },
  {
   "cell_type": "markdown",
   "metadata": {},
   "source": [
    "1. Statement of the Problem \n",
    "1. Selection of Potentially Relevant Variables\n",
    "1. Data Collection \n",
    "1. Model Specification \n",
    "1. Method of Fitting \n",
    "1. Model Fitting \n",
    "1. Model Criticism and Selection"
   ]
  },
  {
   "cell_type": "markdown",
   "metadata": {},
   "source": [
    "![break](assets/theory.png)"
   ]
  },
  {
   "cell_type": "markdown",
   "metadata": {},
   "source": [
    "## Cost Of Linear Regressions"
   ]
  },
  {
   "cell_type": "markdown",
   "metadata": {},
   "source": [
    "** Q: How do measure error in a linear regression model?**\n",
    "\n",
    "A: In theory, minimize the sum of the squared residuals\n",
    "(**RSS**, or **SSE**).\n"
   ]
  },
  {
   "cell_type": "markdown",
   "metadata": {},
   "source": [
    "$$SST = \\Sigma(y_i-\\bar{y})^2$$\n",
    "$$SSR = \\Sigma(\\hat{y_i}-\\bar{y})^2$$\n",
    "$$SSE = \\Sigma(y_i-\\hat{y_i})^2$$"
   ]
  },
  {
   "cell_type": "markdown",
   "metadata": {},
   "source": [
    "SST = Total Sum of Squared Deviations in $Y$ from its mean $\\bar{y}$"
   ]
  },
  {
   "cell_type": "markdown",
   "metadata": {},
   "source": [
    "SSR = Sum of squares due to regression"
   ]
  },
  {
   "cell_type": "markdown",
   "metadata": {},
   "source": [
    "SSE = Sum of Squared Residiuals"
   ]
  },
  {
   "cell_type": "markdown",
   "metadata": {},
   "source": [
    "![](http://www.dxbydt.com/wp-content/uploads/2015/06/total-regression-error-sum-of-squares.png)"
   ]
  },
  {
   "cell_type": "markdown",
   "metadata": {},
   "source": [
    "In some cases the total sum of squares equals the sum of the two other sums of squares defined above"
   ]
  },
  {
   "cell_type": "markdown",
   "metadata": {},
   "source": [
    "$$SST = SSR + SSE$$"
   ]
  },
  {
   "cell_type": "markdown",
   "metadata": {},
   "source": [
    "In practice, any respectable software can do this for you.\n",
    "\n",
    "In python, we can find this with some quick code."
   ]
  },
  {
   "cell_type": "code",
   "execution_count": 49,
   "metadata": {
    "collapsed": false
   },
   "outputs": [
    {
     "data": {
      "text/plain": [
       "0.0269"
      ]
     },
     "execution_count": 49,
     "metadata": {},
     "output_type": "execute_result"
    }
   ],
   "source": [
    "import numpy as np\n",
    "\n",
    "prediction = np.array([1, 2, 3])\n",
    "actual = np.array([1.12, 1.89, 3.02])\n",
    "\n",
    "np.sum((prediction - actual) ** 2)"
   ]
  },
  {
   "cell_type": "markdown",
   "metadata": {},
   "source": [
    "**Q: How do measure goodness of fit?**\n",
    "\n",
    "A: In theory, we want to maximize $R^2$ (as close to $1$ as possible)."
   ]
  },
  {
   "cell_type": "markdown",
   "metadata": {},
   "source": [
    "$$R = 1 - \\frac{SSE}{SST}$$"
   ]
  },
  {
   "cell_type": "markdown",
   "metadata": {},
   "source": [
    "Scikit Learn already calculates this for us, as do any other stats packages and programs.\n",
    "\n",
    "If you want to get serious into regression, learn more about the coefficient of determination."
   ]
  },
  {
   "cell_type": "markdown",
   "metadata": {},
   "source": [
    "### Review : Cost"
   ]
  },
  {
   "cell_type": "markdown",
   "metadata": {},
   "source": [
    "1. What values are we looking for when we consider SSE?\n",
    "What is the best value we could potentially have?\n",
    "2. What is the best value we could have for $R^2$ ?\n",
    "3. What’s the primary difference between these two values?"
   ]
  },
  {
   "cell_type": "markdown",
   "metadata": {},
   "source": [
    "![break](assets/code.png)"
   ]
  },
  {
   "cell_type": "markdown",
   "metadata": {},
   "source": [
    "## Implementing the Linear Regression"
   ]
  },
  {
   "cell_type": "markdown",
   "metadata": {},
   "source": [
    "* Work through various data and scatterplots\n",
    "* Create linear models with simple relationships (one feature)\n",
    "* Create linear models with multiple features\n",
    "* Evaluate model performance"
   ]
  },
  {
   "cell_type": "markdown",
   "metadata": {},
   "source": [
    "### Install Seaborn for statistical data visualization"
   ]
  },
  {
   "cell_type": "code",
   "execution_count": 2,
   "metadata": {
    "collapsed": false
   },
   "outputs": [],
   "source": [
    "%matplotlib inline\n",
    "\n",
    "import pandas as pd\n",
    "import numpy as np\n",
    "import matplotlib as mpl\n",
    "import matplotlib.pyplot as plt\n",
    "import seaborn as sns\n",
    "\n",
    "# Set some Pandas options\n",
    "pd.set_option('max_columns', 30)\n",
    "pd.set_option('max_rows', 20)\n",
    "\n",
    "# Default Plotting Size\n",
    "mpl.rc(\"figure\", figsize=(20, 8))\n",
    "\n",
    "# Store data in a consistent place\n",
    "DATA_DIR = '../data/'\n",
    "\n",
    "# Filter Warnings\n",
    "import warnings\n",
    "warnings.filterwarnings(\"ignore\",category=DeprecationWarning)"
   ]
  },
  {
   "cell_type": "markdown",
   "metadata": {},
   "source": [
    "### Build an incredibly basic linear model function."
   ]
  },
  {
   "cell_type": "code",
   "execution_count": 53,
   "metadata": {
    "collapsed": false
   },
   "outputs": [
    {
     "name": "stdout",
     "output_type": "stream",
     "text": [
      "[[1 1]\n",
      " [1 2]\n",
      " [1 3]\n",
      " [1 4]]\n",
      "[[1 1 1 1]\n",
      " [1 2 3 4]]\n",
      "[[ 4 10]\n",
      " [10 30]]\n",
      "[[ 1.5 -0.5]\n",
      " [-0.5  0.2]]\n",
      "[[10]\n",
      " [30]]\n",
      "[[ -3.55271368e-15]\n",
      " [  1.00000000e+00]]\n"
     ]
    }
   ],
   "source": [
    "from numpy import array, dot\n",
    "from scipy.linalg import inv\n",
    "\n",
    "X = array([ [1, 1], [1, 2], [1, 3], [1, 4] ])\n",
    "y = array([ [1], [2], [3], [4] ])\n",
    "\n",
    "print X\n",
    "print X.T\n",
    "\n",
    "print dot(X.T, X)\n",
    "\n",
    "n = inv(dot(X.T, X))\n",
    "\n",
    "print n\n",
    "\n",
    "k = dot(X.T, y)\n",
    "\n",
    "print k\n",
    "\n",
    "coef_ = dot(n, k)\n",
    "\n",
    "print coef_"
   ]
  },
  {
   "cell_type": "markdown",
   "metadata": {},
   "source": [
    "This can all be turned into one relatively simple algorithm, though it is rather limiting in features."
   ]
  },
  {
   "cell_type": "code",
   "execution_count": 54,
   "metadata": {
    "collapsed": false
   },
   "outputs": [],
   "source": [
    "def regression(input, response):\n",
    "    return dot(inv(dot(input.T, input)), dot(input.T, response))"
   ]
  },
  {
   "cell_type": "markdown",
   "metadata": {},
   "source": [
    "### Practice: Plotting Data"
   ]
  },
  {
   "cell_type": "markdown",
   "metadata": {},
   "source": [
    "We're gonna start by playing with data about mammals brain and body size. \n",
    "\n",
    "It's available in your `DATA_DIR`.\n",
    "\n",
    "Lets load the data into pandas and generate a scatterplot:"
   ]
  },
  {
   "cell_type": "code",
   "execution_count": 3,
   "metadata": {
    "collapsed": false
   },
   "outputs": [
    {
     "name": "stdout",
     "output_type": "stream",
     "text": [
      "airquality.csv         \u001b[0m\u001b[38;5;33mbikeshare\u001b[0m/            funding.csv         \u001b[38;5;40mnytimes.csv\u001b[0m*\r\n",
      "authorship.csv         \u001b[38;5;33mbs\u001b[0m/                   \u001b[38;5;40m__init__.py\u001b[0m*        olive.csv\r\n",
      "\u001b[38;5;33mbaseball\u001b[0m/              \u001b[38;5;33mcars\u001b[0m/                 \u001b[38;5;33minsults\u001b[0m/            rt_critics.csv\r\n",
      "\u001b[38;5;40mbaseball.csv\u001b[0m*          cars1920.csv          \u001b[38;5;40mmammals.csv\u001b[0m*        skin.tsv\r\n",
      "\u001b[38;5;40mbaseball_merged_2011\u001b[0m*  cars93.csv            MBAdata.csv         \u001b[38;5;40mtips.csv\u001b[0m*\r\n",
      "\u001b[38;5;40mbaseball_merged_2012\u001b[0m*  challenger_oring.csv  new_aggregates.csv  USArrests.csv\r\n",
      "\u001b[38;5;40mbeer.tsv\u001b[0m*              \u001b[38;5;33mestimation\u001b[0m/           nyagg.csv           \u001b[38;5;40mzipcodes.csv\u001b[0m*\r\n"
     ]
    }
   ],
   "source": [
    "ls ../data/"
   ]
  },
  {
   "cell_type": "code",
   "execution_count": 6,
   "metadata": {
    "collapsed": false
   },
   "outputs": [
    {
     "data": {
      "text/html": [
       "<div>\n",
       "<table border=\"1\" class=\"dataframe\">\n",
       "  <thead>\n",
       "    <tr style=\"text-align: right;\">\n",
       "      <th></th>\n",
       "      <th>body</th>\n",
       "      <th>brain</th>\n",
       "    </tr>\n",
       "  </thead>\n",
       "  <tbody>\n",
       "    <tr>\n",
       "      <th>count</th>\n",
       "      <td>62.000000</td>\n",
       "      <td>62.000000</td>\n",
       "    </tr>\n",
       "    <tr>\n",
       "      <th>mean</th>\n",
       "      <td>198.789984</td>\n",
       "      <td>283.134194</td>\n",
       "    </tr>\n",
       "    <tr>\n",
       "      <th>std</th>\n",
       "      <td>899.158011</td>\n",
       "      <td>930.278942</td>\n",
       "    </tr>\n",
       "    <tr>\n",
       "      <th>min</th>\n",
       "      <td>0.005000</td>\n",
       "      <td>0.140000</td>\n",
       "    </tr>\n",
       "    <tr>\n",
       "      <th>25%</th>\n",
       "      <td>0.600000</td>\n",
       "      <td>4.250000</td>\n",
       "    </tr>\n",
       "    <tr>\n",
       "      <th>50%</th>\n",
       "      <td>3.342500</td>\n",
       "      <td>17.250000</td>\n",
       "    </tr>\n",
       "    <tr>\n",
       "      <th>75%</th>\n",
       "      <td>48.202500</td>\n",
       "      <td>166.000000</td>\n",
       "    </tr>\n",
       "    <tr>\n",
       "      <th>max</th>\n",
       "      <td>6654.000000</td>\n",
       "      <td>5712.000000</td>\n",
       "    </tr>\n",
       "  </tbody>\n",
       "</table>\n",
       "</div>"
      ],
      "text/plain": [
       "              body        brain\n",
       "count    62.000000    62.000000\n",
       "mean    198.789984   283.134194\n",
       "std     899.158011   930.278942\n",
       "min       0.005000     0.140000\n",
       "25%       0.600000     4.250000\n",
       "50%       3.342500    17.250000\n",
       "75%      48.202500   166.000000\n",
       "max    6654.000000  5712.000000"
      ]
     },
     "execution_count": 6,
     "metadata": {},
     "output_type": "execute_result"
    }
   ],
   "source": [
    "mammals = pd.read_csv(DATA_DIR + 'mammals.csv')\n",
    "mammals.describe()"
   ]
  },
  {
   "cell_type": "code",
   "execution_count": 7,
   "metadata": {
    "collapsed": false
   },
   "outputs": [
    {
     "name": "stdout",
     "output_type": "stream",
     "text": [
      "<class 'pandas.core.frame.DataFrame'>\n",
      "Int64Index: 62 entries, 0 to 61\n",
      "Data columns (total 3 columns):\n",
      "Name     62 non-null object\n",
      "body     62 non-null float64\n",
      "brain    62 non-null float64\n",
      "dtypes: float64(2), object(1)\n",
      "memory usage: 1.9+ KB\n"
     ]
    }
   ],
   "source": [
    "mammals.info()"
   ]
  },
  {
   "cell_type": "code",
   "execution_count": 11,
   "metadata": {
    "collapsed": false
   },
   "outputs": [
    {
     "data": {
      "text/html": [
       "<div>\n",
       "<table border=\"1\" class=\"dataframe\">\n",
       "  <thead>\n",
       "    <tr style=\"text-align: right;\">\n",
       "      <th></th>\n",
       "      <th>Name</th>\n",
       "      <th>body</th>\n",
       "      <th>brain</th>\n",
       "    </tr>\n",
       "  </thead>\n",
       "  <tbody>\n",
       "    <tr>\n",
       "      <th>40</th>\n",
       "      <td>Slow loris</td>\n",
       "      <td>1.400</td>\n",
       "      <td>12.50</td>\n",
       "    </tr>\n",
       "    <tr>\n",
       "      <th>41</th>\n",
       "      <td>Okapi</td>\n",
       "      <td>250.000</td>\n",
       "      <td>490.00</td>\n",
       "    </tr>\n",
       "    <tr>\n",
       "      <th>42</th>\n",
       "      <td>Rabbit</td>\n",
       "      <td>2.500</td>\n",
       "      <td>12.10</td>\n",
       "    </tr>\n",
       "    <tr>\n",
       "      <th>43</th>\n",
       "      <td>Sheep</td>\n",
       "      <td>55.500</td>\n",
       "      <td>175.00</td>\n",
       "    </tr>\n",
       "    <tr>\n",
       "      <th>44</th>\n",
       "      <td>Jaguar</td>\n",
       "      <td>100.000</td>\n",
       "      <td>157.00</td>\n",
       "    </tr>\n",
       "    <tr>\n",
       "      <th>45</th>\n",
       "      <td>Chimpanzee</td>\n",
       "      <td>52.160</td>\n",
       "      <td>440.00</td>\n",
       "    </tr>\n",
       "    <tr>\n",
       "      <th>46</th>\n",
       "      <td>Baboon</td>\n",
       "      <td>10.550</td>\n",
       "      <td>179.50</td>\n",
       "    </tr>\n",
       "    <tr>\n",
       "      <th>47</th>\n",
       "      <td>Desert hedgehog</td>\n",
       "      <td>0.550</td>\n",
       "      <td>2.40</td>\n",
       "    </tr>\n",
       "    <tr>\n",
       "      <th>48</th>\n",
       "      <td>Giant armadillo</td>\n",
       "      <td>60.000</td>\n",
       "      <td>81.00</td>\n",
       "    </tr>\n",
       "    <tr>\n",
       "      <th>49</th>\n",
       "      <td>Rock hyrax-b</td>\n",
       "      <td>3.600</td>\n",
       "      <td>21.00</td>\n",
       "    </tr>\n",
       "    <tr>\n",
       "      <th>...</th>\n",
       "      <td>...</td>\n",
       "      <td>...</td>\n",
       "      <td>...</td>\n",
       "    </tr>\n",
       "    <tr>\n",
       "      <th>51</th>\n",
       "      <td>Rat</td>\n",
       "      <td>0.280</td>\n",
       "      <td>1.90</td>\n",
       "    </tr>\n",
       "    <tr>\n",
       "      <th>52</th>\n",
       "      <td>E. American mole</td>\n",
       "      <td>0.075</td>\n",
       "      <td>1.20</td>\n",
       "    </tr>\n",
       "    <tr>\n",
       "      <th>53</th>\n",
       "      <td>Mole rat</td>\n",
       "      <td>0.122</td>\n",
       "      <td>3.00</td>\n",
       "    </tr>\n",
       "    <tr>\n",
       "      <th>54</th>\n",
       "      <td>Musk shrew</td>\n",
       "      <td>0.048</td>\n",
       "      <td>0.33</td>\n",
       "    </tr>\n",
       "    <tr>\n",
       "      <th>55</th>\n",
       "      <td>Pig</td>\n",
       "      <td>192.000</td>\n",
       "      <td>180.00</td>\n",
       "    </tr>\n",
       "    <tr>\n",
       "      <th>56</th>\n",
       "      <td>Echidna</td>\n",
       "      <td>3.000</td>\n",
       "      <td>25.00</td>\n",
       "    </tr>\n",
       "    <tr>\n",
       "      <th>57</th>\n",
       "      <td>Brazilian tapir</td>\n",
       "      <td>160.000</td>\n",
       "      <td>169.00</td>\n",
       "    </tr>\n",
       "    <tr>\n",
       "      <th>58</th>\n",
       "      <td>Tenrec</td>\n",
       "      <td>0.900</td>\n",
       "      <td>2.60</td>\n",
       "    </tr>\n",
       "    <tr>\n",
       "      <th>59</th>\n",
       "      <td>Phalanger</td>\n",
       "      <td>1.620</td>\n",
       "      <td>11.40</td>\n",
       "    </tr>\n",
       "    <tr>\n",
       "      <th>60</th>\n",
       "      <td>Tree shrew</td>\n",
       "      <td>0.104</td>\n",
       "      <td>2.50</td>\n",
       "    </tr>\n",
       "  </tbody>\n",
       "</table>\n",
       "<p>21 rows × 3 columns</p>\n",
       "</div>"
      ],
      "text/plain": [
       "                Name     body   brain\n",
       "40        Slow loris    1.400   12.50\n",
       "41             Okapi  250.000  490.00\n",
       "42            Rabbit    2.500   12.10\n",
       "43             Sheep   55.500  175.00\n",
       "44            Jaguar  100.000  157.00\n",
       "45        Chimpanzee   52.160  440.00\n",
       "46            Baboon   10.550  179.50\n",
       "47   Desert hedgehog    0.550    2.40\n",
       "48   Giant armadillo   60.000   81.00\n",
       "49      Rock hyrax-b    3.600   21.00\n",
       "..               ...      ...     ...\n",
       "51               Rat    0.280    1.90\n",
       "52  E. American mole    0.075    1.20\n",
       "53          Mole rat    0.122    3.00\n",
       "54        Musk shrew    0.048    0.33\n",
       "55               Pig  192.000  180.00\n",
       "56           Echidna    3.000   25.00\n",
       "57   Brazilian tapir  160.000  169.00\n",
       "58            Tenrec    0.900    2.60\n",
       "59         Phalanger    1.620   11.40\n",
       "60        Tree shrew    0.104    2.50\n",
       "\n",
       "[21 rows x 3 columns]"
      ]
     },
     "execution_count": 11,
     "metadata": {},
     "output_type": "execute_result"
    }
   ],
   "source": [
    "mammals.ix[40:60]"
   ]
  },
  {
   "cell_type": "markdown",
   "metadata": {},
   "source": [
    "### Built-in Way"
   ]
  },
  {
   "cell_type": "code",
   "execution_count": 12,
   "metadata": {
    "collapsed": false
   },
   "outputs": [
    {
     "data": {
      "image/png": "[encoded data removed]",
      "text/plain": [
       "<matplotlib.figure.Figure at 0x7fae0fed1a90>"
      ]
     },
     "metadata": {},
     "output_type": "display_data"
    }
   ],
   "source": [
    "plt.scatter(mammals['body'], mammals['brain']);"
   ]
  },
  {
   "cell_type": "markdown",
   "metadata": {},
   "source": [
    "### SeaBorn Plot"
   ]
  },
  {
   "cell_type": "code",
   "execution_count": 31,
   "metadata": {
    "collapsed": false
   },
   "outputs": [
    {
     "data": {
      "image/png": "[encoded data removed]",
      "text/plain": [
       "<matplotlib.figure.Figure at 0x7fae0c2be690>"
      ]
     },
     "metadata": {},
     "output_type": "display_data"
    }
   ],
   "source": [
    "with sns.plotting_context(context='poster'):\n",
    "    sns.lmplot(\"body\", \"brain\", mammals, aspect=2);"
   ]
  },
  {
   "cell_type": "markdown",
   "metadata": {},
   "source": [
    "### Built-in Way"
   ]
  },
  {
   "cell_type": "code",
   "execution_count": 72,
   "metadata": {
    "collapsed": false
   },
   "outputs": [
    {
     "data": {
      "image/png": "[encoded data removed]",
      "text/plain": [
       "<matplotlib.figure.Figure at 0x7f0bf5ec21d0>"
      ]
     },
     "metadata": {},
     "output_type": "display_data"
    }
   ],
   "source": [
    "plt.hist(mammals['body'], bins=range(0, 10000, 100));"
   ]
  },
  {
   "cell_type": "code",
   "execution_count": 73,
   "metadata": {
    "collapsed": false
   },
   "outputs": [
    {
     "data": {
      "image/png": "[encoded data removed]",
      "text/plain": [
       "<matplotlib.figure.Figure at 0x7f0bf6639410>"
      ]
     },
     "metadata": {},
     "output_type": "display_data"
    }
   ],
   "source": [
    "sns.distplot(mammals['body']);"
   ]
  },
  {
   "cell_type": "code",
   "execution_count": 33,
   "metadata": {
    "collapsed": false
   },
   "outputs": [
    {
     "data": {
      "image/png": "[encoded data removed]",
      "text/plain": [
       "<matplotlib.figure.Figure at 0x7f0bf5b2d6d0>"
      ]
     },
     "metadata": {},
     "output_type": "display_data"
    }
   ],
   "source": [
    "plt.hist(mammals['brain'], bins=range(0, 10000, 100));"
   ]
  },
  {
   "cell_type": "code",
   "execution_count": 34,
   "metadata": {
    "collapsed": false
   },
   "outputs": [
    {
     "data": {
      "image/png": "[encoded data removed]",
      "text/plain": [
       "<matplotlib.figure.Figure at 0x7f0bf5c42750>"
      ]
     },
     "metadata": {},
     "output_type": "display_data"
    }
   ],
   "source": [
    "sns.distplot(mammals['body']);"
   ]
  },
  {
   "cell_type": "markdown",
   "metadata": {},
   "source": [
    "For the most part, we know that this data is a _long tail_ distribution, so we could take the log of each feature to create something that is not just more readable, but new features that could be a better representation of the data!\n"
   ]
  },
  {
   "cell_type": "code",
   "execution_count": 34,
   "metadata": {
    "collapsed": false
   },
   "outputs": [
    {
     "data": {
      "image/png": "[encoded data removed]",
      "text/plain": [
       "<matplotlib.figure.Figure at 0x7fae0be94cd0>"
      ]
     },
     "metadata": {},
     "output_type": "display_data"
    }
   ],
   "source": [
    "from numpy import log\n",
    "\n",
    "mammals['log_body'] = log(mammals['body'])\n",
    "mammals['log_brain'] = log(mammals['brain'])\n",
    "\n",
    "plt.scatter(mammals['log_body'], mammals['log_brain']);"
   ]
  },
  {
   "cell_type": "markdown",
   "metadata": {},
   "source": [
    "### Practice: Using Linear Regressions"
   ]
  },
  {
   "cell_type": "code",
   "execution_count": 45,
   "metadata": {
    "collapsed": false
   },
   "outputs": [
    {
     "data": {
      "text/plain": [
       "LinearRegression(copy_X=True, fit_intercept=True, n_jobs=1, normalize=False)"
      ]
     },
     "execution_count": 45,
     "metadata": {},
     "output_type": "execute_result"
    }
   ],
   "source": [
    "from sklearn import linear_model\n",
    "\n",
    "# Make the model object\n",
    "regr = linear_model.LinearRegression()\n",
    "\n",
    "# Fit the data\n",
    "body = [[x] for x in mammals['body']]\n",
    "brain = mammals['brain']\n",
    "\n",
    "regr.fit(body, brain)"
   ]
  },
  {
   "cell_type": "markdown",
   "metadata": {},
   "source": [
    "Above we go through some steps to get our data 'presentable' for scikit learn. There is a regression model available in PANDAS, but let's stick with the models available in scikit learn."
   ]
  },
  {
   "cell_type": "code",
   "execution_count": 47,
   "metadata": {
    "collapsed": false
   },
   "outputs": [
    {
     "name": "stdout",
     "output_type": "stream",
     "text": [
      "91.0043962074\n",
      "[ 0.96649637]\n",
      "6722239.0555\n",
      "0.872662084304\n"
     ]
    }
   ],
   "source": [
    "# Display the coefficients:\n",
    "print regr.intercept_\n",
    "print regr.coef_\n",
    "\n",
    "y_actual = brain\n",
    "y_hat = regr.predict(body)\n",
    "\n",
    "# Display our SSE:\n",
    "print np.sum((y_actual - y_hat) ** 2)\n",
    "\n",
    "# Scoring our model (closer to 1 is better!)\n",
    "print regr.score(body, brain)"
   ]
  },
  {
   "cell_type": "code",
   "execution_count": 50,
   "metadata": {
    "collapsed": true
   },
   "outputs": [],
   "source": [
    "regr = linear_model.LinearRegression()"
   ]
  },
  {
   "cell_type": "markdown",
   "metadata": {},
   "source": [
    "Our performance here is okay - we explained ~87% of the variance in the dataset, and can verify this with a plot:"
   ]
  },
  {
   "cell_type": "code",
   "execution_count": 88,
   "metadata": {
    "collapsed": false
   },
   "outputs": [
    {
     "data": {
      "image/png": "[encoded data removed]",
      "text/plain": [
       "<matplotlib.figure.Figure at 0x7f0bf6145750>"
      ]
     },
     "metadata": {},
     "output_type": "display_data"
    }
   ],
   "source": [
    "plt.scatter(body, brain)\n",
    "plt.plot(body, regr.predict(body), color='blue', linewidth=1);"
   ]
  },
  {
   "cell_type": "markdown",
   "metadata": {},
   "source": [
    "## Alternatively: StatsModels"
   ]
  },
  {
   "cell_type": "code",
   "execution_count": 89,
   "metadata": {
    "collapsed": false
   },
   "outputs": [],
   "source": [
    "from statsmodels.formula.api import ols"
   ]
  },
  {
   "cell_type": "code",
   "execution_count": 42,
   "metadata": {
    "collapsed": false
   },
   "outputs": [
    {
     "name": "stdout",
     "output_type": "stream",
     "text": [
      "                            OLS Regression Results                            \n",
      "==============================================================================\n",
      "Dep. Variable:                  brain   R-squared:                       0.873\n",
      "Model:                            OLS   Adj. R-squared:                  0.871\n",
      "Method:                 Least Squares   F-statistic:                     411.2\n",
      "Date:                Sat, 21 Nov 2015   Prob (F-statistic):           1.54e-28\n",
      "Time:                        01:33:42   Log-Likelihood:                -447.38\n",
      "No. Observations:                  62   AIC:                             898.8\n",
      "Df Residuals:                      60   BIC:                             903.0\n",
      "Df Model:                           1                                         \n",
      "Covariance Type:            nonrobust                                         \n",
      "==============================================================================\n",
      "                 coef    std err          t      P>|t|      [95.0% Conf. Int.]\n",
      "------------------------------------------------------------------------------\n",
      "Intercept     91.0044     43.553      2.090      0.041         3.886   178.123\n",
      "body           0.9665      0.048     20.278      0.000         0.871     1.062\n",
      "==============================================================================\n",
      "Omnibus:                       92.942   Durbin-Watson:                   2.339\n",
      "Prob(Omnibus):                  0.000   Jarque-Bera (JB):             1738.656\n",
      "Skew:                           4.382   Prob(JB):                         0.00\n",
      "Kurtosis:                      27.417   Cond. No.                         936.\n",
      "==============================================================================\n",
      "\n",
      "Warnings:\n",
      "[1] Standard Errors assume that the covariance matrix of the errors is correctly specified.\n"
     ]
    }
   ],
   "source": [
    "results = ols('brain ~ body', mammals).fit()\n",
    "print(results.summary())"
   ]
  },
  {
   "cell_type": "markdown",
   "metadata": {},
   "source": [
    "![break](assets/voronoi.png)"
   ]
  },
  {
   "cell_type": "code",
   "execution_count": 48,
   "metadata": {
    "collapsed": false
   },
   "outputs": [
    {
     "data": {
      "text/plain": [
       "u'%.2g'"
      ]
     },
     "execution_count": 48,
     "metadata": {},
     "output_type": "execute_result"
    }
   ],
   "source": [
    "%precision %.2g"
   ]
  },
  {
   "cell_type": "code",
   "execution_count": 49,
   "metadata": {
    "collapsed": false,
    "scrolled": false
   },
   "outputs": [
    {
     "data": {
      "text/html": [
       "<div>\n",
       "<table border=\"1\" class=\"dataframe\">\n",
       "  <thead>\n",
       "    <tr style=\"text-align: right;\">\n",
       "      <th></th>\n",
       "      <th>log_body</th>\n",
       "      <th>log_brain</th>\n",
       "    </tr>\n",
       "  </thead>\n",
       "  <tbody>\n",
       "    <tr>\n",
       "      <th>0</th>\n",
       "      <td>1.219354</td>\n",
       "      <td>3.795489</td>\n",
       "    </tr>\n",
       "    <tr>\n",
       "      <th>1</th>\n",
       "      <td>-0.733969</td>\n",
       "      <td>2.740840</td>\n",
       "    </tr>\n",
       "    <tr>\n",
       "      <th>2</th>\n",
       "      <td>0.300105</td>\n",
       "      <td>2.091864</td>\n",
       "    </tr>\n",
       "    <tr>\n",
       "      <th>3</th>\n",
       "      <td>6.142037</td>\n",
       "      <td>6.047372</td>\n",
       "    </tr>\n",
       "    <tr>\n",
       "      <th>4</th>\n",
       "      <td>3.592644</td>\n",
       "      <td>4.783316</td>\n",
       "    </tr>\n",
       "    <tr>\n",
       "      <th>5</th>\n",
       "      <td>3.319987</td>\n",
       "      <td>4.744932</td>\n",
       "    </tr>\n",
       "    <tr>\n",
       "      <th>6</th>\n",
       "      <td>2.696652</td>\n",
       "      <td>4.587006</td>\n",
       "    </tr>\n",
       "    <tr>\n",
       "      <th>7</th>\n",
       "      <td>0.039221</td>\n",
       "      <td>1.704748</td>\n",
       "    </tr>\n",
       "    <tr>\n",
       "      <th>8</th>\n",
       "      <td>1.432701</td>\n",
       "      <td>4.060443</td>\n",
       "    </tr>\n",
       "    <tr>\n",
       "      <th>9</th>\n",
       "      <td>-0.855666</td>\n",
       "      <td>1.856298</td>\n",
       "    </tr>\n",
       "    <tr>\n",
       "      <th>...</th>\n",
       "      <td>...</td>\n",
       "      <td>...</td>\n",
       "    </tr>\n",
       "    <tr>\n",
       "      <th>52</th>\n",
       "      <td>-2.590267</td>\n",
       "      <td>0.182322</td>\n",
       "    </tr>\n",
       "    <tr>\n",
       "      <th>53</th>\n",
       "      <td>-2.103734</td>\n",
       "      <td>1.098612</td>\n",
       "    </tr>\n",
       "    <tr>\n",
       "      <th>54</th>\n",
       "      <td>-3.036554</td>\n",
       "      <td>-1.108663</td>\n",
       "    </tr>\n",
       "    <tr>\n",
       "      <th>55</th>\n",
       "      <td>5.257495</td>\n",
       "      <td>5.192957</td>\n",
       "    </tr>\n",
       "    <tr>\n",
       "      <th>56</th>\n",
       "      <td>1.098612</td>\n",
       "      <td>3.218876</td>\n",
       "    </tr>\n",
       "    <tr>\n",
       "      <th>57</th>\n",
       "      <td>5.075174</td>\n",
       "      <td>5.129899</td>\n",
       "    </tr>\n",
       "    <tr>\n",
       "      <th>58</th>\n",
       "      <td>-0.105361</td>\n",
       "      <td>0.955511</td>\n",
       "    </tr>\n",
       "    <tr>\n",
       "      <th>59</th>\n",
       "      <td>0.482426</td>\n",
       "      <td>2.433613</td>\n",
       "    </tr>\n",
       "    <tr>\n",
       "      <th>60</th>\n",
       "      <td>-2.263364</td>\n",
       "      <td>0.916291</td>\n",
       "    </tr>\n",
       "    <tr>\n",
       "      <th>61</th>\n",
       "      <td>1.443383</td>\n",
       "      <td>3.919991</td>\n",
       "    </tr>\n",
       "  </tbody>\n",
       "</table>\n",
       "<p>62 rows × 2 columns</p>\n",
       "</div>"
      ],
      "text/plain": [
       "    log_body  log_brain\n",
       "0   1.219354   3.795489\n",
       "1  -0.733969   2.740840\n",
       "2   0.300105   2.091864\n",
       "3   6.142037   6.047372\n",
       "4   3.592644   4.783316\n",
       "5   3.319987   4.744932\n",
       "6   2.696652   4.587006\n",
       "7   0.039221   1.704748\n",
       "8   1.432701   4.060443\n",
       "9  -0.855666   1.856298\n",
       "..       ...        ...\n",
       "52 -2.590267   0.182322\n",
       "53 -2.103734   1.098612\n",
       "54 -3.036554  -1.108663\n",
       "55  5.257495   5.192957\n",
       "56  1.098612   3.218876\n",
       "57  5.075174   5.129899\n",
       "58 -0.105361   0.955511\n",
       "59  0.482426   2.433613\n",
       "60 -2.263364   0.916291\n",
       "61  1.443383   3.919991\n",
       "\n",
       "[62 rows x 2 columns]"
      ]
     },
     "execution_count": 49,
     "metadata": {},
     "output_type": "execute_result"
    }
   ],
   "source": [
    "mammals[['log_body','log_brain']]"
   ]
  },
  {
   "cell_type": "markdown",
   "metadata": {},
   "source": [
    "### Classwork"
   ]
  },
  {
   "cell_type": "markdown",
   "metadata": {},
   "source": [
    "For the questions pertaining to the NYT dataset, you can use the the cleaned up aggregation nytimes data, `nyagg.csv`"
   ]
  },
  {
   "cell_type": "markdown",
   "metadata": {},
   "source": [
    "1. Go through the same steps, but this time generate a new model use the log of brain and body, which we know generated a much better distribution and cleaner set of data. Compare the results to the original model. Remember that exp() can be\n",
    "used to \"normalize\" our \"logged\" values. ***Note: Make sure you start a new linear regression object!***\n",
    "\n",
    "2. Pandas Practice! Given the following DataFrame, create a new one in which you have created two new binarised columns, i.e.:\n",
    "\n",
    "From \n",
    "\n",
    "```python\n",
    "pd.DataFrame(['m','m','m','f','f','m'], \n",
    "columns=['sex'])\n",
    "\n",
    "```\n",
    "into\n",
    "\n",
    "|   | m | f |\n",
    "|---|---|---|\n",
    "| 0 | 0 | 0 |\n",
    "| 1 | 0 | 0 |\n",
    "| 2 | 0 | 0 |\n",
    "| 3 | 1 | 1 |\n",
    "| 4 | 1 | 1 |\n",
    "| 5 | 0 | 0 |\n",
    "\n",
    "3. Using your aggregate data compiled from nyimes1-30.csv, write a python script that determines the best model predicting CTR based off of age and gender.\n",
    "\n",
    "4. Compare this practice to making two separate models based on Gender, with Age as your one feature predicting CTR. How are your results different? Which results would you be more confident in presenting to your manager? Why's that?\n",
    "\n",
    "5. Evaluate what data you could still use to improve your nytimes model. Consider plotting your model to service your explanations and write a short blurb about insights gained and next steps in your \"data collection.\""
   ]
  },
  {
   "cell_type": "markdown",
   "metadata": {},
   "source": [
    "![break](assets/resources.png)"
   ]
  },
  {
   "cell_type": "markdown",
   "metadata": {},
   "source": [
    "## Resources"
   ]
  },
  {
   "cell_type": "markdown",
   "metadata": {},
   "source": [
    "#### Handbooks"
   ]
  },
  {
   "cell_type": "markdown",
   "metadata": {},
   "source": [
    "* [Regression Analysis by Example](http://type.hk:2551/calibre/browse/book/294) (**Chapter 1 - 2**) - Samprit Chatterjee\n",
    "* [Matrix Algebra as a Tool](http://book.type.hk/calibre/browse/book/464) - Ali S. Hadi"
   ]
  },
  {
   "cell_type": "markdown",
   "metadata": {},
   "source": [
    "## Colofon"
   ]
  },
  {
   "cell_type": "code",
   "execution_count": 46,
   "metadata": {
    "collapsed": false
   },
   "outputs": [
    {
     "name": "stdout",
     "output_type": "stream",
     "text": [
      "Python    2.7.10\n",
      "IPython   4.0.0\n",
      "numpy     1.10.1\n",
      "pandas    0.17.0\n",
      "sklearn   0.17\n",
      "seaborn   0.6.0\n"
     ]
    }
   ],
   "source": [
    "from utils import *\n",
    "print_versions()"
   ]
  },
  {
   "cell_type": "code",
   "execution_count": 2,
   "metadata": {
    "collapsed": false
   },
   "outputs": [
    {
     "data": {
      "text/html": [
       "\n",
       "<link rel=\"stylesheet\" href=\"theme/custom.css\">"
      ],
      "text/plain": [
       "<IPython.core.display.HTML object>"
      ]
     },
     "metadata": {},
     "output_type": "display_data"
    }
   ],
   "source": [
    "%%html\n",
    "\n",
    "<link rel=\"stylesheet\" href=\"theme/custom.css\">"
   ]
  }
 ],
 "metadata": {
  "kernelspec": {
   "display_name": "Python 2",
   "language": "python",
   "name": "python2"
  },
  "language_info": {
   "codemirror_mode": {
    "name": "ipython",
    "version": 2
   },
   "file_extension": ".py",
   "mimetype": "text/x-python",
   "name": "python",
   "nbconvert_exporter": "python",
   "pygments_lexer": "ipython2",
   "version": "2.7.11"
  }
 },
 "nbformat": 4,
 "nbformat_minor": 0
}

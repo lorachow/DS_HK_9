{
 "cells": [
  {
   "cell_type": "markdown",
   "metadata": {},
   "source": [
    "![](https://www.cranfield.ac.uk/~/media/Images/mastheads/masthead-bix-mh344x810.ashx?h=344&la=en&mw=810&w=810&hash=4AD63583A5EA5BF7E5E561A1C62A8F7879F36571)"
   ]
  },
  {
   "cell_type": "markdown",
   "metadata": {},
   "source": [
    "# Exploratory Data Analysis"
   ]
  },
  {
   "cell_type": "markdown",
   "metadata": {},
   "source": [
    "> Doing statistics is like doing crosswords except that one cannot know for sure whether one has found the solution.\n",
    "\n",
    "<footer>~  John W. Tukey</footer>"
   ]
  },
  {
   "cell_type": "markdown",
   "metadata": {},
   "source": [
    "![break](assets/agenda.png)"
   ]
  },
  {
   "cell_type": "markdown",
   "metadata": {},
   "source": [
    "### Agenda\n",
    "\n",
    "* Deal with Missing Data\n",
    "* Explore Data by Visualisations"
   ]
  },
  {
   "cell_type": "markdown",
   "metadata": {},
   "source": [
    "![break](assets/theory.png)"
   ]
  },
  {
   "cell_type": "markdown",
   "metadata": {},
   "source": [
    "### Motivating Example... Catching Cheaters"
   ]
  },
  {
   "cell_type": "markdown",
   "metadata": {},
   "source": [
    "![](assets/cplot.Rout-0.png)"
   ]
  },
  {
   "cell_type": "markdown",
   "metadata": {},
   "source": [
    "[Source](http://jd-mathbio.blogspot.ca/2015/02/finding-cheaters-using-multiple-choice.html?utm_source=marketo&utm_medium=email&utm_campaign=DA-NL-202&mkt_tok=3RkMMJWWfF9wsRokvq3MZKXonjHpfsX%2B7%2BooW6Gg38431UFwdcjKPmjr1YEETcB0aPyQAgobGp5I5FEOS7PYS6V6t6EOUg%3D%3D)"
   ]
  },
  {
   "cell_type": "markdown",
   "metadata": {},
   "source": [
    "## The Goals of Exploratory Data Analysis"
   ]
  },
  {
   "cell_type": "markdown",
   "metadata": {},
   "source": [
    "1. Summarize the main characteristics of datasets with Summary Statistics (Initial Data Analysis)\n",
    "1. Visually inspect the structure and nature of the data\n",
    "1. Find what the data can tell us beyond the formal modeling or hypothesis testing task."
   ]
  },
  {
   "cell_type": "markdown",
   "metadata": {},
   "source": [
    "#### Example : Measurement Precision"
   ]
  },
  {
   "cell_type": "markdown",
   "metadata": {},
   "source": [
    "![](assets/rounding1.png)"
   ]
  },
  {
   "cell_type": "markdown",
   "metadata": {},
   "source": [
    "![](assets/rounding2.png)"
   ]
  },
  {
   "cell_type": "markdown",
   "metadata": {},
   "source": [
    "![](assets/rounding3.png)"
   ]
  },
  {
   "cell_type": "markdown",
   "metadata": {},
   "source": [
    "### Let the visuals speak to you"
   ]
  },
  {
   "cell_type": "markdown",
   "metadata": {},
   "source": [
    "Always explore your data visually. Whatever specific hypothesis you have when you go out to collect data is likely to be worse than any of the hypotheses you’ll form after looking at just a few simple visualizations of that data."
   ]
  },
  {
   "cell_type": "markdown",
   "metadata": {},
   "source": [
    "#### Load `ggplot` and plot graphs inline"
   ]
  },
  {
   "cell_type": "code",
   "execution_count": null,
   "metadata": {
    "collapsed": false
   },
   "outputs": [],
   "source": [
    "%%sh\n",
    "pip install ggplot"
   ]
  },
  {
   "cell_type": "code",
   "execution_count": null,
   "metadata": {
    "collapsed": false
   },
   "outputs": [],
   "source": [
    "from ggplot import *\n",
    "import pandas as pd\n",
    "import warnings\n",
    "\n",
    "warnings.filterwarnings(\"ignore\", category=DeprecationWarning)\n",
    "\n",
    "%matplotlib inline"
   ]
  },
  {
   "cell_type": "markdown",
   "metadata": {},
   "source": [
    "### How are zipcodes distributed in the US?"
   ]
  },
  {
   "cell_type": "code",
   "execution_count": null,
   "metadata": {
    "collapsed": false,
    "scrolled": false
   },
   "outputs": [],
   "source": [
    "zipcodes = pd.read_csv(\"../data/zipcodes.csv\")\n",
    "zipcodes.head(3)"
   ]
  },
  {
   "cell_type": "code",
   "execution_count": null,
   "metadata": {
    "collapsed": false,
    "scrolled": false
   },
   "outputs": [],
   "source": [
    "zipcodes[zipcodes.country.str.contains('CN')]"
   ]
  },
  {
   "cell_type": "code",
   "execution_count": null,
   "metadata": {
    "collapsed": false
   },
   "outputs": [],
   "source": [
    "ggplot(zipcodes, aes(x = 'zip', y = 'latitude')) + \\\n",
    "    geom_point() + \\\n",
    "    ggtitle(\"(Latitude, Zipcode) Scatterplot\")"
   ]
  },
  {
   "cell_type": "code",
   "execution_count": null,
   "metadata": {
    "collapsed": false
   },
   "outputs": [],
   "source": [
    "ggplot(zipcodes, aes(x = 'zip', y = 'longitude')) + \\\n",
    "    geom_point() + \\\n",
    "    ggtitle(\"(Longitude, Zipcode) Scatterplot\")"
   ]
  },
  {
   "cell_type": "code",
   "execution_count": null,
   "metadata": {
    "collapsed": false
   },
   "outputs": [],
   "source": [
    "ggplot(zipcodes, aes(x = 'longitude', y = 'latitude', color = 'zip')) + \\\n",
    "    geom_point() + \\\n",
    "    ggtitle(\"(Longitude, Latitude) Heatmap\")"
   ]
  },
  {
   "cell_type": "code",
   "execution_count": null,
   "metadata": {
    "collapsed": false
   },
   "outputs": [],
   "source": [
    "ggplot(zipcodes[zipcodes['longitude'] < 0], aes(x = 'longitude', y = 'latitude', color = 'zip')) + \\\n",
    "    geom_point() + \\\n",
    "    ggtitle(\"(Longitude, Latitude) Heatmap\")"
   ]
  },
  {
   "cell_type": "markdown",
   "metadata": {},
   "source": [
    "### Objectives"
   ]
  },
  {
   "cell_type": "markdown",
   "metadata": {},
   "source": [
    "* **Quality of measurements**\n",
    "* **Quality of data**\n",
    "* **Initial transformations**\n",
    "* **Univariate statistics** (single variable)\n",
    "* **Bivariate associations** (correlations)\n",
    "* **Multivarite patterns** (analysis)"
   ]
  },
  {
   "cell_type": "markdown",
   "metadata": {},
   "source": [
    "### Missing Data"
   ]
  },
  {
   "cell_type": "markdown",
   "metadata": {},
   "source": [
    "In this section, we will discuss missing (also referred to as **NA**) values in pandas."
   ]
  },
  {
   "cell_type": "markdown",
   "metadata": {},
   "source": [
    "#### When / why does data become missing?"
   ]
  },
  {
   "cell_type": "markdown",
   "metadata": {},
   "source": [
    "Some might quibble over our usage of missing. By “missing” we simply mean null or “not present for whatever reason”. Many data sets simply arrive with missing data, either because it exists and was not collected or it never existed. For example, in a collection of financial time series, some of the time series might start on different dates. Thus, values prior to the start date would generally be marked as missing."
   ]
  },
  {
   "cell_type": "markdown",
   "metadata": {},
   "source": [
    "As data comes in many shapes and forms, pandas aims to be flexible with regard to handling missing data. While `NaN` is the default missing value marker for reasons of computational speed and convenience, we need to be able to easily detect this value with data of different types: floating point, integer, boolean, and general object. In many cases, however, the Python `None` will arise and we wish to also consider that “missing” or “null”.\n",
    "\n",
    "* NaN and None (in object arrays) are considered missing by the isnull and notnull functions. inf and -inf are no longer considered missing by default.\n",
    "* To make detecting missing values easier (and across different array dtypes), pandas provides the `isnull()` and `notnull()` functions, which are also methods on `Series` objects:"
   ]
  },
  {
   "cell_type": "code",
   "execution_count": null,
   "metadata": {
    "collapsed": false
   },
   "outputs": [],
   "source": [
    "import cufflinks as cf"
   ]
  },
  {
   "cell_type": "code",
   "execution_count": null,
   "metadata": {
    "collapsed": false
   },
   "outputs": [],
   "source": [
    "df = cf.datagen.lines(2,10)"
   ]
  },
  {
   "cell_type": "code",
   "execution_count": null,
   "metadata": {
    "collapsed": false
   },
   "outputs": [],
   "source": [
    "df.columns = ['a','b']"
   ]
  },
  {
   "cell_type": "code",
   "execution_count": null,
   "metadata": {
    "collapsed": true
   },
   "outputs": [],
   "source": [
    "df[['data']] // df['data'] // df.data \n"
   ]
  },
  {
   "cell_type": "code",
   "execution_count": null,
   "metadata": {
    "collapsed": false
   },
   "outputs": [],
   "source": [
    "rows[:3]"
   ]
  },
  {
   "cell_type": "code",
   "execution_count": null,
   "metadata": {
    "collapsed": false
   },
   "outputs": [],
   "source": [
    "df.data.ix[rows[:3]]"
   ]
  },
  {
   "cell_type": "code",
   "execution_count": null,
   "metadata": {
    "collapsed": false
   },
   "outputs": [],
   "source": [
    "data"
   ]
  },
  {
   "cell_type": "code",
   "execution_count": null,
   "metadata": {
    "collapsed": false
   },
   "outputs": [],
   "source": [
    "sample(data, 6)"
   ]
  },
  {
   "cell_type": "code",
   "execution_count": null,
   "metadata": {
    "collapsed": false
   },
   "outputs": [],
   "source": [
    "df"
   ]
  },
  {
   "cell_type": "code",
   "execution_count": null,
   "metadata": {
    "collapsed": false
   },
   "outputs": [],
   "source": [
    "df.data.ix[rows[:3]]"
   ]
  },
  {
   "cell_type": "code",
   "execution_count": null,
   "metadata": {
    "collapsed": false
   },
   "outputs": [],
   "source": [
    "df.data.ix[rows[3:]]"
   ]
  },
  {
   "cell_type": "code",
   "execution_count": null,
   "metadata": {
    "collapsed": false
   },
   "outputs": [],
   "source": [
    "s = pd.DataFrame([1,2,3,4])"
   ]
  },
  {
   "cell_type": "code",
   "execution_count": null,
   "metadata": {
    "collapsed": false
   },
   "outputs": [],
   "source": [
    "s = s[0].astype('float16')"
   ]
  },
  {
   "cell_type": "code",
   "execution_count": null,
   "metadata": {
    "collapsed": false
   },
   "outputs": [],
   "source": [
    "a = pd.DataFrame([True,1,1.1,'one'])"
   ]
  },
  {
   "cell_type": "code",
   "execution_count": null,
   "metadata": {
    "collapsed": true
   },
   "outputs": [],
   "source": [
    "b = pd.DataFrame([True,True,True,True])"
   ]
  },
  {
   "cell_type": "code",
   "execution_count": null,
   "metadata": {
    "collapsed": false
   },
   "outputs": [],
   "source": [
    "a.info()"
   ]
  },
  {
   "cell_type": "code",
   "execution_count": null,
   "metadata": {
    "collapsed": false
   },
   "outputs": [],
   "source": [
    "b.info()"
   ]
  },
  {
   "cell_type": "code",
   "execution_count": null,
   "metadata": {
    "collapsed": false
   },
   "outputs": [],
   "source": [
    "s[0] = 1.47583748278472384632746326754632546325643267"
   ]
  },
  {
   "cell_type": "code",
   "execution_count": null,
   "metadata": {
    "collapsed": false
   },
   "outputs": [],
   "source": [
    "s[0]"
   ]
  },
  {
   "cell_type": "code",
   "execution_count": null,
   "metadata": {
    "collapsed": false
   },
   "outputs": [],
   "source": [
    "import pandas as pd\n",
    "import numpy as np\n",
    "from random import sample\n",
    "\n",
    "data = range(10)\n",
    "\n",
    "df = pd.DataFrame(data, columns=['data'])\n",
    "df['fulldata'] = data\n",
    "\n",
    "rows = [2, 3, 6, 8, 5, 7]\n",
    "\n",
    "df.data.ix[rows[:3]] = None\n",
    "df.data.ix[rows[3:]] = np.nan"
   ]
  },
  {
   "cell_type": "code",
   "execution_count": null,
   "metadata": {
    "collapsed": false
   },
   "outputs": [],
   "source": [
    "df"
   ]
  },
  {
   "cell_type": "code",
   "execution_count": null,
   "metadata": {
    "collapsed": false
   },
   "outputs": [],
   "source": [
    "df[pd.notnull(df.data)]"
   ]
  },
  {
   "cell_type": "code",
   "execution_count": null,
   "metadata": {
    "collapsed": false
   },
   "outputs": [],
   "source": [
    "pd.notnull(df.data)\n",
    "# same as\n",
    "df.data.notnull()"
   ]
  },
  {
   "cell_type": "markdown",
   "metadata": {},
   "source": [
    "#### Calculations with missing data"
   ]
  },
  {
   "cell_type": "markdown",
   "metadata": {},
   "source": [
    "The descriptive statistics and computational methods in pandas are all written to account for missing data\n",
    "\n",
    "* When summing data, `NA` (missing) values will be treated as zero\n",
    "* If the data are all `NA`, the result will be `NA`\n",
    "* Methods like `cumsum` and `cumprod` ignore `NA` values, but preserve them in the resulting arrays"
   ]
  },
  {
   "cell_type": "code",
   "execution_count": null,
   "metadata": {
    "collapsed": false
   },
   "outputs": [],
   "source": [
    "df"
   ]
  },
  {
   "cell_type": "code",
   "execution_count": null,
   "metadata": {
    "collapsed": false
   },
   "outputs": [],
   "source": [
    "df.data.sum()"
   ]
  },
  {
   "cell_type": "code",
   "execution_count": null,
   "metadata": {
    "collapsed": false
   },
   "outputs": [],
   "source": [
    "df.mean(1)"
   ]
  },
  {
   "cell_type": "code",
   "execution_count": null,
   "metadata": {
    "collapsed": false
   },
   "outputs": [],
   "source": [
    "df.cumsum()"
   ]
  },
  {
   "cell_type": "markdown",
   "metadata": {},
   "source": [
    "### Cleaning / filling missing data"
   ]
  },
  {
   "cell_type": "markdown",
   "metadata": {},
   "source": [
    "pandas objects are equipped with various data manipulation methods for dealing with missing data"
   ]
  },
  {
   "cell_type": "markdown",
   "metadata": {},
   "source": [
    "#### Filling missing values: `fillna()`"
   ]
  },
  {
   "cell_type": "markdown",
   "metadata": {},
   "source": [
    "The `fillna` function can “fill in” NA values with non-null data in a couple of ways, which we illustrate:"
   ]
  },
  {
   "cell_type": "markdown",
   "metadata": {},
   "source": [
    "##### Replace NA with a scalar value"
   ]
  },
  {
   "cell_type": "code",
   "execution_count": null,
   "metadata": {
    "collapsed": false
   },
   "outputs": [],
   "source": [
    "df"
   ]
  },
  {
   "cell_type": "code",
   "execution_count": null,
   "metadata": {
    "collapsed": false
   },
   "outputs": [],
   "source": [
    "df.fillna(0)"
   ]
  },
  {
   "cell_type": "code",
   "execution_count": null,
   "metadata": {
    "collapsed": false
   },
   "outputs": [],
   "source": [
    "df['data'].fillna('missing')"
   ]
  },
  {
   "cell_type": "markdown",
   "metadata": {},
   "source": [
    "#### Fill gaps forward or backward"
   ]
  },
  {
   "cell_type": "markdown",
   "metadata": {},
   "source": [
    "We can propagate non-null values forward or backward:"
   ]
  },
  {
   "cell_type": "code",
   "execution_count": null,
   "metadata": {
    "collapsed": false
   },
   "outputs": [],
   "source": [
    "df1 = df.fillna(method='pad')"
   ]
  },
  {
   "cell_type": "markdown",
   "metadata": {},
   "source": [
    "#### Limit the amount of filling"
   ]
  },
  {
   "cell_type": "markdown",
   "metadata": {},
   "source": [
    "If we only want consecutive gaps filled up to a certain number of data points, we can use the limit keyword:"
   ]
  },
  {
   "cell_type": "code",
   "execution_count": null,
   "metadata": {
    "collapsed": false
   },
   "outputs": [],
   "source": [
    "df.fillna(method='pad', limit=1)"
   ]
  },
  {
   "cell_type": "markdown",
   "metadata": {},
   "source": [
    "These are the available filling methods:"
   ]
  },
  {
   "cell_type": "markdown",
   "metadata": {},
   "source": [
    "| Method | Action |\n",
    "|--------|--------|\n",
    "| pad / ffill\tFill | values forward |\n",
    "| bfill / backfill | Fill values backward |"
   ]
  },
  {
   "cell_type": "markdown",
   "metadata": {},
   "source": [
    "With time series data, using pad/ffill is extremely common so that the “last known value” is available at every time point.\n",
    "\n",
    "The ffill() function is equivalent to fillna(method='ffill') and bfill() is equivalent to fillna(method='bfill')"
   ]
  },
  {
   "cell_type": "markdown",
   "metadata": {},
   "source": [
    "You can also fillna using a `dict` or `Series` that is alignable. The labels of the `dict` or `index` of the `Series` must match the columns of the frame you wish to fill. The use case of this is to fill a DataFrame with the mean of that column."
   ]
  },
  {
   "cell_type": "code",
   "execution_count": null,
   "metadata": {
    "collapsed": false
   },
   "outputs": [],
   "source": [
    "df.fillna(df.mean())"
   ]
  },
  {
   "cell_type": "code",
   "execution_count": null,
   "metadata": {
    "collapsed": false
   },
   "outputs": [],
   "source": [
    "df"
   ]
  },
  {
   "cell_type": "code",
   "execution_count": null,
   "metadata": {
    "collapsed": false
   },
   "outputs": [],
   "source": [
    "df.data"
   ]
  },
  {
   "cell_type": "markdown",
   "metadata": {},
   "source": [
    "### Dropping axis labels with missing data: dropna"
   ]
  },
  {
   "cell_type": "markdown",
   "metadata": {},
   "source": [
    "You may wish to simply exclude labels from a data set which refer to missing data. To do this, use the dropna method:"
   ]
  },
  {
   "cell_type": "code",
   "execution_count": null,
   "metadata": {
    "collapsed": false
   },
   "outputs": [],
   "source": [
    "df"
   ]
  },
  {
   "cell_type": "code",
   "execution_count": null,
   "metadata": {
    "collapsed": false
   },
   "outputs": [],
   "source": [
    "df.dropna()"
   ]
  },
  {
   "cell_type": "code",
   "execution_count": null,
   "metadata": {
    "collapsed": false
   },
   "outputs": [],
   "source": [
    "df.dropna(1)"
   ]
  },
  {
   "cell_type": "markdown",
   "metadata": {},
   "source": [
    "For a full overview of the API, see the [documentation](http://pandas.pydata.org/pandas-docs/dev/api.html#api-dataframe-missing)"
   ]
  },
  {
   "cell_type": "markdown",
   "metadata": {},
   "source": [
    "### Interpolation"
   ]
  },
  {
   "cell_type": "markdown",
   "metadata": {},
   "source": [
    "Both Series and Dataframe objects have an interpolate method that, by default, performs linear interpolation at missing datapoints."
   ]
  },
  {
   "cell_type": "markdown",
   "metadata": {},
   "source": [
    "This is where datatypes become important again. Notice the `dtype` of the 'data' column."
   ]
  },
  {
   "cell_type": "code",
   "execution_count": null,
   "metadata": {
    "collapsed": false
   },
   "outputs": [],
   "source": [
    "df.data"
   ]
  },
  {
   "cell_type": "markdown",
   "metadata": {},
   "source": [
    "First we need to get rid of the 'None' values, as this makes it into the loosest 'object' datatype. Using NaN we can use the float dataetime.."
   ]
  },
  {
   "cell_type": "code",
   "execution_count": null,
   "metadata": {
    "collapsed": false
   },
   "outputs": [],
   "source": [
    "df.isnull()"
   ]
  },
  {
   "cell_type": "code",
   "execution_count": null,
   "metadata": {
    "collapsed": false
   },
   "outputs": [],
   "source": [
    "type(np.nan)"
   ]
  },
  {
   "cell_type": "code",
   "execution_count": null,
   "metadata": {
    "collapsed": false
   },
   "outputs": [],
   "source": [
    "df[df.isnull()] = np.nan\n",
    "# df.info()"
   ]
  },
  {
   "cell_type": "markdown",
   "metadata": {},
   "source": [
    "use `astype` to coerce a column into a specific datatype."
   ]
  },
  {
   "cell_type": "code",
   "execution_count": null,
   "metadata": {
    "collapsed": false
   },
   "outputs": [],
   "source": [
    "df.data.astype('float')"
   ]
  },
  {
   "cell_type": "code",
   "execution_count": null,
   "metadata": {
    "collapsed": false
   },
   "outputs": [],
   "source": [
    "df.data = df.data.astype(np.float)"
   ]
  },
  {
   "cell_type": "code",
   "execution_count": null,
   "metadata": {
    "collapsed": false
   },
   "outputs": [],
   "source": [
    "df.ix[9,:] = [20,9]"
   ]
  },
  {
   "cell_type": "code",
   "execution_count": null,
   "metadata": {
    "collapsed": false
   },
   "outputs": [],
   "source": [
    "df"
   ]
  },
  {
   "cell_type": "code",
   "execution_count": null,
   "metadata": {
    "collapsed": false
   },
   "outputs": [],
   "source": [
    "df.interpolate()"
   ]
  },
  {
   "cell_type": "markdown",
   "metadata": {},
   "source": [
    "For a floating-point index, use method='values'"
   ]
  },
  {
   "cell_type": "code",
   "execution_count": null,
   "metadata": {
    "collapsed": false
   },
   "outputs": [],
   "source": [
    "dfxx = df.ix[[0,2,5,9]]"
   ]
  },
  {
   "cell_type": "code",
   "execution_count": null,
   "metadata": {
    "collapsed": false
   },
   "outputs": [],
   "source": [
    "dfxx"
   ]
  },
  {
   "cell_type": "code",
   "execution_count": null,
   "metadata": {
    "collapsed": false
   },
   "outputs": [],
   "source": [
    "dfxx.interpolate()"
   ]
  },
  {
   "cell_type": "code",
   "execution_count": null,
   "metadata": {
    "collapsed": false
   },
   "outputs": [],
   "source": [
    "dfxx.interpolate(method='values')"
   ]
  },
  {
   "cell_type": "markdown",
   "metadata": {},
   "source": [
    "As a practical review of what's discussed here see this [summary](http://manishamde.github.io/blog/2013/03/07/pandas-and-python-top-10/#missing)"
   ]
  },
  {
   "cell_type": "markdown",
   "metadata": {},
   "source": [
    "### Tips"
   ]
  },
  {
   "cell_type": "markdown",
   "metadata": {},
   "source": [
    "Food servers’ tips in restaurants may be influenced by many factors, including the nature of the restaurant, size of the party, and table locations in the restaurant. Restaurant managers need to know which factors matter when they assign tables to food servers. For the sake of staff morale, they usually want to avoid either the substance or the appearance of unfair treatment of the servers, for whom tips (at least in restaurants in the United States) are a major component of pay."
   ]
  },
  {
   "cell_type": "markdown",
   "metadata": {},
   "source": [
    "In one restaurant, a food server recorded the following data on all customers they served during an interval of two and a half months in early 1990. The restaurant, located in a suburban shopping mall, was part of a national chain and served a varied menu. In observance of local law the restaurant offered seating in a non-smoking section to patrons who requested it. Each record includes a day and time, and taken together, they show the server’s work schedule."
   ]
  },
  {
   "cell_type": "markdown",
   "metadata": {},
   "source": [
    "    Source: Bryant, P. G. and Smith, M. A. (1995), Practical Data Analysis:\n",
    "    Case Studies in Business Statistics, Richard D. Irwin Publishing, Homewood, IL."
   ]
  },
  {
   "cell_type": "markdown",
   "metadata": {},
   "source": [
    "**What are the factors that affect tipping behavior?**"
   ]
  },
  {
   "cell_type": "markdown",
   "metadata": {},
   "source": [
    "#### Load the Dataset"
   ]
  },
  {
   "cell_type": "code",
   "execution_count": 70,
   "metadata": {
    "collapsed": true
   },
   "outputs": [],
   "source": [
    "import pandas as pd"
   ]
  },
  {
   "cell_type": "code",
   "execution_count": 71,
   "metadata": {
    "collapsed": false
   },
   "outputs": [],
   "source": [
    "from ggplot import *\n",
    "\n",
    "tips = pd.read_csv('../data/tips.csv')"
   ]
  },
  {
   "cell_type": "markdown",
   "metadata": {},
   "source": [
    "#### Inspect the variables"
   ]
  },
  {
   "cell_type": "code",
   "execution_count": 72,
   "metadata": {
    "collapsed": false
   },
   "outputs": [
    {
     "data": {
      "text/html": [
       "<div style=\"max-height:1000px;max-width:1500px;overflow:auto;\">\n",
       "<table border=\"1\" class=\"dataframe\">\n",
       "  <thead>\n",
       "    <tr style=\"text-align: right;\">\n",
       "      <th></th>\n",
       "      <th>obs</th>\n",
       "      <th>totbill</th>\n",
       "      <th>tip</th>\n",
       "      <th>sex</th>\n",
       "      <th>smoker</th>\n",
       "      <th>day</th>\n",
       "      <th>time</th>\n",
       "      <th>size</th>\n",
       "    </tr>\n",
       "  </thead>\n",
       "  <tbody>\n",
       "    <tr>\n",
       "      <th>0</th>\n",
       "      <td> 1</td>\n",
       "      <td> 16.99</td>\n",
       "      <td> 1.01</td>\n",
       "      <td> F</td>\n",
       "      <td> No</td>\n",
       "      <td> Sun</td>\n",
       "      <td> Night</td>\n",
       "      <td> 2</td>\n",
       "    </tr>\n",
       "    <tr>\n",
       "      <th>1</th>\n",
       "      <td> 2</td>\n",
       "      <td> 10.34</td>\n",
       "      <td> 1.66</td>\n",
       "      <td> M</td>\n",
       "      <td> No</td>\n",
       "      <td> Sun</td>\n",
       "      <td> Night</td>\n",
       "      <td> 3</td>\n",
       "    </tr>\n",
       "    <tr>\n",
       "      <th>2</th>\n",
       "      <td> 3</td>\n",
       "      <td> 21.01</td>\n",
       "      <td> 3.50</td>\n",
       "      <td> M</td>\n",
       "      <td> No</td>\n",
       "      <td> Sun</td>\n",
       "      <td> Night</td>\n",
       "      <td> 3</td>\n",
       "    </tr>\n",
       "  </tbody>\n",
       "</table>\n",
       "</div>"
      ],
      "text/plain": [
       "   obs  totbill   tip sex smoker  day   time  size\n",
       "0    1    16.99  1.01   F     No  Sun  Night     2\n",
       "1    2    10.34  1.66   M     No  Sun  Night     3\n",
       "2    3    21.01  3.50   M     No  Sun  Night     3"
      ]
     },
     "execution_count": 72,
     "metadata": {},
     "output_type": "execute_result"
    }
   ],
   "source": [
    "tips.head(3)"
   ]
  },
  {
   "cell_type": "code",
   "execution_count": 79,
   "metadata": {
    "collapsed": false
   },
   "outputs": [
    {
     "data": {
      "text/plain": [
       "Night    176\n",
       "Day       68\n",
       "dtype: int64"
      ]
     },
     "execution_count": 79,
     "metadata": {},
     "output_type": "execute_result"
    }
   ],
   "source": [
    "tips.time.value_counts()"
   ]
  },
  {
   "cell_type": "code",
   "execution_count": 75,
   "metadata": {
    "collapsed": false
   },
   "outputs": [
    {
     "name": "stdout",
     "output_type": "stream",
     "text": [
      "<class 'pandas.core.frame.DataFrame'>\n",
      "Int64Index: 244 entries, 0 to 243\n",
      "Data columns (total 8 columns):\n",
      "obs        244 non-null int64\n",
      "totbill    244 non-null float64\n",
      "tip        244 non-null float64\n",
      "sex        244 non-null object\n",
      "smoker     244 non-null object\n",
      "day        244 non-null object\n",
      "time       244 non-null object\n",
      "size       244 non-null int64\n",
      "dtypes: float64(2), int64(2), object(4)\n",
      "memory usage: 17.2+ KB\n"
     ]
    }
   ],
   "source": [
    "tips.info()"
   ]
  },
  {
   "cell_type": "code",
   "execution_count": 74,
   "metadata": {
    "collapsed": false
   },
   "outputs": [
    {
     "data": {
      "text/html": [
       "<div style=\"max-height:1000px;max-width:1500px;overflow:auto;\">\n",
       "<table border=\"1\" class=\"dataframe\">\n",
       "  <thead>\n",
       "    <tr style=\"text-align: right;\">\n",
       "      <th></th>\n",
       "      <th>obs</th>\n",
       "      <th>totbill</th>\n",
       "      <th>tip</th>\n",
       "      <th>size</th>\n",
       "    </tr>\n",
       "  </thead>\n",
       "  <tbody>\n",
       "    <tr>\n",
       "      <th>count</th>\n",
       "      <td> 244.000000</td>\n",
       "      <td> 244.000000</td>\n",
       "      <td> 244.000000</td>\n",
       "      <td> 244.000000</td>\n",
       "    </tr>\n",
       "    <tr>\n",
       "      <th>mean</th>\n",
       "      <td> 122.500000</td>\n",
       "      <td>  19.785943</td>\n",
       "      <td>   2.998279</td>\n",
       "      <td>   2.569672</td>\n",
       "    </tr>\n",
       "    <tr>\n",
       "      <th>std</th>\n",
       "      <td>  70.580923</td>\n",
       "      <td>   8.902412</td>\n",
       "      <td>   1.383638</td>\n",
       "      <td>   0.951100</td>\n",
       "    </tr>\n",
       "    <tr>\n",
       "      <th>min</th>\n",
       "      <td>   1.000000</td>\n",
       "      <td>   3.070000</td>\n",
       "      <td>   1.000000</td>\n",
       "      <td>   1.000000</td>\n",
       "    </tr>\n",
       "    <tr>\n",
       "      <th>25%</th>\n",
       "      <td>  61.750000</td>\n",
       "      <td>  13.347500</td>\n",
       "      <td>   2.000000</td>\n",
       "      <td>   2.000000</td>\n",
       "    </tr>\n",
       "    <tr>\n",
       "      <th>50%</th>\n",
       "      <td> 122.500000</td>\n",
       "      <td>  17.795000</td>\n",
       "      <td>   2.900000</td>\n",
       "      <td>   2.000000</td>\n",
       "    </tr>\n",
       "    <tr>\n",
       "      <th>75%</th>\n",
       "      <td> 183.250000</td>\n",
       "      <td>  24.127500</td>\n",
       "      <td>   3.562500</td>\n",
       "      <td>   3.000000</td>\n",
       "    </tr>\n",
       "    <tr>\n",
       "      <th>max</th>\n",
       "      <td> 244.000000</td>\n",
       "      <td>  50.810000</td>\n",
       "      <td>  10.000000</td>\n",
       "      <td>   6.000000</td>\n",
       "    </tr>\n",
       "  </tbody>\n",
       "</table>\n",
       "</div>"
      ],
      "text/plain": [
       "              obs     totbill         tip        size\n",
       "count  244.000000  244.000000  244.000000  244.000000\n",
       "mean   122.500000   19.785943    2.998279    2.569672\n",
       "std     70.580923    8.902412    1.383638    0.951100\n",
       "min      1.000000    3.070000    1.000000    1.000000\n",
       "25%     61.750000   13.347500    2.000000    2.000000\n",
       "50%    122.500000   17.795000    2.900000    2.000000\n",
       "75%    183.250000   24.127500    3.562500    3.000000\n",
       "max    244.000000   50.810000   10.000000    6.000000"
      ]
     },
     "execution_count": 74,
     "metadata": {},
     "output_type": "execute_result"
    }
   ],
   "source": [
    "tips.describe()"
   ]
  },
  {
   "cell_type": "code",
   "execution_count": 8,
   "metadata": {
    "collapsed": false
   },
   "outputs": [
    {
     "data": {
      "text/plain": [
       "Night    176\n",
       "Day       68\n",
       "dtype: int64"
      ]
     },
     "execution_count": 8,
     "metadata": {},
     "output_type": "execute_result"
    }
   ],
   "source": [
    "tips.time.value_counts()"
   ]
  },
  {
   "cell_type": "code",
   "execution_count": 9,
   "metadata": {
    "collapsed": false
   },
   "outputs": [
    {
     "data": {
      "text/html": [
       "<div style=\"max-height:1000px;max-width:1500px;overflow:auto;\">\n",
       "<table border=\"1\" class=\"dataframe\">\n",
       "  <thead>\n",
       "    <tr style=\"text-align: right;\">\n",
       "      <th></th>\n",
       "      <th>obs</th>\n",
       "      <th>totbill</th>\n",
       "      <th>tip</th>\n",
       "      <th>size</th>\n",
       "    </tr>\n",
       "  </thead>\n",
       "  <tbody>\n",
       "    <tr>\n",
       "      <th>count</th>\n",
       "      <td> 244.000000</td>\n",
       "      <td> 244.000000</td>\n",
       "      <td> 244.000000</td>\n",
       "      <td> 244.000000</td>\n",
       "    </tr>\n",
       "    <tr>\n",
       "      <th>mean</th>\n",
       "      <td> 122.500000</td>\n",
       "      <td>  19.785943</td>\n",
       "      <td>   2.998279</td>\n",
       "      <td>   2.569672</td>\n",
       "    </tr>\n",
       "    <tr>\n",
       "      <th>std</th>\n",
       "      <td>  70.580923</td>\n",
       "      <td>   8.902412</td>\n",
       "      <td>   1.383638</td>\n",
       "      <td>   0.951100</td>\n",
       "    </tr>\n",
       "    <tr>\n",
       "      <th>min</th>\n",
       "      <td>   1.000000</td>\n",
       "      <td>   3.070000</td>\n",
       "      <td>   1.000000</td>\n",
       "      <td>   1.000000</td>\n",
       "    </tr>\n",
       "    <tr>\n",
       "      <th>25%</th>\n",
       "      <td>  61.750000</td>\n",
       "      <td>  13.347500</td>\n",
       "      <td>   2.000000</td>\n",
       "      <td>   2.000000</td>\n",
       "    </tr>\n",
       "    <tr>\n",
       "      <th>50%</th>\n",
       "      <td> 122.500000</td>\n",
       "      <td>  17.795000</td>\n",
       "      <td>   2.900000</td>\n",
       "      <td>   2.000000</td>\n",
       "    </tr>\n",
       "    <tr>\n",
       "      <th>75%</th>\n",
       "      <td> 183.250000</td>\n",
       "      <td>  24.127500</td>\n",
       "      <td>   3.562500</td>\n",
       "      <td>   3.000000</td>\n",
       "    </tr>\n",
       "    <tr>\n",
       "      <th>max</th>\n",
       "      <td> 244.000000</td>\n",
       "      <td>  50.810000</td>\n",
       "      <td>  10.000000</td>\n",
       "      <td>   6.000000</td>\n",
       "    </tr>\n",
       "  </tbody>\n",
       "</table>\n",
       "</div>"
      ],
      "text/plain": [
       "              obs     totbill         tip        size\n",
       "count  244.000000  244.000000  244.000000  244.000000\n",
       "mean   122.500000   19.785943    2.998279    2.569672\n",
       "std     70.580923    8.902412    1.383638    0.951100\n",
       "min      1.000000    3.070000    1.000000    1.000000\n",
       "25%     61.750000   13.347500    2.000000    2.000000\n",
       "50%    122.500000   17.795000    2.900000    2.000000\n",
       "75%    183.250000   24.127500    3.562500    3.000000\n",
       "max    244.000000   50.810000   10.000000    6.000000"
      ]
     },
     "execution_count": 9,
     "metadata": {},
     "output_type": "execute_result"
    }
   ],
   "source": [
    "tips.describe()"
   ]
  },
  {
   "cell_type": "code",
   "execution_count": 10,
   "metadata": {
    "collapsed": false
   },
   "outputs": [
    {
     "name": "stdout",
     "output_type": "stream",
     "text": [
      "<class 'pandas.core.frame.DataFrame'>\n",
      "Int64Index: 244 entries, 0 to 243\n",
      "Data columns (total 8 columns):\n",
      "obs        244 non-null int64\n",
      "totbill    244 non-null float64\n",
      "tip        244 non-null float64\n",
      "sex        244 non-null object\n",
      "smoker     244 non-null object\n",
      "day        244 non-null object\n",
      "time       244 non-null object\n",
      "size       244 non-null int64\n",
      "dtypes: float64(2), int64(2), object(4)\n",
      "memory usage: 17.2+ KB\n"
     ]
    }
   ],
   "source": [
    "# info() is more informative than 'describe()' as\n",
    "# it gives you the datatypes length of dataset\n",
    "tips.info()"
   ]
  },
  {
   "cell_type": "code",
   "execution_count": 11,
   "metadata": {
    "collapsed": false
   },
   "outputs": [
    {
     "data": {
      "text/html": [
       "<div style=\"max-height:1000px;max-width:1500px;overflow:auto;\">\n",
       "<table border=\"1\" class=\"dataframe\">\n",
       "  <thead>\n",
       "    <tr style=\"text-align: right;\">\n",
       "      <th></th>\n",
       "      <th>obs</th>\n",
       "      <th>totbill</th>\n",
       "      <th>tip</th>\n",
       "      <th>sex</th>\n",
       "      <th>smoker</th>\n",
       "      <th>day</th>\n",
       "      <th>time</th>\n",
       "      <th>size</th>\n",
       "    </tr>\n",
       "  </thead>\n",
       "  <tbody>\n",
       "    <tr>\n",
       "      <th>0</th>\n",
       "      <td> 1</td>\n",
       "      <td> 16.99</td>\n",
       "      <td> 1.01</td>\n",
       "      <td> F</td>\n",
       "      <td> No</td>\n",
       "      <td> Sun</td>\n",
       "      <td> Night</td>\n",
       "      <td> 2</td>\n",
       "    </tr>\n",
       "    <tr>\n",
       "      <th>1</th>\n",
       "      <td> 2</td>\n",
       "      <td> 10.34</td>\n",
       "      <td> 1.66</td>\n",
       "      <td> M</td>\n",
       "      <td> No</td>\n",
       "      <td> Sun</td>\n",
       "      <td> Night</td>\n",
       "      <td> 3</td>\n",
       "    </tr>\n",
       "    <tr>\n",
       "      <th>2</th>\n",
       "      <td> 3</td>\n",
       "      <td> 21.01</td>\n",
       "      <td> 3.50</td>\n",
       "      <td> M</td>\n",
       "      <td> No</td>\n",
       "      <td> Sun</td>\n",
       "      <td> Night</td>\n",
       "      <td> 3</td>\n",
       "    </tr>\n",
       "    <tr>\n",
       "      <th>3</th>\n",
       "      <td> 4</td>\n",
       "      <td> 23.68</td>\n",
       "      <td> 3.31</td>\n",
       "      <td> M</td>\n",
       "      <td> No</td>\n",
       "      <td> Sun</td>\n",
       "      <td> Night</td>\n",
       "      <td> 2</td>\n",
       "    </tr>\n",
       "    <tr>\n",
       "      <th>4</th>\n",
       "      <td> 5</td>\n",
       "      <td> 24.59</td>\n",
       "      <td> 3.61</td>\n",
       "      <td> F</td>\n",
       "      <td> No</td>\n",
       "      <td> Sun</td>\n",
       "      <td> Night</td>\n",
       "      <td> 4</td>\n",
       "    </tr>\n",
       "  </tbody>\n",
       "</table>\n",
       "</div>"
      ],
      "text/plain": [
       "   obs  totbill   tip sex smoker  day   time  size\n",
       "0    1    16.99  1.01   F     No  Sun  Night     2\n",
       "1    2    10.34  1.66   M     No  Sun  Night     3\n",
       "2    3    21.01  3.50   M     No  Sun  Night     3\n",
       "3    4    23.68  3.31   M     No  Sun  Night     2\n",
       "4    5    24.59  3.61   F     No  Sun  Night     4"
      ]
     },
     "execution_count": 11,
     "metadata": {},
     "output_type": "execute_result"
    }
   ],
   "source": [
    "tips.head()"
   ]
  },
  {
   "cell_type": "code",
   "execution_count": 85,
   "metadata": {
    "collapsed": false,
    "scrolled": false
   },
   "outputs": [
    {
     "data": {
      "text/html": [
       "<div style=\"max-height:1000px;max-width:1500px;overflow:auto;\">\n",
       "<table border=\"1\" class=\"dataframe\">\n",
       "  <thead>\n",
       "    <tr style=\"text-align: right;\">\n",
       "      <th></th>\n",
       "      <th>obs</th>\n",
       "      <th>totbill</th>\n",
       "      <th>tip</th>\n",
       "      <th>sex</th>\n",
       "      <th>smoker</th>\n",
       "      <th>day</th>\n",
       "      <th>time</th>\n",
       "      <th>size</th>\n",
       "    </tr>\n",
       "  </thead>\n",
       "  <tbody>\n",
       "    <tr>\n",
       "      <th>0  </th>\n",
       "      <td>   1</td>\n",
       "      <td> 16.99</td>\n",
       "      <td> 1.01</td>\n",
       "      <td> F</td>\n",
       "      <td>  No</td>\n",
       "      <td> Sun</td>\n",
       "      <td> Night</td>\n",
       "      <td> 2</td>\n",
       "    </tr>\n",
       "    <tr>\n",
       "      <th>1  </th>\n",
       "      <td>   2</td>\n",
       "      <td> 10.34</td>\n",
       "      <td> 1.66</td>\n",
       "      <td> M</td>\n",
       "      <td>  No</td>\n",
       "      <td> Sun</td>\n",
       "      <td> Night</td>\n",
       "      <td> 3</td>\n",
       "    </tr>\n",
       "    <tr>\n",
       "      <th>2  </th>\n",
       "      <td>   3</td>\n",
       "      <td> 21.01</td>\n",
       "      <td> 3.50</td>\n",
       "      <td> M</td>\n",
       "      <td>  No</td>\n",
       "      <td> Sun</td>\n",
       "      <td> Night</td>\n",
       "      <td> 3</td>\n",
       "    </tr>\n",
       "    <tr>\n",
       "      <th>3  </th>\n",
       "      <td>   4</td>\n",
       "      <td> 23.68</td>\n",
       "      <td> 3.31</td>\n",
       "      <td> M</td>\n",
       "      <td>  No</td>\n",
       "      <td> Sun</td>\n",
       "      <td> Night</td>\n",
       "      <td> 2</td>\n",
       "    </tr>\n",
       "    <tr>\n",
       "      <th>4  </th>\n",
       "      <td>   5</td>\n",
       "      <td> 24.59</td>\n",
       "      <td> 3.61</td>\n",
       "      <td> F</td>\n",
       "      <td>  No</td>\n",
       "      <td> Sun</td>\n",
       "      <td> Night</td>\n",
       "      <td> 4</td>\n",
       "    </tr>\n",
       "    <tr>\n",
       "      <th>5  </th>\n",
       "      <td>   6</td>\n",
       "      <td> 25.29</td>\n",
       "      <td> 4.71</td>\n",
       "      <td> M</td>\n",
       "      <td>  No</td>\n",
       "      <td> Sun</td>\n",
       "      <td> Night</td>\n",
       "      <td> 4</td>\n",
       "    </tr>\n",
       "    <tr>\n",
       "      <th>6  </th>\n",
       "      <td>   7</td>\n",
       "      <td>  8.77</td>\n",
       "      <td> 2.00</td>\n",
       "      <td> M</td>\n",
       "      <td>  No</td>\n",
       "      <td> Sun</td>\n",
       "      <td> Night</td>\n",
       "      <td> 2</td>\n",
       "    </tr>\n",
       "    <tr>\n",
       "      <th>7  </th>\n",
       "      <td>   8</td>\n",
       "      <td> 26.88</td>\n",
       "      <td> 3.12</td>\n",
       "      <td> M</td>\n",
       "      <td>  No</td>\n",
       "      <td> Sun</td>\n",
       "      <td> Night</td>\n",
       "      <td> 4</td>\n",
       "    </tr>\n",
       "    <tr>\n",
       "      <th>8  </th>\n",
       "      <td>   9</td>\n",
       "      <td> 15.04</td>\n",
       "      <td> 1.96</td>\n",
       "      <td> M</td>\n",
       "      <td>  No</td>\n",
       "      <td> Sun</td>\n",
       "      <td> Night</td>\n",
       "      <td> 2</td>\n",
       "    </tr>\n",
       "    <tr>\n",
       "      <th>9  </th>\n",
       "      <td>  10</td>\n",
       "      <td> 14.78</td>\n",
       "      <td> 3.23</td>\n",
       "      <td> M</td>\n",
       "      <td>  No</td>\n",
       "      <td> Sun</td>\n",
       "      <td> Night</td>\n",
       "      <td> 2</td>\n",
       "    </tr>\n",
       "    <tr>\n",
       "      <th>10 </th>\n",
       "      <td>  11</td>\n",
       "      <td> 10.27</td>\n",
       "      <td> 1.71</td>\n",
       "      <td> M</td>\n",
       "      <td>  No</td>\n",
       "      <td> Sun</td>\n",
       "      <td> Night</td>\n",
       "      <td> 2</td>\n",
       "    </tr>\n",
       "    <tr>\n",
       "      <th>11 </th>\n",
       "      <td>  12</td>\n",
       "      <td> 35.26</td>\n",
       "      <td> 5.00</td>\n",
       "      <td> F</td>\n",
       "      <td>  No</td>\n",
       "      <td> Sun</td>\n",
       "      <td> Night</td>\n",
       "      <td> 4</td>\n",
       "    </tr>\n",
       "    <tr>\n",
       "      <th>12 </th>\n",
       "      <td>  13</td>\n",
       "      <td> 15.42</td>\n",
       "      <td> 1.57</td>\n",
       "      <td> M</td>\n",
       "      <td>  No</td>\n",
       "      <td> Sun</td>\n",
       "      <td> Night</td>\n",
       "      <td> 2</td>\n",
       "    </tr>\n",
       "    <tr>\n",
       "      <th>13 </th>\n",
       "      <td>  14</td>\n",
       "      <td> 18.43</td>\n",
       "      <td> 3.00</td>\n",
       "      <td> M</td>\n",
       "      <td>  No</td>\n",
       "      <td> Sun</td>\n",
       "      <td> Night</td>\n",
       "      <td> 4</td>\n",
       "    </tr>\n",
       "    <tr>\n",
       "      <th>14 </th>\n",
       "      <td>  15</td>\n",
       "      <td> 14.83</td>\n",
       "      <td> 3.02</td>\n",
       "      <td> F</td>\n",
       "      <td>  No</td>\n",
       "      <td> Sun</td>\n",
       "      <td> Night</td>\n",
       "      <td> 2</td>\n",
       "    </tr>\n",
       "    <tr>\n",
       "      <th>15 </th>\n",
       "      <td>  16</td>\n",
       "      <td> 21.58</td>\n",
       "      <td> 3.92</td>\n",
       "      <td> M</td>\n",
       "      <td>  No</td>\n",
       "      <td> Sun</td>\n",
       "      <td> Night</td>\n",
       "      <td> 2</td>\n",
       "    </tr>\n",
       "    <tr>\n",
       "      <th>16 </th>\n",
       "      <td>  17</td>\n",
       "      <td> 10.33</td>\n",
       "      <td> 1.67</td>\n",
       "      <td> F</td>\n",
       "      <td>  No</td>\n",
       "      <td> Sun</td>\n",
       "      <td> Night</td>\n",
       "      <td> 3</td>\n",
       "    </tr>\n",
       "    <tr>\n",
       "      <th>17 </th>\n",
       "      <td>  18</td>\n",
       "      <td> 16.29</td>\n",
       "      <td> 3.71</td>\n",
       "      <td> M</td>\n",
       "      <td>  No</td>\n",
       "      <td> Sun</td>\n",
       "      <td> Night</td>\n",
       "      <td> 3</td>\n",
       "    </tr>\n",
       "    <tr>\n",
       "      <th>18 </th>\n",
       "      <td>  19</td>\n",
       "      <td> 16.97</td>\n",
       "      <td> 3.50</td>\n",
       "      <td> F</td>\n",
       "      <td>  No</td>\n",
       "      <td> Sun</td>\n",
       "      <td> Night</td>\n",
       "      <td> 3</td>\n",
       "    </tr>\n",
       "    <tr>\n",
       "      <th>19 </th>\n",
       "      <td>  20</td>\n",
       "      <td> 20.65</td>\n",
       "      <td> 3.35</td>\n",
       "      <td> M</td>\n",
       "      <td>  No</td>\n",
       "      <td> Sat</td>\n",
       "      <td> Night</td>\n",
       "      <td> 3</td>\n",
       "    </tr>\n",
       "    <tr>\n",
       "      <th>20 </th>\n",
       "      <td>  21</td>\n",
       "      <td> 17.92</td>\n",
       "      <td> 4.08</td>\n",
       "      <td> M</td>\n",
       "      <td>  No</td>\n",
       "      <td> Sat</td>\n",
       "      <td> Night</td>\n",
       "      <td> 2</td>\n",
       "    </tr>\n",
       "    <tr>\n",
       "      <th>21 </th>\n",
       "      <td>  22</td>\n",
       "      <td> 20.29</td>\n",
       "      <td> 2.75</td>\n",
       "      <td> F</td>\n",
       "      <td>  No</td>\n",
       "      <td> Sat</td>\n",
       "      <td> Night</td>\n",
       "      <td> 2</td>\n",
       "    </tr>\n",
       "    <tr>\n",
       "      <th>22 </th>\n",
       "      <td>  23</td>\n",
       "      <td> 15.77</td>\n",
       "      <td> 2.23</td>\n",
       "      <td> F</td>\n",
       "      <td>  No</td>\n",
       "      <td> Sat</td>\n",
       "      <td> Night</td>\n",
       "      <td> 2</td>\n",
       "    </tr>\n",
       "    <tr>\n",
       "      <th>23 </th>\n",
       "      <td>  24</td>\n",
       "      <td> 39.42</td>\n",
       "      <td> 7.58</td>\n",
       "      <td> M</td>\n",
       "      <td>  No</td>\n",
       "      <td> Sat</td>\n",
       "      <td> Night</td>\n",
       "      <td> 4</td>\n",
       "    </tr>\n",
       "    <tr>\n",
       "      <th>24 </th>\n",
       "      <td>  25</td>\n",
       "      <td> 19.82</td>\n",
       "      <td> 3.18</td>\n",
       "      <td> M</td>\n",
       "      <td>  No</td>\n",
       "      <td> Sat</td>\n",
       "      <td> Night</td>\n",
       "      <td> 2</td>\n",
       "    </tr>\n",
       "    <tr>\n",
       "      <th>25 </th>\n",
       "      <td>  26</td>\n",
       "      <td> 17.81</td>\n",
       "      <td> 2.34</td>\n",
       "      <td> M</td>\n",
       "      <td>  No</td>\n",
       "      <td> Sat</td>\n",
       "      <td> Night</td>\n",
       "      <td> 4</td>\n",
       "    </tr>\n",
       "    <tr>\n",
       "      <th>26 </th>\n",
       "      <td>  27</td>\n",
       "      <td> 13.37</td>\n",
       "      <td> 2.00</td>\n",
       "      <td> M</td>\n",
       "      <td>  No</td>\n",
       "      <td> Sat</td>\n",
       "      <td> Night</td>\n",
       "      <td> 2</td>\n",
       "    </tr>\n",
       "    <tr>\n",
       "      <th>27 </th>\n",
       "      <td>  28</td>\n",
       "      <td> 12.69</td>\n",
       "      <td> 2.00</td>\n",
       "      <td> M</td>\n",
       "      <td>  No</td>\n",
       "      <td> Sat</td>\n",
       "      <td> Night</td>\n",
       "      <td> 2</td>\n",
       "    </tr>\n",
       "    <tr>\n",
       "      <th>28 </th>\n",
       "      <td>  29</td>\n",
       "      <td> 21.70</td>\n",
       "      <td> 4.30</td>\n",
       "      <td> M</td>\n",
       "      <td>  No</td>\n",
       "      <td> Sat</td>\n",
       "      <td> Night</td>\n",
       "      <td> 2</td>\n",
       "    </tr>\n",
       "    <tr>\n",
       "      <th>29 </th>\n",
       "      <td>  30</td>\n",
       "      <td> 19.65</td>\n",
       "      <td> 3.00</td>\n",
       "      <td> F</td>\n",
       "      <td>  No</td>\n",
       "      <td> Sat</td>\n",
       "      <td> Night</td>\n",
       "      <td> 2</td>\n",
       "    </tr>\n",
       "    <tr>\n",
       "      <th>...</th>\n",
       "      <td>...</td>\n",
       "      <td>...</td>\n",
       "      <td>...</td>\n",
       "      <td>...</td>\n",
       "      <td>...</td>\n",
       "      <td>...</td>\n",
       "      <td>...</td>\n",
       "      <td>...</td>\n",
       "    </tr>\n",
       "    <tr>\n",
       "      <th>214</th>\n",
       "      <td> 215</td>\n",
       "      <td> 28.17</td>\n",
       "      <td> 6.50</td>\n",
       "      <td> F</td>\n",
       "      <td> Yes</td>\n",
       "      <td> Sat</td>\n",
       "      <td> Night</td>\n",
       "      <td> 3</td>\n",
       "    </tr>\n",
       "    <tr>\n",
       "      <th>215</th>\n",
       "      <td> 216</td>\n",
       "      <td> 12.90</td>\n",
       "      <td> 1.10</td>\n",
       "      <td> F</td>\n",
       "      <td> Yes</td>\n",
       "      <td> Sat</td>\n",
       "      <td> Night</td>\n",
       "      <td> 2</td>\n",
       "    </tr>\n",
       "    <tr>\n",
       "      <th>216</th>\n",
       "      <td> 217</td>\n",
       "      <td> 28.15</td>\n",
       "      <td> 3.00</td>\n",
       "      <td> M</td>\n",
       "      <td> Yes</td>\n",
       "      <td> Sat</td>\n",
       "      <td> Night</td>\n",
       "      <td> 5</td>\n",
       "    </tr>\n",
       "    <tr>\n",
       "      <th>217</th>\n",
       "      <td> 218</td>\n",
       "      <td> 11.59</td>\n",
       "      <td> 1.50</td>\n",
       "      <td> M</td>\n",
       "      <td> Yes</td>\n",
       "      <td> Sat</td>\n",
       "      <td> Night</td>\n",
       "      <td> 2</td>\n",
       "    </tr>\n",
       "    <tr>\n",
       "      <th>218</th>\n",
       "      <td> 219</td>\n",
       "      <td>  7.74</td>\n",
       "      <td> 1.44</td>\n",
       "      <td> M</td>\n",
       "      <td> Yes</td>\n",
       "      <td> Sat</td>\n",
       "      <td> Night</td>\n",
       "      <td> 2</td>\n",
       "    </tr>\n",
       "    <tr>\n",
       "      <th>219</th>\n",
       "      <td> 220</td>\n",
       "      <td> 30.14</td>\n",
       "      <td> 3.09</td>\n",
       "      <td> F</td>\n",
       "      <td> Yes</td>\n",
       "      <td> Sat</td>\n",
       "      <td> Night</td>\n",
       "      <td> 4</td>\n",
       "    </tr>\n",
       "    <tr>\n",
       "      <th>220</th>\n",
       "      <td> 221</td>\n",
       "      <td> 12.16</td>\n",
       "      <td> 2.20</td>\n",
       "      <td> M</td>\n",
       "      <td> Yes</td>\n",
       "      <td> Fri</td>\n",
       "      <td>   Day</td>\n",
       "      <td> 2</td>\n",
       "    </tr>\n",
       "    <tr>\n",
       "      <th>221</th>\n",
       "      <td> 222</td>\n",
       "      <td> 13.42</td>\n",
       "      <td> 3.48</td>\n",
       "      <td> F</td>\n",
       "      <td> Yes</td>\n",
       "      <td> Fri</td>\n",
       "      <td>   Day</td>\n",
       "      <td> 2</td>\n",
       "    </tr>\n",
       "    <tr>\n",
       "      <th>222</th>\n",
       "      <td> 223</td>\n",
       "      <td>  8.58</td>\n",
       "      <td> 1.92</td>\n",
       "      <td> M</td>\n",
       "      <td> Yes</td>\n",
       "      <td> Fri</td>\n",
       "      <td>   Day</td>\n",
       "      <td> 1</td>\n",
       "    </tr>\n",
       "    <tr>\n",
       "      <th>223</th>\n",
       "      <td> 224</td>\n",
       "      <td> 15.98</td>\n",
       "      <td> 3.00</td>\n",
       "      <td> F</td>\n",
       "      <td>  No</td>\n",
       "      <td> Fri</td>\n",
       "      <td>   Day</td>\n",
       "      <td> 3</td>\n",
       "    </tr>\n",
       "    <tr>\n",
       "      <th>224</th>\n",
       "      <td> 225</td>\n",
       "      <td> 13.42</td>\n",
       "      <td> 1.58</td>\n",
       "      <td> M</td>\n",
       "      <td> Yes</td>\n",
       "      <td> Fri</td>\n",
       "      <td>   Day</td>\n",
       "      <td> 2</td>\n",
       "    </tr>\n",
       "    <tr>\n",
       "      <th>225</th>\n",
       "      <td> 226</td>\n",
       "      <td> 16.27</td>\n",
       "      <td> 2.50</td>\n",
       "      <td> F</td>\n",
       "      <td> Yes</td>\n",
       "      <td> Fri</td>\n",
       "      <td>   Day</td>\n",
       "      <td> 2</td>\n",
       "    </tr>\n",
       "    <tr>\n",
       "      <th>226</th>\n",
       "      <td> 227</td>\n",
       "      <td> 10.09</td>\n",
       "      <td> 2.00</td>\n",
       "      <td> F</td>\n",
       "      <td> Yes</td>\n",
       "      <td> Fri</td>\n",
       "      <td>   Day</td>\n",
       "      <td> 2</td>\n",
       "    </tr>\n",
       "    <tr>\n",
       "      <th>227</th>\n",
       "      <td> 228</td>\n",
       "      <td> 20.45</td>\n",
       "      <td> 3.00</td>\n",
       "      <td> M</td>\n",
       "      <td>  No</td>\n",
       "      <td> Sat</td>\n",
       "      <td> Night</td>\n",
       "      <td> 4</td>\n",
       "    </tr>\n",
       "    <tr>\n",
       "      <th>228</th>\n",
       "      <td> 229</td>\n",
       "      <td> 13.28</td>\n",
       "      <td> 2.72</td>\n",
       "      <td> M</td>\n",
       "      <td>  No</td>\n",
       "      <td> Sat</td>\n",
       "      <td> Night</td>\n",
       "      <td> 2</td>\n",
       "    </tr>\n",
       "    <tr>\n",
       "      <th>229</th>\n",
       "      <td> 230</td>\n",
       "      <td> 22.12</td>\n",
       "      <td> 2.88</td>\n",
       "      <td> F</td>\n",
       "      <td> Yes</td>\n",
       "      <td> Sat</td>\n",
       "      <td> Night</td>\n",
       "      <td> 2</td>\n",
       "    </tr>\n",
       "    <tr>\n",
       "      <th>230</th>\n",
       "      <td> 231</td>\n",
       "      <td> 24.01</td>\n",
       "      <td> 2.00</td>\n",
       "      <td> M</td>\n",
       "      <td> Yes</td>\n",
       "      <td> Sat</td>\n",
       "      <td> Night</td>\n",
       "      <td> 4</td>\n",
       "    </tr>\n",
       "    <tr>\n",
       "      <th>231</th>\n",
       "      <td> 232</td>\n",
       "      <td> 15.69</td>\n",
       "      <td> 3.00</td>\n",
       "      <td> M</td>\n",
       "      <td> Yes</td>\n",
       "      <td> Sat</td>\n",
       "      <td> Night</td>\n",
       "      <td> 3</td>\n",
       "    </tr>\n",
       "    <tr>\n",
       "      <th>232</th>\n",
       "      <td> 233</td>\n",
       "      <td> 11.61</td>\n",
       "      <td> 3.39</td>\n",
       "      <td> M</td>\n",
       "      <td>  No</td>\n",
       "      <td> Sat</td>\n",
       "      <td> Night</td>\n",
       "      <td> 2</td>\n",
       "    </tr>\n",
       "    <tr>\n",
       "      <th>233</th>\n",
       "      <td> 234</td>\n",
       "      <td> 10.77</td>\n",
       "      <td> 1.47</td>\n",
       "      <td> M</td>\n",
       "      <td>  No</td>\n",
       "      <td> Sat</td>\n",
       "      <td> Night</td>\n",
       "      <td> 2</td>\n",
       "    </tr>\n",
       "    <tr>\n",
       "      <th>234</th>\n",
       "      <td> 235</td>\n",
       "      <td> 15.53</td>\n",
       "      <td> 3.00</td>\n",
       "      <td> M</td>\n",
       "      <td> Yes</td>\n",
       "      <td> Sat</td>\n",
       "      <td> Night</td>\n",
       "      <td> 2</td>\n",
       "    </tr>\n",
       "    <tr>\n",
       "      <th>235</th>\n",
       "      <td> 236</td>\n",
       "      <td> 10.07</td>\n",
       "      <td> 1.25</td>\n",
       "      <td> M</td>\n",
       "      <td>  No</td>\n",
       "      <td> Sat</td>\n",
       "      <td> Night</td>\n",
       "      <td> 2</td>\n",
       "    </tr>\n",
       "    <tr>\n",
       "      <th>236</th>\n",
       "      <td> 237</td>\n",
       "      <td> 12.60</td>\n",
       "      <td> 1.00</td>\n",
       "      <td> M</td>\n",
       "      <td> Yes</td>\n",
       "      <td> Sat</td>\n",
       "      <td> Night</td>\n",
       "      <td> 2</td>\n",
       "    </tr>\n",
       "    <tr>\n",
       "      <th>237</th>\n",
       "      <td> 238</td>\n",
       "      <td> 32.83</td>\n",
       "      <td> 1.17</td>\n",
       "      <td> M</td>\n",
       "      <td> Yes</td>\n",
       "      <td> Sat</td>\n",
       "      <td> Night</td>\n",
       "      <td> 2</td>\n",
       "    </tr>\n",
       "    <tr>\n",
       "      <th>238</th>\n",
       "      <td> 239</td>\n",
       "      <td> 35.83</td>\n",
       "      <td> 4.67</td>\n",
       "      <td> F</td>\n",
       "      <td>  No</td>\n",
       "      <td> Sat</td>\n",
       "      <td> Night</td>\n",
       "      <td> 3</td>\n",
       "    </tr>\n",
       "    <tr>\n",
       "      <th>239</th>\n",
       "      <td> 240</td>\n",
       "      <td> 29.03</td>\n",
       "      <td> 5.92</td>\n",
       "      <td> M</td>\n",
       "      <td>  No</td>\n",
       "      <td> Sat</td>\n",
       "      <td> Night</td>\n",
       "      <td> 3</td>\n",
       "    </tr>\n",
       "    <tr>\n",
       "      <th>240</th>\n",
       "      <td> 241</td>\n",
       "      <td> 27.18</td>\n",
       "      <td> 2.00</td>\n",
       "      <td> F</td>\n",
       "      <td> Yes</td>\n",
       "      <td> Sat</td>\n",
       "      <td> Night</td>\n",
       "      <td> 2</td>\n",
       "    </tr>\n",
       "    <tr>\n",
       "      <th>241</th>\n",
       "      <td> 242</td>\n",
       "      <td> 22.67</td>\n",
       "      <td> 2.00</td>\n",
       "      <td> M</td>\n",
       "      <td> Yes</td>\n",
       "      <td> Sat</td>\n",
       "      <td> Night</td>\n",
       "      <td> 2</td>\n",
       "    </tr>\n",
       "    <tr>\n",
       "      <th>242</th>\n",
       "      <td> 243</td>\n",
       "      <td> 17.82</td>\n",
       "      <td> 1.75</td>\n",
       "      <td> M</td>\n",
       "      <td>  No</td>\n",
       "      <td> Sat</td>\n",
       "      <td> Night</td>\n",
       "      <td> 2</td>\n",
       "    </tr>\n",
       "    <tr>\n",
       "      <th>243</th>\n",
       "      <td> 244</td>\n",
       "      <td> 18.78</td>\n",
       "      <td> 3.00</td>\n",
       "      <td> F</td>\n",
       "      <td>  No</td>\n",
       "      <td> Thu</td>\n",
       "      <td> Night</td>\n",
       "      <td> 2</td>\n",
       "    </tr>\n",
       "  </tbody>\n",
       "</table>\n",
       "<p>244 rows × 8 columns</p>\n",
       "</div>"
      ],
      "text/plain": [
       "     obs  totbill   tip sex smoker  day   time  size\n",
       "0      1    16.99  1.01   F     No  Sun  Night     2\n",
       "1      2    10.34  1.66   M     No  Sun  Night     3\n",
       "2      3    21.01  3.50   M     No  Sun  Night     3\n",
       "3      4    23.68  3.31   M     No  Sun  Night     2\n",
       "4      5    24.59  3.61   F     No  Sun  Night     4\n",
       "5      6    25.29  4.71   M     No  Sun  Night     4\n",
       "6      7     8.77  2.00   M     No  Sun  Night     2\n",
       "7      8    26.88  3.12   M     No  Sun  Night     4\n",
       "8      9    15.04  1.96   M     No  Sun  Night     2\n",
       "9     10    14.78  3.23   M     No  Sun  Night     2\n",
       "10    11    10.27  1.71   M     No  Sun  Night     2\n",
       "11    12    35.26  5.00   F     No  Sun  Night     4\n",
       "12    13    15.42  1.57   M     No  Sun  Night     2\n",
       "13    14    18.43  3.00   M     No  Sun  Night     4\n",
       "14    15    14.83  3.02   F     No  Sun  Night     2\n",
       "15    16    21.58  3.92   M     No  Sun  Night     2\n",
       "16    17    10.33  1.67   F     No  Sun  Night     3\n",
       "17    18    16.29  3.71   M     No  Sun  Night     3\n",
       "18    19    16.97  3.50   F     No  Sun  Night     3\n",
       "19    20    20.65  3.35   M     No  Sat  Night     3\n",
       "20    21    17.92  4.08   M     No  Sat  Night     2\n",
       "21    22    20.29  2.75   F     No  Sat  Night     2\n",
       "22    23    15.77  2.23   F     No  Sat  Night     2\n",
       "23    24    39.42  7.58   M     No  Sat  Night     4\n",
       "24    25    19.82  3.18   M     No  Sat  Night     2\n",
       "25    26    17.81  2.34   M     No  Sat  Night     4\n",
       "26    27    13.37  2.00   M     No  Sat  Night     2\n",
       "27    28    12.69  2.00   M     No  Sat  Night     2\n",
       "28    29    21.70  4.30   M     No  Sat  Night     2\n",
       "29    30    19.65  3.00   F     No  Sat  Night     2\n",
       "..   ...      ...   ...  ..    ...  ...    ...   ...\n",
       "214  215    28.17  6.50   F    Yes  Sat  Night     3\n",
       "215  216    12.90  1.10   F    Yes  Sat  Night     2\n",
       "216  217    28.15  3.00   M    Yes  Sat  Night     5\n",
       "217  218    11.59  1.50   M    Yes  Sat  Night     2\n",
       "218  219     7.74  1.44   M    Yes  Sat  Night     2\n",
       "219  220    30.14  3.09   F    Yes  Sat  Night     4\n",
       "220  221    12.16  2.20   M    Yes  Fri    Day     2\n",
       "221  222    13.42  3.48   F    Yes  Fri    Day     2\n",
       "222  223     8.58  1.92   M    Yes  Fri    Day     1\n",
       "223  224    15.98  3.00   F     No  Fri    Day     3\n",
       "224  225    13.42  1.58   M    Yes  Fri    Day     2\n",
       "225  226    16.27  2.50   F    Yes  Fri    Day     2\n",
       "226  227    10.09  2.00   F    Yes  Fri    Day     2\n",
       "227  228    20.45  3.00   M     No  Sat  Night     4\n",
       "228  229    13.28  2.72   M     No  Sat  Night     2\n",
       "229  230    22.12  2.88   F    Yes  Sat  Night     2\n",
       "230  231    24.01  2.00   M    Yes  Sat  Night     4\n",
       "231  232    15.69  3.00   M    Yes  Sat  Night     3\n",
       "232  233    11.61  3.39   M     No  Sat  Night     2\n",
       "233  234    10.77  1.47   M     No  Sat  Night     2\n",
       "234  235    15.53  3.00   M    Yes  Sat  Night     2\n",
       "235  236    10.07  1.25   M     No  Sat  Night     2\n",
       "236  237    12.60  1.00   M    Yes  Sat  Night     2\n",
       "237  238    32.83  1.17   M    Yes  Sat  Night     2\n",
       "238  239    35.83  4.67   F     No  Sat  Night     3\n",
       "239  240    29.03  5.92   M     No  Sat  Night     3\n",
       "240  241    27.18  2.00   F    Yes  Sat  Night     2\n",
       "241  242    22.67  2.00   M    Yes  Sat  Night     2\n",
       "242  243    17.82  1.75   M     No  Sat  Night     2\n",
       "243  244    18.78  3.00   F     No  Thu  Night     2\n",
       "\n",
       "[244 rows x 8 columns]"
      ]
     },
     "execution_count": 85,
     "metadata": {},
     "output_type": "execute_result"
    }
   ],
   "source": [
    "# tips['smoker'].value_counts()\n",
    "# tips[['smoker']].value_counts()\n",
    "\n",
    "tips.index\n",
    "# tips.ix[2:5, :'day']\n",
    "tips.iloc[:,:]"
   ]
  },
  {
   "cell_type": "code",
   "execution_count": 88,
   "metadata": {
    "collapsed": true
   },
   "outputs": [],
   "source": []
  },
  {
   "cell_type": "code",
   "execution_count": 91,
   "metadata": {
    "collapsed": false
   },
   "outputs": [
    {
     "data": {
      "text/plain": [
       "'0.15.1'"
      ]
     },
     "execution_count": 91,
     "metadata": {},
     "output_type": "execute_result"
    }
   ],
   "source": [
    "pd.__version__"
   ]
  },
  {
   "cell_type": "code",
   "execution_count": 94,
   "metadata": {
    "collapsed": true
   },
   "outputs": [],
   "source": [
    "import ggplot"
   ]
  },
  {
   "cell_type": "code",
   "execution_count": 95,
   "metadata": {
    "collapsed": false
   },
   "outputs": [
    {
     "data": {
      "text/plain": [
       "u'0.6.5'"
      ]
     },
     "execution_count": 95,
     "metadata": {},
     "output_type": "execute_result"
    }
   ],
   "source": [
    "ggplot.__version__"
   ]
  },
  {
   "cell_type": "code",
   "execution_count": 104,
   "metadata": {
    "collapsed": false
   },
   "outputs": [
    {
     "data": {
      "text/plain": [
       "Int64Index([0, 1, 2, 3, 4, 5, 6, 7, 8, 9, 10, 11, 12, 13, 14, 15, 16, 17, 18, 19, 20, 21, 22, 23, 24, 25, 26, 27, 28, 29, 30, 31, 32, 33, 34, 35, 36, 37, 38, 39, 40, 41, 42, 43, 44, 45, 46, 47, 48, 49, 50, 51, 52, 53, 54, 55, 56, 57, 58, 59, 60, 61, 62, 63, 64, 65, 66, 67, 68, 69, 70, 71, 72, 73, 74, 75, 76, 77, 78, 79, 80, 81, 82, 83, 84, 85, 86, 87, 88, 89, 90, 91, 92, 93, 94, 95, 96, 97, 98, 99, ...], dtype='int64')"
      ]
     },
     "execution_count": 104,
     "metadata": {},
     "output_type": "execute_result"
    }
   ],
   "source": [
    "tips.index"
   ]
  },
  {
   "cell_type": "code",
   "execution_count": 103,
   "metadata": {
    "collapsed": false
   },
   "outputs": [
    {
     "data": {
      "text/plain": [
       "[185, 56, 23, 147, 64, 216, 36, 150, 213, 29]"
      ]
     },
     "execution_count": 103,
     "metadata": {},
     "output_type": "execute_result"
    }
   ],
   "source": [
    "sample(tips.index,10)"
   ]
  },
  {
   "cell_type": "code",
   "execution_count": 90,
   "metadata": {
    "collapsed": false
   },
   "outputs": [
    {
     "data": {
      "text/html": [
       "<div style=\"max-height:1000px;max-width:1500px;overflow:auto;\">\n",
       "<table border=\"1\" class=\"dataframe\">\n",
       "  <thead>\n",
       "    <tr style=\"text-align: right;\">\n",
       "      <th></th>\n",
       "      <th>obs</th>\n",
       "      <th>totbill</th>\n",
       "      <th>tip</th>\n",
       "      <th>sex</th>\n",
       "      <th>smoker</th>\n",
       "      <th>day</th>\n",
       "      <th>time</th>\n",
       "      <th>size</th>\n",
       "    </tr>\n",
       "  </thead>\n",
       "  <tbody>\n",
       "    <tr>\n",
       "      <th>188</th>\n",
       "      <td> 189</td>\n",
       "      <td> 18.15</td>\n",
       "      <td> 3.50</td>\n",
       "      <td> F</td>\n",
       "      <td> Yes</td>\n",
       "      <td> Sun</td>\n",
       "      <td> Night</td>\n",
       "      <td> 3</td>\n",
       "    </tr>\n",
       "    <tr>\n",
       "      <th>216</th>\n",
       "      <td> 217</td>\n",
       "      <td> 28.15</td>\n",
       "      <td> 3.00</td>\n",
       "      <td> M</td>\n",
       "      <td> Yes</td>\n",
       "      <td> Sat</td>\n",
       "      <td> Night</td>\n",
       "      <td> 5</td>\n",
       "    </tr>\n",
       "    <tr>\n",
       "      <th>175</th>\n",
       "      <td> 176</td>\n",
       "      <td> 32.90</td>\n",
       "      <td> 3.11</td>\n",
       "      <td> M</td>\n",
       "      <td> Yes</td>\n",
       "      <td> Sun</td>\n",
       "      <td> Night</td>\n",
       "      <td> 2</td>\n",
       "    </tr>\n",
       "    <tr>\n",
       "      <th>119</th>\n",
       "      <td> 120</td>\n",
       "      <td> 24.08</td>\n",
       "      <td> 2.92</td>\n",
       "      <td> F</td>\n",
       "      <td>  No</td>\n",
       "      <td> Thu</td>\n",
       "      <td>   Day</td>\n",
       "      <td> 4</td>\n",
       "    </tr>\n",
       "    <tr>\n",
       "      <th>231</th>\n",
       "      <td> 232</td>\n",
       "      <td> 15.69</td>\n",
       "      <td> 3.00</td>\n",
       "      <td> M</td>\n",
       "      <td> Yes</td>\n",
       "      <td> Sat</td>\n",
       "      <td> Night</td>\n",
       "      <td> 3</td>\n",
       "    </tr>\n",
       "    <tr>\n",
       "      <th>6  </th>\n",
       "      <td>   7</td>\n",
       "      <td>  8.77</td>\n",
       "      <td> 2.00</td>\n",
       "      <td> M</td>\n",
       "      <td>  No</td>\n",
       "      <td> Sun</td>\n",
       "      <td> Night</td>\n",
       "      <td> 2</td>\n",
       "    </tr>\n",
       "    <tr>\n",
       "      <th>226</th>\n",
       "      <td> 227</td>\n",
       "      <td> 10.09</td>\n",
       "      <td> 2.00</td>\n",
       "      <td> F</td>\n",
       "      <td> Yes</td>\n",
       "      <td> Fri</td>\n",
       "      <td>   Day</td>\n",
       "      <td> 2</td>\n",
       "    </tr>\n",
       "    <tr>\n",
       "      <th>20 </th>\n",
       "      <td>  21</td>\n",
       "      <td> 17.92</td>\n",
       "      <td> 4.08</td>\n",
       "      <td> M</td>\n",
       "      <td>  No</td>\n",
       "      <td> Sat</td>\n",
       "      <td> Night</td>\n",
       "      <td> 2</td>\n",
       "    </tr>\n",
       "    <tr>\n",
       "      <th>194</th>\n",
       "      <td> 195</td>\n",
       "      <td> 16.58</td>\n",
       "      <td> 4.00</td>\n",
       "      <td> M</td>\n",
       "      <td> Yes</td>\n",
       "      <td> Thu</td>\n",
       "      <td>   Day</td>\n",
       "      <td> 2</td>\n",
       "    </tr>\n",
       "    <tr>\n",
       "      <th>185</th>\n",
       "      <td> 186</td>\n",
       "      <td> 20.69</td>\n",
       "      <td> 5.00</td>\n",
       "      <td> M</td>\n",
       "      <td>  No</td>\n",
       "      <td> Sun</td>\n",
       "      <td> Night</td>\n",
       "      <td> 5</td>\n",
       "    </tr>\n",
       "  </tbody>\n",
       "</table>\n",
       "</div>"
      ],
      "text/plain": [
       "     obs  totbill   tip sex smoker  day   time  size\n",
       "188  189    18.15  3.50   F    Yes  Sun  Night     3\n",
       "216  217    28.15  3.00   M    Yes  Sat  Night     5\n",
       "175  176    32.90  3.11   M    Yes  Sun  Night     2\n",
       "119  120    24.08  2.92   F     No  Thu    Day     4\n",
       "231  232    15.69  3.00   M    Yes  Sat  Night     3\n",
       "6      7     8.77  2.00   M     No  Sun  Night     2\n",
       "226  227    10.09  2.00   F    Yes  Fri    Day     2\n",
       "20    21    17.92  4.08   M     No  Sat  Night     2\n",
       "194  195    16.58  4.00   M    Yes  Thu    Day     2\n",
       "185  186    20.69  5.00   M     No  Sun  Night     5"
      ]
     },
     "execution_count": 90,
     "metadata": {},
     "output_type": "execute_result"
    }
   ],
   "source": [
    "from random import sample\n",
    "# tips.sample(10)\n",
    "# Look at a random sample of the rows\n",
    "tips.ix[sample(tips.index,10),:]"
   ]
  },
  {
   "cell_type": "code",
   "execution_count": 105,
   "metadata": {
    "collapsed": false
   },
   "outputs": [
    {
     "ename": "AttributeError",
     "evalue": "'DataFrame' object has no attribute 'sample'",
     "output_type": "error",
     "traceback": [
      "\u001b[1;31m---------------------------------------------------------------------------\u001b[0m",
      "\u001b[1;31mAttributeError\u001b[0m                            Traceback (most recent call last)",
      "\u001b[1;32m<ipython-input-105-05c95b7e7a26>\u001b[0m in \u001b[0;36m<module>\u001b[1;34m()\u001b[0m\n\u001b[1;32m----> 1\u001b[1;33m \u001b[0mtips\u001b[0m\u001b[1;33m.\u001b[0m\u001b[0msample\u001b[0m\u001b[1;33m(\u001b[0m\u001b[1;36m3\u001b[0m\u001b[1;33m,\u001b[0m \u001b[0maxis\u001b[0m\u001b[1;33m=\u001b[0m\u001b[1;36m1\u001b[0m\u001b[1;33m)\u001b[0m\u001b[1;33m\u001b[0m\u001b[0m\n\u001b[0m",
      "\u001b[1;32m/home/io/.tools/anaconda/envs/ds/lib/python2.7/site-packages/pandas/core/generic.pyc\u001b[0m in \u001b[0;36m__getattr__\u001b[1;34m(self, name)\u001b[0m\n\u001b[0;32m   1934\u001b[0m                 \u001b[1;32mreturn\u001b[0m \u001b[0mself\u001b[0m\u001b[1;33m[\u001b[0m\u001b[0mname\u001b[0m\u001b[1;33m]\u001b[0m\u001b[1;33m\u001b[0m\u001b[0m\n\u001b[0;32m   1935\u001b[0m             raise AttributeError(\"'%s' object has no attribute '%s'\" %\n\u001b[1;32m-> 1936\u001b[1;33m                                  (type(self).__name__, name))\n\u001b[0m\u001b[0;32m   1937\u001b[0m \u001b[1;33m\u001b[0m\u001b[0m\n\u001b[0;32m   1938\u001b[0m     \u001b[1;32mdef\u001b[0m \u001b[0m__setattr__\u001b[0m\u001b[1;33m(\u001b[0m\u001b[0mself\u001b[0m\u001b[1;33m,\u001b[0m \u001b[0mname\u001b[0m\u001b[1;33m,\u001b[0m \u001b[0mvalue\u001b[0m\u001b[1;33m)\u001b[0m\u001b[1;33m:\u001b[0m\u001b[1;33m\u001b[0m\u001b[0m\n",
      "\u001b[1;31mAttributeError\u001b[0m: 'DataFrame' object has no attribute 'sample'"
     ]
    }
   ],
   "source": [
    "tips.sample(3, axis=1)"
   ]
  },
  {
   "cell_type": "code",
   "execution_count": 15,
   "metadata": {
    "collapsed": false
   },
   "outputs": [],
   "source": [
    "# Inspect head and tail of the dataset"
   ]
  },
  {
   "cell_type": "code",
   "execution_count": 16,
   "metadata": {
    "collapsed": false
   },
   "outputs": [
    {
     "data": {
      "text/html": [
       "<div style=\"max-height:1000px;max-width:1500px;overflow:auto;\">\n",
       "<table border=\"1\" class=\"dataframe\">\n",
       "  <thead>\n",
       "    <tr style=\"text-align: right;\">\n",
       "      <th></th>\n",
       "      <th>obs</th>\n",
       "      <th>totbill</th>\n",
       "      <th>tip</th>\n",
       "      <th>sex</th>\n",
       "      <th>smoker</th>\n",
       "      <th>day</th>\n",
       "      <th>time</th>\n",
       "      <th>size</th>\n",
       "    </tr>\n",
       "  </thead>\n",
       "  <tbody>\n",
       "    <tr>\n",
       "      <th>0</th>\n",
       "      <td> 1</td>\n",
       "      <td> 16.99</td>\n",
       "      <td> 1.01</td>\n",
       "      <td> F</td>\n",
       "      <td> No</td>\n",
       "      <td> Sun</td>\n",
       "      <td> Night</td>\n",
       "      <td> 2</td>\n",
       "    </tr>\n",
       "    <tr>\n",
       "      <th>1</th>\n",
       "      <td> 2</td>\n",
       "      <td> 10.34</td>\n",
       "      <td> 1.66</td>\n",
       "      <td> M</td>\n",
       "      <td> No</td>\n",
       "      <td> Sun</td>\n",
       "      <td> Night</td>\n",
       "      <td> 3</td>\n",
       "    </tr>\n",
       "    <tr>\n",
       "      <th>2</th>\n",
       "      <td> 3</td>\n",
       "      <td> 21.01</td>\n",
       "      <td> 3.50</td>\n",
       "      <td> M</td>\n",
       "      <td> No</td>\n",
       "      <td> Sun</td>\n",
       "      <td> Night</td>\n",
       "      <td> 3</td>\n",
       "    </tr>\n",
       "    <tr>\n",
       "      <th>3</th>\n",
       "      <td> 4</td>\n",
       "      <td> 23.68</td>\n",
       "      <td> 3.31</td>\n",
       "      <td> M</td>\n",
       "      <td> No</td>\n",
       "      <td> Sun</td>\n",
       "      <td> Night</td>\n",
       "      <td> 2</td>\n",
       "    </tr>\n",
       "    <tr>\n",
       "      <th>4</th>\n",
       "      <td> 5</td>\n",
       "      <td> 24.59</td>\n",
       "      <td> 3.61</td>\n",
       "      <td> F</td>\n",
       "      <td> No</td>\n",
       "      <td> Sun</td>\n",
       "      <td> Night</td>\n",
       "      <td> 4</td>\n",
       "    </tr>\n",
       "  </tbody>\n",
       "</table>\n",
       "</div>"
      ],
      "text/plain": [
       "   obs  totbill   tip sex smoker  day   time  size\n",
       "0    1    16.99  1.01   F     No  Sun  Night     2\n",
       "1    2    10.34  1.66   M     No  Sun  Night     3\n",
       "2    3    21.01  3.50   M     No  Sun  Night     3\n",
       "3    4    23.68  3.31   M     No  Sun  Night     2\n",
       "4    5    24.59  3.61   F     No  Sun  Night     4"
      ]
     },
     "execution_count": 16,
     "metadata": {},
     "output_type": "execute_result"
    }
   ],
   "source": [
    "tips.head()"
   ]
  },
  {
   "cell_type": "code",
   "execution_count": 17,
   "metadata": {
    "collapsed": false
   },
   "outputs": [
    {
     "data": {
      "text/html": [
       "<div style=\"max-height:1000px;max-width:1500px;overflow:auto;\">\n",
       "<table border=\"1\" class=\"dataframe\">\n",
       "  <thead>\n",
       "    <tr style=\"text-align: right;\">\n",
       "      <th></th>\n",
       "      <th>obs</th>\n",
       "      <th>totbill</th>\n",
       "      <th>tip</th>\n",
       "      <th>sex</th>\n",
       "      <th>smoker</th>\n",
       "      <th>day</th>\n",
       "      <th>time</th>\n",
       "      <th>size</th>\n",
       "    </tr>\n",
       "  </thead>\n",
       "  <tbody>\n",
       "    <tr>\n",
       "      <th>239</th>\n",
       "      <td> 240</td>\n",
       "      <td> 29.03</td>\n",
       "      <td> 5.92</td>\n",
       "      <td> M</td>\n",
       "      <td>  No</td>\n",
       "      <td> Sat</td>\n",
       "      <td> Night</td>\n",
       "      <td> 3</td>\n",
       "    </tr>\n",
       "    <tr>\n",
       "      <th>240</th>\n",
       "      <td> 241</td>\n",
       "      <td> 27.18</td>\n",
       "      <td> 2.00</td>\n",
       "      <td> F</td>\n",
       "      <td> Yes</td>\n",
       "      <td> Sat</td>\n",
       "      <td> Night</td>\n",
       "      <td> 2</td>\n",
       "    </tr>\n",
       "    <tr>\n",
       "      <th>241</th>\n",
       "      <td> 242</td>\n",
       "      <td> 22.67</td>\n",
       "      <td> 2.00</td>\n",
       "      <td> M</td>\n",
       "      <td> Yes</td>\n",
       "      <td> Sat</td>\n",
       "      <td> Night</td>\n",
       "      <td> 2</td>\n",
       "    </tr>\n",
       "    <tr>\n",
       "      <th>242</th>\n",
       "      <td> 243</td>\n",
       "      <td> 17.82</td>\n",
       "      <td> 1.75</td>\n",
       "      <td> M</td>\n",
       "      <td>  No</td>\n",
       "      <td> Sat</td>\n",
       "      <td> Night</td>\n",
       "      <td> 2</td>\n",
       "    </tr>\n",
       "    <tr>\n",
       "      <th>243</th>\n",
       "      <td> 244</td>\n",
       "      <td> 18.78</td>\n",
       "      <td> 3.00</td>\n",
       "      <td> F</td>\n",
       "      <td>  No</td>\n",
       "      <td> Thu</td>\n",
       "      <td> Night</td>\n",
       "      <td> 2</td>\n",
       "    </tr>\n",
       "  </tbody>\n",
       "</table>\n",
       "</div>"
      ],
      "text/plain": [
       "     obs  totbill   tip sex smoker  day   time  size\n",
       "239  240    29.03  5.92   M     No  Sat  Night     3\n",
       "240  241    27.18  2.00   F    Yes  Sat  Night     2\n",
       "241  242    22.67  2.00   M    Yes  Sat  Night     2\n",
       "242  243    17.82  1.75   M     No  Sat  Night     2\n",
       "243  244    18.78  3.00   F     No  Thu  Night     2"
      ]
     },
     "execution_count": 17,
     "metadata": {},
     "output_type": "execute_result"
    }
   ],
   "source": [
    "tips.tail()"
   ]
  },
  {
   "cell_type": "markdown",
   "metadata": {},
   "source": [
    "We look first at the variable of greatest interest to the waiter: tip. A common graph for looking at a single variable is the histogram, where data values are binned and the count is represented by a rectangular bar."
   ]
  },
  {
   "cell_type": "code",
   "execution_count": 106,
   "metadata": {
    "collapsed": true
   },
   "outputs": [],
   "source": [
    "%matplotlib inline"
   ]
  },
  {
   "cell_type": "markdown",
   "metadata": {},
   "source": [
    "### Tip\n",
    "\n",
    "Start your exploration of a single parameter - usually you'd pick the more important one for your research question."
   ]
  },
  {
   "cell_type": "code",
   "execution_count": 108,
   "metadata": {
    "collapsed": false
   },
   "outputs": [
    {
     "data": {
      "text/html": [
       "<div style=\"max-height:1000px;max-width:1500px;overflow:auto;\">\n",
       "<table border=\"1\" class=\"dataframe\">\n",
       "  <thead>\n",
       "    <tr style=\"text-align: right;\">\n",
       "      <th></th>\n",
       "      <th>obs</th>\n",
       "      <th>totbill</th>\n",
       "      <th>tip</th>\n",
       "      <th>sex</th>\n",
       "      <th>smoker</th>\n",
       "      <th>day</th>\n",
       "      <th>time</th>\n",
       "      <th>size</th>\n",
       "    </tr>\n",
       "  </thead>\n",
       "  <tbody>\n",
       "    <tr>\n",
       "      <th>170</th>\n",
       "      <td> 171</td>\n",
       "      <td> 50.81</td>\n",
       "      <td> 10</td>\n",
       "      <td> M</td>\n",
       "      <td> Yes</td>\n",
       "      <td> Sat</td>\n",
       "      <td> Night</td>\n",
       "      <td> 3</td>\n",
       "    </tr>\n",
       "    <tr>\n",
       "      <th>212</th>\n",
       "      <td> 213</td>\n",
       "      <td> 48.33</td>\n",
       "      <td>  9</td>\n",
       "      <td> M</td>\n",
       "      <td>  No</td>\n",
       "      <td> Sat</td>\n",
       "      <td> Night</td>\n",
       "      <td> 4</td>\n",
       "    </tr>\n",
       "  </tbody>\n",
       "</table>\n",
       "</div>"
      ],
      "text/plain": [
       "     obs  totbill  tip sex smoker  day   time  size\n",
       "170  171    50.81   10   M    Yes  Sat  Night     3\n",
       "212  213    48.33    9   M     No  Sat  Night     4"
      ]
     },
     "execution_count": 108,
     "metadata": {},
     "output_type": "execute_result"
    }
   ],
   "source": [
    "tips[tips.tip > 8]"
   ]
  },
  {
   "cell_type": "code",
   "execution_count": 19,
   "metadata": {
    "collapsed": false
   },
   "outputs": [
    {
     "name": "stderr",
     "output_type": "stream",
     "text": [
      "/home/io/.tools/anaconda/envs/ds/lib/python2.7/site-packages/matplotlib/__init__.py:872: UserWarning: axes.color_cycle is deprecated and replaced with axes.prop_cycle; please use the latter.\n",
      "  warnings.warn(self.msg_depr % (key, alt_key))\n",
      "/home/io/.tools/anaconda/envs/ds/lib/python2.7/site-packages/pandas/util/decorators.py:81: FutureWarning: the 'rows' keyword is deprecated, use 'index' instead\n",
      "  warnings.warn(msg, FutureWarning)\n"
     ]
    },
    {
     "data": {
      "image/png": "[encoded data removed]",
      "text/plain": [
       "<matplotlib.figure.Figure at 0x7f3e497e8f50>"
      ]
     },
     "metadata": {},
     "output_type": "display_data"
    },
    {
     "data": {
      "text/plain": [
       "<ggplot: (8744093604045)>"
      ]
     },
     "execution_count": 19,
     "metadata": {},
     "output_type": "execute_result"
    }
   ],
   "source": [
    "ggplot(tips, aes(x='tip')) + geom_histogram(binwidth=1)"
   ]
  },
  {
   "cell_type": "code",
   "execution_count": 20,
   "metadata": {
    "collapsed": false
   },
   "outputs": [
    {
     "data": {
      "image/png": "[encoded data removed]",
      "text/plain": [
       "<matplotlib.figure.Figure at 0x7f3e48eee510>"
      ]
     },
     "metadata": {},
     "output_type": "display_data"
    },
    {
     "data": {
      "text/plain": [
       "<ggplot: (8744093017313)>"
      ]
     },
     "execution_count": 20,
     "metadata": {},
     "output_type": "execute_result"
    }
   ],
   "source": [
    "# Draw with black outline, yellow fill\n",
    "ggplot(tips, aes(x='tip')) + geom_histogram(binwidth=1, colour=\"black\", fill=\"yellow\")"
   ]
  },
  {
   "cell_type": "code",
   "execution_count": 21,
   "metadata": {
    "collapsed": false
   },
   "outputs": [
    {
     "data": {
      "image/png": "[encoded data removed]",
      "text/plain": [
       "<matplotlib.figure.Figure at 0x7f3e48ee4c10>"
      ]
     },
     "metadata": {},
     "output_type": "display_data"
    },
    {
     "data": {
      "text/plain": [
       "<ggplot: (8744092917861)>"
      ]
     },
     "execution_count": 21,
     "metadata": {},
     "output_type": "execute_result"
    }
   ],
   "source": [
    "# Density curve\n",
    "ggplot(tips, aes(x='tip')) + geom_density()"
   ]
  },
  {
   "cell_type": "code",
   "execution_count": 22,
   "metadata": {
    "collapsed": false
   },
   "outputs": [
    {
     "name": "stderr",
     "output_type": "stream",
     "text": [
      "A variable was mapped to y.\n",
      "    stat_bin sets the y value to the count of cases in each group.\n",
      "    The mapping to y was ignored.\n",
      "    If you want y to represent values in the data, use stat=\"bar\".\n"
     ]
    },
    {
     "data": {
      "image/png": "[encoded data removed]",
      "text/plain": [
       "<matplotlib.figure.Figure at 0x7f3e482b69d0>"
      ]
     },
     "metadata": {},
     "output_type": "display_data"
    },
    {
     "data": {
      "text/plain": [
       "<ggplot: (8744092208573)>"
      ]
     },
     "execution_count": 22,
     "metadata": {},
     "output_type": "execute_result"
    }
   ],
   "source": [
    "# Add a line for the mean:\n",
    "avg_tips = tips.tip.mean()\n",
    "\n",
    "ggplot(tips, aes(x='tip')) + \\\n",
    "    geom_histogram(aes(y='..density..'),      # Histogram with density instead of count on y-axis\n",
    "                   binwidth=1,\n",
    "                   colour=\"black\",\n",
    "                   fill=\"yellow\") + \\\n",
    "    geom_vline(aes(xintercept=avg_tips),\n",
    "               color=\"red\",\n",
    "               linetype=\"dashed\",\n",
    "               size=2)"
   ]
  },
  {
   "cell_type": "markdown",
   "metadata": {},
   "source": [
    "The distribution appears to be unimodal; that is, it has one peak, the bar representing the tips greater than \\$1.50 and less than or equal \\$2.50. There are\n",
    "very few tips of \\$1.50 or less. The number of larger tips trails off rapidly, which suggests that this is not a very expensive restaurant.\n",
    "\n",
    "The conclusions drawn from a histogram are often influenced by the choice of bin width, which is a parameter of the _graph_ and not of the _data_.\n"
   ]
  },
  {
   "cell_type": "markdown",
   "metadata": {},
   "source": [
    "#### Tip 2\n",
    "Experiment with different bin-widths for you histograms - at low granulairty, you'll get a better idea of the overall distribution, at higher levels of granulairty you can inspect whether any 'clipping' is occuring. In other words, **a large bin width smooths out the graph and shows rough or global trends, whereas a smaller bin width highlights more local features**."
   ]
  },
  {
   "cell_type": "code",
   "execution_count": 23,
   "metadata": {
    "collapsed": false
   },
   "outputs": [],
   "source": [
    "# Draw with black outline, yellow fill, binwidth at $0.10\n",
    "p01 = ggplot(tips, aes(x='tip')) + geom_histogram(binwidth=0.1, colour=\"black\", fill=\"yellow\")\n",
    "\n",
    "# Draw with black outline, yellow fill, binwidth at $0.50\n",
    "p05 = ggplot(tips, aes(x='tip')) + geom_histogram(binwidth=0.5, colour=\"black\", fill=\"yellow\")\n",
    "\n",
    "# Draw with black outline, yellow fill, binwidth at $1\n",
    "p1 = ggplot(tips, aes(x='tip')) + geom_histogram(binwidth=1, colour=\"black\", fill=\"yellow\")\n",
    "\n",
    "# Draw with black outline, yellow fill, binwidth at $1\n",
    "p4 = ggplot(tips, aes(x='tip')) + geom_histogram(binwidth=4, colour=\"black\", fill=\"yellow\")"
   ]
  },
  {
   "cell_type": "code",
   "execution_count": 24,
   "metadata": {
    "collapsed": false
   },
   "outputs": [
    {
     "data": {
      "image/png": "[encoded data removed]",
      "text/plain": [
       "<matplotlib.figure.Figure at 0x7f3e482d57d0>"
      ]
     },
     "metadata": {},
     "output_type": "display_data"
    },
    {
     "data": {
      "text/plain": [
       "<ggplot: (8744092203745)>"
      ]
     },
     "execution_count": 24,
     "metadata": {},
     "output_type": "execute_result"
    }
   ],
   "source": [
    "ggplot(tips, aes(x='tip')) + geom_histogram(binwidth=0.1, colour=\"black\", fill=\"yellow\")"
   ]
  },
  {
   "cell_type": "code",
   "execution_count": 27,
   "metadata": {
    "collapsed": false
   },
   "outputs": [
    {
     "data": {
      "image/png": "[encoded data removed]",
      "text/plain": [
       "<matplotlib.figure.Figure at 0x7f3e47d340d0>"
      ]
     },
     "metadata": {},
     "output_type": "display_data"
    },
    {
     "data": {
      "text/plain": [
       "<ggplot: (8744093622645)>"
      ]
     },
     "execution_count": 27,
     "metadata": {},
     "output_type": "execute_result"
    }
   ],
   "source": [
    "p05"
   ]
  },
  {
   "cell_type": "code",
   "execution_count": 28,
   "metadata": {
    "collapsed": false
   },
   "outputs": [
    {
     "name": "stderr",
     "output_type": "stream",
     "text": [
      "/home/io/.tools/anaconda/envs/ds/lib/python2.7/site-packages/ggplot/geoms/geom_bar.py:47: FutureWarning: comparison to `None` will result in an elementwise object comparison in the future.\n",
      "  _reset = self.bottom == None or (self.ax != None and self.ax != ax)\n"
     ]
    },
    {
     "data": {
      "image/png": "[encoded data removed]",
      "text/plain": [
       "<matplotlib.figure.Figure at 0x7f3e47bb13d0>"
      ]
     },
     "metadata": {},
     "output_type": "display_data"
    },
    {
     "data": {
      "text/plain": [
       "<ggplot: (8744092206449)>"
      ]
     },
     "execution_count": 28,
     "metadata": {},
     "output_type": "execute_result"
    }
   ],
   "source": [
    "p1"
   ]
  },
  {
   "cell_type": "code",
   "execution_count": 29,
   "metadata": {
    "collapsed": false
   },
   "outputs": [
    {
     "data": {
      "image/png": "[encoded data removed]",
      "text/plain": [
       "<matplotlib.figure.Figure at 0x7f3e479d2110>"
      ]
     },
     "metadata": {},
     "output_type": "display_data"
    },
    {
     "data": {
      "text/plain": [
       "<ggplot: (8744092206565)>"
      ]
     },
     "execution_count": 29,
     "metadata": {},
     "output_type": "execute_result"
    }
   ],
   "source": [
    "p4"
   ]
  },
  {
   "cell_type": "markdown",
   "metadata": {},
   "source": [
    "This shows a histogram with a smaller bin width, 10c. At the smaller bin width the shape is multimodal, and it is clear that there are large peaks at the full\n",
    "dollars and smaller peaks at the half dollar. This shows that the customers tended to round the tip to the nearest fifty cents or dollar.\n",
    "\n",
    "So far we have not addressed the primary question: What relationships exist between tip and the other variables? Since the tip is usually calculated\n",
    "based on the bill, it is natural to look first at a graph of tip and bill. A common graph for looking at a pair of continuous variables is the scatterplot.\n"
   ]
  },
  {
   "cell_type": "markdown",
   "metadata": {},
   "source": [
    "### Scatterplot"
   ]
  },
  {
   "cell_type": "code",
   "execution_count": 30,
   "metadata": {
    "collapsed": false
   },
   "outputs": [
    {
     "data": {
      "image/png": "[encoded data removed]",
      "text/plain": [
       "<matplotlib.figure.Figure at 0x7f3e47f82dd0>"
      ]
     },
     "metadata": {},
     "output_type": "display_data"
    },
    {
     "data": {
      "text/plain": [
       "<ggplot: (8744091851225)>"
      ]
     },
     "execution_count": 30,
     "metadata": {},
     "output_type": "execute_result"
    }
   ],
   "source": [
    "# GET EQUATION AND R-SQUARED AS STRING\n",
    "# SOURCE: http://goo.gl/K4yh\n",
    "tb = tips['totbill']\n",
    "tr = tips['totbill'] * 0.18\n",
    "\n",
    "ggplot(aes(x = 'totbill', y = 'tip'), data = tips) + \\\n",
    "    geom_line(aes(tb, tr), colour = \"red\", size = 1,) + \\\n",
    "    geom_point(colour = \"black\", size = 5)"
   ]
  },
  {
   "cell_type": "markdown",
   "metadata": {},
   "source": [
    "We see that the variables are highly correlated ($r$ = 0.68), which confirms that tip is calculated from the bill. We have added a line representing a tip rate of 18\\%. Disappointingly for the waiter, there are many more points below the line than above it: There are many more “cheap tippers” than generous tippers. There are a couple of notable exceptions, especially one party who gave a \\$5.15 tip for a \\$7.25 bill, which works out to a tip rate of about 70%."
   ]
  },
  {
   "cell_type": "markdown",
   "metadata": {},
   "source": [
    "**Histogram and density plots with multiple groups**"
   ]
  },
  {
   "cell_type": "code",
   "execution_count": 47,
   "metadata": {
    "collapsed": false,
    "scrolled": false
   },
   "outputs": [
    {
     "data": {
      "image/png": "[encoded data removed]",
      "text/plain": [
       "<matplotlib.figure.Figure at 0x7f3e4834d850>"
      ]
     },
     "metadata": {},
     "output_type": "display_data"
    },
    {
     "data": {
      "image/png": "[encoded data removed]",
      "text/plain": [
       "<matplotlib.figure.Figure at 0x7f3e4781bb90>"
      ]
     },
     "metadata": {},
     "output_type": "display_data"
    },
    {
     "data": {
      "text/plain": [
       "<ggplot: (8744091524061)>"
      ]
     },
     "execution_count": 47,
     "metadata": {},
     "output_type": "execute_result"
    }
   ],
   "source": [
    "m_tips = tips[tips.sex == 'M']\n",
    "f_tips = tips[tips.sex == 'F']\n",
    "\n",
    "# Overlaid histograms\n",
    "ggplot(f_tips, aes(x='tip')) + \\\n",
    "    geom_histogram(binwidth=1, alpha=.5)"
   ]
  },
  {
   "cell_type": "code",
   "execution_count": 48,
   "metadata": {
    "collapsed": false
   },
   "outputs": [
    {
     "data": {
      "image/png": "[encoded data removed]",
      "text/plain": [
       "<matplotlib.figure.Figure at 0x7f3e4774c790>"
      ]
     },
     "metadata": {},
     "output_type": "display_data"
    },
    {
     "data": {
      "text/plain": [
       "<ggplot: (8744091581145)>"
      ]
     },
     "execution_count": 48,
     "metadata": {},
     "output_type": "execute_result"
    }
   ],
   "source": [
    "# Overlaid histograms\n",
    "ggplot(tips, aes(x='tip', fill='sex')) + \\\n",
    "    geom_histogram(binwidth=1, alpha=.5, position=\"identity\")"
   ]
  },
  {
   "cell_type": "code",
   "execution_count": 49,
   "metadata": {
    "collapsed": false
   },
   "outputs": [
    {
     "data": {
      "image/png": "[encoded data removed]",
      "text/plain": [
       "<matplotlib.figure.Figure at 0x7f3e478fae90>"
      ]
     },
     "metadata": {},
     "output_type": "display_data"
    },
    {
     "data": {
      "text/plain": [
       "<ggplot: (8744089533905)>"
      ]
     },
     "execution_count": 49,
     "metadata": {},
     "output_type": "execute_result"
    }
   ],
   "source": [
    "# Density plots\n",
    "ggplot(tips, aes(x='tip', colour='sex')) + geom_density()"
   ]
  },
  {
   "cell_type": "code",
   "execution_count": 50,
   "metadata": {
    "collapsed": false
   },
   "outputs": [
    {
     "data": {
      "image/png": "[encoded data removed]",
      "text/plain": [
       "<matplotlib.figure.Figure at 0x7f3e477000d0>"
      ]
     },
     "metadata": {},
     "output_type": "display_data"
    },
    {
     "data": {
      "text/plain": [
       "<ggplot: (8744089322333)>"
      ]
     },
     "execution_count": 50,
     "metadata": {},
     "output_type": "execute_result"
    }
   ],
   "source": [
    "# Density plots with semi-transparent fill\n",
    "ggplot(tips, aes(x='tip', fill='sex')) + geom_density(alpha=.3)"
   ]
  },
  {
   "cell_type": "markdown",
   "metadata": {},
   "source": [
    "We said earlier that an essential aspect of data visualization is capturing relationships among many variables: three, four, or even more. This dataset,\n",
    "simple as it is, illustrates the point. Let us ask, for example, how a third variable such as sex affects the relationship between tip and bill. As sex is\n",
    "categorical with two levels (i.e., binary), it is natural to divide the data into female and male payers and to generate two scatterplots of tip vs. bill. Let us go even further by including a fourth variable, smoking, which is also binary. We now divide the data into four parts and generate the four scatterplots."
   ]
  },
  {
   "cell_type": "code",
   "execution_count": null,
   "metadata": {
    "collapsed": false
   },
   "outputs": [],
   "source": [
    "!sudo /home/io/.tools/anaconda/bin/pip install rpy2"
   ]
  },
  {
   "cell_type": "code",
   "execution_count": null,
   "metadata": {
    "collapsed": false
   },
   "outputs": [],
   "source": [
    "import rpy2\n",
    "import pandas as pd\n",
    "%load_ext rpy2.ipython"
   ]
  },
  {
   "cell_type": "code",
   "execution_count": null,
   "metadata": {
    "collapsed": false
   },
   "outputs": [],
   "source": [
    "%%R\n",
    "# The R version of this code\n",
    "\n",
    "# install.packages('ggplot2')\n",
    "# install.packages('gridExtra')\n",
    "library('ggplot2')\n",
    "library('gridExtra')\n",
    "tips <- read.csv('../data//tips.csv')\n",
    "\n",
    "# GET EQUATION AND R-SQUARED AS STRING\n",
    "# SOURCE: http://goo.gl/K4yhz\n",
    "\n",
    "plt_cor <- function(subs,x,y) {\n",
    "  plot_cor <- cor(subs[[x]],subs[[y]])\n",
    "  return(round(plot_cor,2))\n",
    "}\n",
    "\n",
    "p1 <- ggplot(data = subset(tips, (sex == 'M' & smoker == 'No')), aes(x = totbill, y = tip)) +\n",
    "        geom_point(colour = \"black\", size = 5) +\n",
    "        geom_line(colour = \"red\", size = 1, aes(totbill, totbill*0.18)) +\n",
    "        geom_text(aes(45, 7 ,label = '18%', vjust = -1)) +\n",
    "        geom_text(aes(10, 9 ,label = paste('r', plt_cor(subset(tips, (sex == 'M' & smoker == 'No')),'totbill','tip')), vjust = -1)) +\n",
    "        ggtitle(\"Male Non-Smokers\") +\n",
    "        xlim(1,50) + ylim(1,10)\n",
    "\n",
    "p2 <- ggplot(data = subset(tips, (sex == 'M' & smoker == 'Yes')), aes(x = totbill, y = tip)) +\n",
    "        geom_point(colour = \"black\", size = 5) +\n",
    "        geom_line(colour = \"red\", size = 1, aes(totbill, totbill*0.18)) +\n",
    "        geom_text(aes(45, 7 ,label = '18%', vjust = -1)) +\n",
    "        geom_text(aes(10, 9 ,label = paste('r', plt_cor(subset(tips, (sex == 'M' & smoker == 'Yes')),'totbill','tip')), vjust = -1)) +\n",
    "        ggtitle(\"Male Smokers\") +\n",
    "        xlim(1,50) + ylim(1,10)\n",
    "\n",
    "\n",
    "p3 <- ggplot(data = subset(tips, (sex == 'F' & smoker == 'No')), aes(x = totbill, y = tip)) +\n",
    "        geom_point(colour = \"black\", size = 5) +\n",
    "        geom_line(colour = \"red\", size = 1, aes(totbill, totbill*0.18)) +\n",
    "        geom_text(aes(45, 7 ,label = '18%', vjust = -1)) +\n",
    "        geom_text(aes(10, 9 ,label = paste('r', plt_cor(subset(tips, (sex == 'F' & smoker == 'No')),'totbill','tip')), vjust = -1)) +\n",
    "        ggtitle(\"Female Non-Smokers\") +\n",
    "        xlim(1,50) + ylim(1,10)\n",
    "\n",
    "\n",
    "p4 <- ggplot(data = subset(tips, (sex == 'F' & smoker == 'Yes')), aes(x = totbill, y = tip)) +\n",
    "        geom_point(colour = \"black\", size = 5) +\n",
    "        geom_line(colour = \"red\", size = 1, aes(totbill, totbill*0.18)) +\n",
    "        geom_text(aes(45, 7 ,label = '18%', vjust = -1)) +\n",
    "        geom_text(aes(10, 9 ,label = paste('r', plt_cor(subset(tips, (sex == 'F' & smoker == 'Yes')),'totbill','tip')), vjust = -1)) +\n",
    "        ggtitle(\"Female Smokers\") +\n",
    "        xlim(1,50) + ylim(1,10)\n",
    "\n",
    "grid.arrange(p1, p2, p3, p4, ncol = 2, main = \"Scatterplots with different sample subsets\")"
   ]
  },
  {
   "cell_type": "markdown",
   "metadata": {},
   "source": [
    "![](assets/unnamed-chunk-52-1.png)"
   ]
  },
  {
   "cell_type": "markdown",
   "metadata": {},
   "source": [
    "Inspecting these plots reveals numerous features:"
   ]
  },
  {
   "cell_type": "markdown",
   "metadata": {},
   "source": [
    "1. For smoking parties, there is a lot less association between the size of the tip and the size of the bill; \n",
    "1. When a female non-smoker paid the bill, the tip was a very consistent percentage of the bill, with the exceptions of three dining parties;\n",
    "1. larger bills were mostly paid by men."
   ]
  },
  {
   "cell_type": "markdown",
   "metadata": {},
   "source": [
    "In the above example we gained a wealth of insight in a short time. Using nothing but graphical methods we investigated univariate, bivariate, and multivariate relationships. We found both global features and local detail. We saw that tips were rounded; then we saw the obvious correlation between the tip and the size of the bill, noting the scarcity of generous tippers; finally we discovered differences in the tipping behavior of male and female smokers and non-smokers. In contrast, an old-fashioned approach without graphics would be to fit a regression model. Without subtle regression diagnostics (which rely on graphics!), mmthis approach would miss many of the above insights."
   ]
  },
  {
   "cell_type": "markdown",
   "metadata": {},
   "source": [
    "## The Bigger picture"
   ]
  },
  {
   "cell_type": "markdown",
   "metadata": {},
   "source": [
    "![](assets/images-mod1-big-picture-eda.gif)"
   ]
  },
  {
   "cell_type": "markdown",
   "metadata": {},
   "source": [
    "To understand data analysis, and how visualization fits in, it is useful to talk about it as a process consisting of several stages:"
   ]
  },
  {
   "cell_type": "markdown",
   "metadata": {},
   "source": [
    "#### The problem statement\n",
    "\n",
    "Why do you want to analyze this data? Underlying every dataset is a question or problem statement. For the tipping data the question was provided to us from the data source: “What are the factors that affect tipping behavior?” This problem statement drives the process of any data analysis. Sometimes the problem is identified prior to a data collection. Perhaps it is realized after data becomes available because having the data available has made it possible to imagine new issues\n",
    "\n",
    "#### Data preparation\n",
    "\n",
    "During this class, I always hand you a single data matrix with each variable clearly defined. In the real world, it can take a great deal of work to construct a clean data matrix. For example, data values may be missing or misrecorded, data may be distributed across several sources, and the variable definitions and data values may be inconsistent across these sources. It is therefore not uncommon for this stage to consume most of the effort that goes into a project. And it is also not uncommon to loop back to this stage after completing the subsequent stages, to re-prepare and re-analyze the data.\n",
    "\n",
    "#### Exploratory data analysis\n",
    "\n",
    "At this stage in the analysis, we make time to “play in the sand” to allow us to find the unexpected, and come to some understanding of our data. It is characterized by direct manipulation and dynamic graphics: plots that respond in real time to an analyst’s queries and change dynamically to re-focus, link to information from other sources, and re-organize information. The analyst can work rapidly and thoroughly through the data, slipping out of dead-ends and chasing down new leads. The high level of interactivity is enabled by bare-bones graphics, which are generally not adequate for presentation purposes.\n",
    "\n",
    "#### Quantitative analysis\n",
    "\n",
    "At this stage, we use statistical modeling and statistical interference to answer our primary questions. With statistical models, we summarize complex data, decomposing it into estimates of signal and noise. With statistical inference, we try to assess whether a signal is real. Data visualization plays an important role at this stage, although that is less well known than its key role in exploration. It is helpful both in better understanding a model and in assessing its validity in relation to the data.\n",
    "\n",
    "For Tips, we have not yet answered the primary question of interest. Let’s fit a regression model using tiprate as the response and the remaining variables (except tip and bill) as the explanatory variables. When we do this, only `size` has a significant regression coefficient. "
   ]
  },
  {
   "cell_type": "markdown",
   "metadata": {},
   "source": [
    "`ggplot` support for python is no longer under development, so for our linear model plots, let's use a tool called seaborn."
   ]
  },
  {
   "cell_type": "code",
   "execution_count": 51,
   "metadata": {
    "collapsed": true
   },
   "outputs": [],
   "source": [
    "%matplotlib inline"
   ]
  },
  {
   "cell_type": "code",
   "execution_count": 52,
   "metadata": {
    "collapsed": false
   },
   "outputs": [],
   "source": [
    "import numpy as np\n",
    "import pandas as pd\n",
    "import seaborn as sns\n",
    "import matplotlib as mpl\n",
    "import matplotlib.pyplot as plt"
   ]
  },
  {
   "cell_type": "markdown",
   "metadata": {},
   "source": [
    "#### Visualizing multiple regression with lmplot()"
   ]
  },
  {
   "cell_type": "code",
   "execution_count": 53,
   "metadata": {
    "collapsed": false
   },
   "outputs": [
    {
     "data": {
      "image/png": "[encoded data removed]",
      "text/plain": [
       "<matplotlib.figure.Figure at 0x7f3e456b3b90>"
      ]
     },
     "metadata": {},
     "output_type": "display_data"
    }
   ],
   "source": [
    "with sns.plotting_context(context='poster'):\n",
    "    sns.lmplot(\"totbill\", \"tip\", tips, size=9, aspect=2)"
   ]
  },
  {
   "cell_type": "code",
   "execution_count": 54,
   "metadata": {
    "collapsed": false
   },
   "outputs": [
    {
     "data": {
      "text/html": [
       "<div style=\"max-height:1000px;max-width:1500px;overflow:auto;\">\n",
       "<table border=\"1\" class=\"dataframe\">\n",
       "  <thead>\n",
       "    <tr style=\"text-align: right;\">\n",
       "      <th></th>\n",
       "      <th>obs</th>\n",
       "      <th>totbill</th>\n",
       "      <th>tip</th>\n",
       "      <th>sex</th>\n",
       "      <th>smoker</th>\n",
       "      <th>day</th>\n",
       "      <th>time</th>\n",
       "      <th>size</th>\n",
       "    </tr>\n",
       "  </thead>\n",
       "  <tbody>\n",
       "    <tr>\n",
       "      <th>0  </th>\n",
       "      <td>   1</td>\n",
       "      <td> 16.99</td>\n",
       "      <td> 1.01</td>\n",
       "      <td> F</td>\n",
       "      <td>  No</td>\n",
       "      <td> Sun</td>\n",
       "      <td> Night</td>\n",
       "      <td> 2</td>\n",
       "    </tr>\n",
       "    <tr>\n",
       "      <th>1  </th>\n",
       "      <td>   2</td>\n",
       "      <td> 10.34</td>\n",
       "      <td> 1.66</td>\n",
       "      <td> M</td>\n",
       "      <td>  No</td>\n",
       "      <td> Sun</td>\n",
       "      <td> Night</td>\n",
       "      <td> 3</td>\n",
       "    </tr>\n",
       "    <tr>\n",
       "      <th>2  </th>\n",
       "      <td>   3</td>\n",
       "      <td> 21.01</td>\n",
       "      <td> 3.50</td>\n",
       "      <td> M</td>\n",
       "      <td>  No</td>\n",
       "      <td> Sun</td>\n",
       "      <td> Night</td>\n",
       "      <td> 3</td>\n",
       "    </tr>\n",
       "    <tr>\n",
       "      <th>3  </th>\n",
       "      <td>   4</td>\n",
       "      <td> 23.68</td>\n",
       "      <td> 3.31</td>\n",
       "      <td> M</td>\n",
       "      <td>  No</td>\n",
       "      <td> Sun</td>\n",
       "      <td> Night</td>\n",
       "      <td> 2</td>\n",
       "    </tr>\n",
       "    <tr>\n",
       "      <th>4  </th>\n",
       "      <td>   5</td>\n",
       "      <td> 24.59</td>\n",
       "      <td> 3.61</td>\n",
       "      <td> F</td>\n",
       "      <td>  No</td>\n",
       "      <td> Sun</td>\n",
       "      <td> Night</td>\n",
       "      <td> 4</td>\n",
       "    </tr>\n",
       "    <tr>\n",
       "      <th>5  </th>\n",
       "      <td>   6</td>\n",
       "      <td> 25.29</td>\n",
       "      <td> 4.71</td>\n",
       "      <td> M</td>\n",
       "      <td>  No</td>\n",
       "      <td> Sun</td>\n",
       "      <td> Night</td>\n",
       "      <td> 4</td>\n",
       "    </tr>\n",
       "    <tr>\n",
       "      <th>6  </th>\n",
       "      <td>   7</td>\n",
       "      <td>  8.77</td>\n",
       "      <td> 2.00</td>\n",
       "      <td> M</td>\n",
       "      <td>  No</td>\n",
       "      <td> Sun</td>\n",
       "      <td> Night</td>\n",
       "      <td> 2</td>\n",
       "    </tr>\n",
       "    <tr>\n",
       "      <th>7  </th>\n",
       "      <td>   8</td>\n",
       "      <td> 26.88</td>\n",
       "      <td> 3.12</td>\n",
       "      <td> M</td>\n",
       "      <td>  No</td>\n",
       "      <td> Sun</td>\n",
       "      <td> Night</td>\n",
       "      <td> 4</td>\n",
       "    </tr>\n",
       "    <tr>\n",
       "      <th>8  </th>\n",
       "      <td>   9</td>\n",
       "      <td> 15.04</td>\n",
       "      <td> 1.96</td>\n",
       "      <td> M</td>\n",
       "      <td>  No</td>\n",
       "      <td> Sun</td>\n",
       "      <td> Night</td>\n",
       "      <td> 2</td>\n",
       "    </tr>\n",
       "    <tr>\n",
       "      <th>9  </th>\n",
       "      <td>  10</td>\n",
       "      <td> 14.78</td>\n",
       "      <td> 3.23</td>\n",
       "      <td> M</td>\n",
       "      <td>  No</td>\n",
       "      <td> Sun</td>\n",
       "      <td> Night</td>\n",
       "      <td> 2</td>\n",
       "    </tr>\n",
       "    <tr>\n",
       "      <th>10 </th>\n",
       "      <td>  11</td>\n",
       "      <td> 10.27</td>\n",
       "      <td> 1.71</td>\n",
       "      <td> M</td>\n",
       "      <td>  No</td>\n",
       "      <td> Sun</td>\n",
       "      <td> Night</td>\n",
       "      <td> 2</td>\n",
       "    </tr>\n",
       "    <tr>\n",
       "      <th>11 </th>\n",
       "      <td>  12</td>\n",
       "      <td> 35.26</td>\n",
       "      <td> 5.00</td>\n",
       "      <td> F</td>\n",
       "      <td>  No</td>\n",
       "      <td> Sun</td>\n",
       "      <td> Night</td>\n",
       "      <td> 4</td>\n",
       "    </tr>\n",
       "    <tr>\n",
       "      <th>12 </th>\n",
       "      <td>  13</td>\n",
       "      <td> 15.42</td>\n",
       "      <td> 1.57</td>\n",
       "      <td> M</td>\n",
       "      <td>  No</td>\n",
       "      <td> Sun</td>\n",
       "      <td> Night</td>\n",
       "      <td> 2</td>\n",
       "    </tr>\n",
       "    <tr>\n",
       "      <th>13 </th>\n",
       "      <td>  14</td>\n",
       "      <td> 18.43</td>\n",
       "      <td> 3.00</td>\n",
       "      <td> M</td>\n",
       "      <td>  No</td>\n",
       "      <td> Sun</td>\n",
       "      <td> Night</td>\n",
       "      <td> 4</td>\n",
       "    </tr>\n",
       "    <tr>\n",
       "      <th>14 </th>\n",
       "      <td>  15</td>\n",
       "      <td> 14.83</td>\n",
       "      <td> 3.02</td>\n",
       "      <td> F</td>\n",
       "      <td>  No</td>\n",
       "      <td> Sun</td>\n",
       "      <td> Night</td>\n",
       "      <td> 2</td>\n",
       "    </tr>\n",
       "    <tr>\n",
       "      <th>15 </th>\n",
       "      <td>  16</td>\n",
       "      <td> 21.58</td>\n",
       "      <td> 3.92</td>\n",
       "      <td> M</td>\n",
       "      <td>  No</td>\n",
       "      <td> Sun</td>\n",
       "      <td> Night</td>\n",
       "      <td> 2</td>\n",
       "    </tr>\n",
       "    <tr>\n",
       "      <th>16 </th>\n",
       "      <td>  17</td>\n",
       "      <td> 10.33</td>\n",
       "      <td> 1.67</td>\n",
       "      <td> F</td>\n",
       "      <td>  No</td>\n",
       "      <td> Sun</td>\n",
       "      <td> Night</td>\n",
       "      <td> 3</td>\n",
       "    </tr>\n",
       "    <tr>\n",
       "      <th>17 </th>\n",
       "      <td>  18</td>\n",
       "      <td> 16.29</td>\n",
       "      <td> 3.71</td>\n",
       "      <td> M</td>\n",
       "      <td>  No</td>\n",
       "      <td> Sun</td>\n",
       "      <td> Night</td>\n",
       "      <td> 3</td>\n",
       "    </tr>\n",
       "    <tr>\n",
       "      <th>18 </th>\n",
       "      <td>  19</td>\n",
       "      <td> 16.97</td>\n",
       "      <td> 3.50</td>\n",
       "      <td> F</td>\n",
       "      <td>  No</td>\n",
       "      <td> Sun</td>\n",
       "      <td> Night</td>\n",
       "      <td> 3</td>\n",
       "    </tr>\n",
       "    <tr>\n",
       "      <th>19 </th>\n",
       "      <td>  20</td>\n",
       "      <td> 20.65</td>\n",
       "      <td> 3.35</td>\n",
       "      <td> M</td>\n",
       "      <td>  No</td>\n",
       "      <td> Sat</td>\n",
       "      <td> Night</td>\n",
       "      <td> 3</td>\n",
       "    </tr>\n",
       "    <tr>\n",
       "      <th>20 </th>\n",
       "      <td>  21</td>\n",
       "      <td> 17.92</td>\n",
       "      <td> 4.08</td>\n",
       "      <td> M</td>\n",
       "      <td>  No</td>\n",
       "      <td> Sat</td>\n",
       "      <td> Night</td>\n",
       "      <td> 2</td>\n",
       "    </tr>\n",
       "    <tr>\n",
       "      <th>21 </th>\n",
       "      <td>  22</td>\n",
       "      <td> 20.29</td>\n",
       "      <td> 2.75</td>\n",
       "      <td> F</td>\n",
       "      <td>  No</td>\n",
       "      <td> Sat</td>\n",
       "      <td> Night</td>\n",
       "      <td> 2</td>\n",
       "    </tr>\n",
       "    <tr>\n",
       "      <th>22 </th>\n",
       "      <td>  23</td>\n",
       "      <td> 15.77</td>\n",
       "      <td> 2.23</td>\n",
       "      <td> F</td>\n",
       "      <td>  No</td>\n",
       "      <td> Sat</td>\n",
       "      <td> Night</td>\n",
       "      <td> 2</td>\n",
       "    </tr>\n",
       "    <tr>\n",
       "      <th>23 </th>\n",
       "      <td>  24</td>\n",
       "      <td> 39.42</td>\n",
       "      <td> 7.58</td>\n",
       "      <td> M</td>\n",
       "      <td>  No</td>\n",
       "      <td> Sat</td>\n",
       "      <td> Night</td>\n",
       "      <td> 4</td>\n",
       "    </tr>\n",
       "    <tr>\n",
       "      <th>24 </th>\n",
       "      <td>  25</td>\n",
       "      <td> 19.82</td>\n",
       "      <td> 3.18</td>\n",
       "      <td> M</td>\n",
       "      <td>  No</td>\n",
       "      <td> Sat</td>\n",
       "      <td> Night</td>\n",
       "      <td> 2</td>\n",
       "    </tr>\n",
       "    <tr>\n",
       "      <th>25 </th>\n",
       "      <td>  26</td>\n",
       "      <td> 17.81</td>\n",
       "      <td> 2.34</td>\n",
       "      <td> M</td>\n",
       "      <td>  No</td>\n",
       "      <td> Sat</td>\n",
       "      <td> Night</td>\n",
       "      <td> 4</td>\n",
       "    </tr>\n",
       "    <tr>\n",
       "      <th>26 </th>\n",
       "      <td>  27</td>\n",
       "      <td> 13.37</td>\n",
       "      <td> 2.00</td>\n",
       "      <td> M</td>\n",
       "      <td>  No</td>\n",
       "      <td> Sat</td>\n",
       "      <td> Night</td>\n",
       "      <td> 2</td>\n",
       "    </tr>\n",
       "    <tr>\n",
       "      <th>27 </th>\n",
       "      <td>  28</td>\n",
       "      <td> 12.69</td>\n",
       "      <td> 2.00</td>\n",
       "      <td> M</td>\n",
       "      <td>  No</td>\n",
       "      <td> Sat</td>\n",
       "      <td> Night</td>\n",
       "      <td> 2</td>\n",
       "    </tr>\n",
       "    <tr>\n",
       "      <th>28 </th>\n",
       "      <td>  29</td>\n",
       "      <td> 21.70</td>\n",
       "      <td> 4.30</td>\n",
       "      <td> M</td>\n",
       "      <td>  No</td>\n",
       "      <td> Sat</td>\n",
       "      <td> Night</td>\n",
       "      <td> 2</td>\n",
       "    </tr>\n",
       "    <tr>\n",
       "      <th>29 </th>\n",
       "      <td>  30</td>\n",
       "      <td> 19.65</td>\n",
       "      <td> 3.00</td>\n",
       "      <td> F</td>\n",
       "      <td>  No</td>\n",
       "      <td> Sat</td>\n",
       "      <td> Night</td>\n",
       "      <td> 2</td>\n",
       "    </tr>\n",
       "    <tr>\n",
       "      <th>...</th>\n",
       "      <td>...</td>\n",
       "      <td>...</td>\n",
       "      <td>...</td>\n",
       "      <td>...</td>\n",
       "      <td>...</td>\n",
       "      <td>...</td>\n",
       "      <td>...</td>\n",
       "      <td>...</td>\n",
       "    </tr>\n",
       "    <tr>\n",
       "      <th>214</th>\n",
       "      <td> 215</td>\n",
       "      <td> 28.17</td>\n",
       "      <td> 6.50</td>\n",
       "      <td> F</td>\n",
       "      <td> Yes</td>\n",
       "      <td> Sat</td>\n",
       "      <td> Night</td>\n",
       "      <td> 3</td>\n",
       "    </tr>\n",
       "    <tr>\n",
       "      <th>215</th>\n",
       "      <td> 216</td>\n",
       "      <td> 12.90</td>\n",
       "      <td> 1.10</td>\n",
       "      <td> F</td>\n",
       "      <td> Yes</td>\n",
       "      <td> Sat</td>\n",
       "      <td> Night</td>\n",
       "      <td> 2</td>\n",
       "    </tr>\n",
       "    <tr>\n",
       "      <th>216</th>\n",
       "      <td> 217</td>\n",
       "      <td> 28.15</td>\n",
       "      <td> 3.00</td>\n",
       "      <td> M</td>\n",
       "      <td> Yes</td>\n",
       "      <td> Sat</td>\n",
       "      <td> Night</td>\n",
       "      <td> 5</td>\n",
       "    </tr>\n",
       "    <tr>\n",
       "      <th>217</th>\n",
       "      <td> 218</td>\n",
       "      <td> 11.59</td>\n",
       "      <td> 1.50</td>\n",
       "      <td> M</td>\n",
       "      <td> Yes</td>\n",
       "      <td> Sat</td>\n",
       "      <td> Night</td>\n",
       "      <td> 2</td>\n",
       "    </tr>\n",
       "    <tr>\n",
       "      <th>218</th>\n",
       "      <td> 219</td>\n",
       "      <td>  7.74</td>\n",
       "      <td> 1.44</td>\n",
       "      <td> M</td>\n",
       "      <td> Yes</td>\n",
       "      <td> Sat</td>\n",
       "      <td> Night</td>\n",
       "      <td> 2</td>\n",
       "    </tr>\n",
       "    <tr>\n",
       "      <th>219</th>\n",
       "      <td> 220</td>\n",
       "      <td> 30.14</td>\n",
       "      <td> 3.09</td>\n",
       "      <td> F</td>\n",
       "      <td> Yes</td>\n",
       "      <td> Sat</td>\n",
       "      <td> Night</td>\n",
       "      <td> 4</td>\n",
       "    </tr>\n",
       "    <tr>\n",
       "      <th>220</th>\n",
       "      <td> 221</td>\n",
       "      <td> 12.16</td>\n",
       "      <td> 2.20</td>\n",
       "      <td> M</td>\n",
       "      <td> Yes</td>\n",
       "      <td> Fri</td>\n",
       "      <td>   Day</td>\n",
       "      <td> 2</td>\n",
       "    </tr>\n",
       "    <tr>\n",
       "      <th>221</th>\n",
       "      <td> 222</td>\n",
       "      <td> 13.42</td>\n",
       "      <td> 3.48</td>\n",
       "      <td> F</td>\n",
       "      <td> Yes</td>\n",
       "      <td> Fri</td>\n",
       "      <td>   Day</td>\n",
       "      <td> 2</td>\n",
       "    </tr>\n",
       "    <tr>\n",
       "      <th>222</th>\n",
       "      <td> 223</td>\n",
       "      <td>  8.58</td>\n",
       "      <td> 1.92</td>\n",
       "      <td> M</td>\n",
       "      <td> Yes</td>\n",
       "      <td> Fri</td>\n",
       "      <td>   Day</td>\n",
       "      <td> 1</td>\n",
       "    </tr>\n",
       "    <tr>\n",
       "      <th>223</th>\n",
       "      <td> 224</td>\n",
       "      <td> 15.98</td>\n",
       "      <td> 3.00</td>\n",
       "      <td> F</td>\n",
       "      <td>  No</td>\n",
       "      <td> Fri</td>\n",
       "      <td>   Day</td>\n",
       "      <td> 3</td>\n",
       "    </tr>\n",
       "    <tr>\n",
       "      <th>224</th>\n",
       "      <td> 225</td>\n",
       "      <td> 13.42</td>\n",
       "      <td> 1.58</td>\n",
       "      <td> M</td>\n",
       "      <td> Yes</td>\n",
       "      <td> Fri</td>\n",
       "      <td>   Day</td>\n",
       "      <td> 2</td>\n",
       "    </tr>\n",
       "    <tr>\n",
       "      <th>225</th>\n",
       "      <td> 226</td>\n",
       "      <td> 16.27</td>\n",
       "      <td> 2.50</td>\n",
       "      <td> F</td>\n",
       "      <td> Yes</td>\n",
       "      <td> Fri</td>\n",
       "      <td>   Day</td>\n",
       "      <td> 2</td>\n",
       "    </tr>\n",
       "    <tr>\n",
       "      <th>226</th>\n",
       "      <td> 227</td>\n",
       "      <td> 10.09</td>\n",
       "      <td> 2.00</td>\n",
       "      <td> F</td>\n",
       "      <td> Yes</td>\n",
       "      <td> Fri</td>\n",
       "      <td>   Day</td>\n",
       "      <td> 2</td>\n",
       "    </tr>\n",
       "    <tr>\n",
       "      <th>227</th>\n",
       "      <td> 228</td>\n",
       "      <td> 20.45</td>\n",
       "      <td> 3.00</td>\n",
       "      <td> M</td>\n",
       "      <td>  No</td>\n",
       "      <td> Sat</td>\n",
       "      <td> Night</td>\n",
       "      <td> 4</td>\n",
       "    </tr>\n",
       "    <tr>\n",
       "      <th>228</th>\n",
       "      <td> 229</td>\n",
       "      <td> 13.28</td>\n",
       "      <td> 2.72</td>\n",
       "      <td> M</td>\n",
       "      <td>  No</td>\n",
       "      <td> Sat</td>\n",
       "      <td> Night</td>\n",
       "      <td> 2</td>\n",
       "    </tr>\n",
       "    <tr>\n",
       "      <th>229</th>\n",
       "      <td> 230</td>\n",
       "      <td> 22.12</td>\n",
       "      <td> 2.88</td>\n",
       "      <td> F</td>\n",
       "      <td> Yes</td>\n",
       "      <td> Sat</td>\n",
       "      <td> Night</td>\n",
       "      <td> 2</td>\n",
       "    </tr>\n",
       "    <tr>\n",
       "      <th>230</th>\n",
       "      <td> 231</td>\n",
       "      <td> 24.01</td>\n",
       "      <td> 2.00</td>\n",
       "      <td> M</td>\n",
       "      <td> Yes</td>\n",
       "      <td> Sat</td>\n",
       "      <td> Night</td>\n",
       "      <td> 4</td>\n",
       "    </tr>\n",
       "    <tr>\n",
       "      <th>231</th>\n",
       "      <td> 232</td>\n",
       "      <td> 15.69</td>\n",
       "      <td> 3.00</td>\n",
       "      <td> M</td>\n",
       "      <td> Yes</td>\n",
       "      <td> Sat</td>\n",
       "      <td> Night</td>\n",
       "      <td> 3</td>\n",
       "    </tr>\n",
       "    <tr>\n",
       "      <th>232</th>\n",
       "      <td> 233</td>\n",
       "      <td> 11.61</td>\n",
       "      <td> 3.39</td>\n",
       "      <td> M</td>\n",
       "      <td>  No</td>\n",
       "      <td> Sat</td>\n",
       "      <td> Night</td>\n",
       "      <td> 2</td>\n",
       "    </tr>\n",
       "    <tr>\n",
       "      <th>233</th>\n",
       "      <td> 234</td>\n",
       "      <td> 10.77</td>\n",
       "      <td> 1.47</td>\n",
       "      <td> M</td>\n",
       "      <td>  No</td>\n",
       "      <td> Sat</td>\n",
       "      <td> Night</td>\n",
       "      <td> 2</td>\n",
       "    </tr>\n",
       "    <tr>\n",
       "      <th>234</th>\n",
       "      <td> 235</td>\n",
       "      <td> 15.53</td>\n",
       "      <td> 3.00</td>\n",
       "      <td> M</td>\n",
       "      <td> Yes</td>\n",
       "      <td> Sat</td>\n",
       "      <td> Night</td>\n",
       "      <td> 2</td>\n",
       "    </tr>\n",
       "    <tr>\n",
       "      <th>235</th>\n",
       "      <td> 236</td>\n",
       "      <td> 10.07</td>\n",
       "      <td> 1.25</td>\n",
       "      <td> M</td>\n",
       "      <td>  No</td>\n",
       "      <td> Sat</td>\n",
       "      <td> Night</td>\n",
       "      <td> 2</td>\n",
       "    </tr>\n",
       "    <tr>\n",
       "      <th>236</th>\n",
       "      <td> 237</td>\n",
       "      <td> 12.60</td>\n",
       "      <td> 1.00</td>\n",
       "      <td> M</td>\n",
       "      <td> Yes</td>\n",
       "      <td> Sat</td>\n",
       "      <td> Night</td>\n",
       "      <td> 2</td>\n",
       "    </tr>\n",
       "    <tr>\n",
       "      <th>237</th>\n",
       "      <td> 238</td>\n",
       "      <td> 32.83</td>\n",
       "      <td> 1.17</td>\n",
       "      <td> M</td>\n",
       "      <td> Yes</td>\n",
       "      <td> Sat</td>\n",
       "      <td> Night</td>\n",
       "      <td> 2</td>\n",
       "    </tr>\n",
       "    <tr>\n",
       "      <th>238</th>\n",
       "      <td> 239</td>\n",
       "      <td> 35.83</td>\n",
       "      <td> 4.67</td>\n",
       "      <td> F</td>\n",
       "      <td>  No</td>\n",
       "      <td> Sat</td>\n",
       "      <td> Night</td>\n",
       "      <td> 3</td>\n",
       "    </tr>\n",
       "    <tr>\n",
       "      <th>239</th>\n",
       "      <td> 240</td>\n",
       "      <td> 29.03</td>\n",
       "      <td> 5.92</td>\n",
       "      <td> M</td>\n",
       "      <td>  No</td>\n",
       "      <td> Sat</td>\n",
       "      <td> Night</td>\n",
       "      <td> 3</td>\n",
       "    </tr>\n",
       "    <tr>\n",
       "      <th>240</th>\n",
       "      <td> 241</td>\n",
       "      <td> 27.18</td>\n",
       "      <td> 2.00</td>\n",
       "      <td> F</td>\n",
       "      <td> Yes</td>\n",
       "      <td> Sat</td>\n",
       "      <td> Night</td>\n",
       "      <td> 2</td>\n",
       "    </tr>\n",
       "    <tr>\n",
       "      <th>241</th>\n",
       "      <td> 242</td>\n",
       "      <td> 22.67</td>\n",
       "      <td> 2.00</td>\n",
       "      <td> M</td>\n",
       "      <td> Yes</td>\n",
       "      <td> Sat</td>\n",
       "      <td> Night</td>\n",
       "      <td> 2</td>\n",
       "    </tr>\n",
       "    <tr>\n",
       "      <th>242</th>\n",
       "      <td> 243</td>\n",
       "      <td> 17.82</td>\n",
       "      <td> 1.75</td>\n",
       "      <td> M</td>\n",
       "      <td>  No</td>\n",
       "      <td> Sat</td>\n",
       "      <td> Night</td>\n",
       "      <td> 2</td>\n",
       "    </tr>\n",
       "    <tr>\n",
       "      <th>243</th>\n",
       "      <td> 244</td>\n",
       "      <td> 18.78</td>\n",
       "      <td> 3.00</td>\n",
       "      <td> F</td>\n",
       "      <td>  No</td>\n",
       "      <td> Thu</td>\n",
       "      <td> Night</td>\n",
       "      <td> 2</td>\n",
       "    </tr>\n",
       "  </tbody>\n",
       "</table>\n",
       "<p>244 rows × 8 columns</p>\n",
       "</div>"
      ],
      "text/plain": [
       "     obs  totbill   tip sex smoker  day   time  size\n",
       "0      1    16.99  1.01   F     No  Sun  Night     2\n",
       "1      2    10.34  1.66   M     No  Sun  Night     3\n",
       "2      3    21.01  3.50   M     No  Sun  Night     3\n",
       "3      4    23.68  3.31   M     No  Sun  Night     2\n",
       "4      5    24.59  3.61   F     No  Sun  Night     4\n",
       "5      6    25.29  4.71   M     No  Sun  Night     4\n",
       "6      7     8.77  2.00   M     No  Sun  Night     2\n",
       "7      8    26.88  3.12   M     No  Sun  Night     4\n",
       "8      9    15.04  1.96   M     No  Sun  Night     2\n",
       "9     10    14.78  3.23   M     No  Sun  Night     2\n",
       "10    11    10.27  1.71   M     No  Sun  Night     2\n",
       "11    12    35.26  5.00   F     No  Sun  Night     4\n",
       "12    13    15.42  1.57   M     No  Sun  Night     2\n",
       "13    14    18.43  3.00   M     No  Sun  Night     4\n",
       "14    15    14.83  3.02   F     No  Sun  Night     2\n",
       "15    16    21.58  3.92   M     No  Sun  Night     2\n",
       "16    17    10.33  1.67   F     No  Sun  Night     3\n",
       "17    18    16.29  3.71   M     No  Sun  Night     3\n",
       "18    19    16.97  3.50   F     No  Sun  Night     3\n",
       "19    20    20.65  3.35   M     No  Sat  Night     3\n",
       "20    21    17.92  4.08   M     No  Sat  Night     2\n",
       "21    22    20.29  2.75   F     No  Sat  Night     2\n",
       "22    23    15.77  2.23   F     No  Sat  Night     2\n",
       "23    24    39.42  7.58   M     No  Sat  Night     4\n",
       "24    25    19.82  3.18   M     No  Sat  Night     2\n",
       "25    26    17.81  2.34   M     No  Sat  Night     4\n",
       "26    27    13.37  2.00   M     No  Sat  Night     2\n",
       "27    28    12.69  2.00   M     No  Sat  Night     2\n",
       "28    29    21.70  4.30   M     No  Sat  Night     2\n",
       "29    30    19.65  3.00   F     No  Sat  Night     2\n",
       "..   ...      ...   ...  ..    ...  ...    ...   ...\n",
       "214  215    28.17  6.50   F    Yes  Sat  Night     3\n",
       "215  216    12.90  1.10   F    Yes  Sat  Night     2\n",
       "216  217    28.15  3.00   M    Yes  Sat  Night     5\n",
       "217  218    11.59  1.50   M    Yes  Sat  Night     2\n",
       "218  219     7.74  1.44   M    Yes  Sat  Night     2\n",
       "219  220    30.14  3.09   F    Yes  Sat  Night     4\n",
       "220  221    12.16  2.20   M    Yes  Fri    Day     2\n",
       "221  222    13.42  3.48   F    Yes  Fri    Day     2\n",
       "222  223     8.58  1.92   M    Yes  Fri    Day     1\n",
       "223  224    15.98  3.00   F     No  Fri    Day     3\n",
       "224  225    13.42  1.58   M    Yes  Fri    Day     2\n",
       "225  226    16.27  2.50   F    Yes  Fri    Day     2\n",
       "226  227    10.09  2.00   F    Yes  Fri    Day     2\n",
       "227  228    20.45  3.00   M     No  Sat  Night     4\n",
       "228  229    13.28  2.72   M     No  Sat  Night     2\n",
       "229  230    22.12  2.88   F    Yes  Sat  Night     2\n",
       "230  231    24.01  2.00   M    Yes  Sat  Night     4\n",
       "231  232    15.69  3.00   M    Yes  Sat  Night     3\n",
       "232  233    11.61  3.39   M     No  Sat  Night     2\n",
       "233  234    10.77  1.47   M     No  Sat  Night     2\n",
       "234  235    15.53  3.00   M    Yes  Sat  Night     2\n",
       "235  236    10.07  1.25   M     No  Sat  Night     2\n",
       "236  237    12.60  1.00   M    Yes  Sat  Night     2\n",
       "237  238    32.83  1.17   M    Yes  Sat  Night     2\n",
       "238  239    35.83  4.67   F     No  Sat  Night     3\n",
       "239  240    29.03  5.92   M     No  Sat  Night     3\n",
       "240  241    27.18  2.00   F    Yes  Sat  Night     2\n",
       "241  242    22.67  2.00   M    Yes  Sat  Night     2\n",
       "242  243    17.82  1.75   M     No  Sat  Night     2\n",
       "243  244    18.78  3.00   F     No  Thu  Night     2\n",
       "\n",
       "[244 rows x 8 columns]"
      ]
     },
     "execution_count": 54,
     "metadata": {},
     "output_type": "execute_result"
    }
   ],
   "source": [
    "tips"
   ]
  },
  {
   "cell_type": "markdown",
   "metadata": {},
   "source": [
    "This plot has two main components. The first is a scatterplot, showing the observed datapoints. The second is a regression line, showing the estimated linear model relating the two variables. Because the regression line is only an estimate, it is plotted with a 95% confidence band to give an impression of the certainty in the model. You can plot different levels of certainty"
   ]
  },
  {
   "cell_type": "markdown",
   "metadata": {},
   "source": [
    "#### Plotting with discrete predictor variables"
   ]
  },
  {
   "cell_type": "markdown",
   "metadata": {},
   "source": [
    "Sometimes you will want to plot data where the independent variable is quantitative, but discrete. Although this works fine out of the box:"
   ]
  },
  {
   "cell_type": "code",
   "execution_count": 55,
   "metadata": {
    "collapsed": false
   },
   "outputs": [
    {
     "data": {
      "image/png": "[encoded data removed]",
      "text/plain": [
       "<matplotlib.figure.Figure at 0x7f3e47656390>"
      ]
     },
     "metadata": {},
     "output_type": "display_data"
    }
   ],
   "source": [
    "with sns.plotting_context(context='poster'):\n",
    "    sns.lmplot(\"size\", \"tip\", tips, size=6, aspect=2)"
   ]
  },
  {
   "cell_type": "markdown",
   "metadata": {},
   "source": [
    "And can be improved with a bit of jitter:"
   ]
  },
  {
   "cell_type": "code",
   "execution_count": 56,
   "metadata": {
    "collapsed": false
   },
   "outputs": [
    {
     "data": {
      "image/png": "[encoded data removed]",
      "text/plain": [
       "<matplotlib.figure.Figure at 0x7f3e47708310>"
      ]
     },
     "metadata": {},
     "output_type": "display_data"
    }
   ],
   "source": [
    "with sns.plotting_context(context='poster'):\n",
    "    sns.lmplot(\"size\", \"tip\", tips, size=6, aspect=2, x_jitter=.15);"
   ]
  },
  {
   "cell_type": "markdown",
   "metadata": {},
   "source": [
    "It might be more informative to estimate the central tendency of each bin. This is easy to do with the x_estimator argument. Just pass any function that aggregates a vector of data into one estimate. The estimator will be bootstrapped and a confidence interval will be plotted – 95% by default, as in other cases within these functions."
   ]
  },
  {
   "cell_type": "code",
   "execution_count": 57,
   "metadata": {
    "collapsed": false
   },
   "outputs": [
    {
     "data": {
      "image/png": "[encoded data removed]",
      "text/plain": [
       "<matplotlib.figure.Figure at 0x7f3e4785a350>"
      ]
     },
     "metadata": {},
     "output_type": "display_data"
    }
   ],
   "source": [
    "with sns.plotting_context(context='poster'):\n",
    "    sns.lmplot(\"size\", \"tip\", tips, x_estimator=np.mean, size=6, aspect=2);"
   ]
  },
  {
   "cell_type": "markdown",
   "metadata": {},
   "source": [
    "### So what about the model?"
   ]
  },
  {
   "cell_type": "markdown",
   "metadata": {},
   "source": [
    "Are we satisfied with this model? We have some doubts about it."
   ]
  },
  {
   "cell_type": "code",
   "execution_count": 61,
   "metadata": {
    "collapsed": false
   },
   "outputs": [
    {
     "data": {
      "text/plain": [
       "0     0.059447\n",
       "1     0.160542\n",
       "2     0.166587\n",
       "3     0.139780\n",
       "4     0.146808\n",
       "5     0.186240\n",
       "6     0.228050\n",
       "7     0.116071\n",
       "8     0.130319\n",
       "9     0.218539\n",
       "10    0.166504\n",
       "11    0.141804\n",
       "12    0.101816\n",
       "13    0.162778\n",
       "14    0.203641\n",
       "...\n",
       "229    0.130199\n",
       "230    0.083299\n",
       "231    0.191205\n",
       "232    0.291990\n",
       "233    0.136490\n",
       "234    0.193175\n",
       "235    0.124131\n",
       "236    0.079365\n",
       "237    0.035638\n",
       "238    0.130338\n",
       "239    0.203927\n",
       "240    0.073584\n",
       "241    0.088222\n",
       "242    0.098204\n",
       "243    0.159744\n",
       "Name: tiprate, Length: 244, dtype: float64"
      ]
     },
     "execution_count": 61,
     "metadata": {},
     "output_type": "execute_result"
    }
   ],
   "source": [
    "tips['tiprate']"
   ]
  },
  {
   "cell_type": "code",
   "execution_count": 59,
   "metadata": {
    "collapsed": false
   },
   "outputs": [],
   "source": [
    "tips['tiprate'] = tips.tip / tips.totbill"
   ]
  },
  {
   "cell_type": "code",
   "execution_count": 60,
   "metadata": {
    "collapsed": false
   },
   "outputs": [
    {
     "data": {
      "text/plain": [
       "166"
      ]
     },
     "execution_count": 60,
     "metadata": {},
     "output_type": "execute_result"
    }
   ],
   "source": [
    "len(tips[tips['tiprate'] < 0.18])"
   ]
  },
  {
   "cell_type": "code",
   "execution_count": 62,
   "metadata": {
    "collapsed": false
   },
   "outputs": [
    {
     "data": {
      "text/html": [
       "<table class=\"simpletable\">\n",
       "<caption>OLS Regression Results</caption>\n",
       "<tr>\n",
       "  <th>Dep. Variable:</th>           <td>tip</td>       <th>  R-squared:         </th> <td>   0.457</td>\n",
       "</tr>\n",
       "<tr>\n",
       "  <th>Model:</th>                   <td>OLS</td>       <th>  Adj. R-squared:    </th> <td>   0.454</td>\n",
       "</tr>\n",
       "<tr>\n",
       "  <th>Method:</th>             <td>Least Squares</td>  <th>  F-statistic:       </th> <td>   203.4</td>\n",
       "</tr>\n",
       "<tr>\n",
       "  <th>Date:</th>             <td>Sat, 28 May 2016</td> <th>  Prob (F-statistic):</th> <td>6.69e-34</td>\n",
       "</tr>\n",
       "<tr>\n",
       "  <th>Time:</th>                 <td>01:27:45</td>     <th>  Log-Likelihood:    </th> <td> -350.54</td>\n",
       "</tr>\n",
       "<tr>\n",
       "  <th>No. Observations:</th>      <td>   244</td>      <th>  AIC:               </th> <td>   705.1</td>\n",
       "</tr>\n",
       "<tr>\n",
       "  <th>Df Residuals:</th>          <td>   242</td>      <th>  BIC:               </th> <td>   712.1</td>\n",
       "</tr>\n",
       "<tr>\n",
       "  <th>Df Model:</th>              <td>     1</td>      <th>                     </th>     <td> </td>   \n",
       "</tr>\n",
       "<tr>\n",
       "  <th>Covariance Type:</th>      <td>nonrobust</td>    <th>                     </th>     <td> </td>   \n",
       "</tr>\n",
       "</table>\n",
       "<table class=\"simpletable\">\n",
       "<tr>\n",
       "      <td></td>         <th>coef</th>     <th>std err</th>      <th>t</th>      <th>P>|t|</th> <th>[95.0% Conf. Int.]</th> \n",
       "</tr>\n",
       "<tr>\n",
       "  <th>Intercept</th> <td>    0.9203</td> <td>    0.160</td> <td>    5.761</td> <td> 0.000</td> <td>    0.606     1.235</td>\n",
       "</tr>\n",
       "<tr>\n",
       "  <th>totbill</th>   <td>    0.1050</td> <td>    0.007</td> <td>   14.260</td> <td> 0.000</td> <td>    0.091     0.120</td>\n",
       "</tr>\n",
       "</table>\n",
       "<table class=\"simpletable\">\n",
       "<tr>\n",
       "  <th>Omnibus:</th>       <td>20.185</td> <th>  Durbin-Watson:     </th> <td>   2.151</td>\n",
       "</tr>\n",
       "<tr>\n",
       "  <th>Prob(Omnibus):</th> <td> 0.000</td> <th>  Jarque-Bera (JB):  </th> <td>  37.750</td>\n",
       "</tr>\n",
       "<tr>\n",
       "  <th>Skew:</th>          <td> 0.443</td> <th>  Prob(JB):          </th> <td>6.35e-09</td>\n",
       "</tr>\n",
       "<tr>\n",
       "  <th>Kurtosis:</th>      <td> 4.711</td> <th>  Cond. No.          </th> <td>    53.0</td>\n",
       "</tr>\n",
       "</table>"
      ],
      "text/plain": [
       "<class 'statsmodels.iolib.summary.Summary'>\n",
       "\"\"\"\n",
       "                            OLS Regression Results                            \n",
       "==============================================================================\n",
       "Dep. Variable:                    tip   R-squared:                       0.457\n",
       "Model:                            OLS   Adj. R-squared:                  0.454\n",
       "Method:                 Least Squares   F-statistic:                     203.4\n",
       "Date:                Sat, 28 May 2016   Prob (F-statistic):           6.69e-34\n",
       "Time:                        01:27:45   Log-Likelihood:                -350.54\n",
       "No. Observations:                 244   AIC:                             705.1\n",
       "Df Residuals:                     242   BIC:                             712.1\n",
       "Df Model:                           1                                         \n",
       "Covariance Type:            nonrobust                                         \n",
       "==============================================================================\n",
       "                 coef    std err          t      P>|t|      [95.0% Conf. Int.]\n",
       "------------------------------------------------------------------------------\n",
       "Intercept      0.9203      0.160      5.761      0.000         0.606     1.235\n",
       "totbill        0.1050      0.007     14.260      0.000         0.091     0.120\n",
       "==============================================================================\n",
       "Omnibus:                       20.185   Durbin-Watson:                   2.151\n",
       "Prob(Omnibus):                  0.000   Jarque-Bera (JB):               37.750\n",
       "Skew:                           0.443   Prob(JB):                     6.35e-09\n",
       "Kurtosis:                       4.711   Cond. No.                         53.0\n",
       "==============================================================================\n",
       "\n",
       "Warnings:\n",
       "[1] Standard Errors assume that the covariance matrix of the errors is correctly specified.\n",
       "\"\"\""
      ]
     },
     "execution_count": 62,
     "metadata": {},
     "output_type": "execute_result"
    }
   ],
   "source": [
    "from statsmodels.formula.api import ols\n",
    "\n",
    "results = ols('tip ~ totbill', tips).fit()\n",
    "results.summary()"
   ]
  },
  {
   "cell_type": "markdown",
   "metadata": {},
   "source": [
    "However, in this data it explains only 2% of the variation in tip rate. The points are spread widely around the regression line. There are very few data points for parties of size one, five, and six, which makes us question the validity of the model in these regions. The signal is very weak relative to the noise."
   ]
  },
  {
   "cell_type": "markdown",
   "metadata": {},
   "source": [
    "### Presentation"
   ]
  },
  {
   "cell_type": "markdown",
   "metadata": {},
   "source": [
    "Once an analysis has been completed, the results must be reported, either to clients, managers, or colleagues. The results probably take the form of a narrative and include quantitative summaries such as tables, forecasts, models, and graphics. Quite often, graphics form the bulk of the summaries."
   ]
  },
  {
   "cell_type": "markdown",
   "metadata": {},
   "source": [
    "Let's look at some other ways in which data can be sliced and diced in graphs"
   ]
  },
  {
   "cell_type": "markdown",
   "metadata": {},
   "source": [
    "#### Faceted linear model plots"
   ]
  },
  {
   "cell_type": "markdown",
   "metadata": {},
   "source": [
    "The lmplot() function is built on top of a FacetGrid. That means it’s easy to visualize how this relationship changes in different subsets of your dataset. You can read the extended documentation for more details on how the FacetGrid class works. The important thing is that you can supply the names of categorical variables that define subsets of the data to plot in different hues or along the row and columns of a grid of axes.\n",
    "\n",
    "Using a hue facet makes it easiest to directly compare the two subsets:"
   ]
  },
  {
   "cell_type": "code",
   "execution_count": 63,
   "metadata": {
    "collapsed": false
   },
   "outputs": [
    {
     "data": {
      "image/png": "[encoded data removed]",
      "text/plain": [
       "<matplotlib.figure.Figure at 0x7f3e4950a990>"
      ]
     },
     "metadata": {},
     "output_type": "display_data"
    }
   ],
   "source": [
    "with sns.plotting_context(context='poster'):\n",
    "    sns.lmplot(\"totbill\", \"tip\", tips, hue=\"smoker\", size=8, aspect=2);"
   ]
  },
  {
   "cell_type": "markdown",
   "metadata": {},
   "source": [
    "To make plots that will better reproduce to black-and-white (i.e. when printed), you may want to let the scatterplot marker vary along with the hue variable."
   ]
  },
  {
   "cell_type": "markdown",
   "metadata": {},
   "source": [
    "`lmplot()` accepts all arguments that you would use to initialize a FacetGrid, and it returns the grid object after plotting for further tweaking:"
   ]
  },
  {
   "cell_type": "code",
   "execution_count": 64,
   "metadata": {
    "collapsed": false
   },
   "outputs": [
    {
     "data": {
      "image/png": "[encoded data removed]",
      "text/plain": [
       "<matplotlib.figure.Figure at 0x7f3e45cb5dd0>"
      ]
     },
     "metadata": {},
     "output_type": "display_data"
    }
   ],
   "source": [
    "with sns.plotting_context(context='poster'):\n",
    "    sns.lmplot(\"totbill\", \"tip\", tips, hue=\"smoker\", markers=[\"x\", \"o\"], size=6, aspect=2);"
   ]
  },
  {
   "cell_type": "markdown",
   "metadata": {},
   "source": [
    "Plotting in different columns of a grid also makes a plot that’s easy to understand, although direct comparisons between the subsets are more difficult as the data are separated in space. This might be better when you want the viewer to focus on the relationship within each subset independently."
   ]
  },
  {
   "cell_type": "code",
   "execution_count": 65,
   "metadata": {
    "collapsed": false
   },
   "outputs": [
    {
     "data": {
      "image/png": "[encoded data removed]",
      "text/plain": [
       "<matplotlib.figure.Figure at 0x7f3e452e0090>"
      ]
     },
     "metadata": {},
     "output_type": "display_data"
    }
   ],
   "source": [
    "with sns.plotting_context(context='poster'):\n",
    "    sns.lmplot(\"totbill\", \"tip\", tips, col=\"smoker\")"
   ]
  },
  {
   "cell_type": "markdown",
   "metadata": {},
   "source": [
    "`lmplot()` accepts all arguments that you would use to initialize a FacetGrid, and it returns the grid object after plotting for further tweaking:"
   ]
  },
  {
   "cell_type": "code",
   "execution_count": 69,
   "metadata": {
    "collapsed": false
   },
   "outputs": [
    {
     "data": {
      "image/png": "[encoded data removed]",
      "text/plain": [
       "<matplotlib.figure.Figure at 0x7f3e45debe90>"
      ]
     },
     "metadata": {},
     "output_type": "display_data"
    }
   ],
   "source": [
    "with sns.plotting_context(context='poster'):\n",
    "    sns.lmplot(\"totbill\", \"tip\", tips, hue=\"day\", size=8, aspect=2);"
   ]
  },
  {
   "cell_type": "code",
   "execution_count": 67,
   "metadata": {
    "collapsed": false
   },
   "outputs": [],
   "source": [
    "sun_tips = tips[tips['day'] == 'Sun']"
   ]
  },
  {
   "cell_type": "code",
   "execution_count": 68,
   "metadata": {
    "collapsed": false
   },
   "outputs": [
    {
     "data": {
      "image/png": "[encoded data removed]",
      "text/plain": [
       "<matplotlib.figure.Figure at 0x7f3e45254090>"
      ]
     },
     "metadata": {},
     "output_type": "display_data"
    }
   ],
   "source": [
    "with sns.plotting_context(context='poster'):\n",
    "    g = sns.lmplot(\"totbill\", \"tip\", sun_tips, hue=\"day\", palette=\"Set2\",\n",
    "                   hue_order=[\"Sun\"], size=8, aspect=2)\n",
    "\n",
    "    g.set_axis_labels(\"Total bill (US Dollars)\", \"Tip\");\n",
    "\n",
    "    g.set(xticks=[10, 30, 50], ylim=(0, 10), yticks=[0, 2.5, 5, 7.5, 10]);"
   ]
  },
  {
   "cell_type": "markdown",
   "metadata": {},
   "source": [
    "## Colofon"
   ]
  },
  {
   "cell_type": "code",
   "execution_count": null,
   "metadata": {
    "collapsed": false
   },
   "outputs": [],
   "source": [
    "from utils import *\n",
    "print_versions()"
   ]
  },
  {
   "cell_type": "code",
   "execution_count": null,
   "metadata": {
    "collapsed": false
   },
   "outputs": [],
   "source": [
    "%%html\n",
    "\n",
    "<link rel=\"stylesheet\" href=\"theme/custom.css\">"
   ]
  }
 ],
 "metadata": {
  "kernelspec": {
   "display_name": "Python 2",
   "language": "python",
   "name": "python2"
  },
  "language_info": {
   "codemirror_mode": {
    "name": "ipython",
    "version": 2
   },
   "file_extension": ".py",
   "mimetype": "text/x-python",
   "name": "python",
   "nbconvert_exporter": "python",
   "pygments_lexer": "ipython2",
   "version": "2.7.11"
  }
 },
 "nbformat": 4,
 "nbformat_minor": 0
}

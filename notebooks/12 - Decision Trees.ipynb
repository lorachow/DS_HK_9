{
 "cells": [
  {
   "cell_type": "markdown",
   "metadata": {},
   "source": [
    "# Decision Tree Classifiers"
   ]
  },
  {
   "cell_type": "markdown",
   "metadata": {},
   "source": [
    "> If there are two courses of action, you should take the third.\n",
    "\n",
    "<footer>Jewish Proverb</footer>"
   ]
  },
  {
   "cell_type": "markdown",
   "metadata": {},
   "source": [
    "![break](assets/agenda.png)"
   ]
  },
  {
   "cell_type": "markdown",
   "metadata": {},
   "source": [
    "1. [Decision Trees](#Decision-Trees)\n",
    "1. [Building Decision Trees](#Building-Decision-Trees)\n",
    "1. [Preventing Overfitting](#Preventing-Overfitting)\n",
    "\n",
    "**Labs**\n",
    "1. [Implementing Decision Trees With Scikit-learn](#Implementing-Decision-Trees-With-Scikit-learn)"
   ]
  },
  {
   "cell_type": "markdown",
   "metadata": {},
   "source": [
    "![break](assets/mountain.png)"
   ]
  },
  {
   "cell_type": "markdown",
   "metadata": {},
   "source": [
    "## Classwork Review"
   ]
  },
  {
   "cell_type": "markdown",
   "metadata": {},
   "source": [
    "### Class Imbalance"
   ]
  },
  {
   "cell_type": "markdown",
   "metadata": {},
   "source": [
    "Class Imbalance is the problem that the total number of a class of data (positive) is far less than the total number of another class of data (negative). This can be a problem because when you train a model, it may become really good at finding the majority class, but far weaker at capturing the minority class - while the minority case is often what's most interesting.\n",
    "\n",
    "![](assets/dataset-partition.png)\n",
    "\n",
    "The approached for addressing this are:\n",
    "* **Sampling based** : By **oversampling** the minority class, it has more effect on the machine learning algorithm, or by **undersampling** majority class so it has less effect on the machine learning algorithm.\n",
    "* **Cost function based approaches** : Make it more 'costly' for the learning algorithm to make mistakes in the minority class. This is done by tweaking the **cost function**."
   ]
  },
  {
   "cell_type": "markdown",
   "metadata": {},
   "source": [
    "![break](assets/theory.png)"
   ]
  },
  {
   "cell_type": "markdown",
   "metadata": {},
   "source": [
    "## Decision Trees"
   ]
  },
  {
   "cell_type": "markdown",
   "metadata": {},
   "source": [
    "![tree](assets/tree.jpg)"
   ]
  },
  {
   "cell_type": "markdown",
   "metadata": {},
   "source": [
    "A decision tree is a flowchart-like structure in which each internal node represents a test of an attribute, each branch represents an outcome of that test and each leaf node represents class label (a decision taken after testing all attributes in the path from the root to the leaf). Each path from the root to a leaf can also be represented as a classification rule."
   ]
  },
  {
   "cell_type": "markdown",
   "metadata": {},
   "source": [
    "### Characteristics"
   ]
  },
  {
   "cell_type": "markdown",
   "metadata": {},
   "source": [
    "* **Non-parametric**: no parameters, no distribution assumptions\n",
    "* **Hierarchical**: consists of a sequence of questions which yield a class label when applied to any record\n",
    "* **Variable Size**: Any boolean functions can be represented\n",
    "* **Deterministic**: For the same set of features the tree will assign the same label\n",
    "* Support for **Discrete** and **Continuous** Parameters:\n",
    "  * Binning and Threshold"
   ]
  },
  {
   "cell_type": "markdown",
   "metadata": {},
   "source": [
    "### Node"
   ]
  },
  {
   "cell_type": "markdown",
   "metadata": {},
   "source": [
    "In a decision tree, the nodes represent questions (test conditions) and the edges are the answers to these questions.\n",
    "\n",
    "* *Edge*, lead from one a _parent_ to _child_ nodes\n",
    "* *Root*, node has 0 incoming edges, and 2+ outgoing edges.\n",
    "* *Leaf*, has 1 incoming edge and, 0 outgoing edges. Leaf nodes\n",
    "correspond to class labels.\n"
   ]
  },
  {
   "cell_type": "markdown",
   "metadata": {},
   "source": [
    "### Representation"
   ]
  },
  {
   "cell_type": "markdown",
   "metadata": {},
   "source": [
    "![Hypertriangles](assets/hypertriangles.jpg)"
   ]
  },
  {
   "cell_type": "markdown",
   "metadata": {},
   "source": [
    "![](assets/vertedrate_dataset.png)"
   ]
  },
  {
   "cell_type": "markdown",
   "metadata": {},
   "source": [
    "![](assets/decision_tree_mammal.png)"
   ]
  },
  {
   "cell_type": "markdown",
   "metadata": {},
   "source": [
    "Internal nodes represent test conditions which partition the records at that node."
   ]
  },
  {
   "cell_type": "markdown",
   "metadata": {},
   "source": [
    "![](assets/decision_boundaries.jpg)"
   ]
  },
  {
   "cell_type": "markdown",
   "metadata": {},
   "source": [
    "## Building Decision Trees"
   ]
  },
  {
   "cell_type": "markdown",
   "metadata": {},
   "source": [
    "To build a decision tree, one possibility would be to evaluate all possible decision trees (eg, all permutations of test conditions) for a given dataset. But this is generally too complex to be practical à $ \\rightarrow O(2^n)$.\n",
    "\n",
    "We can find a practical solution that works, by using a **heuristic** algorithm.\n"
   ]
  },
  {
   "cell_type": "markdown",
   "metadata": {},
   "source": [
    "The basic method used to build (or “grow”) a decision tree is **Hunt’s\n",
    "algorithm**."
   ]
  },
  {
   "cell_type": "markdown",
   "metadata": {},
   "source": [
    "Hunt’s is a greedy recursive algorithm that leads to a local optimum. It builds a decision tree by recursively partitioning records into smaller & smaller subsets.\n"
   ]
  },
  {
   "cell_type": "markdown",
   "metadata": {},
   "source": [
    "* greedy – algorithm makes locally optimal decision at each step\n",
    "* recursive – splits task into subtasks, solves each the same way\n",
    "* local optimum – solution for a given neighborhood of points\n"
   ]
  },
  {
   "cell_type": "markdown",
   "metadata": {},
   "source": [
    "The partitioning decision is made at each node according to a metric called purity. A partition is 100% pure when all of its records belong to a single class. Let $D_t$ be the set of training records that reach a node $t$. The general recursive procedure is defined as below:"
   ]
  },
  {
   "cell_type": "markdown",
   "metadata": {},
   "source": [
    "* If $D_t$ only contains records that belong the same class $y_t$, then $t$ is a leaf node labeled as $y_t$\n",
    "* If $D_t$ is an empty set, then $t$ is a leaf node labeled by the default class, $y_d$\n",
    "* If $D_t$ contains records that belong to more than one class, use an attribute test to split the data into smaller subsets."
   ]
  },
  {
   "cell_type": "markdown",
   "metadata": {},
   "source": [
    "It recursively applies the procedure to each subset until all the records in the subset belong to the same class. The Hunt's algirithm assumes that each combination of attribute sets has a unique class label during the procedure. If all the records associated with $D_t$ have identical attribute values except for the class label, then it is not possible to split these records any further. In this case, the node is declared a leaf node with the same class label as the majority class of training records associated with this node."
   ]
  },
  {
   "cell_type": "markdown",
   "metadata": {},
   "source": [
    "### Partitions"
   ]
  },
  {
   "cell_type": "markdown",
   "metadata": {},
   "source": [
    "* *Binary attributes* : leads to two-way split test condition."
   ]
  },
  {
   "cell_type": "markdown",
   "metadata": {},
   "source": [
    "![](assets/dt_binary.png)"
   ]
  },
  {
   "cell_type": "markdown",
   "metadata": {},
   "source": [
    "* *Nominal attributes* : the test condition can be expressed into multiway split on each distinct values, or two-way split by grouping the attribute values into two subsets."
   ]
  },
  {
   "cell_type": "markdown",
   "metadata": {},
   "source": [
    "![](assets/dt_nominal.png)"
   ]
  },
  {
   "cell_type": "markdown",
   "metadata": {},
   "source": [
    "* *Ordinal attributes* : can also produce binary or multiway splits as long as the grouping does not violate the order property of the attribute values."
   ]
  },
  {
   "cell_type": "markdown",
   "metadata": {},
   "source": [
    "![](assets/dt_ordinal.png)"
   ]
  },
  {
   "cell_type": "markdown",
   "metadata": {},
   "source": [
    "* *Continuous attributes* : The test condition can be expressed as a comparsion test with two outcomes, or a range query. Or we can discretize the continous value into nominal attribute and then perform two-way or multi-way split."
   ]
  },
  {
   "cell_type": "markdown",
   "metadata": {},
   "source": [
    "![](assets/dt_continuous.png)"
   ]
  },
  {
   "cell_type": "markdown",
   "metadata": {},
   "source": [
    "### Purity"
   ]
  },
  {
   "cell_type": "markdown",
   "metadata": {},
   "source": [
    "The hardest part about building the tree is selecting the best attribute test condition, in other words, the best split. There are three common impurity measures used to measure the best split. Since the goal of a decision tree is to have nodes consisting entirely of members of a single class, the impurity of a node is the extent to which that is not the case. For example, a node with 2 members of one class, and 0 members of another class has zero impurity. A node with 1 member of one class, and one of another, however, has the highest impurity. The three most common measures of impurity are entropy, gini impurity, and classification error. They are defined using the following equations, where $p(i|t)$ denotes the fraction of records that belong to class $i$ at a given node $t$, and $c$ is the number of classes:"
   ]
  },
  {
   "cell_type": "code",
   "execution_count": 30,
   "metadata": {
    "collapsed": false
   },
   "outputs": [],
   "source": [
    "from __future__ import division\n",
    "import numpy as np\n",
    "node_a = (12,8)\n",
    "node_b = (2,18)\n",
    "purity = lambda x : np.max(x) / np.sum(x)"
   ]
  },
  {
   "cell_type": "markdown",
   "metadata": {},
   "source": [
    "$$Entropy(t)=-\\sum\\limits_{i=0}^{c}p(i|t)\\log_{2} p(i|t)$$"
   ]
  },
  {
   "cell_type": "code",
   "execution_count": 33,
   "metadata": {
    "collapsed": false
   },
   "outputs": [
    {
     "name": "stdout",
     "output_type": "stream",
     "text": [
      "purity @ node_a : 0.6\n",
      "purity @ node_b : 0.9\n",
      "entroy of split : 0.970950594455\n",
      "entroy of split : 0.468995593589\n"
     ]
    }
   ],
   "source": [
    "print \"purity @ node_a :\", purity(node_a)\n",
    "print \"purity @ node_b :\", purity(node_b)\n",
    "entropy_a = -1 * (purity(node_a) * np.log2(purity(node_a)))\n",
    "entropy_a = -1 * np.sum([node * np.log2(node) for node in [purity(node_a), 1 - purity(node_a)]])\n",
    "entropy_b = -1 * np.sum([node * np.log2(node) for node in [purity(node_b), 1 - purity(node_b)]])\n",
    "\n",
    "print \"entroy of split :\", entropy_a\n",
    "print \"entroy of split :\", entropy_b"
   ]
  },
  {
   "cell_type": "markdown",
   "metadata": {},
   "source": [
    "$$Gini(t)=1-\\sum\\limits_{i=0}^{c} [p(i|t)]^2$$"
   ]
  },
  {
   "cell_type": "code",
   "execution_count": 34,
   "metadata": {
    "collapsed": false
   },
   "outputs": [
    {
     "name": "stdout",
     "output_type": "stream",
     "text": [
      "purity @ node_a : 0.6\n",
      "purity @ node_b : 0.9\n",
      "gini of node_a : 0.48\n",
      "gini of node_b : 0.18\n"
     ]
    }
   ],
   "source": [
    "print \"purity @ node_a :\", purity(node_a)\n",
    "print \"purity @ node_b :\", purity(node_b)\n",
    "gini_a = 1 - np.sum([np.square(node) for node in [purity(node_a), 1 - purity(node_a)]])\n",
    "gini_b = 1 - np.sum([np.square(node) for node in [purity(node_b), 1 - purity(node_b)]])\n",
    "\n",
    "print \"gini of node_a :\", gini_a\n",
    "print \"gini of node_b :\", gini_b"
   ]
  },
  {
   "cell_type": "markdown",
   "metadata": {},
   "source": [
    "$$ Classification\\ error(t)=1-\\max_{i}[p(i|t)] $$"
   ]
  },
  {
   "cell_type": "code",
   "execution_count": 13,
   "metadata": {
    "collapsed": false,
    "scrolled": true
   },
   "outputs": [
    {
     "name": "stdout",
     "output_type": "stream",
     "text": [
      "purity @ node_a : 0.6\n",
      "purity @ node_b : 0.9\n",
      "classification error of node_a : 0.4\n",
      "classification error of node_b : 0.1\n"
     ]
    }
   ],
   "source": [
    "print \"purity @ node_a :\", purity(node_a)\n",
    "print \"purity @ node_b :\", purity(node_b)\n",
    "class_error_a = 1 - purity(node_a)\n",
    "class_error_b = 1 - purity(node_b)\n",
    "\n",
    "print \"classification error of node_a :\", class_error_a\n",
    "print \"classification error of node_b :\", class_error_b"
   ]
  },
  {
   "cell_type": "markdown",
   "metadata": {},
   "source": [
    "![](assets/impurity_measures.png)"
   ]
  },
  {
   "cell_type": "markdown",
   "metadata": {},
   "source": [
    "The equation for information gain is:"
   ]
  },
  {
   "cell_type": "markdown",
   "metadata": {},
   "source": [
    "$$ \\Delta = I(parent) - \\sum\\limits_{j=1}^k \\frac{N(v_j)}{N}I(v_j) $$"
   ]
  },
  {
   "cell_type": "markdown",
   "metadata": {},
   "source": [
    "Where $I(⋅)$ is the impurity measure of a given node, $N$ is the total number or records at the given node's parent, $k$ is the number of attribute values, and $N(v_j)$ is the number of records associated with the child node, $v_j$."
   ]
  },
  {
   "cell_type": "code",
   "execution_count": 35,
   "metadata": {
    "collapsed": true
   },
   "outputs": [],
   "source": [
    "def purity(split):\n",
    "    return np.max(split)/np.sum(split)"
   ]
  },
  {
   "cell_type": "code",
   "execution_count": 36,
   "metadata": {
    "collapsed": false
   },
   "outputs": [],
   "source": [
    "def gini(split):\n",
    "    a = purity(split)\n",
    "    b = 1 - a\n",
    "    gini = 1 - np.sum(np.square(a) + np.square(b))\n",
    "    return gini"
   ]
  },
  {
   "cell_type": "code",
   "execution_count": 37,
   "metadata": {
    "collapsed": false
   },
   "outputs": [],
   "source": [
    "def parent_node(nodes):\n",
    "    return [np.sum(x) for x in zip(nodes)]"
   ]
  },
  {
   "cell_type": "code",
   "execution_count": 38,
   "metadata": {
    "collapsed": false
   },
   "outputs": [],
   "source": [
    "def info_gain(nodes):\n",
    "    return gini(parent_node(nodes)) - sum([(np.sum(node)/np.sum(parent_node(nodes))) * gini(node) for node in nodes])"
   ]
  },
  {
   "cell_type": "code",
   "execution_count": 41,
   "metadata": {
    "collapsed": false
   },
   "outputs": [],
   "source": [
    "nodes = [node_a,node_b]\n",
    "\n",
    "def info_gain(nodes):\n",
    "    a = nodes[0]\n",
    "    b = nodes[1]\n",
    "    gini_parent = gini(parent_node(nodes))\n",
    "    child_node_a = (np.sum(a) / np.sum(parent_node(nodes))) * gini(a)\n",
    "    child_node_b = (np.sum(b) / np.sum(parent_node(nodes))) * gini(b)\n",
    "    return gini_parent - np.sum([child_node_a,child_node_b])"
   ]
  },
  {
   "cell_type": "code",
   "execution_count": 42,
   "metadata": {
    "collapsed": false
   },
   "outputs": [
    {
     "name": "stdout",
     "output_type": "stream",
     "text": [
      "Information Gain: 0.170\n"
     ]
    }
   ],
   "source": [
    "ig = info_gain([node_a,node_b])\n",
    "print \"Information Gain: %.03f\" % ig"
   ]
  },
  {
   "cell_type": "markdown",
   "metadata": {},
   "source": [
    "#### Splitting Binary Attributes"
   ]
  },
  {
   "cell_type": "markdown",
   "metadata": {},
   "source": [
    "![](assets/dt_splitting_binary.png)"
   ]
  },
  {
   "cell_type": "code",
   "execution_count": 44,
   "metadata": {
    "collapsed": false
   },
   "outputs": [
    {
     "data": {
      "text/plain": [
       "0.37142857142857139"
      ]
     },
     "execution_count": 44,
     "metadata": {},
     "output_type": "execute_result"
    }
   ],
   "source": [
    "(gini((1,4)) * 5 + gini((5,2)) * 7) / 12"
   ]
  },
  {
   "cell_type": "code",
   "execution_count": 48,
   "metadata": {
    "collapsed": false
   },
   "outputs": [
    {
     "data": {
      "text/plain": [
       "0.49960317460317466"
      ]
     },
     "execution_count": 48,
     "metadata": {},
     "output_type": "execute_result"
    }
   ],
   "source": [
    "0.5 - info_gain([[4,3],[2,3]])"
   ]
  },
  {
   "cell_type": "markdown",
   "metadata": {},
   "source": [
    "#### Splitting Nominal Attributes"
   ]
  },
  {
   "cell_type": "markdown",
   "metadata": {},
   "source": [
    "![](assets/dt_splitting_nominal.png)"
   ]
  },
  {
   "cell_type": "markdown",
   "metadata": {},
   "source": [
    "#### Splitting Continous Attributes"
   ]
  },
  {
   "cell_type": "markdown",
   "metadata": {},
   "source": [
    "![](assets/dt_splitting_continuous.png)"
   ]
  },
  {
   "cell_type": "markdown",
   "metadata": {},
   "source": [
    "### Gain Ratio"
   ]
  },
  {
   "cell_type": "markdown",
   "metadata": {},
   "source": [
    "Generally speaking, a test condition with a high number of outcomes\n",
    "can lead to overfitting (ex: a split with one outcome per record).\n",
    "One way of dealing with this is to restrict the algorithm to binary\n",
    "splits only (CART). Another way is to use a splitting criterion which explicitly penalizes the number of outcomes (C4.5). We can use a function of the information gain called the gain ratio to explicitly penalize high numbers of outcomes.\n",
    "\n",
    "Gain ratio is a modification of the information gain that reduces its bias on high-branch attributes. It will be\n",
    "\n",
    "* Large when data is evenly spread\n",
    "* Small when all data belong to one branch\n",
    "\n",
    "But the Gain Ratio also takes the number and size of branches into account when choosing an attribute. It corrects the information gain by taking the _intrinsic information_ of a split into account. That is, how much info do we need to tell which branch an instance belongs to."
   ]
  },
  {
   "cell_type": "markdown",
   "metadata": {},
   "source": [
    "$$ Gain ratio = \\frac{\\Delta info}{Split Info} $$"
   ]
  },
  {
   "cell_type": "markdown",
   "metadata": {},
   "source": [
    "$$ Split Info = -\\sum\\limits_{i=0}^{k}P(v_i)log_2 P(v_i) $$"
   ]
  },
  {
   "cell_type": "markdown",
   "metadata": {},
   "source": [
    "Where $p(v_i)$ refers to the probability of label $i$ at node $v$ and $k$ is the total number of splits. For example, if each attribute value has the same number of records, then $∀_i : P(v_i) = 1/k $ and the split information would be equal to $log_{2}k$. This example suggests that if an attribute produces a large number of splits, its split information will also be large , which in turn reduces its gain ratio."
   ]
  },
  {
   "cell_type": "markdown",
   "metadata": {},
   "source": [
    "## Preventing Overfitting"
   ]
  },
  {
   "cell_type": "markdown",
   "metadata": {},
   "source": [
    "In addition to determining splits, we also need a stopping criterion to\n",
    "tell us when we’re done. For example, we can stop when all records belong to the same class,\n",
    "or when all records have the same attributes. This is correct in principle, but would likely lead to overfitting."
   ]
  },
  {
   "cell_type": "markdown",
   "metadata": {},
   "source": [
    "### pre-pruning"
   ]
  },
  {
   "cell_type": "markdown",
   "metadata": {},
   "source": [
    "One possibility is pre-pruning, which involves setting a minimum\n",
    "threshold on the gain, and stopping when no split achieves a gain\n",
    "above this threshold.\n",
    "\n",
    "This prevents overfitting, but is difficult to calibrate in practice (may\n",
    "preserve bias!)"
   ]
  },
  {
   "cell_type": "markdown",
   "metadata": {},
   "source": [
    "### post-pruning"
   ]
  },
  {
   "cell_type": "markdown",
   "metadata": {},
   "source": [
    "Alternatively we could build the full tree, and then perform pruning\n",
    "as a post-processing step.\n",
    "\n",
    "To prune a tree, we examine the nodes from the bottom-up and\n",
    "simplify pieces of the tree (according to some criteria)."
   ]
  },
  {
   "cell_type": "markdown",
   "metadata": {},
   "source": [
    "Complicated subtrees can be replaced either with a single node, or\n",
    "with a simpler (child) subtree.\n",
    "\n",
    "The first approach is called **subtree replacement**, and the second is\n",
    "**subtree raising**."
   ]
  },
  {
   "cell_type": "markdown",
   "metadata": {},
   "source": [
    "![](assets/dt_post_pruning.png)"
   ]
  },
  {
   "cell_type": "markdown",
   "metadata": {},
   "source": [
    "Generally, (or at least depending on your data), it can be very easy to overfit a model with decision trees."
   ]
  },
  {
   "cell_type": "markdown",
   "metadata": {},
   "source": [
    "![](assets/dt_overfitting.png)"
   ]
  },
  {
   "cell_type": "markdown",
   "metadata": {},
   "source": [
    "## Dealing with missing values\n",
    "\n",
    "* Imputing during training\n",
    "  * Most frequent one in the dataset\n",
    "  * Most frequent in its class\n",
    "  * Fractional Examples, proportional to the real distribution\n",
    "\n",
    "\n",
    "* Imputing during testing\n",
    "  * Voting by fractional leafs"
   ]
  },
  {
   "cell_type": "markdown",
   "metadata": {},
   "source": [
    "### Tree algorithms: ID3, C4.5 and CART\n",
    "\n",
    "What are all the various decision tree algorithms and how do they differ from each other? Scikit-learn uses an optimised version of the CART algorithm.\n",
    "\n",
    "* ID3 (Iterative Dichotomiser 3) algorithm builds tree based on the information (information gain) obtained from the training instances and then uses the same to classify the test data. ID3 algorithm generally uses nominal attributes for classification with no missing values. Trees are grown to their maximum size and then a pruning step is usually applied to improve the ability of the tree to generalise to unseen data.\n",
    "\n",
    "* C4.5 is the successor to ID3 and removed the restriction that features must be categorical by dynamically defining a discrete attribute (based on numerical variables) that partitions the continuous attribute value into a discrete set of intervals. C4.5 converts the trained trees (i.e. the output of the ID3 algorithm) into sets of if-then rules. These accuracy of each rule is then evaluated to determine the order in which they should be applied. Pruning is done by removing a rule’s precondition if the accuracy of the rule improves without it.\n",
    "\n",
    "* CART (Classification and Regression Trees) is very similar to C4.5, but it differs in that it supports numerical target variables (regression) and does not compute rule sets. CART constructs binary trees using the feature and threshold that yield the largest information gain at each node."
   ]
  },
  {
   "cell_type": "markdown",
   "metadata": {},
   "source": [
    "![break](assets/code.png)"
   ]
  },
  {
   "cell_type": "markdown",
   "metadata": {},
   "source": [
    "## Implementing Decision Trees With Scikit-learn"
   ]
  },
  {
   "cell_type": "markdown",
   "metadata": {},
   "source": [
    "* Implement the decision tree classification to the test iris set\n",
    "* Review the implementation and output of a confusion matrix\n",
    "* Error terms: Precision and Recall"
   ]
  },
  {
   "cell_type": "markdown",
   "metadata": {},
   "source": [
    "### Decision Tree Implementation"
   ]
  },
  {
   "cell_type": "markdown",
   "metadata": {},
   "source": [
    "Iris implementation (as per usual):"
   ]
  },
  {
   "cell_type": "code",
   "execution_count": 50,
   "metadata": {
    "collapsed": false
   },
   "outputs": [
    {
     "name": "stdout",
     "output_type": "stream",
     "text": [
      "Number of mislabeled points : 0\n",
      "Absolutely ridiculously overfit score: 1\n"
     ]
    }
   ],
   "source": [
    "from sklearn import datasets, metrics, tree, cross_validation\n",
    "from matplotlib import pyplot as plt\n",
    "\n",
    "iris = datasets.load_iris()\n",
    "\n",
    "clf = tree.DecisionTreeClassifier()\n",
    "y_pred = clf.fit(iris.data, iris.target).predict(iris.data)\n",
    "\n",
    "print \"Number of mislabeled points : %d\" % (iris.target != y_pred).sum()\n",
    "print \"Absolutely ridiculously overfit score: %d\" % (tree.DecisionTreeClassifier().fit(iris.data,\n",
    "    iris.target).score(iris.data, iris.target))"
   ]
  },
  {
   "cell_type": "markdown",
   "metadata": {},
   "source": [
    "BEFORE we discuss the over-the-top overfitting with this model, get acquainted\n",
    "with two more important views of error to understand the performance of the model."
   ]
  },
  {
   "cell_type": "markdown",
   "metadata": {},
   "source": [
    "### Confusion Matrices"
   ]
  },
  {
   "cell_type": "markdown",
   "metadata": {},
   "source": [
    "Confusion matrices allow you to view actual vs. predicted for all class labels.\n",
    "Since this model seems to be \"perfect,\" we can use this an an example of how to\n",
    "read a confusion matrix:"
   ]
  },
  {
   "cell_type": "code",
   "execution_count": 51,
   "metadata": {
    "collapsed": false
   },
   "outputs": [
    {
     "data": {
      "text/plain": [
       "array([[50,  0,  0],\n",
       "       [ 0, 50,  0],\n",
       "       [ 0,  0, 50]])"
      ]
     },
     "execution_count": 51,
     "metadata": {},
     "output_type": "execute_result"
    }
   ],
   "source": [
    "metrics.confusion_matrix(iris.target, clf.predict(iris.data))"
   ]
  },
  {
   "cell_type": "markdown",
   "metadata": {},
   "source": [
    "Similar to the identity matrix from earlier in class, a \"perfect\" prediction\n",
    "will result in complete matches at the diagonal and zeroes in all other places.\n",
    "However, this is not typical, so expect to see mismatches by reading it **predicted** (vertical) vs **actual** (horizontal)."
   ]
  },
  {
   "cell_type": "markdown",
   "metadata": {},
   "source": [
    "### Precision and Recall"
   ]
  },
  {
   "cell_type": "markdown",
   "metadata": {},
   "source": [
    "Precision and recall are best explained as follows:\n",
    "\n",
    "* **Precision**: Of predicted value X, how many were actually X?\n",
    "(translation: of all predicted cats in a photo of cats and dogs, how many were actually cats?)\n",
    "* **Recall**: Of all the possible Xs, how many did you find?\n",
    "(translation, of all the possible cats in the photo, how many did you find?)\n",
    "\n",
    "Conveniently, we can use precision and recall with sklearn. (In a binary example,\n",
    "we can even create a different AUC using [precision and recall](http://scikit-learn.org/stable/auto_examples/plot_precision_recall.html))."
   ]
  },
  {
   "cell_type": "code",
   "execution_count": 1,
   "metadata": {
    "collapsed": false
   },
   "outputs": [
    {
     "name": "stdout",
     "output_type": "stream",
     "text": [
      "Area Under Curve: 0.82\n"
     ]
    },
    {
     "data": {
      "image/png": "[encoded data removed]",
      "text/plain": [
       "<matplotlib.figure.Figure at 0x7f23e1429210>"
      ]
     },
     "metadata": {},
     "output_type": "display_data"
    }
   ],
   "source": [
    "%matplotlib inline\n",
    "\n",
    "import random\n",
    "import pylab as pl\n",
    "import numpy as np\n",
    "from sklearn import svm, datasets\n",
    "from sklearn.metrics import precision_recall_curve\n",
    "from sklearn.metrics import auc\n",
    "from sklearn import metrics\n",
    "\n",
    "# import some data to play with\n",
    "iris = datasets.load_iris()\n",
    "X = iris.data\n",
    "y = iris.target\n",
    "X, y = X[y != 2], y[y != 2]  # Keep also 2 classes (0 and 1)\n",
    "n_samples, n_features = X.shape\n",
    "\n",
    "p = range(n_samples)  # Shuffle samples\n",
    "\n",
    "random.seed(0)\n",
    "random.shuffle(p)\n",
    "\n",
    "X, y = X[p], y[p]\n",
    "half = int(n_samples / 2)\n",
    "\n",
    "# Add noisy features\n",
    "np.random.seed(0)\n",
    "X = np.c_[X, np.random.randn(n_samples, 200 * n_features)]\n",
    "\n",
    "# Run classifier\n",
    "classifier = svm.SVC(kernel='linear', probability=True, random_state=0)\n",
    "probas_ = classifier.fit(X[:half], y[:half]).predict_proba(X[half:])\n",
    "\n",
    "# Compute Precision-Recall and plot curve\n",
    "precision, recall, thresholds = precision_recall_curve(y[half:], probas_[:, 1])\n",
    "area = auc(recall, precision)\n",
    "print(\"Area Under Curve: %0.2f\" % area)\n",
    "\n",
    "pl.clf()\n",
    "pl.plot(recall, precision, label='Precision-Recall curve')\n",
    "pl.xlabel('Recall')\n",
    "pl.ylabel('Precision')\n",
    "pl.ylim([0.0, 1.05])\n",
    "pl.xlim([0.0, 1.0])\n",
    "pl.title('Precision-Recall example: AUC=%0.2f' % area)\n",
    "pl.legend(loc=\"lower left\")\n",
    "pl.show()"
   ]
  },
  {
   "cell_type": "code",
   "execution_count": 5,
   "metadata": {
    "collapsed": false
   },
   "outputs": [
    {
     "data": {
      "text/plain": [
       "45"
      ]
     },
     "execution_count": 5,
     "metadata": {},
     "output_type": "execute_result"
    }
   ],
   "source": [
    "len(thresholds)"
   ]
  },
  {
   "cell_type": "code",
   "execution_count": 3,
   "metadata": {
    "collapsed": false
   },
   "outputs": [
    {
     "data": {
      "text/plain": [
       "(100, 804)"
      ]
     },
     "execution_count": 3,
     "metadata": {},
     "output_type": "execute_result"
    }
   ],
   "source": [
    "X.shape"
   ]
  },
  {
   "cell_type": "code",
   "execution_count": 53,
   "metadata": {
    "collapsed": false
   },
   "outputs": [
    {
     "name": "stdout",
     "output_type": "stream",
     "text": [
      "             precision    recall  f1-score   support\n",
      "\n",
      "          0       0.73      0.76      0.75        25\n",
      "          1       0.75      0.72      0.73        25\n",
      "\n",
      "avg / total       0.74      0.74      0.74        50\n",
      "\n"
     ]
    }
   ],
   "source": [
    "print metrics.classification_report(y[half:], classifier.predict(X[half:]))"
   ]
  },
  {
   "cell_type": "markdown",
   "metadata": {},
   "source": [
    "### Generalizing our tree"
   ]
  },
  {
   "cell_type": "markdown",
   "metadata": {},
   "source": [
    "As mentioned before, having a perfect model is more often _scary_. We know this\n",
    "is overfitting by using a test/train set from iris."
   ]
  },
  {
   "cell_type": "code",
   "execution_count": 25,
   "metadata": {
    "collapsed": false
   },
   "outputs": [
    {
     "name": "stdout",
     "output_type": "stream",
     "text": [
      "[[36  0  0]\n",
      " [ 0 35  0]\n",
      " [ 0  0 34]]\n",
      "             precision    recall  f1-score   support\n",
      "\n",
      "          0       1.00      1.00      1.00        36\n",
      "          1       1.00      1.00      1.00        35\n",
      "          2       1.00      1.00      1.00        34\n",
      "\n",
      "avg / total       1.00      1.00      1.00       105\n",
      "\n",
      "[[14  0  0]\n",
      " [ 0 12  3]\n",
      " [ 0  0 16]]\n",
      "             precision    recall  f1-score   support\n",
      "\n",
      "          0       1.00      1.00      1.00        14\n",
      "          1       1.00      0.80      0.89        15\n",
      "          2       0.84      1.00      0.91        16\n",
      "\n",
      "avg / total       0.94      0.93      0.93        45\n",
      "\n"
     ]
    }
   ],
   "source": [
    "x_train, x_test, y_train, y_test = cross_validation.train_test_split(iris.data,\n",
    "    iris.target, test_size=.3)\n",
    "clf.fit(x_train, y_train)\n",
    "\n",
    "print metrics.confusion_matrix(y_train, clf.predict(x_train))\n",
    "print metrics.classification_report(y_train, clf.predict(x_train))\n",
    "\n",
    "print metrics.confusion_matrix(y_test, clf.predict(x_test))\n",
    "print metrics.classification_report(y_test, clf.predict(x_test))"
   ]
  },
  {
   "cell_type": "markdown",
   "metadata": {},
   "source": [
    "Though the concept of \"pruning\" is not as clear in sklearn (specifically since\n",
    "decision trees are only included as a \"well-known\" model), we can generalize the\n",
    "model by changing the defaults of min_samples_leaf and max_depth."
   ]
  },
  {
   "cell_type": "code",
   "execution_count": 26,
   "metadata": {
    "collapsed": false
   },
   "outputs": [
    {
     "name": "stdout",
     "output_type": "stream",
     "text": [
      "[[36  0  0]\n",
      " [ 0 34  1]\n",
      " [ 0  2 32]]\n",
      "[[14  0  0]\n",
      " [ 0 12  3]\n",
      " [ 0  1 15]]\n",
      "             precision    recall  f1-score   support\n",
      "\n",
      "          0       1.00      1.00      1.00        14\n",
      "          1       0.92      0.80      0.86        15\n",
      "          2       0.83      0.94      0.88        16\n",
      "\n",
      "avg / total       0.92      0.91      0.91        45\n",
      "\n"
     ]
    }
   ],
   "source": [
    "clf.set_params(min_samples_leaf=4)\n",
    "clf.set_params(max_depth=3)\n",
    "\n",
    "clf.fit(x_train, y_train)\n",
    "\n",
    "print metrics.confusion_matrix(y_train, clf.predict(x_train))\n",
    "print metrics.confusion_matrix(y_test, clf.predict(x_test))\n",
    "\n",
    "print metrics.classification_report(y_test, clf.predict(x_test))"
   ]
  },
  {
   "cell_type": "code",
   "execution_count": 54,
   "metadata": {
    "collapsed": false
   },
   "outputs": [],
   "source": [
    "from sklearn.datasets import load_iris\n",
    "from sklearn import tree\n",
    "iris = load_iris()\n",
    "\n",
    "clf = tree.DecisionTreeClassifier()\n",
    "\n",
    "clf.set_params(min_samples_leaf=4)\n",
    "clf.set_params(max_depth=3)\n",
    "\n",
    "clf = clf.fit(iris.data, iris.target)"
   ]
  },
  {
   "cell_type": "markdown",
   "metadata": {},
   "source": [
    "If you install pydot with `pip install pydot` you can also plot the decision tree"
   ]
  },
  {
   "cell_type": "code",
   "execution_count": 55,
   "metadata": {
    "collapsed": false
   },
   "outputs": [],
   "source": [
    "from sklearn.externals.six import StringIO\n",
    "\n",
    "with open(\"iris.dot\", 'w') as f:\n",
    "    f = tree.export_graphviz(clf, out_file=f)"
   ]
  },
  {
   "cell_type": "markdown",
   "metadata": {},
   "source": [
    "If you've installed graphviz - log into your virtual machine and run:\n",
    "```bash\n",
    "sudo apt-get install graphviz\n",
    "```\n",
    "Before running the following to convert the `iris.dot` into an `iris.png` image file"
   ]
  },
  {
   "cell_type": "code",
   "execution_count": 29,
   "metadata": {
    "collapsed": false
   },
   "outputs": [],
   "source": [
    "!dot -Tpng iris.dot > iris.png"
   ]
  },
  {
   "cell_type": "markdown",
   "metadata": {},
   "source": [
    "![Iris Graphviz Plot](iris.png)"
   ]
  },
  {
   "cell_type": "markdown",
   "metadata": {},
   "source": [
    "## Visualisation with D3"
   ]
  },
  {
   "cell_type": "markdown",
   "metadata": {},
   "source": [
    "[Original Blog Article](http://planspace.org/20151129-see_sklearn_trees_with_d3/)"
   ]
  },
  {
   "cell_type": "code",
   "execution_count": 6,
   "metadata": {
    "collapsed": false
   },
   "outputs": [
    {
     "data": {
      "text/html": [
       "\n",
       "        <iframe\n",
       "            width=\"800\"\n",
       "            height=\"400\"\n",
       "            src=\"http://bl.ocks.org/ajschumacher/65eda1df2b0dd2cf616f\"\n",
       "            frameborder=\"0\"\n",
       "            allowfullscreen\n",
       "        ></iframe>\n",
       "        "
      ],
      "text/plain": [
       "<IPython.lib.display.IFrame at 0x7f23fd589850>"
      ]
     },
     "execution_count": 6,
     "metadata": {},
     "output_type": "execute_result"
    }
   ],
   "source": [
    "from IPython.lib.display import IFrame\n",
    "IFrame('http://bl.ocks.org/ajschumacher/65eda1df2b0dd2cf616f', 800, 400)"
   ]
  },
  {
   "cell_type": "markdown",
   "metadata": {},
   "source": [
    "![break](assets/resources.png)"
   ]
  },
  {
   "cell_type": "markdown",
   "metadata": {},
   "source": [
    "## Resources"
   ]
  },
  {
   "cell_type": "markdown",
   "metadata": {},
   "source": [
    "### Handbooks"
   ]
  },
  {
   "cell_type": "markdown",
   "metadata": {},
   "source": [
    "![resource](assets/intro_to_data_mining.png)[Introduction to Data Mining (Ch.4)](http://www-users.cs.umn.edu/~kumar/dmbook/index.php)\n",
    "\n"
   ]
  },
  {
   "cell_type": "markdown",
   "metadata": {},
   "source": [
    "### Articles"
   ]
  },
  {
   "cell_type": "markdown",
   "metadata": {},
   "source": [
    "* [Basic Evaluation Measures for Classifier Performance](http://webdocs.cs.ualberta.ca/~eisner/measures.html)\n",
    "* [The Relationship Between Precision-Recall and ROC Curves](https://lirias.kuleuven.be/bitstream/123456789/295592/1/d.)\n",
    "* [Precision recall sensitivity and specificity](http://uberpython.wordpress.com/2012/01/01/precision-recall-sensitivity-and-specificity/)\n"
   ]
  },
  {
   "cell_type": "markdown",
   "metadata": {},
   "source": [
    "### Examples"
   ]
  },
  {
   "cell_type": "markdown",
   "metadata": {},
   "source": [
    "* [Multivariate_Analysis](http://nbviewer.ipython.org/github/piti118/babar_python_tutorial/blob/master/notebooks/03_Multivariate_Analysis.ipynb)\n"
   ]
  },
  {
   "cell_type": "markdown",
   "metadata": {},
   "source": [
    "## Colofon"
   ]
  },
  {
   "cell_type": "code",
   "execution_count": 2,
   "metadata": {
    "collapsed": false
   },
   "outputs": [
    {
     "name": "stdout",
     "output_type": "stream",
     "text": [
      "Python    2.7.10\n",
      "IPython   4.0.0\n",
      "numpy     1.10.1\n",
      "pandas    0.17.0\n",
      "sklearn   0.17\n",
      "seaborn   0.6.0\n"
     ]
    }
   ],
   "source": [
    "from utils import *\n",
    "import warnings\n",
    "\n",
    "warnings.filterwarnings('ignore')\n",
    "print_versions()"
   ]
  },
  {
   "cell_type": "code",
   "execution_count": 3,
   "metadata": {
    "collapsed": false
   },
   "outputs": [
    {
     "data": {
      "text/html": [
       "\n",
       "<link rel=\"stylesheet\" href=\"theme/custom.css\">"
      ],
      "text/plain": [
       "<IPython.core.display.HTML object>"
      ]
     },
     "metadata": {},
     "output_type": "display_data"
    }
   ],
   "source": [
    "%%html\n",
    "\n",
    "<link rel=\"stylesheet\" href=\"theme/custom.css\">"
   ]
  }
 ],
 "metadata": {
  "kernelspec": {
   "display_name": "Python 2",
   "language": "python",
   "name": "python2"
  },
  "language_info": {
   "codemirror_mode": {
    "name": "ipython",
    "version": 2
   },
   "file_extension": ".py",
   "mimetype": "text/x-python",
   "name": "python",
   "nbconvert_exporter": "python",
   "pygments_lexer": "ipython2",
   "version": "2.7.11"
  }
 },
 "nbformat": 4,
 "nbformat_minor": 0
}

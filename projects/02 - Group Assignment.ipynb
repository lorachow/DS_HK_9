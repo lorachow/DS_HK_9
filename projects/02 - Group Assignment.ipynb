{
 "cells": [
  {
   "cell_type": "markdown",
   "metadata": {},
   "source": [
    "# Group Assignment : Estimation Problem"
   ]
  },
  {
   "cell_type": "markdown",
   "metadata": {},
   "source": [
    "Team up in pairs, and build the best estimation model for a dataset of your choice, see [datasets](http://nbviewer.jupyter.org/github/ga-students/DS_HK_8/blob/gh-pages/notebooks/AA%20-%20Datasets.ipynb) for a list of resources."
   ]
  },
  {
   "cell_type": "markdown",
   "metadata": {},
   "source": [
    "### Deliverables"
   ]
  },
  {
   "cell_type": "markdown",
   "metadata": {},
   "source": [
    "A 10 minute presentation in class for your peers showcasing;\n",
    "* Exploratory Data Analysis\n",
    "* Motivation for feature selection\n",
    "* Checking whether the preconditions for linear regression have been met\n",
    "* Evaluation of model's strengths and weaknesses\n",
    "\n",
    "Audiences can be assumed to understand all your technical points, so don't be afraid to dive into the code to showcase your solutions! iPython notebook comes with a slideshow mode, consider [using it](http://www.damian.oquanta.info/posts/make-your-slides-with-ipython.html)\n",
    "    "
   ]
  },
  {
   "cell_type": "markdown",
   "metadata": {},
   "source": [
    "### Useful Book"
   ]
  },
  {
   "cell_type": "markdown",
   "metadata": {},
   "source": [
    "Login // Password for the book \n",
    "\n",
    "        media // guidance\n",
    "\n",
    "Any dataset from [Regression Analysis by Example](http://www.stat.nus.edu.sg/~zhangjt/teaching/textbook/datasets.htm)"
   ]
  },
  {
   "cell_type": "markdown",
   "metadata": {},
   "source": [
    "### Teams"
   ]
  },
  {
   "cell_type": "code",
   "execution_count": 1,
   "metadata": {
    "collapsed": false
   },
   "outputs": [
    {
     "name": "stderr",
     "output_type": "stream",
     "text": [
      "Vendor:  Continuum Analytics, Inc.\n",
      "Package: mkl\n",
      "Message: trial mode expires in 30 days\n",
      "/home/io/.tools/anaconda/envs/ds/lib/python2.7/site-packages/pandas/computation/__init__.py:19: UserWarning: The installed version of numexpr 2.4.4 is not supported in pandas and will be not be used\n",
      "\n",
      "  UserWarning)\n"
     ]
    }
   ],
   "source": [
    "import pandas as pd\n",
    "import itertools"
   ]
  },
  {
   "cell_type": "code",
   "execution_count": 3,
   "metadata": {
    "collapsed": false
   },
   "outputs": [
    {
     "data": {
      "text/html": [
       "<div>\n",
       "<table border=\"1\" class=\"dataframe\">\n",
       "  <thead>\n",
       "    <tr style=\"text-align: right;\">\n",
       "      <th></th>\n",
       "      <th>DATASET</th>\n",
       "      <th>PLAYER 1</th>\n",
       "      <th>PLAYER 2</th>\n",
       "    </tr>\n",
       "  </thead>\n",
       "  <tbody>\n",
       "    <tr>\n",
       "      <th>0</th>\n",
       "      <td>Student Alcohol Consumption</td>\n",
       "      <td>AJ</td>\n",
       "      <td>Ritz</td>\n",
       "    </tr>\n",
       "    <tr>\n",
       "      <th>1</th>\n",
       "      <td>T.B.C.</td>\n",
       "      <td>Lora</td>\n",
       "      <td>Jacky</td>\n",
       "    </tr>\n",
       "    <tr>\n",
       "      <th>2</th>\n",
       "      <td>T.B.A.</td>\n",
       "      <td>Sunny</td>\n",
       "      <td>Victor</td>\n",
       "    </tr>\n",
       "    <tr>\n",
       "      <th>3</th>\n",
       "      <td>T.B.T.</td>\n",
       "      <td>Morgan</td>\n",
       "      <td>Nicole</td>\n",
       "    </tr>\n",
       "    <tr>\n",
       "      <th>4</th>\n",
       "      <td>T.B.P.</td>\n",
       "      <td>Ashish</td>\n",
       "      <td>Kelly</td>\n",
       "    </tr>\n",
       "    <tr>\n",
       "      <th>5</th>\n",
       "      <td>T.B.N.</td>\n",
       "      <td>John</td>\n",
       "      <td>Nikki</td>\n",
       "    </tr>\n",
       "  </tbody>\n",
       "</table>\n",
       "</div>"
      ],
      "text/plain": [
       "                       DATASET PLAYER 1 PLAYER 2\n",
       "0  Student Alcohol Consumption       AJ     Ritz\n",
       "1                       T.B.C.     Lora    Jacky\n",
       "2                       T.B.A.    Sunny   Victor\n",
       "3                       T.B.T.   Morgan   Nicole\n",
       "4                       T.B.P.   Ashish    Kelly\n",
       "5                       T.B.N.     John    Nikki"
      ]
     },
     "execution_count": 3,
     "metadata": {},
     "output_type": "execute_result"
    }
   ],
   "source": [
    "teams = pd.DataFrame({\n",
    "    'PLAYER 1' : ['AJ','Lora','Sunny','Morgan','Ashish','John'],\n",
    "    'PLAYER 2' : ['Ritz','Jacky','Victor','Nicole','Kelly','Nikki'],\n",
    "    'DATASET' : ['Student Alcohol Consumption','T.B.C.','T.B.A.','T.B.T.','T.B.P.','T.B.N.']})\n",
    "                 \n",
    "teams"
   ]
  },
  {
   "cell_type": "markdown",
   "metadata": {},
   "source": [
    "## Prize : To Be Oracled"
   ]
  }
 ],
 "metadata": {
  "kernelspec": {
   "display_name": "Python 2",
   "language": "python",
   "name": "python2"
  },
  "language_info": {
   "codemirror_mode": {
    "name": "ipython",
    "version": 2
   },
   "file_extension": ".py",
   "mimetype": "text/x-python",
   "name": "python",
   "nbconvert_exporter": "python",
   "pygments_lexer": "ipython2",
   "version": "2.7.11"
  }
 },
 "nbformat": 4,
 "nbformat_minor": 0
}

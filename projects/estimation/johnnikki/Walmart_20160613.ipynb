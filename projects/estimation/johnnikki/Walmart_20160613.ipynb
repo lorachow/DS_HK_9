{
 "cells": [
  {
   "cell_type": "markdown",
   "metadata": {
    "slideshow": {
     "slide_type": "slide"
    }
   },
   "source": [
    "# Walmart - Store Sales Forecasting"
   ]
  },
  {
   "cell_type": "markdown",
   "metadata": {
    "slideshow": {
     "slide_type": "subslide"
    }
   },
   "source": [
    "We are provided with historical sales data for 45 Walmart stores located in different regions, and each store contains many departments. We target to project the sales for each store. To add to the challenge, selected holiday markdown events are included in the dataset. \n",
    "\n",
    "There are 45 stores of varying types and sizes.\n",
    "\n",
    "The data/features:\n",
    "Store;\n",
    "Type;\n",
    "Size;\n",
    "Dept;\n",
    "Date;\n",
    "WeeklySales(training data provided);\n",
    "IsHoliday;\n",
    "Temperature - average temperature in the region;\n",
    "Fuel_price - cost of fuel in the region;\n",
    "MarkDown1;\n",
    "MarkDown2;\n",
    "MarkDown3;\n",
    "MarkDown4;\n",
    "MarkDown5;\n",
    "CPI;\n",
    "Unemployment\n",
    "\n",
    "Note: MarkDown data is anonymized data related to promotional markdowns that Walmart is running. MarkDown data is only available after Nov 2011, and is not available for all stores all the time. Any missing value is marked with an NA.\n",
    "\n",
    "The data covers 2010-02-05 to 2012-11-01."
   ]
  },
  {
   "cell_type": "markdown",
   "metadata": {
    "slideshow": {
     "slide_type": "subslide"
    }
   },
   "source": [
    "#### Define Environment"
   ]
  },
  {
   "cell_type": "code",
   "execution_count": 1,
   "metadata": {
    "collapsed": false,
    "slideshow": {
     "slide_type": "skip"
    }
   },
   "outputs": [
    {
     "ename": "ImportError",
     "evalue": "No module named plotly",
     "output_type": "error",
     "traceback": [
      "\u001b[1;31m---------------------------------------------------------------------------\u001b[0m",
      "\u001b[1;31mImportError\u001b[0m                               Traceback (most recent call last)",
      "\u001b[1;32m<ipython-input-1-a1262768bbf0>\u001b[0m in \u001b[0;36m<module>\u001b[1;34m()\u001b[0m\n\u001b[0;32m     13\u001b[0m \u001b[1;32mimport\u001b[0m \u001b[0mmatplotlib\u001b[0m\u001b[1;33m\u001b[0m\u001b[0m\n\u001b[0;32m     14\u001b[0m \u001b[0mget_ipython\u001b[0m\u001b[1;33m(\u001b[0m\u001b[1;33m)\u001b[0m\u001b[1;33m.\u001b[0m\u001b[0mmagic\u001b[0m\u001b[1;33m(\u001b[0m\u001b[1;34mu'matplotlib inline'\u001b[0m\u001b[1;33m)\u001b[0m\u001b[1;33m\u001b[0m\u001b[0m\n\u001b[1;32m---> 15\u001b[1;33m \u001b[1;32mimport\u001b[0m \u001b[0mplotly\u001b[0m\u001b[1;33m\u001b[0m\u001b[0m\n\u001b[0m\u001b[0;32m     16\u001b[0m \u001b[1;32mimport\u001b[0m \u001b[0mplotly\u001b[0m\u001b[1;33m.\u001b[0m\u001b[0mtools\u001b[0m \u001b[1;32mas\u001b[0m \u001b[0mtls\u001b[0m\u001b[1;33m\u001b[0m\u001b[0m\n\u001b[0;32m     17\u001b[0m \u001b[1;32mfrom\u001b[0m \u001b[0mplotly\u001b[0m\u001b[1;33m.\u001b[0m\u001b[0moffline\u001b[0m \u001b[1;32mimport\u001b[0m \u001b[0mplot\u001b[0m\u001b[1;33m,\u001b[0m \u001b[0miplot\u001b[0m\u001b[1;33m\u001b[0m\u001b[0m\n",
      "\u001b[1;31mImportError\u001b[0m: No module named plotly"
     ]
    }
   ],
   "source": [
    "#import all libraries needed\n",
    "\n",
    "import numpy as np\n",
    "import pandas as pd\n",
    "import seaborn as sns\n",
    "sns.set(style=\"white\")\n",
    "\n",
    "from patsy import dmatrices, dmatrix\n",
    "import statsmodels.api as sm\n",
    "\n",
    "from pandas import DataFrame, Series\n",
    "import matplotlib.pyplot as plt\n",
    "import matplotlib\n",
    "%matplotlib inline\n",
    "import plotly\n",
    "import plotly.tools as tls\n",
    "from plotly.offline import plot, iplot\n",
    "plotly.offline.init_notebook_mode()\n",
    "\n",
    "import plotly.plotly as py\n",
    "import plotly.graph_objs as go\n",
    "\n",
    "import cufflinks as cf\n",
    "cf.go_offline()"
   ]
  },
  {
   "cell_type": "markdown",
   "metadata": {
    "slideshow": {
     "slide_type": "slide"
    }
   },
   "source": [
    "### Data Preparation"
   ]
  },
  {
   "cell_type": "markdown",
   "metadata": {
    "slideshow": {
     "slide_type": "subslide"
    }
   },
   "source": [
    "#### Import data into pandas dataframe"
   ]
  },
  {
   "cell_type": "code",
   "execution_count": null,
   "metadata": {
    "collapsed": false,
    "slideshow": {
     "slide_type": "subslide"
    }
   },
   "outputs": [],
   "source": [
    "df = pd.read_csv(\"../data/wm_data.csv\") #primary data file\n",
    "\n",
    "# for john's machine: C:\\Users\\lohnj\\Documents\\DataBox\\DS_HK_9\\data\\wm_data.csv\n",
    "# for others' machines: \"wm_data.csv\""
   ]
  },
  {
   "cell_type": "code",
   "execution_count": null,
   "metadata": {
    "collapsed": false,
    "slideshow": {
     "slide_type": "subslide"
    }
   },
   "outputs": [],
   "source": [
    "df.head()"
   ]
  },
  {
   "cell_type": "code",
   "execution_count": null,
   "metadata": {
    "collapsed": false,
    "slideshow": {
     "slide_type": "subslide"
    }
   },
   "outputs": [],
   "source": [
    "df.describe()"
   ]
  },
  {
   "cell_type": "code",
   "execution_count": null,
   "metadata": {
    "collapsed": false,
    "slideshow": {
     "slide_type": "subslide"
    }
   },
   "outputs": [],
   "source": [
    "df.info()"
   ]
  },
  {
   "cell_type": "code",
   "execution_count": null,
   "metadata": {
    "collapsed": false,
    "slideshow": {
     "slide_type": "skip"
    }
   },
   "outputs": [],
   "source": [
    "totalsales=df.groupby(['Store'],as_index=False).sum()\n",
    "avgstoresize=df.groupby(['Store'], as_index=False).mean()"
   ]
  },
  {
   "cell_type": "code",
   "execution_count": null,
   "metadata": {
    "collapsed": true,
    "slideshow": {
     "slide_type": "skip"
    }
   },
   "outputs": [],
   "source": [
    "totalsales['storesize'] = avgstoresize['Size']\n",
    "totalsales['unit_sales'] = totalsales['Weekly_Sales']/totalsales['storesize'] \n",
    "totalsales.drop('Dept',axis=1,inplace=True)\n",
    "totalsales.drop('Size',axis=1,inplace=True)\n",
    "totalsales.drop('IsHoliday',axis=1,inplace=True)\n",
    "totalsales.drop('Temperature',axis=1,inplace=True)\n",
    "totalsales.drop('Fuel_Price',axis=1,inplace=True)\n",
    "totalsales.drop('CPI',axis=1,inplace=True)\n",
    "totalsales.drop('Unemployment',axis=1,inplace=True)\n",
    "totalsales.drop('MarkDown1',axis=1,inplace=True)\n",
    "totalsales.drop('MarkDown2',axis=1,inplace=True)\n",
    "totalsales.drop('MarkDown3',axis=1,inplace=True)\n",
    "totalsales.drop('MarkDown4',axis=1,inplace=True)\n",
    "totalsales.drop('MarkDown5',axis=1,inplace=True)"
   ]
  },
  {
   "cell_type": "markdown",
   "metadata": {
    "slideshow": {
     "slide_type": "slide"
    }
   },
   "source": [
    "### Initial Data Analysis"
   ]
  },
  {
   "cell_type": "markdown",
   "metadata": {
    "slideshow": {
     "slide_type": "subslide"
    }
   },
   "source": [
    "#### All store analysis"
   ]
  },
  {
   "cell_type": "markdown",
   "metadata": {
    "slideshow": {
     "slide_type": "subslide"
    }
   },
   "source": [
    "#### Sales Performance by Store"
   ]
  },
  {
   "cell_type": "code",
   "execution_count": null,
   "metadata": {
    "collapsed": false,
    "slideshow": {
     "slide_type": "subslide"
    }
   },
   "outputs": [],
   "source": [
    "trace1 = go.Bar(\n",
    "    x=totalsales['Store'],\n",
    "    y=totalsales['Weekly_Sales'],\n",
    "    name='Store Sales',\n",
    "    marker=dict(\n",
    "        color='rgb(253, 194, 13)'\n",
    "    )\n",
    ")\n",
    "\n",
    "data = [trace1]\n",
    "layout = go.Layout(\n",
    "    title='Sales by store from 5 Feb 2010 to 1 Nov 2012',\n",
    "    xaxis=dict(\n",
    "        tickfont=dict(\n",
    "            size=14,\n",
    "            color='rgb(107, 107, 107)'\n",
    "        )\n",
    "    ),\n",
    "    yaxis=dict(\n",
    "        title='Sales',\n",
    "        titlefont=dict(\n",
    "            size=16,\n",
    "            color='rgb(107, 107, 107)'\n",
    "        ),\n",
    "        tickfont=dict(\n",
    "            size=14,\n",
    "            color='rgb(107, 107, 107)'\n",
    "        )\n",
    "    ),\n",
    "    legend=dict(\n",
    "        x=1,\n",
    "        y=1,\n",
    "        bgcolor='rgba(255, 255, 255, 0)',\n",
    "        bordercolor='rgba(255, 255, 255, 0)'\n",
    "    ),\n",
    "   \n",
    "    barmode='group',\n",
    "    bargap=0.15,\n",
    "    bargroupgap=0.1\n",
    "    \n",
    ")\n",
    "from plotly.offline import iplot\n",
    "fig = go.Figure(data=data, layout=layout)\n",
    "plot_url = iplot(fig)"
   ]
  },
  {
   "cell_type": "markdown",
   "metadata": {
    "slideshow": {
     "slide_type": "subslide"
    }
   },
   "source": [
    "Observation: Store 20 has the highest sales. "
   ]
  },
  {
   "cell_type": "markdown",
   "metadata": {
    "slideshow": {
     "slide_type": "slide"
    }
   },
   "source": [
    "#### Store Size Analysis"
   ]
  },
  {
   "cell_type": "code",
   "execution_count": null,
   "metadata": {
    "collapsed": false,
    "slideshow": {
     "slide_type": "subslide"
    }
   },
   "outputs": [],
   "source": [
    "trace1 = go.Bar(\n",
    "    x=totalsales['Store'],\n",
    "    y=totalsales['storesize'],\n",
    "    name='Store Size',\n",
    "    marker=dict(\n",
    "        color='rgb(253, 126, 13)'\n",
    "    )\n",
    ")\n",
    "\n",
    "data = [trace1]\n",
    "layout = go.Layout(\n",
    "    title='Stores Sizes',\n",
    "    xaxis=dict(\n",
    "        tickfont=dict(\n",
    "            size=14,\n",
    "            color='rgb(107, 107, 107)'\n",
    "        )\n",
    "    ),\n",
    "    yaxis=dict(\n",
    "        title='Size',\n",
    "        titlefont=dict(\n",
    "            size=16,\n",
    "            color='rgb(107, 107, 107)'\n",
    "        ),\n",
    "        tickfont=dict(\n",
    "            size=14,\n",
    "            color='rgb(107, 107, 107)'\n",
    "        )\n",
    "    ),\n",
    "        \n",
    "    legend=dict(\n",
    "        x=1,\n",
    "        y=1,\n",
    "        bgcolor='rgba(255, 255, 255, 0)',\n",
    "        bordercolor='rgba(255, 255, 255, 0)'\n",
    "    ),\n",
    "    barmode='group',\n",
    "    bargap=0.15,\n",
    "    bargroupgap=0.1\n",
    "    )\n",
    "from plotly.offline import iplot\n",
    "fig = go.Figure(data=data, layout=layout)\n",
    "plot_url = iplot(fig)"
   ]
  },
  {
   "cell_type": "markdown",
   "metadata": {
    "slideshow": {
     "slide_type": "subslide"
    }
   },
   "source": [
    "Observation: Store 13 is the largest store. "
   ]
  },
  {
   "cell_type": "markdown",
   "metadata": {
    "slideshow": {
     "slide_type": "slide"
    }
   },
   "source": [
    "#### Sales return per store unit"
   ]
  },
  {
   "cell_type": "code",
   "execution_count": null,
   "metadata": {
    "collapsed": false,
    "slideshow": {
     "slide_type": "subslide"
    }
   },
   "outputs": [],
   "source": [
    "trace1 = go.Bar(\n",
    "    x=totalsales['Store'],\n",
    "    y=totalsales['unit_sales'],\n",
    "    name='Sales return per square meter',\n",
    "    marker=dict(\n",
    "        color='rgb(55, 83, 109)'\n",
    "    )\n",
    ")\n",
    "\n",
    "data = [trace1]\n",
    "layout = go.Layout(\n",
    "    title='Sales return per square meter for each store',\n",
    "    xaxis=dict(\n",
    "        tickfont=dict(\n",
    "            size=14,\n",
    "            color='rgb(107, 107, 107)'\n",
    "        )\n",
    "    ),\n",
    "    yaxis=dict(\n",
    "        title='Size',\n",
    "        titlefont=dict(\n",
    "            size=16,\n",
    "            color='rgb(107, 107, 107)'\n",
    "        ),\n",
    "        tickfont=dict(\n",
    "            size=14,\n",
    "            color='rgb(107, 107, 107)'\n",
    "        )\n",
    "    ),\n",
    "    legend=dict(\n",
    "        x=1,\n",
    "        y=1,\n",
    "        bgcolor='rgba(255, 255, 255, 0)',\n",
    "        bordercolor='rgba(255, 255, 255, 0)'\n",
    "    ),\n",
    "    barmode='group',\n",
    "    bargap=0.15,\n",
    "    bargroupgap=0.1\n",
    ")\n",
    "from plotly.offline import iplot\n",
    "fig = go.Figure(data=data, layout=layout)\n",
    "plot_url = iplot(fig)"
   ]
  },
  {
   "cell_type": "markdown",
   "metadata": {
    "slideshow": {
     "slide_type": "subslide"
    }
   },
   "source": [
    "Observation: Store 10 and Store 43 have highest sales reteurn per store square meter. "
   ]
  },
  {
   "cell_type": "markdown",
   "metadata": {
    "slideshow": {
     "slide_type": "slide"
    }
   },
   "source": [
    "#### Would seasonal factor affect the sales a lot?"
   ]
  },
  {
   "cell_type": "code",
   "execution_count": null,
   "metadata": {
    "collapsed": false,
    "slideshow": {
     "slide_type": "skip"
    }
   },
   "outputs": [],
   "source": [
    "avgsales_nh=df.groupby(['Store','IsHoliday'], as_index=False).mean()"
   ]
  },
  {
   "cell_type": "code",
   "execution_count": null,
   "metadata": {
    "collapsed": false,
    "slideshow": {
     "slide_type": "subslide"
    }
   },
   "outputs": [],
   "source": [
    "trace1 = go.Bar(\n",
    "    x=avgsales_nh['Store'],\n",
    "    y=avgsales_nh['Weekly_Sales'],\n",
    "    name='Holiday Sales',\n",
    "    marker=dict(\n",
    "        color='rgb(55, 83, 109)'\n",
    "    )\n",
    ")\n",
    "trace2 = go.Bar(\n",
    "    x=avgstoresize['Store'],\n",
    "    y=avgstoresize['Weekly_Sales'],\n",
    "    name='Total Sales',\n",
    "    marker=dict(\n",
    "        color='rgb(26, 118, 255)'\n",
    "    )\n",
    ")\n",
    "data = [trace1, trace2]\n",
    "layout = go.Layout(\n",
    "    title='Seasonal Sales Contribution',\n",
    "    xaxis=dict(\n",
    "        tickfont=dict(\n",
    "            size=14,\n",
    "            color='rgb(107, 107, 107)'\n",
    "        )\n",
    "    ),\n",
    "    yaxis=dict(\n",
    "        title='Sales',\n",
    "        titlefont=dict(\n",
    "            size=16,\n",
    "            color='rgb(107, 107, 107)'\n",
    "        ),\n",
    "        tickfont=dict(\n",
    "            size=14,\n",
    "            color='rgb(107, 107, 107)'\n",
    "        )\n",
    "    ),\n",
    "    legend=dict(\n",
    "        x=1,\n",
    "        y=1,\n",
    "        bgcolor='rgba(255, 255, 255, 0)',\n",
    "        bordercolor='rgba(255, 255, 255, 0)'\n",
    "    ),\n",
    "    barmode='group',\n",
    "    bargap=0.15,\n",
    "    bargroupgap=0.1\n",
    ")\n",
    "from plotly.offline import iplot\n",
    "fig = go.Figure(data=data, layout=layout)\n",
    "plot_url = iplot(fig)"
   ]
  },
  {
   "cell_type": "markdown",
   "metadata": {
    "slideshow": {
     "slide_type": "subslide"
    }
   },
   "source": [
    "Observation: The average daily sales from Holiday is slightly higher then normal days. The difference is not material."
   ]
  },
  {
   "cell_type": "markdown",
   "metadata": {
    "slideshow": {
     "slide_type": "slide"
    }
   },
   "source": [
    "### Selecting Data"
   ]
  },
  {
   "cell_type": "markdown",
   "metadata": {
    "slideshow": {
     "slide_type": "subslide"
    }
   },
   "source": [
    "Due to the large dataset, we have opted to look at any given specific store \"type\", any given store itself, and any given department(s), because otherwise, our machines cannot handle the data. "
   ]
  },
  {
   "cell_type": "code",
   "execution_count": null,
   "metadata": {
    "collapsed": false,
    "slideshow": {
     "slide_type": "subslide"
    }
   },
   "outputs": [],
   "source": [
    "#Constant - can use this to adjust which Store Type to analyse\n",
    "store_type = 'C'\n",
    "#Store types are A, B, or C\n",
    "\n",
    "store_num = 30\n",
    "#Store numbers 30, 37, 38, 42, 43, 44\n",
    "\n",
    "dept_num = 1\n",
    "#department numbers range from 1 to 99"
   ]
  },
  {
   "cell_type": "code",
   "execution_count": null,
   "metadata": {
    "collapsed": false,
    "slideshow": {
     "slide_type": "subslide"
    }
   },
   "outputs": [],
   "source": [
    "df.columns = map(str.lower,df.columns)"
   ]
  },
  {
   "cell_type": "code",
   "execution_count": null,
   "metadata": {
    "collapsed": false,
    "slideshow": {
     "slide_type": "subslide"
    }
   },
   "outputs": [],
   "source": [
    "dfhelper1 = df[(df['type'] == store_type)]"
   ]
  },
  {
   "cell_type": "code",
   "execution_count": null,
   "metadata": {
    "collapsed": true,
    "slideshow": {
     "slide_type": "subslide"
    }
   },
   "outputs": [],
   "source": [
    "dfhelper2 = dfhelper1[(dfhelper1['store'] == store_num)]\n",
    "#if want to include all stores, then use >= 30"
   ]
  },
  {
   "cell_type": "code",
   "execution_count": null,
   "metadata": {
    "collapsed": true,
    "slideshow": {
     "slide_type": "subslide"
    }
   },
   "outputs": [],
   "source": [
    "dfx = dfhelper2[(dfhelper2['dept'] == dept_num)]\n",
    "#if want to include all stores, then use >= 1"
   ]
  },
  {
   "cell_type": "code",
   "execution_count": null,
   "metadata": {
    "collapsed": false,
    "slideshow": {
     "slide_type": "subslide"
    }
   },
   "outputs": [],
   "source": [
    "dfx.head()"
   ]
  },
  {
   "cell_type": "markdown",
   "metadata": {
    "slideshow": {
     "slide_type": "slide"
    }
   },
   "source": [
    "#### Simplifying Dataframe"
   ]
  },
  {
   "cell_type": "markdown",
   "metadata": {
    "slideshow": {
     "slide_type": "subslide"
    }
   },
   "source": [
    "For purposes of EDA, and as noted above, we have set up the analysis to be \"controllable\" with respect to what types of stores, which stores, and which departments to analyse. To further clean up the dataframe, we can remove the Type and Size because they are essentially one and the same once a particular Store Type is selected (as above)."
   ]
  },
  {
   "cell_type": "code",
   "execution_count": null,
   "metadata": {
    "collapsed": false,
    "slideshow": {
     "slide_type": "subslide"
    }
   },
   "outputs": [],
   "source": [
    "#Can remove/drop column 'type' because have established store_type constant above\n",
    "dfx.drop('type',axis=1,inplace=True)"
   ]
  },
  {
   "cell_type": "code",
   "execution_count": null,
   "metadata": {
    "collapsed": false,
    "slideshow": {
     "slide_type": "subslide"
    }
   },
   "outputs": [],
   "source": [
    "#Can also remove/drop column 'size' since already removed 'type' column\n",
    "dfx.drop('size',axis=1,inplace=True)"
   ]
  },
  {
   "cell_type": "markdown",
   "metadata": {
    "slideshow": {
     "slide_type": "subslide"
    }
   },
   "source": [
    "In reviewing the data (and included as prompt to the challenge), the mark down data is only available for the last year, so with respect to using them as relevant features for prediction over time, they are not relevant; therefore, we exclude them."
   ]
  },
  {
   "cell_type": "code",
   "execution_count": null,
   "metadata": {
    "collapsed": false,
    "slideshow": {
     "slide_type": "subslide"
    }
   },
   "outputs": [],
   "source": [
    "#Remove markdown columns - not enough data/history of information to be useful as feature\n",
    "dfx.drop(['markdown1', 'markdown2', 'markdown3', 'markdown4', 'markdown5'], axis=1, inplace=True)"
   ]
  },
  {
   "cell_type": "code",
   "execution_count": null,
   "metadata": {
    "collapsed": false,
    "slideshow": {
     "slide_type": "skip"
    }
   },
   "outputs": [],
   "source": [
    "dfx[\"date\"] = pd.to_datetime(dfx[\"date\"])"
   ]
  },
  {
   "cell_type": "code",
   "execution_count": null,
   "metadata": {
    "collapsed": false,
    "slideshow": {
     "slide_type": "skip"
    }
   },
   "outputs": [],
   "source": [
    "dfx.head()"
   ]
  },
  {
   "cell_type": "code",
   "execution_count": null,
   "metadata": {
    "collapsed": false,
    "slideshow": {
     "slide_type": "skip"
    }
   },
   "outputs": [],
   "source": [
    "dfx.info()"
   ]
  },
  {
   "cell_type": "markdown",
   "metadata": {
    "slideshow": {
     "slide_type": "slide"
    }
   },
   "source": [
    "### Single Store Analysis"
   ]
  },
  {
   "cell_type": "code",
   "execution_count": null,
   "metadata": {
    "collapsed": false,
    "slideshow": {
     "slide_type": "subslide"
    }
   },
   "outputs": [],
   "source": [
    "#Average sales on non-holidays vs holidays\n",
    "cols = ['store', 'isholiday', 'weekly_sales']\n",
    "dfx[cols].groupby(cols[:2]).mean()\n",
    "\n",
    "#there doesn't seem to be a difference between the average weekly sales for holidays vs non-holidays"
   ]
  },
  {
   "cell_type": "markdown",
   "metadata": {
    "slideshow": {
     "slide_type": "subslide"
    }
   },
   "source": [
    "On an average basis, there doesn't appear to be a material difference between a week with a holiday or non-holiday weeks."
   ]
  },
  {
   "cell_type": "code",
   "execution_count": null,
   "metadata": {
    "collapsed": false,
    "slideshow": {
     "slide_type": "subslide"
    }
   },
   "outputs": [],
   "source": [
    "#Aggregate sales on non-holidays vs holidays\n",
    "cols = ['store', 'isholiday', 'weekly_sales']\n",
    "dfx[cols].groupby(cols[:2]).sum()"
   ]
  },
  {
   "cell_type": "code",
   "execution_count": null,
   "metadata": {
    "collapsed": false,
    "slideshow": {
     "slide_type": "skip"
    }
   },
   "outputs": [],
   "source": [
    "dfx"
   ]
  },
  {
   "cell_type": "code",
   "execution_count": null,
   "metadata": {
    "collapsed": false,
    "slideshow": {
     "slide_type": "skip"
    }
   },
   "outputs": [],
   "source": [
    "dfx.describe()"
   ]
  },
  {
   "cell_type": "markdown",
   "metadata": {
    "slideshow": {
     "slide_type": "slide"
    }
   },
   "source": [
    "### Exploratory Data Analysis"
   ]
  },
  {
   "cell_type": "code",
   "execution_count": null,
   "metadata": {
    "collapsed": false
   },
   "outputs": [],
   "source": [
    "##dfx.iplot(kind='hist', subplots = True, subplot_titles = True, dimensions = (980,1400))"
   ]
  },
  {
   "cell_type": "code",
   "execution_count": null,
   "metadata": {
    "collapsed": false,
    "scrolled": false,
    "slideshow": {
     "slide_type": "slide"
    }
   },
   "outputs": [],
   "source": [
    "#In the first instance, to explore/observe any patterns, have chosen to plot for one store and one department\n",
    "#Ideally, would like to \"overlay\" the various features of temperature, fuel price, cpi, unemployment over the weekly sales plot\n",
    "#The subplots are helpful when we only plot one store, and one department; as soon as multiple stores/departments are added,\n",
    "#the data becomes hard to observe\n",
    "\n",
    "dfx.iplot(kind = 'scatter', \n",
    "         mode = 'markers', \n",
    "        # keys = numcols, \n",
    "         symbol = 'x', \n",
    "         size = 4, \n",
    "         x='date', \n",
    "         subplots = True, \n",
    "         subplot_titles = True, \n",
    "         dimensions = (980,1400))"
   ]
  },
  {
   "cell_type": "markdown",
   "metadata": {
    "slideshow": {
     "slide_type": "subslide"
    }
   },
   "source": [
    "### Observations"
   ]
  },
  {
   "cell_type": "markdown",
   "metadata": {
    "slideshow": {
     "slide_type": "subslide"
    }
   },
   "source": [
    "1. With respect to the selected store and department, sales are relatively stable over the time period, but there are visibly some periods of higher than average sales.\n",
    "2. Temperature fluctuates and does not appear to have an obvious relationship with weekly sales.\n",
    "3. Fuel price trended upward, from 2011; average weekly sales appeared to have a slightly downward trend co-inciding with fuel price increases.\n",
    "4. As unemployment decreased, CPI increased, which in theory would have suggested weekly sales to average up; however, as noted above, fuel prices also increased during this time, which may or may not have had downward pressure on sales."
   ]
  },
  {
   "cell_type": "markdown",
   "metadata": {
    "slideshow": {
     "slide_type": "slide"
    }
   },
   "source": [
    "### Univariate Analysis and Multivariate Analysis"
   ]
  },
  {
   "cell_type": "code",
   "execution_count": null,
   "metadata": {
    "collapsed": false,
    "slideshow": {
     "slide_type": "subslide"
    }
   },
   "outputs": [],
   "source": [
    "dfx.iplot(kind='bar', x='date', y='weekly_sales', dimensions = (1000,400))"
   ]
  },
  {
   "cell_type": "markdown",
   "metadata": {
    "slideshow": {
     "slide_type": "subslide"
    }
   },
   "source": [
    "Observation: Sales peak were on 11 May 2010 and 11 Apr 2011. "
   ]
  },
  {
   "cell_type": "code",
   "execution_count": null,
   "metadata": {
    "collapsed": false,
    "slideshow": {
     "slide_type": "slide"
    }
   },
   "outputs": [],
   "source": [
    "dfx.iplot(kind = 'scatter',\n",
    "          mode = 'markers', \n",
    "          symbol = 'x', \n",
    "          size = 5, \n",
    "          x='date',\n",
    "          y='weekly_sales',\n",
    "          dimensions = (800,400))"
   ]
  },
  {
   "cell_type": "code",
   "execution_count": null,
   "metadata": {
    "collapsed": true,
    "slideshow": {
     "slide_type": "subslide"
    }
   },
   "outputs": [],
   "source": [
    "#Constant - can use this to adjust which Store Type to analyse\n",
    "z = 'fuel_price'\n",
    "\n",
    "#control 'z' as: temperature, fuel_price, cpi, unemployment"
   ]
  },
  {
   "cell_type": "code",
   "execution_count": null,
   "metadata": {
    "collapsed": false,
    "slideshow": {
     "slide_type": "slide"
    }
   },
   "outputs": [],
   "source": [
    "dfx.iplot(kind = 'bubble', \n",
    "          x='date',\n",
    "          y = 'weekly_sales',\n",
    "          size = z,\n",
    "          dimensions = (800,400))"
   ]
  },
  {
   "cell_type": "markdown",
   "metadata": {
    "slideshow": {
     "slide_type": "subslide"
    }
   },
   "source": [
    "### Observations"
   ]
  },
  {
   "cell_type": "markdown",
   "metadata": {
    "slideshow": {
     "slide_type": "subslide"
    }
   },
   "source": [
    "As mentioned above, the only obvious relationship appears to be between CPI and Unemployment, but neither of these have intuitive relationships with weekly sales over the time period."
   ]
  },
  {
   "cell_type": "markdown",
   "metadata": {
    "slideshow": {
     "slide_type": "slide"
    }
   },
   "source": [
    "## Relationship Exploration"
   ]
  },
  {
   "cell_type": "markdown",
   "metadata": {
    "slideshow": {
     "slide_type": "subslide"
    }
   },
   "source": [
    "#### Correlationship between the features"
   ]
  },
  {
   "cell_type": "code",
   "execution_count": null,
   "metadata": {
    "collapsed": false,
    "slideshow": {
     "slide_type": "subslide"
    }
   },
   "outputs": [],
   "source": [
    "f, ax = plt.subplots(figsize=(12, 12))\n",
    "cmap = sns.diverging_palette(220, 10, as_cmap=True)\n",
    "sns.corrplot(df, annot=False, sig_stars=False,\n",
    "             diag_names=False, cmap=cmap, ax=ax)\n",
    "f.tight_layout()"
   ]
  },
  {
   "cell_type": "markdown",
   "metadata": {
    "slideshow": {
     "slide_type": "slide"
    }
   },
   "source": [
    "### Relationship Between Store Size and Sales"
   ]
  },
  {
   "cell_type": "code",
   "execution_count": null,
   "metadata": {
    "collapsed": false,
    "slideshow": {
     "slide_type": "subslide"
    }
   },
   "outputs": [],
   "source": [
    "# explore the types of relationship you should model for, linear?\n",
    "sns.lmplot(\"storesize\", \"Weekly_Sales\", totalsales);"
   ]
  },
  {
   "cell_type": "code",
   "execution_count": null,
   "metadata": {
    "collapsed": false,
    "slideshow": {
     "slide_type": "subslide"
    }
   },
   "outputs": [],
   "source": [
    "# exploring the types of relationship we should model for, third order polynomial?\n",
    "sns.lmplot(\"storesize\", \"Weekly_Sales\", totalsales, order=2);"
   ]
  },
  {
   "cell_type": "code",
   "execution_count": null,
   "metadata": {
    "collapsed": false,
    "slideshow": {
     "slide_type": "subslide"
    }
   },
   "outputs": [],
   "source": [
    "sns.lmplot(\"storesize\", \"Weekly_Sales\", totalsales, order=3);"
   ]
  },
  {
   "cell_type": "code",
   "execution_count": null,
   "metadata": {
    "collapsed": false,
    "slideshow": {
     "slide_type": "subslide"
    }
   },
   "outputs": [],
   "source": [
    "# exploring the types of relationship we should model for, fourth order polynomial?\n",
    "sns.lmplot(\"storesize\", \"Weekly_Sales\", totalsales, order=4);"
   ]
  },
  {
   "cell_type": "code",
   "execution_count": null,
   "metadata": {
    "collapsed": false,
    "slideshow": {
     "slide_type": "subslide"
    }
   },
   "outputs": [],
   "source": [
    "# exploring the types of relationship we should model for, fifth order polynomial?\n",
    "sns.lmplot(\"storesize\", \"Weekly_Sales\", totalsales, order=5);"
   ]
  },
  {
   "cell_type": "markdown",
   "metadata": {
    "slideshow": {
     "slide_type": "subslide"
    }
   },
   "source": [
    "Observation: Forth order and fifth order polynomial looks not good"
   ]
  },
  {
   "cell_type": "code",
   "execution_count": null,
   "metadata": {
    "collapsed": false,
    "slideshow": {
     "slide_type": "slide"
    }
   },
   "outputs": [],
   "source": [
    "sales = totalsales.Weekly_Sales.values\n",
    "size = totalsales.storesize.values\n",
    "ys = size\n",
    "\n",
    "size_poly = dmatrix('C(size, Poly)')"
   ]
  },
  {
   "cell_type": "code",
   "execution_count": null,
   "metadata": {
    "collapsed": true,
    "slideshow": {
     "slide_type": "subslide"
    }
   },
   "outputs": [],
   "source": [
    "# Only Size\n",
    "size_poly1 = dmatrix('size', totalsales)\n",
    "size_poly1\n",
    "\n",
    "# Only Size^2\n",
    "size_sq = dmatrix('np.power(size,2)', totalsales)\n",
    "\n",
    "# Size + Size^2\n",
    "size_poly2 = dmatrix('size + np.power(size,2)')\n",
    "\n",
    "# Orthoganal Polynnomials for ^3, ^5 and ^25\n",
    "size_poly3 = size_poly[:, :4]\n",
    "size_poly5 = size_poly[:, :6]\n",
    "size_poly25 = size_poly[:, :26]"
   ]
  },
  {
   "cell_type": "code",
   "execution_count": null,
   "metadata": {
    "collapsed": true,
    "slideshow": {
     "slide_type": "subslide"
    }
   },
   "outputs": [],
   "source": [
    "XNs = [size_poly1, size_sq, size_poly2, size_poly3, size_poly5, size_poly25]"
   ]
  },
  {
   "cell_type": "code",
   "execution_count": null,
   "metadata": {
    "collapsed": true,
    "slideshow": {
     "slide_type": "subslide"
    }
   },
   "outputs": [],
   "source": [
    "size_poly1_pred = sm.OLS(ys, size_poly1).fit().predict()\n",
    "size_sq_pred = sm.OLS(ys, size_sq).fit().predict()\n",
    "size_poly2_pred = sm.OLS(ys, size_poly2).fit().predict()\n",
    "size_poly3_pred = sm.OLS(ys, size_poly3).fit().predict()\n",
    "size_poly5_pred = sm.OLS(ys, size_poly5).fit().predict()\n",
    "size_poly25_pred = sm.OLS(ys, size_poly25).fit().predict()"
   ]
  },
  {
   "cell_type": "code",
   "execution_count": null,
   "metadata": {
    "collapsed": false,
    "slideshow": {
     "slide_type": "subslide"
    }
   },
   "outputs": [],
   "source": [
    "plt.figure()\n",
    "\n",
    "fig, ax = plt.subplots(3, 2, sharex = True, sharey = True, figsize=(16,9))\n",
    "fig.subplots_adjust(hspace = 0.0, wspace = 0.0)\n",
    "fig.suptitle('Polynomial fits to store sales', fontsize = 16.0)\n",
    "\n",
    "# Iterate through panels (a), model predictions (p), and the polynomial \n",
    "# degree of the model (d). Plot the data, the predictions, and label\n",
    "# the graph to indicate the degree used.\n",
    "preds = [size_poly1_pred, size_sq_pred, size_poly2_pred, size_poly3_pred, size_poly5_pred, size_poly25_pred]\n",
    "orders = ['1', 'sq', '2','3', '5', '25']\n",
    "\n",
    "for a, p, d in zip(ax.ravel(), preds, orders):\n",
    "    a.plot(size, sales, '.', color = 'steelblue', alpha = 0.5)\n",
    "    a.plot(size, p, color = 'r')\n",
    "    a.text(.5, .95, 'D = ' + d, fontsize = 12,\n",
    "           verticalalignment = 'top',\n",
    "           horizontalalignment = 'center',\n",
    "           transform = a.transAxes)\n",
    "    a.grid()\n",
    "    \n",
    "# Alternate axes that have tick labels to avoid overlap.\n",
    "plt.setp(fig.axes[2].get_yaxis().get_ticklabels(), visible = False)\n",
    "plt.setp(fig.axes[3].get_yaxis(), ticks_position = 'right')   \n",
    "plt.setp(fig.axes[1].get_xaxis(), ticks_position = 'top')\n",
    "plt.setp(fig.axes[3].get_xaxis().get_ticklabels(), visible = False);"
   ]
  },
  {
   "cell_type": "code",
   "execution_count": null,
   "metadata": {
    "collapsed": false,
    "slideshow": {
     "slide_type": "subslide"
    }
   },
   "outputs": [],
   "source": [
    "##scores of the models\n",
    "for order, r in zip(orders, XNs):\n",
    "    print \"%s : %.03f\" % (order, sm.OLS(ys, r).fit().rsquared)"
   ]
  },
  {
   "cell_type": "markdown",
   "metadata": {
    "slideshow": {
     "slide_type": "subslide"
    }
   },
   "source": [
    "The scores look too perfect. Case of overfitting!"
   ]
  },
  {
   "cell_type": "markdown",
   "metadata": {
    "slideshow": {
     "slide_type": "slide"
    }
   },
   "source": [
    "## Sales prediction for single store"
   ]
  },
  {
   "cell_type": "code",
   "execution_count": null,
   "metadata": {
    "collapsed": false,
    "slideshow": {
     "slide_type": "skip"
    }
   },
   "outputs": [],
   "source": [
    "dfx.sort('weekly_sales')[['date','temperature','fuel_price','cpi','unemployment','weekly_sales']]"
   ]
  },
  {
   "cell_type": "markdown",
   "metadata": {
    "collapsed": true,
    "slideshow": {
     "slide_type": "slide"
    }
   },
   "source": [
    "#### Prepare Model"
   ]
  },
  {
   "cell_type": "code",
   "execution_count": null,
   "metadata": {
    "collapsed": true,
    "slideshow": {
     "slide_type": "subslide"
    }
   },
   "outputs": [],
   "source": [
    "#Constants\n",
    "cols = ['temperature', 'fuel_price', 'cpi', 'unemployment']\n",
    "\n",
    "#cols_a = ['cpi', 'unemployment']\n",
    "\n",
    "#cols_b = ['temperature', 'fuel_price']\n",
    "\n",
    "#cols_c = ['fuel_price']\n",
    "\n",
    "#cols_d = ['temperature']"
   ]
  },
  {
   "cell_type": "code",
   "execution_count": null,
   "metadata": {
    "collapsed": false,
    "slideshow": {
     "slide_type": "subslide"
    }
   },
   "outputs": [],
   "source": [
    "#Prepare X and y - build a model for Weekly Sales\n",
    "X = dfx[cols]\n",
    "y = dfx['weekly_sales']"
   ]
  },
  {
   "cell_type": "markdown",
   "metadata": {
    "slideshow": {
     "slide_type": "slide"
    }
   },
   "source": [
    "### Feature Selection"
   ]
  },
  {
   "cell_type": "markdown",
   "metadata": {
    "slideshow": {
     "slide_type": "subslide"
    }
   },
   "source": [
    "#### F Values"
   ]
  },
  {
   "cell_type": "code",
   "execution_count": null,
   "metadata": {
    "collapsed": true,
    "slideshow": {
     "slide_type": "subslide"
    }
   },
   "outputs": [],
   "source": [
    "from sklearn import feature_selection as fs\n",
    "\n",
    "def f_regression_feature_selection(input, response):    \n",
    "# use this against your feature matrix to determine p-values for\n",
    "# each feature (we care about the second array it returns).\n",
    "    return fs.univariate_selection.f_regression(input, response)    "
   ]
  },
  {
   "cell_type": "code",
   "execution_count": null,
   "metadata": {
    "collapsed": false,
    "slideshow": {
     "slide_type": "subslide"
    }
   },
   "outputs": [],
   "source": [
    "# How many features don't meet the F test threshold?\n",
    "sum(f_regression_feature_selection(X,y)[0] < 6)"
   ]
  },
  {
   "cell_type": "code",
   "execution_count": null,
   "metadata": {
    "collapsed": false,
    "slideshow": {
     "slide_type": "subslide"
    }
   },
   "outputs": [],
   "source": [
    "# Which column are we talking about?\n",
    "select = f_regression_feature_selection(X,y)[0] < 6\n",
    "X.columns[select]"
   ]
  },
  {
   "cell_type": "code",
   "execution_count": null,
   "metadata": {
    "collapsed": false,
    "slideshow": {
     "slide_type": "subslide"
    }
   },
   "outputs": [],
   "source": [
    "# difference between the ones available and the ones we wish to drop\n",
    "select = pd.Index(X.columns).difference(pd.Index(X.columns[select]))\n",
    "\n",
    "Xs = X[select]"
   ]
  },
  {
   "cell_type": "code",
   "execution_count": null,
   "metadata": {
    "collapsed": false,
    "slideshow": {
     "slide_type": "subslide"
    }
   },
   "outputs": [],
   "source": [
    "Xs.head()"
   ]
  },
  {
   "cell_type": "markdown",
   "metadata": {
    "slideshow": {
     "slide_type": "subslide"
    }
   },
   "source": [
    "According to the F Value test, we should build a model using only the variable of temperature (because only temperature passess the threshold test)! However, for purposes of the exercise, we will proceed with evaluating p values. Note: for purposes of analysis, we have arbitrarily reduced the F test threshold above from 10 to 6 so that we can proceed to study all features."
   ]
  },
  {
   "cell_type": "markdown",
   "metadata": {
    "slideshow": {
     "slide_type": "slide"
    }
   },
   "source": [
    "#### P Values"
   ]
  },
  {
   "cell_type": "code",
   "execution_count": null,
   "metadata": {
    "collapsed": false,
    "slideshow": {
     "slide_type": "subslide"
    }
   },
   "outputs": [],
   "source": [
    "# How many features don't meet the F test threshold?\n",
    "sum(f_regression_feature_selection(Xs,y)[1] > 0.05)"
   ]
  },
  {
   "cell_type": "markdown",
   "metadata": {
    "slideshow": {
     "slide_type": "subslide"
    }
   },
   "source": [
    "This suggests all of the features are significant ( p < 0.05 ) in a univariate regression."
   ]
  },
  {
   "cell_type": "code",
   "execution_count": null,
   "metadata": {
    "collapsed": false,
    "slideshow": {
     "slide_type": "subslide"
    }
   },
   "outputs": [],
   "source": [
    "# Sort the features based on their statistical significance \n",
    "ps = f_regression_feature_selection(Xs,y)[1]\n",
    "\n",
    "p_score = zip(Xs.columns, ps)\n",
    "ranked_p = sorted(p_score, key=lambda x:x[1])\n",
    "ranked_p"
   ]
  },
  {
   "cell_type": "code",
   "execution_count": null,
   "metadata": {
    "collapsed": true,
    "slideshow": {
     "slide_type": "subslide"
    }
   },
   "outputs": [],
   "source": [
    "from sklearn.linear_model import Ridge"
   ]
  },
  {
   "cell_type": "code",
   "execution_count": null,
   "metadata": {
    "collapsed": true,
    "slideshow": {
     "slide_type": "subslide"
    }
   },
   "outputs": [],
   "source": [
    "# Build univariate models to see how well each individual feature performs\n",
    "scores = []\n",
    "for feat, score in ranked_p:\n",
    "    est = Ridge()\n",
    "    X = [[x] for x in Xs[feat]]\n",
    "    est.fit(X,y)\n",
    "    scores.append(est.score(X,y))"
   ]
  },
  {
   "cell_type": "code",
   "execution_count": null,
   "metadata": {
    "collapsed": false,
    "slideshow": {
     "slide_type": "subslide"
    }
   },
   "outputs": [],
   "source": [
    "# Drop of R^2 with strong to weakest features\n",
    "plt.plot(range(len(scores)), scores)"
   ]
  },
  {
   "cell_type": "markdown",
   "metadata": {
    "slideshow": {
     "slide_type": "subslide"
    }
   },
   "source": [
    "All the values below 0.1. None of the features appear to have strong power predicting weekly sales, but relatively speaking, the first feature - temperature stands out."
   ]
  },
  {
   "cell_type": "code",
   "execution_count": null,
   "metadata": {
    "collapsed": true,
    "slideshow": {
     "slide_type": "slide"
    }
   },
   "outputs": [],
   "source": [
    "# Build models which cummatively look at how well combinations of features perform\n",
    "scores = []\n",
    "feats = []\n",
    "for feat, score in ranked_p:\n",
    "    est = Ridge()\n",
    "    feats.append(feat)\n",
    "    if len(feats) == 1:\n",
    "        X = [[x] for x in Xs[feat]]\n",
    "    else:\n",
    "        X = Xs[feats]\n",
    "    est.fit(X, y)\n",
    "    scores.append(est.score(X,y))"
   ]
  },
  {
   "cell_type": "code",
   "execution_count": null,
   "metadata": {
    "collapsed": false,
    "slideshow": {
     "slide_type": "subslide"
    }
   },
   "outputs": [],
   "source": [
    "# Drop of R^2 with strong to weakest features\n",
    "plt.plot(range(len(scores)), scores)"
   ]
  },
  {
   "cell_type": "markdown",
   "metadata": {
    "slideshow": {
     "slide_type": "subslide"
    }
   },
   "source": [
    "The temperature is the most relevant feature."
   ]
  },
  {
   "cell_type": "code",
   "execution_count": null,
   "metadata": {
    "collapsed": false,
    "slideshow": {
     "slide_type": "slide"
    }
   },
   "outputs": [],
   "source": [
    "correlation = Xs[[x[0] for x in ranked_p][:]]"
   ]
  },
  {
   "cell_type": "code",
   "execution_count": null,
   "metadata": {
    "collapsed": false,
    "slideshow": {
     "slide_type": "subslide"
    }
   },
   "outputs": [],
   "source": [
    "sns.corrplot(correlation)"
   ]
  },
  {
   "cell_type": "markdown",
   "metadata": {
    "slideshow": {
     "slide_type": "subslide"
    }
   },
   "source": [
    "The fuel_price has strong correlation with CPI"
   ]
  },
  {
   "cell_type": "code",
   "execution_count": null,
   "metadata": {
    "collapsed": false,
    "slideshow": {
     "slide_type": "slide"
    }
   },
   "outputs": [],
   "source": [
    "f, ax = plt.subplots(figsize=(12, 12))\n",
    "cmap = sns.diverging_palette(220, 10, as_cmap=True)\n",
    "sns.corrplot(Xs, annot=False, sig_stars=False,\n",
    "             diag_names=False, cmap=cmap, ax=ax)\n",
    "f.tight_layout()"
   ]
  },
  {
   "cell_type": "markdown",
   "metadata": {
    "slideshow": {
     "slide_type": "subslide"
    }
   },
   "source": [
    "Based on the P Values, the most important features are (ranked): temperate, fuel_price, then cpi and umployment. "
   ]
  },
  {
   "cell_type": "code",
   "execution_count": null,
   "metadata": {
    "collapsed": false,
    "slideshow": {
     "slide_type": "subslide"
    }
   },
   "outputs": [],
   "source": [
    "p_features = [x[0] for x in ranked_p][:]\n",
    "p_features"
   ]
  },
  {
   "cell_type": "code",
   "execution_count": null,
   "metadata": {
    "collapsed": false,
    "slideshow": {
     "slide_type": "slide"
    }
   },
   "outputs": [],
   "source": [
    "# Drop of R^2 with strong to weakest features\n",
    "plt.plot(range(len(scores)), scores)"
   ]
  },
  {
   "cell_type": "markdown",
   "metadata": {
    "slideshow": {
     "slide_type": "subslide"
    }
   },
   "source": [
    "As seen above, fuel price has more impact in the improvement in R^2 than cpi or unemployment. Below is feature selection - by manual selection."
   ]
  },
  {
   "cell_type": "markdown",
   "metadata": {
    "slideshow": {
     "slide_type": "slide"
    }
   },
   "source": [
    "#### Feature Selection - Manual"
   ]
  },
  {
   "cell_type": "code",
   "execution_count": null,
   "metadata": {
    "collapsed": false,
    "slideshow": {
     "slide_type": "subslide"
    }
   },
   "outputs": [],
   "source": [
    "fs_manual = [ranked_p[x][0] for x in [1,2]]\n",
    "print fs_manual"
   ]
  },
  {
   "cell_type": "code",
   "execution_count": null,
   "metadata": {
    "collapsed": false,
    "slideshow": {
     "slide_type": "subslide"
    }
   },
   "outputs": [],
   "source": [
    "est = Ridge()\n",
    "X_manual = Xs[fs_manual]\n",
    "est.fit(X_manual, y).score(X_manual,y)"
   ]
  },
  {
   "cell_type": "markdown",
   "metadata": {
    "slideshow": {
     "slide_type": "slide"
    }
   },
   "source": [
    "#### Feature Selection - Forward Selection"
   ]
  },
  {
   "cell_type": "code",
   "execution_count": null,
   "metadata": {
    "collapsed": false,
    "slideshow": {
     "slide_type": "subslide"
    }
   },
   "outputs": [],
   "source": [
    "scores = []\n",
    "feats = []\n",
    "features = feats[:]\n",
    "for i in range(len(X.columns)):\n",
    "    scores = []\n",
    "    for feat in X.columns.difference(features):\n",
    "        est = Ridge()\n",
    "        feats = features[:]\n",
    "        feats.append(feat)\n",
    "        Xs = X[feats]\n",
    "        #print feats\n",
    "        est.fit(Xs, y)\n",
    "        feats = features\n",
    "        scores.append([feat,est.score(Xs,y)])\n",
    "    dfx = pd.DataFrame(scores, columns=['a','s'])\n",
    "    dfx.index = dfx.a\n",
    "    #print dfx\n",
    "    addfeat = dfx.s.argmax()\n",
    "    print ('Added feature: ' + addfeat + ', new score is: ' + str(dfx.s.max()))\n",
    "    features.append(addfeat)"
   ]
  },
  {
   "cell_type": "code",
   "execution_count": null,
   "metadata": {
    "collapsed": true,
    "slideshow": {
     "slide_type": "subslide"
    }
   },
   "outputs": [],
   "source": [
    "fs_fwd = features[:]"
   ]
  },
  {
   "cell_type": "code",
   "execution_count": null,
   "metadata": {
    "collapsed": false,
    "slideshow": {
     "slide_type": "subslide"
    }
   },
   "outputs": [],
   "source": [
    "print fs_fwd"
   ]
  },
  {
   "cell_type": "markdown",
   "metadata": {
    "slideshow": {
     "slide_type": "slide"
    }
   },
   "source": [
    "#### Feature Selection - RFE"
   ]
  },
  {
   "cell_type": "code",
   "execution_count": null,
   "metadata": {
    "collapsed": true,
    "slideshow": {
     "slide_type": "subslide"
    }
   },
   "outputs": [],
   "source": [
    "stand_X = (X - X.mean()) / X.std()"
   ]
  },
  {
   "cell_type": "code",
   "execution_count": null,
   "metadata": {
    "collapsed": false,
    "slideshow": {
     "slide_type": "subslide"
    }
   },
   "outputs": [],
   "source": [
    "stand_X.columns"
   ]
  },
  {
   "cell_type": "code",
   "execution_count": null,
   "metadata": {
    "collapsed": false,
    "slideshow": {
     "slide_type": "subslide"
    }
   },
   "outputs": [],
   "source": [
    "from sklearn.feature_selection import RFE\n",
    "\n",
    "# Create the RFE object and rank each feature\n",
    "est = Ridge(alpha = 100)\n",
    "rfe = RFE(estimator=est, n_features_to_select=1, step=1)\n",
    "\n",
    "rfe.fit(stand_X, y)\n",
    "ranking = rfe.ranking_\n",
    "            \n",
    "scores = zip(Xs.columns,ranking)\n",
    "scores = sorted(scores, key=lambda x:x[1])\n",
    "fs_rfe = [x[0] for x in scores][:]"
   ]
  },
  {
   "cell_type": "code",
   "execution_count": null,
   "metadata": {
    "collapsed": false,
    "slideshow": {
     "slide_type": "subslide"
    }
   },
   "outputs": [],
   "source": [
    "plt.figure(figsize=(16, 6))\n",
    "sns.barplot(Xs.columns, 16 - ranking);"
   ]
  },
  {
   "cell_type": "markdown",
   "metadata": {
    "slideshow": {
     "slide_type": "subslide"
    }
   },
   "source": [
    "From the above chart, the priority of the important features are temperature, unemployment, CPI then fuel_price."
   ]
  },
  {
   "cell_type": "code",
   "execution_count": null,
   "metadata": {
    "collapsed": false,
    "slideshow": {
     "slide_type": "subslide"
    }
   },
   "outputs": [],
   "source": [
    "print 'Feature Selection - Manual:', fs_manual\n",
    "print 'Feature Selection - Forward Selection (p-value):', fs_fwd\n",
    "print 'Feature Selection - RFE:', fs_rfe"
   ]
  },
  {
   "cell_type": "code",
   "execution_count": null,
   "metadata": {
    "collapsed": false,
    "slideshow": {
     "slide_type": "subslide"
    }
   },
   "outputs": [],
   "source": [
    "for feats in [fs_manual, fs_fwd, fs_rfe]:\n",
    "    est = Ridge()\n",
    "    Xs = X[feats]\n",
    "    print est.fit(Xs, y).score(Xs,y)"
   ]
  },
  {
   "cell_type": "markdown",
   "metadata": {
    "slideshow": {
     "slide_type": "subslide"
    }
   },
   "source": [
    "Feature selection via forward selection or RFE is better than handpicking, but overall, neither appears to be a strong model!!"
   ]
  },
  {
   "cell_type": "code",
   "execution_count": null,
   "metadata": {
    "collapsed": false,
    "slideshow": {
     "slide_type": "slide"
    }
   },
   "outputs": [],
   "source": [
    "Xs = stand_X[fs_rfe]\n",
    "Xs = sm.add_constant(Xs)"
   ]
  },
  {
   "cell_type": "code",
   "execution_count": null,
   "metadata": {
    "collapsed": true,
    "slideshow": {
     "slide_type": "subslide"
    }
   },
   "outputs": [],
   "source": [
    "regress = sm.OLS(y,Xs)\n",
    "results = regress.fit()"
   ]
  },
  {
   "cell_type": "code",
   "execution_count": null,
   "metadata": {
    "collapsed": false,
    "slideshow": {
     "slide_type": "subslide"
    }
   },
   "outputs": [],
   "source": [
    "print results.summary()"
   ]
  },
  {
   "cell_type": "markdown",
   "metadata": {},
   "source": [
    "### Conclusion\n",
    "The model scores are not very good for prediction. Therefore we focus on determining the impact of the features to Walmart sales. From the analysis, temperature, CPI, unemployment and Fuel_price have impact to the sales and the temperature has the greatest impact."
   ]
  }
 ],
 "metadata": {
  "celltoolbar": "Slideshow",
  "kernelspec": {
   "display_name": "Python 2",
   "language": "python",
   "name": "python2"
  },
  "language_info": {
   "codemirror_mode": {
    "name": "ipython",
    "version": 2
   },
   "file_extension": ".py",
   "mimetype": "text/x-python",
   "name": "python",
   "nbconvert_exporter": "python",
   "pygments_lexer": "ipython2",
   "version": "2.7.10"
  }
 },
 "nbformat": 4,
 "nbformat_minor": 0
}
